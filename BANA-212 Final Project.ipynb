{
 "cells": [
  {
   "cell_type": "markdown",
   "metadata": {},
   "source": [
    "# BANA-273 Term Project\n",
    "### Group 22: William Leonard, Susan Mikhail, Matthias Ronnau, Lokesh Nandni Sood, Parsa Tahmasebi"
   ]
  },
  {
   "cell_type": "markdown",
   "metadata": {},
   "source": [
    "## Import Packages and Read in the Data"
   ]
  },
  {
   "cell_type": "code",
   "execution_count": 463,
   "metadata": {},
   "outputs": [],
   "source": [
    "#Import packages\n",
    "import numpy as np\n",
    "import pandas as pd\n",
    "import re\n",
    "import matplotlib.pyplot as plt\n",
    "import matplotlib.patches as mpatches\n",
    "import seaborn as sns\n",
    "import statsmodels.api as sm\n",
    "import sklearn\n",
    "from sklearn import linear_model\n",
    "#from sklearn.linear_model import LassoCV\n",
    "from sklearn.model_selection import train_test_split\n",
    "from sklearn.model_selection import cross_val_score\n",
    "from sklearn.naive_bayes import BernoulliNB\n",
    "from sklearn.ensemble import RandomForestClassifier\n",
    "from sklearn.metrics import accuracy_score\n",
    "from sklearn.feature_selection import mutual_info_classif\n",
    "\n",
    "pd.set_option('display.float_format', lambda x: '%.5f' % x)"
   ]
  },
  {
   "cell_type": "code",
   "execution_count": 158,
   "metadata": {},
   "outputs": [],
   "source": [
    "#Read in the data\n",
    "vehicles = pd.read_csv(\"vehicles.csv\")"
   ]
  },
  {
   "cell_type": "code",
   "execution_count": 376,
   "metadata": {},
   "outputs": [
    {
     "data": {
      "text/html": [
       "<div>\n",
       "<style scoped>\n",
       "    .dataframe tbody tr th:only-of-type {\n",
       "        vertical-align: middle;\n",
       "    }\n",
       "\n",
       "    .dataframe tbody tr th {\n",
       "        vertical-align: top;\n",
       "    }\n",
       "\n",
       "    .dataframe thead th {\n",
       "        text-align: right;\n",
       "    }\n",
       "</style>\n",
       "<table border=\"1\" class=\"dataframe\">\n",
       "  <thead>\n",
       "    <tr style=\"text-align: right;\">\n",
       "      <th></th>\n",
       "      <th>id</th>\n",
       "      <th>url</th>\n",
       "      <th>region</th>\n",
       "      <th>region_url</th>\n",
       "      <th>price</th>\n",
       "      <th>year</th>\n",
       "      <th>manufacturer</th>\n",
       "      <th>model</th>\n",
       "      <th>condition</th>\n",
       "      <th>cylinders</th>\n",
       "      <th>...</th>\n",
       "      <th>drive</th>\n",
       "      <th>size</th>\n",
       "      <th>type</th>\n",
       "      <th>paint_color</th>\n",
       "      <th>image_url</th>\n",
       "      <th>description</th>\n",
       "      <th>county</th>\n",
       "      <th>state</th>\n",
       "      <th>lat</th>\n",
       "      <th>long</th>\n",
       "    </tr>\n",
       "  </thead>\n",
       "  <tbody>\n",
       "    <tr>\n",
       "      <th>0</th>\n",
       "      <td>7184791621</td>\n",
       "      <td>https://duluth.craigslist.org/ctd/d/duluth-200...</td>\n",
       "      <td>duluth / superior</td>\n",
       "      <td>https://duluth.craigslist.org</td>\n",
       "      <td>6995</td>\n",
       "      <td>2000.00000</td>\n",
       "      <td>gmc</td>\n",
       "      <td>new sierra 1500</td>\n",
       "      <td>excellent</td>\n",
       "      <td>8 cylinders</td>\n",
       "      <td>...</td>\n",
       "      <td>4wd</td>\n",
       "      <td>NaN</td>\n",
       "      <td>NaN</td>\n",
       "      <td>red</td>\n",
       "      <td>https://images.craigslist.org/00n0n_f06ykBMcdh...</td>\n",
       "      <td>2000 *** GMC New Sierra 1500 Ext Cab 157.5  WB...</td>\n",
       "      <td>nan</td>\n",
       "      <td>mn</td>\n",
       "      <td>46.84330</td>\n",
       "      <td>-92.25500</td>\n",
       "    </tr>\n",
       "    <tr>\n",
       "      <th>1</th>\n",
       "      <td>7184773187</td>\n",
       "      <td>https://duluth.craigslist.org/cto/d/saginaw-20...</td>\n",
       "      <td>duluth / superior</td>\n",
       "      <td>https://duluth.craigslist.org</td>\n",
       "      <td>8750</td>\n",
       "      <td>2013.00000</td>\n",
       "      <td>hyundai</td>\n",
       "      <td>sonata</td>\n",
       "      <td>excellent</td>\n",
       "      <td>4 cylinders</td>\n",
       "      <td>...</td>\n",
       "      <td>fwd</td>\n",
       "      <td>NaN</td>\n",
       "      <td>NaN</td>\n",
       "      <td>grey</td>\n",
       "      <td>https://images.craigslist.org/00d0d_kgZ6xoeRw2...</td>\n",
       "      <td>For Sale:  2013 Hyundai Sonata GLS - $8750.  O...</td>\n",
       "      <td>nan</td>\n",
       "      <td>mn</td>\n",
       "      <td>46.90740</td>\n",
       "      <td>-92.46380</td>\n",
       "    </tr>\n",
       "    <tr>\n",
       "      <th>2</th>\n",
       "      <td>7193375964</td>\n",
       "      <td>https://newhaven.craigslist.org/cto/d/stratfor...</td>\n",
       "      <td>new haven</td>\n",
       "      <td>https://newhaven.craigslist.org</td>\n",
       "      <td>10900</td>\n",
       "      <td>2013.00000</td>\n",
       "      <td>toyota</td>\n",
       "      <td>prius</td>\n",
       "      <td>good</td>\n",
       "      <td>4 cylinders</td>\n",
       "      <td>...</td>\n",
       "      <td>fwd</td>\n",
       "      <td>NaN</td>\n",
       "      <td>NaN</td>\n",
       "      <td>blue</td>\n",
       "      <td>https://images.craigslist.org/00d0d_3sHGxPbY2O...</td>\n",
       "      <td>2013 Prius V Model Two. One owner—must sell my...</td>\n",
       "      <td>nan</td>\n",
       "      <td>ct</td>\n",
       "      <td>41.17700</td>\n",
       "      <td>-73.13360</td>\n",
       "    </tr>\n",
       "    <tr>\n",
       "      <th>3</th>\n",
       "      <td>7195108810</td>\n",
       "      <td>https://albuquerque.craigslist.org/cto/d/albuq...</td>\n",
       "      <td>albuquerque</td>\n",
       "      <td>https://albuquerque.craigslist.org</td>\n",
       "      <td>12500</td>\n",
       "      <td>2003.00000</td>\n",
       "      <td>mitsubishi</td>\n",
       "      <td>lancer</td>\n",
       "      <td>good</td>\n",
       "      <td>4 cylinders</td>\n",
       "      <td>...</td>\n",
       "      <td>4wd</td>\n",
       "      <td>mid-size</td>\n",
       "      <td>sedan</td>\n",
       "      <td>grey</td>\n",
       "      <td>https://images.craigslist.org/00m0m_4a8Pb6JbMG...</td>\n",
       "      <td>2003 Mitsubishi Lancer Evolution, silver.  Abo...</td>\n",
       "      <td>nan</td>\n",
       "      <td>nm</td>\n",
       "      <td>35.18680</td>\n",
       "      <td>-106.66500</td>\n",
       "    </tr>\n",
       "    <tr>\n",
       "      <th>4</th>\n",
       "      <td>7184712241</td>\n",
       "      <td>https://duluth.craigslist.org/ctd/d/rush-city-...</td>\n",
       "      <td>duluth / superior</td>\n",
       "      <td>https://duluth.craigslist.org</td>\n",
       "      <td>16995</td>\n",
       "      <td>2007.00000</td>\n",
       "      <td>gmc</td>\n",
       "      <td>sierra classic 2500hd</td>\n",
       "      <td>good</td>\n",
       "      <td>8 cylinders</td>\n",
       "      <td>...</td>\n",
       "      <td>4wd</td>\n",
       "      <td>full-size</td>\n",
       "      <td>truck</td>\n",
       "      <td>white</td>\n",
       "      <td>https://images.craigslist.org/01414_g093aPtSMW...</td>\n",
       "      <td>**Bad Credit, No Credit... No Problem!**2007 G...</td>\n",
       "      <td>nan</td>\n",
       "      <td>mn</td>\n",
       "      <td>45.68360</td>\n",
       "      <td>-92.96480</td>\n",
       "    </tr>\n",
       "  </tbody>\n",
       "</table>\n",
       "<p>5 rows × 25 columns</p>\n",
       "</div>"
      ],
      "text/plain": [
       "           id                                                url  \\\n",
       "0  7184791621  https://duluth.craigslist.org/ctd/d/duluth-200...   \n",
       "1  7184773187  https://duluth.craigslist.org/cto/d/saginaw-20...   \n",
       "2  7193375964  https://newhaven.craigslist.org/cto/d/stratfor...   \n",
       "3  7195108810  https://albuquerque.craigslist.org/cto/d/albuq...   \n",
       "4  7184712241  https://duluth.craigslist.org/ctd/d/rush-city-...   \n",
       "\n",
       "              region                          region_url  price       year  \\\n",
       "0  duluth / superior       https://duluth.craigslist.org   6995 2000.00000   \n",
       "1  duluth / superior       https://duluth.craigslist.org   8750 2013.00000   \n",
       "2          new haven     https://newhaven.craigslist.org  10900 2013.00000   \n",
       "3        albuquerque  https://albuquerque.craigslist.org  12500 2003.00000   \n",
       "4  duluth / superior       https://duluth.craigslist.org  16995 2007.00000   \n",
       "\n",
       "  manufacturer                  model  condition    cylinders  ... drive  \\\n",
       "0          gmc        new sierra 1500  excellent  8 cylinders  ...   4wd   \n",
       "1      hyundai                 sonata  excellent  4 cylinders  ...   fwd   \n",
       "2       toyota                  prius       good  4 cylinders  ...   fwd   \n",
       "3   mitsubishi                 lancer       good  4 cylinders  ...   4wd   \n",
       "4          gmc  sierra classic 2500hd       good  8 cylinders  ...   4wd   \n",
       "\n",
       "        size   type paint_color  \\\n",
       "0        NaN    NaN         red   \n",
       "1        NaN    NaN        grey   \n",
       "2        NaN    NaN        blue   \n",
       "3   mid-size  sedan        grey   \n",
       "4  full-size  truck       white   \n",
       "\n",
       "                                           image_url  \\\n",
       "0  https://images.craigslist.org/00n0n_f06ykBMcdh...   \n",
       "1  https://images.craigslist.org/00d0d_kgZ6xoeRw2...   \n",
       "2  https://images.craigslist.org/00d0d_3sHGxPbY2O...   \n",
       "3  https://images.craigslist.org/00m0m_4a8Pb6JbMG...   \n",
       "4  https://images.craigslist.org/01414_g093aPtSMW...   \n",
       "\n",
       "                                         description county state      lat  \\\n",
       "0  2000 *** GMC New Sierra 1500 Ext Cab 157.5  WB...    nan    mn 46.84330   \n",
       "1  For Sale:  2013 Hyundai Sonata GLS - $8750.  O...    nan    mn 46.90740   \n",
       "2  2013 Prius V Model Two. One owner—must sell my...    nan    ct 41.17700   \n",
       "3  2003 Mitsubishi Lancer Evolution, silver.  Abo...    nan    nm 35.18680   \n",
       "4  **Bad Credit, No Credit... No Problem!**2007 G...    nan    mn 45.68360   \n",
       "\n",
       "        long  \n",
       "0  -92.25500  \n",
       "1  -92.46380  \n",
       "2  -73.13360  \n",
       "3 -106.66500  \n",
       "4  -92.96480  \n",
       "\n",
       "[5 rows x 25 columns]"
      ]
     },
     "execution_count": 376,
     "metadata": {},
     "output_type": "execute_result"
    }
   ],
   "source": [
    "#Take a look at the data\n",
    "cars = vehicles.copy()\n",
    "cars.head()"
   ]
  },
  {
   "cell_type": "markdown",
   "metadata": {},
   "source": [
    "## Exploratory Data Analysis and Data Cleaning"
   ]
  },
  {
   "cell_type": "code",
   "execution_count": 377,
   "metadata": {},
   "outputs": [
    {
     "name": "stdout",
     "output_type": "stream",
     "text": [
      "<class 'pandas.core.frame.DataFrame'>\n",
      "RangeIndex: 423857 entries, 0 to 423856\n",
      "Data columns (total 25 columns):\n",
      " #   Column        Non-Null Count   Dtype  \n",
      "---  ------        --------------   -----  \n",
      " 0   id            423857 non-null  int64  \n",
      " 1   url           423857 non-null  object \n",
      " 2   region        423857 non-null  object \n",
      " 3   region_url    423857 non-null  object \n",
      " 4   price         423857 non-null  int64  \n",
      " 5   year          328743 non-null  float64\n",
      " 6   manufacturer  313242 non-null  object \n",
      " 7   model         325384 non-null  object \n",
      " 8   condition     176719 non-null  object \n",
      " 9   cylinders     197679 non-null  object \n",
      " 10  fuel          327214 non-null  object \n",
      " 11  odometer      270585 non-null  float64\n",
      " 12  title_status  327759 non-null  object \n",
      " 13  transmission  328065 non-null  object \n",
      " 14  vin           184420 non-null  object \n",
      " 15  drive         231119 non-null  object \n",
      " 16  size          102627 non-null  object \n",
      " 17  type          241157 non-null  object \n",
      " 18  paint_color   222203 non-null  object \n",
      " 19  image_url     329661 non-null  object \n",
      " 20  description   329654 non-null  object \n",
      " 21  county        0 non-null       float64\n",
      " 22  state         423857 non-null  object \n",
      " 23  lat           324404 non-null  float64\n",
      " 24  long          324404 non-null  float64\n",
      "dtypes: float64(5), int64(2), object(18)\n",
      "memory usage: 80.8+ MB\n"
     ]
    }
   ],
   "source": [
    "cars.info()"
   ]
  },
  {
   "cell_type": "code",
   "execution_count": 378,
   "metadata": {},
   "outputs": [
    {
     "data": {
      "text/plain": [
       "Index(['id', 'url', 'region', 'region_url', 'price', 'year', 'manufacturer',\n",
       "       'model', 'condition', 'cylinders', 'fuel', 'odometer', 'title_status',\n",
       "       'transmission', 'vin', 'drive', 'size', 'type', 'paint_color',\n",
       "       'image_url', 'description', 'county', 'state', 'lat', 'long'],\n",
       "      dtype='object')"
      ]
     },
     "execution_count": 378,
     "metadata": {},
     "output_type": "execute_result"
    }
   ],
   "source": [
    "cars.columns"
   ]
  },
  {
   "cell_type": "code",
   "execution_count": 379,
   "metadata": {},
   "outputs": [
    {
     "data": {
      "text/html": [
       "<div>\n",
       "<style scoped>\n",
       "    .dataframe tbody tr th:only-of-type {\n",
       "        vertical-align: middle;\n",
       "    }\n",
       "\n",
       "    .dataframe tbody tr th {\n",
       "        vertical-align: top;\n",
       "    }\n",
       "\n",
       "    .dataframe thead th {\n",
       "        text-align: right;\n",
       "    }\n",
       "</style>\n",
       "<table border=\"1\" class=\"dataframe\">\n",
       "  <thead>\n",
       "    <tr style=\"text-align: right;\">\n",
       "      <th></th>\n",
       "      <th>price</th>\n",
       "      <th>year</th>\n",
       "      <th>manufacturer</th>\n",
       "      <th>condition</th>\n",
       "      <th>cylinders</th>\n",
       "      <th>fuel</th>\n",
       "      <th>odometer</th>\n",
       "      <th>title_status</th>\n",
       "      <th>transmission</th>\n",
       "      <th>drive</th>\n",
       "      <th>size</th>\n",
       "      <th>type</th>\n",
       "      <th>paint_color</th>\n",
       "      <th>description</th>\n",
       "      <th>state</th>\n",
       "    </tr>\n",
       "  </thead>\n",
       "  <tbody>\n",
       "    <tr>\n",
       "      <th>0</th>\n",
       "      <td>6995</td>\n",
       "      <td>2000.00000</td>\n",
       "      <td>gmc</td>\n",
       "      <td>excellent</td>\n",
       "      <td>8 cylinders</td>\n",
       "      <td>gas</td>\n",
       "      <td>167783.00000</td>\n",
       "      <td>clean</td>\n",
       "      <td>automatic</td>\n",
       "      <td>4wd</td>\n",
       "      <td>NaN</td>\n",
       "      <td>NaN</td>\n",
       "      <td>red</td>\n",
       "      <td>2000 *** GMC New Sierra 1500 Ext Cab 157.5  WB...</td>\n",
       "      <td>mn</td>\n",
       "    </tr>\n",
       "    <tr>\n",
       "      <th>1</th>\n",
       "      <td>8750</td>\n",
       "      <td>2013.00000</td>\n",
       "      <td>hyundai</td>\n",
       "      <td>excellent</td>\n",
       "      <td>4 cylinders</td>\n",
       "      <td>gas</td>\n",
       "      <td>90821.00000</td>\n",
       "      <td>clean</td>\n",
       "      <td>automatic</td>\n",
       "      <td>fwd</td>\n",
       "      <td>NaN</td>\n",
       "      <td>NaN</td>\n",
       "      <td>grey</td>\n",
       "      <td>For Sale:  2013 Hyundai Sonata GLS - $8750.  O...</td>\n",
       "      <td>mn</td>\n",
       "    </tr>\n",
       "    <tr>\n",
       "      <th>2</th>\n",
       "      <td>10900</td>\n",
       "      <td>2013.00000</td>\n",
       "      <td>toyota</td>\n",
       "      <td>good</td>\n",
       "      <td>4 cylinders</td>\n",
       "      <td>hybrid</td>\n",
       "      <td>92800.00000</td>\n",
       "      <td>clean</td>\n",
       "      <td>automatic</td>\n",
       "      <td>fwd</td>\n",
       "      <td>NaN</td>\n",
       "      <td>NaN</td>\n",
       "      <td>blue</td>\n",
       "      <td>2013 Prius V Model Two. One owner—must sell my...</td>\n",
       "      <td>ct</td>\n",
       "    </tr>\n",
       "    <tr>\n",
       "      <th>3</th>\n",
       "      <td>12500</td>\n",
       "      <td>2003.00000</td>\n",
       "      <td>mitsubishi</td>\n",
       "      <td>good</td>\n",
       "      <td>4 cylinders</td>\n",
       "      <td>gas</td>\n",
       "      <td>nan</td>\n",
       "      <td>clean</td>\n",
       "      <td>manual</td>\n",
       "      <td>4wd</td>\n",
       "      <td>mid-size</td>\n",
       "      <td>sedan</td>\n",
       "      <td>grey</td>\n",
       "      <td>2003 Mitsubishi Lancer Evolution, silver.  Abo...</td>\n",
       "      <td>nm</td>\n",
       "    </tr>\n",
       "    <tr>\n",
       "      <th>4</th>\n",
       "      <td>16995</td>\n",
       "      <td>2007.00000</td>\n",
       "      <td>gmc</td>\n",
       "      <td>good</td>\n",
       "      <td>8 cylinders</td>\n",
       "      <td>diesel</td>\n",
       "      <td>254217.00000</td>\n",
       "      <td>clean</td>\n",
       "      <td>automatic</td>\n",
       "      <td>4wd</td>\n",
       "      <td>full-size</td>\n",
       "      <td>truck</td>\n",
       "      <td>white</td>\n",
       "      <td>**Bad Credit, No Credit... No Problem!**2007 G...</td>\n",
       "      <td>mn</td>\n",
       "    </tr>\n",
       "  </tbody>\n",
       "</table>\n",
       "</div>"
      ],
      "text/plain": [
       "   price       year manufacturer  condition    cylinders    fuel     odometer  \\\n",
       "0   6995 2000.00000          gmc  excellent  8 cylinders     gas 167783.00000   \n",
       "1   8750 2013.00000      hyundai  excellent  4 cylinders     gas  90821.00000   \n",
       "2  10900 2013.00000       toyota       good  4 cylinders  hybrid  92800.00000   \n",
       "3  12500 2003.00000   mitsubishi       good  4 cylinders     gas          nan   \n",
       "4  16995 2007.00000          gmc       good  8 cylinders  diesel 254217.00000   \n",
       "\n",
       "  title_status transmission drive       size   type paint_color  \\\n",
       "0        clean    automatic   4wd        NaN    NaN         red   \n",
       "1        clean    automatic   fwd        NaN    NaN        grey   \n",
       "2        clean    automatic   fwd        NaN    NaN        blue   \n",
       "3        clean       manual   4wd   mid-size  sedan        grey   \n",
       "4        clean    automatic   4wd  full-size  truck       white   \n",
       "\n",
       "                                         description state  \n",
       "0  2000 *** GMC New Sierra 1500 Ext Cab 157.5  WB...    mn  \n",
       "1  For Sale:  2013 Hyundai Sonata GLS - $8750.  O...    mn  \n",
       "2  2013 Prius V Model Two. One owner—must sell my...    ct  \n",
       "3  2003 Mitsubishi Lancer Evolution, silver.  Abo...    nm  \n",
       "4  **Bad Credit, No Credit... No Problem!**2007 G...    mn  "
      ]
     },
     "execution_count": 379,
     "metadata": {},
     "output_type": "execute_result"
    }
   ],
   "source": [
    "#Remove columns unnescessary for the analysis\n",
    "cars.drop([\"id\", \"url\", \"region\", \"region_url\", \"model\", \"vin\", \"image_url\", \"county\", \"lat\", \"long\"], axis = 1, inplace = True)\n",
    "cars.head()"
   ]
  },
  {
   "cell_type": "code",
   "execution_count": 380,
   "metadata": {},
   "outputs": [
    {
     "data": {
      "text/html": [
       "<div>\n",
       "<style scoped>\n",
       "    .dataframe tbody tr th:only-of-type {\n",
       "        vertical-align: middle;\n",
       "    }\n",
       "\n",
       "    .dataframe tbody tr th {\n",
       "        vertical-align: top;\n",
       "    }\n",
       "\n",
       "    .dataframe thead th {\n",
       "        text-align: right;\n",
       "    }\n",
       "</style>\n",
       "<table border=\"1\" class=\"dataframe\">\n",
       "  <thead>\n",
       "    <tr style=\"text-align: right;\">\n",
       "      <th></th>\n",
       "      <th>num_missing</th>\n",
       "      <th>percent_missing</th>\n",
       "    </tr>\n",
       "  </thead>\n",
       "  <tbody>\n",
       "    <tr>\n",
       "      <th>price</th>\n",
       "      <td>0</td>\n",
       "      <td>0.00000</td>\n",
       "    </tr>\n",
       "    <tr>\n",
       "      <th>year</th>\n",
       "      <td>95114</td>\n",
       "      <td>0.22440</td>\n",
       "    </tr>\n",
       "    <tr>\n",
       "      <th>manufacturer</th>\n",
       "      <td>110615</td>\n",
       "      <td>0.26097</td>\n",
       "    </tr>\n",
       "    <tr>\n",
       "      <th>condition</th>\n",
       "      <td>247138</td>\n",
       "      <td>0.58307</td>\n",
       "    </tr>\n",
       "    <tr>\n",
       "      <th>cylinders</th>\n",
       "      <td>226178</td>\n",
       "      <td>0.53362</td>\n",
       "    </tr>\n",
       "    <tr>\n",
       "      <th>fuel</th>\n",
       "      <td>96643</td>\n",
       "      <td>0.22801</td>\n",
       "    </tr>\n",
       "    <tr>\n",
       "      <th>odometer</th>\n",
       "      <td>153272</td>\n",
       "      <td>0.36161</td>\n",
       "    </tr>\n",
       "    <tr>\n",
       "      <th>title_status</th>\n",
       "      <td>96098</td>\n",
       "      <td>0.22672</td>\n",
       "    </tr>\n",
       "    <tr>\n",
       "      <th>transmission</th>\n",
       "      <td>95792</td>\n",
       "      <td>0.22600</td>\n",
       "    </tr>\n",
       "    <tr>\n",
       "      <th>drive</th>\n",
       "      <td>192738</td>\n",
       "      <td>0.45472</td>\n",
       "    </tr>\n",
       "    <tr>\n",
       "      <th>size</th>\n",
       "      <td>321230</td>\n",
       "      <td>0.75787</td>\n",
       "    </tr>\n",
       "    <tr>\n",
       "      <th>type</th>\n",
       "      <td>182700</td>\n",
       "      <td>0.43104</td>\n",
       "    </tr>\n",
       "    <tr>\n",
       "      <th>paint_color</th>\n",
       "      <td>201654</td>\n",
       "      <td>0.47576</td>\n",
       "    </tr>\n",
       "    <tr>\n",
       "      <th>description</th>\n",
       "      <td>94203</td>\n",
       "      <td>0.22225</td>\n",
       "    </tr>\n",
       "    <tr>\n",
       "      <th>state</th>\n",
       "      <td>0</td>\n",
       "      <td>0.00000</td>\n",
       "    </tr>\n",
       "  </tbody>\n",
       "</table>\n",
       "</div>"
      ],
      "text/plain": [
       "              num_missing  percent_missing\n",
       "price                   0          0.00000\n",
       "year                95114          0.22440\n",
       "manufacturer       110615          0.26097\n",
       "condition          247138          0.58307\n",
       "cylinders          226178          0.53362\n",
       "fuel                96643          0.22801\n",
       "odometer           153272          0.36161\n",
       "title_status        96098          0.22672\n",
       "transmission        95792          0.22600\n",
       "drive              192738          0.45472\n",
       "size               321230          0.75787\n",
       "type               182700          0.43104\n",
       "paint_color        201654          0.47576\n",
       "description         94203          0.22225\n",
       "state                   0          0.00000"
      ]
     },
     "execution_count": 380,
     "metadata": {},
     "output_type": "execute_result"
    }
   ],
   "source": [
    "#Look at the number and percent of missing values for each column\n",
    "missing = pd.DataFrame(cars.isna().sum())\n",
    "missing.columns = [\"num_missing\"]\n",
    "missing[\"percent_missing\"] = missing.num_missing / len(cars.index)\n",
    "missing"
   ]
  },
  {
   "cell_type": "code",
   "execution_count": 381,
   "metadata": {},
   "outputs": [],
   "source": [
    "cars.drop(\"size\", axis = 1, inplace = True)"
   ]
  },
  {
   "cell_type": "code",
   "execution_count": 382,
   "metadata": {},
   "outputs": [
    {
     "data": {
      "text/plain": [
       "Index(['price', 'year', 'manufacturer', 'condition', 'cylinders', 'fuel',\n",
       "       'odometer', 'title_status', 'transmission', 'drive', 'type',\n",
       "       'paint_color', 'description', 'state'],\n",
       "      dtype='object')"
      ]
     },
     "execution_count": 382,
     "metadata": {},
     "output_type": "execute_result"
    }
   ],
   "source": [
    "cars.columns"
   ]
  },
  {
   "cell_type": "code",
   "execution_count": 383,
   "metadata": {},
   "outputs": [],
   "source": [
    "missing_by_manufacturer = cars[cars.columns.difference([\"manufacturer\"])].isnull().groupby(cars[\"manufacturer\"]).sum().astype(int)"
   ]
  },
  {
   "cell_type": "code",
   "execution_count": 384,
   "metadata": {},
   "outputs": [
    {
     "data": {
      "image/png": "[encoded data removed]",
      "text/plain": [
       "<Figure size 432x288 with 1 Axes>"
      ]
     },
     "metadata": {
      "needs_background": "light"
     },
     "output_type": "display_data"
    }
   ],
   "source": [
    "for i in range(len(missing_by_manufacturer.columns)):\n",
    "    column = missing_by_manufacturer.iloc[:, i]\n",
    "    plt.bar(list(missing_by_manufacturer.index), column)"
   ]
  },
  {
   "cell_type": "code",
   "execution_count": 385,
   "metadata": {},
   "outputs": [
    {
     "data": {
      "text/plain": [
       "Index(['acura', 'alfa-romeo', 'aston-martin', 'audi', 'bmw', 'buick',\n",
       "       'cadillac', 'chevrolet', 'chrysler', 'datsun', 'dodge', 'ferrari',\n",
       "       'fiat', 'ford', 'gmc', 'harley-davidson', 'hennessey', 'honda',\n",
       "       'hyundai', 'infiniti', 'jaguar', 'jeep', 'kia', 'land rover', 'lexus',\n",
       "       'lincoln', 'mazda', 'mercedes-benz', 'mercury', 'mini', 'mitsubishi',\n",
       "       'morgan', 'nissan', 'pontiac', 'porche', 'ram', 'rover', 'saturn',\n",
       "       'subaru', 'tesla', 'toyota', 'volkswagen', 'volvo'],\n",
       "      dtype='object', name='manufacturer')"
      ]
     },
     "execution_count": 385,
     "metadata": {},
     "output_type": "execute_result"
    }
   ],
   "source": [
    "missing_by_manufacturer.index"
   ]
  },
  {
   "cell_type": "code",
   "execution_count": 386,
   "metadata": {},
   "outputs": [],
   "source": [
    "#Restructure the column \"cylinders\" by only keeping the number of cylinders and removing any text from the column\n",
    "cars[\"cylinders\"].unique()\n",
    "cars[\"cylinders\"] = cars[\"cylinders\"].fillna(\"\")\n",
    "cars[\"cylinders\"] = pd.Series([int(x) if x.isdigit() else np.nan for x in [re.sub(\"[^0-9]\", \"\", y) \n",
    "                                                                           for y in list(cars[\"cylinders\"])]])"
   ]
  },
  {
   "cell_type": "code",
   "execution_count": 387,
   "metadata": {},
   "outputs": [
    {
     "data": {
      "text/html": [
       "<div>\n",
       "<style scoped>\n",
       "    .dataframe tbody tr th:only-of-type {\n",
       "        vertical-align: middle;\n",
       "    }\n",
       "\n",
       "    .dataframe tbody tr th {\n",
       "        vertical-align: top;\n",
       "    }\n",
       "\n",
       "    .dataframe thead th {\n",
       "        text-align: right;\n",
       "    }\n",
       "</style>\n",
       "<table border=\"1\" class=\"dataframe\">\n",
       "  <thead>\n",
       "    <tr style=\"text-align: right;\">\n",
       "      <th></th>\n",
       "      <th>price</th>\n",
       "      <th>year</th>\n",
       "      <th>cylinders</th>\n",
       "      <th>odometer</th>\n",
       "    </tr>\n",
       "  </thead>\n",
       "  <tbody>\n",
       "    <tr>\n",
       "      <th>count</th>\n",
       "      <td>423857.00000</td>\n",
       "      <td>328743.00000</td>\n",
       "      <td>196828.00000</td>\n",
       "      <td>270585.00000</td>\n",
       "    </tr>\n",
       "    <tr>\n",
       "      <th>mean</th>\n",
       "      <td>57794.37478</td>\n",
       "      <td>2009.82736</td>\n",
       "      <td>5.85220</td>\n",
       "      <td>99425.78461</td>\n",
       "    </tr>\n",
       "    <tr>\n",
       "      <th>std</th>\n",
       "      <td>10025805.11645</td>\n",
       "      <td>10.13581</td>\n",
       "      <td>1.61935</td>\n",
       "      <td>120483.31239</td>\n",
       "    </tr>\n",
       "    <tr>\n",
       "      <th>min</th>\n",
       "      <td>0.00000</td>\n",
       "      <td>1900.00000</td>\n",
       "      <td>3.00000</td>\n",
       "      <td>0.00000</td>\n",
       "    </tr>\n",
       "    <tr>\n",
       "      <th>25%</th>\n",
       "      <td>4499.00000</td>\n",
       "      <td>2007.00000</td>\n",
       "      <td>4.00000</td>\n",
       "      <td>44324.00000</td>\n",
       "    </tr>\n",
       "    <tr>\n",
       "      <th>50%</th>\n",
       "      <td>9995.00000</td>\n",
       "      <td>2012.00000</td>\n",
       "      <td>6.00000</td>\n",
       "      <td>91749.00000</td>\n",
       "    </tr>\n",
       "    <tr>\n",
       "      <th>75%</th>\n",
       "      <td>18995.00000</td>\n",
       "      <td>2016.00000</td>\n",
       "      <td>8.00000</td>\n",
       "      <td>137237.00000</td>\n",
       "    </tr>\n",
       "    <tr>\n",
       "      <th>max</th>\n",
       "      <td>3808256046.00000</td>\n",
       "      <td>2021.00000</td>\n",
       "      <td>12.00000</td>\n",
       "      <td>10000000.00000</td>\n",
       "    </tr>\n",
       "  </tbody>\n",
       "</table>\n",
       "</div>"
      ],
      "text/plain": [
       "                 price         year    cylinders       odometer\n",
       "count     423857.00000 328743.00000 196828.00000   270585.00000\n",
       "mean       57794.37478   2009.82736      5.85220    99425.78461\n",
       "std     10025805.11645     10.13581      1.61935   120483.31239\n",
       "min            0.00000   1900.00000      3.00000        0.00000\n",
       "25%         4499.00000   2007.00000      4.00000    44324.00000\n",
       "50%         9995.00000   2012.00000      6.00000    91749.00000\n",
       "75%        18995.00000   2016.00000      8.00000   137237.00000\n",
       "max   3808256046.00000   2021.00000     12.00000 10000000.00000"
      ]
     },
     "execution_count": 387,
     "metadata": {},
     "output_type": "execute_result"
    }
   ],
   "source": [
    "#Get descriptive statistics for the price, year of manufacture, number of cylinders, and mileage of each car\n",
    "cars.describe()"
   ]
  },
  {
   "cell_type": "code",
   "execution_count": 388,
   "metadata": {},
   "outputs": [
    {
     "data": {
      "text/html": [
       "<div>\n",
       "<style scoped>\n",
       "    .dataframe tbody tr th:only-of-type {\n",
       "        vertical-align: middle;\n",
       "    }\n",
       "\n",
       "    .dataframe tbody tr th {\n",
       "        vertical-align: top;\n",
       "    }\n",
       "\n",
       "    .dataframe thead th {\n",
       "        text-align: right;\n",
       "    }\n",
       "</style>\n",
       "<table border=\"1\" class=\"dataframe\">\n",
       "  <thead>\n",
       "    <tr style=\"text-align: right;\">\n",
       "      <th></th>\n",
       "      <th>price</th>\n",
       "      <th>year</th>\n",
       "      <th>manufacturer</th>\n",
       "      <th>condition</th>\n",
       "      <th>cylinders</th>\n",
       "      <th>fuel</th>\n",
       "      <th>odometer</th>\n",
       "      <th>title_status</th>\n",
       "      <th>transmission</th>\n",
       "      <th>drive</th>\n",
       "      <th>type</th>\n",
       "      <th>paint_color</th>\n",
       "      <th>description</th>\n",
       "      <th>state</th>\n",
       "    </tr>\n",
       "  </thead>\n",
       "  <tbody>\n",
       "    <tr>\n",
       "      <th>300026</th>\n",
       "      <td>3808256046</td>\n",
       "      <td>2007.00000</td>\n",
       "      <td>saturn</td>\n",
       "      <td>good</td>\n",
       "      <td>nan</td>\n",
       "      <td>gas</td>\n",
       "      <td>nan</td>\n",
       "      <td>clean</td>\n",
       "      <td>automatic</td>\n",
       "      <td>NaN</td>\n",
       "      <td>NaN</td>\n",
       "      <td>red</td>\n",
       "      <td>2007 Saturn Aura has 140,224 miles on it. Grea...</td>\n",
       "      <td>mi</td>\n",
       "    </tr>\n",
       "  </tbody>\n",
       "</table>\n",
       "</div>"
      ],
      "text/plain": [
       "             price       year manufacturer condition  cylinders fuel  \\\n",
       "300026  3808256046 2007.00000       saturn      good        nan  gas   \n",
       "\n",
       "        odometer title_status transmission drive type paint_color  \\\n",
       "300026       nan        clean    automatic   NaN  NaN         red   \n",
       "\n",
       "                                              description state  \n",
       "300026  2007 Saturn Aura has 140,224 miles on it. Grea...    mi  "
      ]
     },
     "execution_count": 388,
     "metadata": {},
     "output_type": "execute_result"
    }
   ],
   "source": [
    "#The max price seems very odd, let's take a look\n",
    "cars.loc[cars[\"price\"] == 3808256046.00000]"
   ]
  },
  {
   "cell_type": "code",
   "execution_count": 389,
   "metadata": {},
   "outputs": [
    {
     "data": {
      "text/plain": [
       "['2007 Saturn Aura has 140,224 miles on it. Great running car no check engine light on. ac and heat both work. Radio works power windows and locks. Has a sunroof works as well. Have two set of keys with automatic start. Asking for 3,000 willing to go down in price.  show contact info']"
      ]
     },
     "execution_count": 389,
     "metadata": {},
     "output_type": "execute_result"
    }
   ],
   "source": [
    "list(cars.loc[cars[\"price\"] == 3808256046.00000][\"description\"])"
   ]
  },
  {
   "cell_type": "markdown",
   "metadata": {},
   "source": [
    "The description says that the seller is asking for $3000, so we can impute that value for the price."
   ]
  },
  {
   "cell_type": "code",
   "execution_count": 390,
   "metadata": {},
   "outputs": [],
   "source": [
    "#Impute 3000 for the price, overwriting the eroneous value that was present.\n",
    "cars.iloc[300026, 0] = 3000"
   ]
  },
  {
   "cell_type": "code",
   "execution_count": 391,
   "metadata": {},
   "outputs": [
    {
     "data": {
      "text/plain": [
       "<matplotlib.legend.Legend at 0x29f49ae7310>"
      ]
     },
     "execution_count": 391,
     "metadata": {},
     "output_type": "execute_result"
    },
    {
     "data": {
      "image/png": "[encoded data removed]",
      "text/plain": [
       "<Figure size 720x576 with 1 Axes>"
      ]
     },
     "metadata": {
      "needs_background": "light"
     },
     "output_type": "display_data"
    }
   ],
   "source": [
    "plt.figure(figsize = (10, 8))\n",
    "cars.groupby(\"manufacturer\").price.mean().plot.bar(color = colors, edgecolor = \"k\")\n",
    "plt.ylabel(\"Average Price\")\n",
    "plt.xlabel(\"Manufacturer\")\n",
    "american = mpatches.Patch(facecolor = \"r\", edgecolor = \"k\", label = \"American Manufacturers\")\n",
    "italian = mpatches.Patch(facecolor = \"g\", edgecolor = \"k\", label = \"Italian Manufacturers\")\n",
    "british = mpatches.Patch(facecolor = \"m\", edgecolor = \"k\", label = \"British Manufacturers\")\n",
    "german = mpatches.Patch(facecolor = \"y\", edgecolor = \"k\", label = \"German Manufacturers\")\n",
    "swedish = mpatches.Patch(facecolor = \"w\", edgecolor = \"k\", label = \"Swedish Manufacturers\")\n",
    "japanese = mpatches.Patch(facecolor = \"b\", edgecolor = \"k\", label = \"Japanese Manufacturers\")\n",
    "korean = mpatches.Patch(facecolor = \"c\", edgecolor = \"k\", label = \"Korean Manufacturers\")\n",
    "missing = mpatches.Patch(facecolor = \"k\", edgecolor = \"k\", label = \"Missing Manufacturers\")\n",
    "plt.title(\"Average Price of Listed Cars by Manufacturer\")\n",
    "plt.legend(handles = [american, italian, british, german, swedish, japanese, korean, missing])"
   ]
  },
  {
   "cell_type": "markdown",
   "metadata": {},
   "source": [
    "Dodge and GMC, which are not known to be \"high end\" vehicles, show a mean price that is larger than luxury brands like Aston-Martin and Ferrari. This seems od, so let's investigate."
   ]
  },
  {
   "cell_type": "code",
   "execution_count": 393,
   "metadata": {},
   "outputs": [
    {
     "data": {
      "text/plain": [
       "count        12547.00000\n",
       "mean        210606.10489\n",
       "std       22234124.01268\n",
       "min              0.00000\n",
       "25%           3481.50000\n",
       "50%           8495.00000\n",
       "75%          17995.00000\n",
       "max     2490531375.00000\n",
       "Name: price, dtype: float64"
      ]
     },
     "execution_count": 393,
     "metadata": {},
     "output_type": "execute_result"
    }
   ],
   "source": [
    "cars.loc[cars[\"manufacturer\"] == \"dodge\"][\"price\"].describe()"
   ]
  },
  {
   "cell_type": "code",
   "execution_count": 394,
   "metadata": {},
   "outputs": [
    {
     "data": {
      "text/html": [
       "<div>\n",
       "<style scoped>\n",
       "    .dataframe tbody tr th:only-of-type {\n",
       "        vertical-align: middle;\n",
       "    }\n",
       "\n",
       "    .dataframe tbody tr th {\n",
       "        vertical-align: top;\n",
       "    }\n",
       "\n",
       "    .dataframe thead th {\n",
       "        text-align: right;\n",
       "    }\n",
       "</style>\n",
       "<table border=\"1\" class=\"dataframe\">\n",
       "  <thead>\n",
       "    <tr style=\"text-align: right;\">\n",
       "      <th></th>\n",
       "      <th>price</th>\n",
       "      <th>year</th>\n",
       "      <th>manufacturer</th>\n",
       "      <th>condition</th>\n",
       "      <th>cylinders</th>\n",
       "      <th>fuel</th>\n",
       "      <th>odometer</th>\n",
       "      <th>title_status</th>\n",
       "      <th>transmission</th>\n",
       "      <th>drive</th>\n",
       "      <th>type</th>\n",
       "      <th>paint_color</th>\n",
       "      <th>description</th>\n",
       "      <th>state</th>\n",
       "    </tr>\n",
       "  </thead>\n",
       "  <tbody>\n",
       "    <tr>\n",
       "      <th>67033</th>\n",
       "      <td>2490531375</td>\n",
       "      <td>2014.00000</td>\n",
       "      <td>dodge</td>\n",
       "      <td>good</td>\n",
       "      <td>4.00000</td>\n",
       "      <td>gas</td>\n",
       "      <td>112589.00000</td>\n",
       "      <td>clean</td>\n",
       "      <td>automatic</td>\n",
       "      <td>fwd</td>\n",
       "      <td>sedan</td>\n",
       "      <td>red</td>\n",
       "      <td>J.P. AUTO ENTERPRISE 3558 BUFORD HWY, SUITE B-...</td>\n",
       "      <td>ga</td>\n",
       "    </tr>\n",
       "  </tbody>\n",
       "</table>\n",
       "</div>"
      ],
      "text/plain": [
       "            price       year manufacturer condition  cylinders fuel  \\\n",
       "67033  2490531375 2014.00000        dodge      good    4.00000  gas   \n",
       "\n",
       "          odometer title_status transmission drive   type paint_color  \\\n",
       "67033 112589.00000        clean    automatic   fwd  sedan         red   \n",
       "\n",
       "                                             description state  \n",
       "67033  J.P. AUTO ENTERPRISE 3558 BUFORD HWY, SUITE B-...    ga  "
      ]
     },
     "execution_count": 394,
     "metadata": {},
     "output_type": "execute_result"
    }
   ],
   "source": [
    "cars.loc[cars[\"price\"] == 2490531375.00000]"
   ]
  },
  {
   "cell_type": "code",
   "execution_count": 395,
   "metadata": {},
   "outputs": [
    {
     "data": {
      "text/plain": [
       "['J.P. AUTO ENTERPRISE 3558 BUFORD HWY, SUITE B-100 DULUTH, GA 30096 CEL: 678-549-8671 www.jpcarsandbikes.com  Information VIN: 1C3CDFBB6ED695611 Make: Dodge Model: Dart  Model Year: 2014 Trim Package: SXT 4 Door Sedan  Body Style: Sedan  Engine: 2.4L I4 Fuel Type: Gasoline Drivetrain: FWD']"
      ]
     },
     "execution_count": 395,
     "metadata": {},
     "output_type": "execute_result"
    }
   ],
   "source": [
    "list(cars.loc[cars[\"price\"] == 2490531375.00000][\"description\"])"
   ]
  },
  {
   "cell_type": "markdown",
   "metadata": {},
   "source": [
    "Seeing that there is no info regarding the price in the description, we should remove this data point as it is likely an error."
   ]
  },
  {
   "cell_type": "code",
   "execution_count": 396,
   "metadata": {},
   "outputs": [],
   "source": [
    "cars.drop(index = 67033, inplace = True)"
   ]
  },
  {
   "cell_type": "code",
   "execution_count": 397,
   "metadata": {},
   "outputs": [
    {
     "data": {
      "text/plain": [
       "count        12782.00000\n",
       "mean        238584.92974\n",
       "std       24839841.83032\n",
       "min              0.00000\n",
       "25%           6850.00000\n",
       "50%          14000.00000\n",
       "75%          27990.00000\n",
       "max     2808348671.00000\n",
       "Name: price, dtype: float64"
      ]
     },
     "execution_count": 397,
     "metadata": {},
     "output_type": "execute_result"
    }
   ],
   "source": [
    "cars.loc[cars[\"manufacturer\"] == \"gmc\"][\"price\"].describe()"
   ]
  },
  {
   "cell_type": "code",
   "execution_count": 398,
   "metadata": {},
   "outputs": [
    {
     "data": {
      "text/html": [
       "<div>\n",
       "<style scoped>\n",
       "    .dataframe tbody tr th:only-of-type {\n",
       "        vertical-align: middle;\n",
       "    }\n",
       "\n",
       "    .dataframe tbody tr th {\n",
       "        vertical-align: top;\n",
       "    }\n",
       "\n",
       "    .dataframe thead th {\n",
       "        text-align: right;\n",
       "    }\n",
       "</style>\n",
       "<table border=\"1\" class=\"dataframe\">\n",
       "  <thead>\n",
       "    <tr style=\"text-align: right;\">\n",
       "      <th></th>\n",
       "      <th>price</th>\n",
       "      <th>year</th>\n",
       "      <th>manufacturer</th>\n",
       "      <th>condition</th>\n",
       "      <th>cylinders</th>\n",
       "      <th>fuel</th>\n",
       "      <th>odometer</th>\n",
       "      <th>title_status</th>\n",
       "      <th>transmission</th>\n",
       "      <th>drive</th>\n",
       "      <th>type</th>\n",
       "      <th>paint_color</th>\n",
       "      <th>description</th>\n",
       "      <th>state</th>\n",
       "    </tr>\n",
       "  </thead>\n",
       "  <tbody>\n",
       "    <tr>\n",
       "      <th>207260</th>\n",
       "      <td>2808348671</td>\n",
       "      <td>2020.00000</td>\n",
       "      <td>gmc</td>\n",
       "      <td>NaN</td>\n",
       "      <td>8.00000</td>\n",
       "      <td>gas</td>\n",
       "      <td>nan</td>\n",
       "      <td>clean</td>\n",
       "      <td>automatic</td>\n",
       "      <td>NaN</td>\n",
       "      <td>NaN</td>\n",
       "      <td>NaN</td>\n",
       "      <td>WILL BUY YOU RLIFTED OR LOWERED TRUCK , SINGLE...</td>\n",
       "      <td>ca</td>\n",
       "    </tr>\n",
       "  </tbody>\n",
       "</table>\n",
       "</div>"
      ],
      "text/plain": [
       "             price       year manufacturer condition  cylinders fuel  \\\n",
       "207260  2808348671 2020.00000          gmc       NaN    8.00000  gas   \n",
       "\n",
       "        odometer title_status transmission drive type paint_color  \\\n",
       "207260       nan        clean    automatic   NaN  NaN         NaN   \n",
       "\n",
       "                                              description state  \n",
       "207260  WILL BUY YOU RLIFTED OR LOWERED TRUCK , SINGLE...    ca  "
      ]
     },
     "execution_count": 398,
     "metadata": {},
     "output_type": "execute_result"
    }
   ],
   "source": [
    "cars.loc[cars[\"price\"] == 2808348671.00000]"
   ]
  },
  {
   "cell_type": "code",
   "execution_count": 399,
   "metadata": {},
   "outputs": [
    {
     "data": {
      "text/plain": [
       "['WILL BUY YOU RLIFTED OR LOWERED TRUCK , SINGLE CABS SHORT BED , JEEPS LIFTED OR CUSTOM     WILL PAY CASH  PLEASE CALL US     (209)544-1388']"
      ]
     },
     "execution_count": 399,
     "metadata": {},
     "output_type": "execute_result"
    }
   ],
   "source": [
    "list(cars.loc[cars[\"price\"] == 2808348671.00000][\"description\"])"
   ]
  },
  {
   "cell_type": "markdown",
   "metadata": {},
   "source": [
    "Seeing that there is no info regarding the price in the description, we should remove this data point as it is likely an error."
   ]
  },
  {
   "cell_type": "code",
   "execution_count": 400,
   "metadata": {},
   "outputs": [],
   "source": [
    "cars.drop(index = 207260, inplace = True)"
   ]
  },
  {
   "cell_type": "code",
   "execution_count": 401,
   "metadata": {},
   "outputs": [],
   "source": [
    "#After removing the two erroneous rows, reset the index\n",
    "cars.reset_index(inplace = True, drop = True)"
   ]
  },
  {
   "cell_type": "code",
   "execution_count": 402,
   "metadata": {},
   "outputs": [
    {
     "data": {
      "text/html": [
       "<div>\n",
       "<style scoped>\n",
       "    .dataframe tbody tr th:only-of-type {\n",
       "        vertical-align: middle;\n",
       "    }\n",
       "\n",
       "    .dataframe tbody tr th {\n",
       "        vertical-align: top;\n",
       "    }\n",
       "\n",
       "    .dataframe thead th {\n",
       "        text-align: right;\n",
       "    }\n",
       "</style>\n",
       "<table border=\"1\" class=\"dataframe\">\n",
       "  <thead>\n",
       "    <tr style=\"text-align: right;\">\n",
       "      <th></th>\n",
       "      <th>price</th>\n",
       "      <th>year</th>\n",
       "      <th>manufacturer</th>\n",
       "      <th>condition</th>\n",
       "      <th>cylinders</th>\n",
       "      <th>fuel</th>\n",
       "      <th>odometer</th>\n",
       "      <th>title_status</th>\n",
       "      <th>transmission</th>\n",
       "      <th>drive</th>\n",
       "      <th>type</th>\n",
       "      <th>paint_color</th>\n",
       "      <th>description</th>\n",
       "      <th>state</th>\n",
       "    </tr>\n",
       "  </thead>\n",
       "  <tbody>\n",
       "    <tr>\n",
       "      <th>95591</th>\n",
       "      <td>38900</td>\n",
       "      <td>1990.00000</td>\n",
       "      <td>NaN</td>\n",
       "      <td>good</td>\n",
       "      <td>8.00000</td>\n",
       "      <td>diesel</td>\n",
       "      <td>10000000.00000</td>\n",
       "      <td>clean</td>\n",
       "      <td>manual</td>\n",
       "      <td>rwd</td>\n",
       "      <td>truck</td>\n",
       "      <td>grey</td>\n",
       "      <td>This is a 1990 Peterbilt 379 long hood, has a ...</td>\n",
       "      <td>nj</td>\n",
       "    </tr>\n",
       "    <tr>\n",
       "      <th>197082</th>\n",
       "      <td>1400</td>\n",
       "      <td>2000.00000</td>\n",
       "      <td>chevrolet</td>\n",
       "      <td>good</td>\n",
       "      <td>8.00000</td>\n",
       "      <td>gas</td>\n",
       "      <td>10000000.00000</td>\n",
       "      <td>clean</td>\n",
       "      <td>automatic</td>\n",
       "      <td>4wd</td>\n",
       "      <td>truck</td>\n",
       "      <td>black</td>\n",
       "      <td>Good work truck , 4x4 works , AC works PW wido...</td>\n",
       "      <td>oh</td>\n",
       "    </tr>\n",
       "    <tr>\n",
       "      <th>262694</th>\n",
       "      <td>3800</td>\n",
       "      <td>1936.00000</td>\n",
       "      <td>chevrolet</td>\n",
       "      <td>fair</td>\n",
       "      <td>6.00000</td>\n",
       "      <td>gas</td>\n",
       "      <td>10000000.00000</td>\n",
       "      <td>rebuilt</td>\n",
       "      <td>manual</td>\n",
       "      <td>rwd</td>\n",
       "      <td>sedan</td>\n",
       "      <td>black</td>\n",
       "      <td>Four door 1936 chevy car, All parts are there....</td>\n",
       "      <td>sd</td>\n",
       "    </tr>\n",
       "    <tr>\n",
       "      <th>311728</th>\n",
       "      <td>6200</td>\n",
       "      <td>1915.00000</td>\n",
       "      <td>NaN</td>\n",
       "      <td>good</td>\n",
       "      <td>4.00000</td>\n",
       "      <td>gas</td>\n",
       "      <td>10000000.00000</td>\n",
       "      <td>missing</td>\n",
       "      <td>manual</td>\n",
       "      <td>rwd</td>\n",
       "      <td>truck</td>\n",
       "      <td>black</td>\n",
       "      <td>Estate sale find, mostly restores 1915 Maxwell...</td>\n",
       "      <td>ia</td>\n",
       "    </tr>\n",
       "  </tbody>\n",
       "</table>\n",
       "</div>"
      ],
      "text/plain": [
       "        price       year manufacturer condition  cylinders    fuel  \\\n",
       "95591   38900 1990.00000          NaN      good    8.00000  diesel   \n",
       "197082   1400 2000.00000    chevrolet      good    8.00000     gas   \n",
       "262694   3800 1936.00000    chevrolet      fair    6.00000     gas   \n",
       "311728   6200 1915.00000          NaN      good    4.00000     gas   \n",
       "\n",
       "             odometer title_status transmission drive   type paint_color  \\\n",
       "95591  10000000.00000        clean       manual   rwd  truck        grey   \n",
       "197082 10000000.00000        clean    automatic   4wd  truck       black   \n",
       "262694 10000000.00000      rebuilt       manual   rwd  sedan       black   \n",
       "311728 10000000.00000      missing       manual   rwd  truck       black   \n",
       "\n",
       "                                              description state  \n",
       "95591   This is a 1990 Peterbilt 379 long hood, has a ...    nj  \n",
       "197082  Good work truck , 4x4 works , AC works PW wido...    oh  \n",
       "262694  Four door 1936 chevy car, All parts are there....    sd  \n",
       "311728  Estate sale find, mostly restores 1915 Maxwell...    ia  "
      ]
     },
     "execution_count": 402,
     "metadata": {},
     "output_type": "execute_result"
    }
   ],
   "source": [
    "#As seen above, the max value for the column \"odometer\" was 10000000.00. This seems unrealistic. Let's take a look.\n",
    "\n",
    "cars.loc[cars[\"odometer\"] == 10000000.00000]"
   ]
  },
  {
   "cell_type": "markdown",
   "metadata": {},
   "source": [
    "Let's replace all unrealistic values for the column \"odometer\" (anything above 999999, the max reading on the odometer) with an estimate of what the mileage for a car of their age should be. According to [caranddriver.com](https://www.caranddriver.com/research/a32880477/average-mileage-per-year/), the average person drive 13,500 miles per year. We can find the age of each car that lists an unrealistic value, multiply this by 13,500, and impute that for the entry in odometer. If this value exceeds 999,999, we will impute 999,999 as the entry."
   ]
  },
  {
   "cell_type": "code",
   "execution_count": 403,
   "metadata": {},
   "outputs": [],
   "source": [
    "max_odometer_before_imputation = cars[\"odometer\"].max()"
   ]
  },
  {
   "cell_type": "code",
   "execution_count": 404,
   "metadata": {},
   "outputs": [],
   "source": [
    "cars[\"odometer\"] = [x if x <= 999999 else min(999999, (13500 * (2021 - cars[\"year\"][i]))) for i, x in enumerate(cars[\"odometer\"])]"
   ]
  },
  {
   "cell_type": "code",
   "execution_count": 405,
   "metadata": {},
   "outputs": [],
   "source": [
    "max_odometer_after_imputation = cars[\"odometer\"].max()"
   ]
  },
  {
   "cell_type": "code",
   "execution_count": 406,
   "metadata": {},
   "outputs": [
    {
     "name": "stdout",
     "output_type": "stream",
     "text": [
      "10000000.0\n",
      "999999.0\n"
     ]
    }
   ],
   "source": [
    "print(max_odometer_before_imputation)\n",
    "print(max_odometer_after_imputation)"
   ]
  },
  {
   "cell_type": "code",
   "execution_count": 407,
   "metadata": {},
   "outputs": [],
   "source": [
    "cars[\"manufacturer\"].fillna(\"MISSING\", inplace = True)"
   ]
  },
  {
   "cell_type": "code",
   "execution_count": 408,
   "metadata": {},
   "outputs": [],
   "source": [
    "manufacturers = sorted(list(cars[\"manufacturer\"].unique()))\n",
    "nationalities = [\"MISSING\", \"Japanese\", \"Italian\", \"British\", \"German\", \"German\", \"American\", \"American\", \"American\", \n",
    "                 \"American\", \"Japanese\", \"American\", \"Italian\", \"Italian\", \"American\", \"American\", \"American\", \"American\", \n",
    "                \"Japanese\", \"Korean\", \"Japanese\", \"British\", \"American\", \"Korean\", \"British\", \"Japanese\", \"American\", \n",
    "                 \"Japanese\", \"German\", \"American\", \"British\", \"Japanese\", \"British\", \"Japanese\", \"American\", \"German\", \n",
    "                 \"American\", \"British\", \"American\", \"Japanese\", \"American\", \"Japanese\", \"German\", \"Swedish\"]\n",
    "\n",
    "manufacturers_dictionary = {}\n",
    "for i in range(len(manufacturers)):\n",
    "    manufacturers_dictionary[manufacturers[i]] = nationalities[i]"
   ]
  },
  {
   "cell_type": "code",
   "execution_count": 409,
   "metadata": {},
   "outputs": [],
   "source": [
    "cars[\"manufacturer_nationality\"] = cars[\"manufacturer\"].map(manufacturers_dictionary)"
   ]
  },
  {
   "cell_type": "code",
   "execution_count": 410,
   "metadata": {},
   "outputs": [
    {
     "data": {
      "text/plain": [
       "manufacturer_nationality\n",
       "American    180797\n",
       "British       3304\n",
       "German       25037\n",
       "Italian        769\n",
       "Japanese     85402\n",
       "Korean       15834\n",
       "MISSING     110615\n",
       "Swedish       2097\n",
       "Name: manufacturer_nationality, dtype: int64"
      ]
     },
     "execution_count": 410,
     "metadata": {},
     "output_type": "execute_result"
    }
   ],
   "source": [
    "cars.groupby(\"manufacturer_nationality\")[\"manufacturer_nationality\"].count()"
   ]
  },
  {
   "cell_type": "code",
   "execution_count": 411,
   "metadata": {},
   "outputs": [],
   "source": [
    "manufacturer_nationalities = sorted(list(cars[\"manufacturer_nationality\"].unique()))\n",
    "nationality_colors = [\"r\", \"m\", \"y\", \"g\", \"b\", \"c\", \"k\", \"w\"]\n",
    "\n",
    "manufacturers_colors = {}\n",
    "for i in range(len(manufacturer_nationalities)):\n",
    "    manufacturers_colors[manufacturer_nationalities[i]] = nationality_colors[i]"
   ]
  },
  {
   "cell_type": "code",
   "execution_count": 412,
   "metadata": {},
   "outputs": [
    {
     "data": {
      "text/plain": [
       "{'American': 'r',\n",
       " 'British': 'm',\n",
       " 'German': 'y',\n",
       " 'Italian': 'g',\n",
       " 'Japanese': 'b',\n",
       " 'Korean': 'c',\n",
       " 'MISSING': 'k',\n",
       " 'Swedish': 'w'}"
      ]
     },
     "execution_count": 412,
     "metadata": {},
     "output_type": "execute_result"
    }
   ],
   "source": [
    "manufacturers_colors"
   ]
  },
  {
   "cell_type": "code",
   "execution_count": 413,
   "metadata": {},
   "outputs": [],
   "source": [
    "cars[\"nationality_colors\"] = cars[\"manufacturer_nationality\"].map(manufacturers_colors)"
   ]
  },
  {
   "cell_type": "code",
   "execution_count": 416,
   "metadata": {},
   "outputs": [
    {
     "data": {
      "text/plain": [
       "Text(0.5, 1.0, 'Mean List Price by Car Manufacturer')"
      ]
     },
     "execution_count": 416,
     "metadata": {},
     "output_type": "execute_result"
    },
    {
     "data": {
      "image/png": "[encoded data removed]",
      "text/plain": [
       "<Figure size 720x576 with 1 Axes>"
      ]
     },
     "metadata": {
      "needs_background": "light"
     },
     "output_type": "display_data"
    }
   ],
   "source": [
    "#Visualize the Mean List Price of \n",
    "plt.figure(figsize = (10, 8))\n",
    "cars.loc[cars[\"manufacturer_nationality\"] != \"MISSING\"].groupby(\n",
    "    \"manufacturer_nationality\")[\"price\"].mean().plot.bar(color = [\"r\", \"m\", \"y\", \"g\", \"b\", \"c\", \"w\"], edgecolor = \"k\")\n",
    "plt.xlabel(\"Manufacturer\")\n",
    "plt.ylabel(\"Mean List Price\")\n",
    "plt.title(\"Mean List Price by Car Manufacturer\")"
   ]
  },
  {
   "cell_type": "code",
   "execution_count": 419,
   "metadata": {},
   "outputs": [
    {
     "data": {
      "text/plain": [
       "<matplotlib.legend.Legend at 0x29ff78c4730>"
      ]
     },
     "execution_count": 419,
     "metadata": {},
     "output_type": "execute_result"
    },
    {
     "data": {
      "image/png": "[encoded data removed]",
      "text/plain": [
       "<Figure size 720x576 with 1 Axes>"
      ]
     },
     "metadata": {
      "needs_background": "light"
     },
     "output_type": "display_data"
    }
   ],
   "source": [
    "colors = [\"b\", \"g\", \"m\", \"y\", \"y\", \"r\", \"r\", \"r\", \"r\", \"b\", \"r\", \"g\", \"g\", \"r\", \"r\", \"r\", \"r\", \"b\", \"c\", \"b\", \"m\", \n",
    "         \"r\", \"c\", \"m\", \"b\", \"r\", \"b\", \"y\", \"r\", \"m\", \"b\", \"m\", \"b\", \"r\", \"y\", \"r\", \"m\", \"r\", \"b\", \"r\", \"b\", \"y\", \"w\"]\n",
    "\n",
    "plt.figure(figsize = (10, 8))\n",
    "cars.loc[cars[\"manufacturer_nationality\"] != \"MISSING\"].groupby(\"manufacturer\").price.mean().plot.bar(color = \n",
    "                                                                                                      colors, edgecolor = \"k\")\n",
    "plt.ylabel(\"Average Price\")\n",
    "plt.xlabel(\"Manufacturer\")\n",
    "american = mpatches.Patch(facecolor = \"r\", edgecolor = \"k\", label = \"American Manufacturers\")\n",
    "italian = mpatches.Patch(facecolor = \"g\", edgecolor = \"k\", label = \"Italian Manufacturers\")\n",
    "british = mpatches.Patch(facecolor = \"m\", edgecolor = \"k\", label = \"British Manufacturers\")\n",
    "german = mpatches.Patch(facecolor = \"y\", edgecolor = \"k\", label = \"German Manufacturers\")\n",
    "swedish = mpatches.Patch(facecolor = \"w\", edgecolor = \"k\", label = \"Swedish Manufacturers\")\n",
    "japanese = mpatches.Patch(facecolor = \"b\", edgecolor = \"k\", label = \"Japanese Manufacturers\")\n",
    "korean = mpatches.Patch(facecolor = \"c\", edgecolor = \"k\", label = \"Korean Manufacturers\")]\n",
    "plt.title(\"Average Price of Listed Cars by Manufacturer\")\n",
    "plt.legend(handles = [american, italian, british, german, swedish, japanese, korean])"
   ]
  },
  {
   "cell_type": "code",
   "execution_count": 335,
   "metadata": {},
   "outputs": [
    {
     "data": {
      "text/plain": [
       "count       423855.00000\n",
       "mean         36308.21205\n",
       "std        5749884.40163\n",
       "min              0.00000\n",
       "25%           4499.00000\n",
       "50%           9995.00000\n",
       "75%          18995.00000\n",
       "max     2632269824.00000\n",
       "Name: price, dtype: float64"
      ]
     },
     "execution_count": 335,
     "metadata": {},
     "output_type": "execute_result"
    }
   ],
   "source": [
    "cars[\"price\"].describe()"
   ]
  },
  {
   "cell_type": "code",
   "execution_count": 336,
   "metadata": {},
   "outputs": [],
   "source": [
    "cars.drop(index = cars.loc[cars[\"price\"] > 300000].index, inplace = True)\n",
    "\n",
    "cars.drop(index = cars.loc[cars[\"price\"] < 100].index, inplace = True)\n",
    "\n",
    "cars.reset_index(inplace = True, drop = True)"
   ]
  },
  {
   "cell_type": "code",
   "execution_count": 337,
   "metadata": {},
   "outputs": [
    {
     "data": {
      "text/plain": [
       "count   386131.00000\n",
       "mean     15221.11954\n",
       "std      14036.89218\n",
       "min        100.00000\n",
       "25%       5900.00000\n",
       "50%      11500.00000\n",
       "75%      19995.00000\n",
       "max     300000.00000\n",
       "Name: price, dtype: float64"
      ]
     },
     "execution_count": 337,
     "metadata": {},
     "output_type": "execute_result"
    }
   ],
   "source": [
    "cars[\"price\"].describe()"
   ]
  },
  {
   "cell_type": "code",
   "execution_count": 338,
   "metadata": {},
   "outputs": [],
   "source": [
    "min_price = cars[\"price\"].min()\n",
    "price_25 = cars[\"price\"].quantile(0.25)\n",
    "price_50 = cars[\"price\"].quantile(0.50)\n",
    "price_75 = cars[\"price\"].quantile(0.75)\n",
    "max_price = cars[\"price\"].max()\n",
    "\n",
    "price_binned = pd.cut(cars[\"price\"], bins = [min_price, price_25, price_50, price_75, max_price], \n",
    "       labels = [\"Very Low\", \"Low\", \"Mid-High\", \"Expensive\"])"
   ]
  },
  {
   "cell_type": "code",
   "execution_count": 339,
   "metadata": {},
   "outputs": [],
   "source": [
    "cars[\"price_binned\"] = price_binned\n",
    "cars = cars[[cars.columns[0]] + [cars.columns[-1]] + list(cars.columns[1:-1])]"
   ]
  },
  {
   "cell_type": "code",
   "execution_count": 340,
   "metadata": {},
   "outputs": [],
   "source": [
    "cars_no_missing = cars.copy()\n",
    "cars_no_missing = cars_no_missing[cars_no_missing[\"manufacturer\"] != \"MISSING\"]\n",
    "cars_no_missing.dropna(inplace = True, axis = 0)\n",
    "cars_no_missing.reset_index(inplace = True, drop = True)"
   ]
  },
  {
   "cell_type": "code",
   "execution_count": 341,
   "metadata": {},
   "outputs": [
    {
     "data": {
      "text/plain": [
       "Index(['price', 'price_binned', 'year', 'manufacturer', 'condition',\n",
       "       'cylinders', 'fuel', 'odometer', 'title_status', 'transmission',\n",
       "       'drive', 'type', 'paint_color', 'description', 'state',\n",
       "       'manufacturer_nationality', 'nationality_colors'],\n",
       "      dtype='object')"
      ]
     },
     "execution_count": 341,
     "metadata": {},
     "output_type": "execute_result"
    }
   ],
   "source": [
    "cars_no_missing.columns"
   ]
  },
  {
   "cell_type": "code",
   "execution_count": 449,
   "metadata": {},
   "outputs": [
    {
     "data": {
      "text/plain": [
       "<Figure size 432x288 with 0 Axes>"
      ]
     },
     "metadata": {},
     "output_type": "display_data"
    },
    {
     "data": {
      "image/png": "[encoded data removed]",
      "text/plain": [
       "<Figure size 576x432 with 1 Axes>"
      ]
     },
     "metadata": {
      "needs_background": "light"
     },
     "output_type": "display_data"
    },
    {
     "data": {
      "text/plain": [
       "<Figure size 432x288 with 0 Axes>"
      ]
     },
     "metadata": {},
     "output_type": "display_data"
    },
    {
     "data": {
      "image/png": "[encoded data removed]",
      "text/plain": [
       "<Figure size 576x432 with 1 Axes>"
      ]
     },
     "metadata": {
      "needs_background": "light"
     },
     "output_type": "display_data"
    },
    {
     "data": {
      "text/plain": [
       "<Figure size 432x288 with 0 Axes>"
      ]
     },
     "metadata": {},
     "output_type": "display_data"
    },
    {
     "data": {
      "image/png": "[encoded data removed]",
      "text/plain": [
       "<Figure size 576x432 with 1 Axes>"
      ]
     },
     "metadata": {
      "needs_background": "light"
     },
     "output_type": "display_data"
    },
    {
     "data": {
      "text/plain": [
       "<Figure size 432x288 with 0 Axes>"
      ]
     },
     "metadata": {},
     "output_type": "display_data"
    },
    {
     "data": {
      "image/png": "[encoded data removed]",
      "text/plain": [
       "<Figure size 576x432 with 1 Axes>"
      ]
     },
     "metadata": {
      "needs_background": "light"
     },
     "output_type": "display_data"
    },
    {
     "data": {
      "text/plain": [
       "<Figure size 432x288 with 0 Axes>"
      ]
     },
     "metadata": {},
     "output_type": "display_data"
    },
    {
     "data": {
      "image/png": "[encoded data removed]",
      "text/plain": [
       "<Figure size 576x432 with 1 Axes>"
      ]
     },
     "metadata": {
      "needs_background": "light"
     },
     "output_type": "display_data"
    },
    {
     "data": {
      "text/plain": [
       "<Figure size 432x288 with 0 Axes>"
      ]
     },
     "metadata": {},
     "output_type": "display_data"
    },
    {
     "data": {
      "image/png": "[encoded data removed]",
      "text/plain": [
       "<Figure size 576x432 with 1 Axes>"
      ]
     },
     "metadata": {
      "needs_background": "light"
     },
     "output_type": "display_data"
    },
    {
     "data": {
      "text/plain": [
       "<Figure size 432x288 with 0 Axes>"
      ]
     },
     "metadata": {},
     "output_type": "display_data"
    },
    {
     "data": {
      "image/png": "[encoded data removed]",
      "text/plain": [
       "<Figure size 576x432 with 1 Axes>"
      ]
     },
     "metadata": {
      "needs_background": "light"
     },
     "output_type": "display_data"
    }
   ],
   "source": [
    "#Generate plots for each manufacturer denoting the mean price of cars listed for that year and plot it\n",
    "no_missing_manufacturer_nationalities = sorted(list(cars_no_missing[\"manufacturer_nationality\"].unique()))\n",
    "no_missing_manufacturer_nationalities_colors = [\"r\", \"m\", \"y\", \"g\", \"b\", \"c\", \"k\"]\n",
    "\n",
    "for i in range(len(no_missing_manufacturer_nationalities)):\n",
    "    manufacturer_nationality = no_missing_manufacturer_nationalities[i]\n",
    "    x = sorted(cars_no_missing[cars_no_missing[\"manufacturer_nationality\"] ==  manufacturer_nationality][\"year\"].unique())\n",
    "    y = cars_no_missing[cars_no_missing[\"manufacturer_nationality\"] ==  manufacturer_nationality].groupby(\"year\")[\"price\"].mean()\n",
    "    plt.figure()\n",
    "    plt.figure(figsize = (8, 6))\n",
    "    plt.scatter(x, y, color = no_missing_manufacturer_nationalities_colors[i])\n",
    "    plt.xlabel(\"Model Year\")\n",
    "    plt.ylabel(\"Average Price\")\n",
    "    plt.title(\"Average Price for %s Manufacturers by Model Year\" %manufacturer_nationality)\n",
    "plt.show()"
   ]
  },
  {
   "cell_type": "code",
   "execution_count": 477,
   "metadata": {},
   "outputs": [
    {
     "data": {
      "text/plain": [
       "Text(0.5, 1.0, 'Average Price in Each Price Category')"
      ]
     },
     "execution_count": 477,
     "metadata": {},
     "output_type": "execute_result"
    },
    {
     "data": {
      "image/png": "[encoded data removed]",
      "text/plain": [
       "<Figure size 720x288 with 1 Axes>"
      ]
     },
     "metadata": {
      "needs_background": "light"
     },
     "output_type": "display_data"
    }
   ],
   "source": [
    "plt.figure(figsize = (10, 4))\n",
    "sns.barplot(x = \"price_binned\", y = \"price\", data = cars_no_missing, palette = \"rocket\")\n",
    "plt.xlabel(\"Price Category\")\n",
    "plt.ylabel(\"Average Price\")\n",
    "plt.title(\"Average Price in Each Price Category\")"
   ]
  },
  {
   "cell_type": "code",
   "execution_count": 484,
   "metadata": {},
   "outputs": [
    {
     "data": {
      "text/plain": [
       "Text(0.5, 1.0, 'Number of Listings per Price Category')"
      ]
     },
     "execution_count": 484,
     "metadata": {},
     "output_type": "execute_result"
    },
    {
     "data": {
      "image/png": "[encoded data removed]",
      "text/plain": [
       "<Figure size 720x288 with 1 Axes>"
      ]
     },
     "metadata": {
      "needs_background": "light"
     },
     "output_type": "display_data"
    }
   ],
   "source": [
    "plt.figure(figsize = (10, 4))\n",
    "sns.countplot(x = \"price_binned\", data = cars_no_missing, palette = \"magma\")\n",
    "plt.xlabel(\"Price Category\")\n",
    "plt.ylabel(\"Number of Listings\")\n",
    "plt.title(\"Number of Listings per Price Category\")"
   ]
  },
  {
   "cell_type": "code",
   "execution_count": 451,
   "metadata": {},
   "outputs": [],
   "source": [
    "numerical = cars_no_missing.loc[:, [\"price\", \"year\", \"cylinders\", \"odometer\"]]\n",
    "categorical = cars_no_missing.loc[:, [\"manufacturer\", \"condition\", \"fuel\", \"title_status\", \"transmission\", \"drive\", \n",
    "                           \"type\", \"paint_color\", \"state\"]]\n",
    "binned_prediction = cars_no_missing[\"price_binned\"]"
   ]
  },
  {
   "cell_type": "code",
   "execution_count": 444,
   "metadata": {},
   "outputs": [],
   "source": [
    "#Create k-1 dummy variables for each k-level categorical variable\n",
    "categorical_dummies = pd.get_dummies(categorical.iloc[:, 0:9], drop_first = True)"
   ]
  },
  {
   "cell_type": "code",
   "execution_count": 445,
   "metadata": {},
   "outputs": [
    {
     "data": {
      "text/html": [
       "<div>\n",
       "<style scoped>\n",
       "    .dataframe tbody tr th:only-of-type {\n",
       "        vertical-align: middle;\n",
       "    }\n",
       "\n",
       "    .dataframe tbody tr th {\n",
       "        vertical-align: top;\n",
       "    }\n",
       "\n",
       "    .dataframe thead th {\n",
       "        text-align: right;\n",
       "    }\n",
       "</style>\n",
       "<table border=\"1\" class=\"dataframe\">\n",
       "  <thead>\n",
       "    <tr style=\"text-align: right;\">\n",
       "      <th></th>\n",
       "      <th>price</th>\n",
       "      <th>year</th>\n",
       "      <th>cylinders</th>\n",
       "      <th>odometer</th>\n",
       "      <th>manufacturer_alfa-romeo</th>\n",
       "      <th>manufacturer_aston-martin</th>\n",
       "      <th>manufacturer_audi</th>\n",
       "      <th>manufacturer_bmw</th>\n",
       "      <th>manufacturer_buick</th>\n",
       "      <th>manufacturer_cadillac</th>\n",
       "      <th>...</th>\n",
       "      <th>state_sd</th>\n",
       "      <th>state_tn</th>\n",
       "      <th>state_tx</th>\n",
       "      <th>state_ut</th>\n",
       "      <th>state_va</th>\n",
       "      <th>state_vt</th>\n",
       "      <th>state_wa</th>\n",
       "      <th>state_wi</th>\n",
       "      <th>state_wv</th>\n",
       "      <th>state_wy</th>\n",
       "    </tr>\n",
       "  </thead>\n",
       "  <tbody>\n",
       "    <tr>\n",
       "      <th>0</th>\n",
       "      <td>12500</td>\n",
       "      <td>2003.00000</td>\n",
       "      <td>4.00000</td>\n",
       "      <td>243000.00000</td>\n",
       "      <td>0</td>\n",
       "      <td>0</td>\n",
       "      <td>0</td>\n",
       "      <td>0</td>\n",
       "      <td>0</td>\n",
       "      <td>0</td>\n",
       "      <td>...</td>\n",
       "      <td>0</td>\n",
       "      <td>0</td>\n",
       "      <td>0</td>\n",
       "      <td>0</td>\n",
       "      <td>0</td>\n",
       "      <td>0</td>\n",
       "      <td>0</td>\n",
       "      <td>0</td>\n",
       "      <td>0</td>\n",
       "      <td>0</td>\n",
       "    </tr>\n",
       "    <tr>\n",
       "      <th>1</th>\n",
       "      <td>16995</td>\n",
       "      <td>2007.00000</td>\n",
       "      <td>8.00000</td>\n",
       "      <td>254217.00000</td>\n",
       "      <td>0</td>\n",
       "      <td>0</td>\n",
       "      <td>0</td>\n",
       "      <td>0</td>\n",
       "      <td>0</td>\n",
       "      <td>0</td>\n",
       "      <td>...</td>\n",
       "      <td>0</td>\n",
       "      <td>0</td>\n",
       "      <td>0</td>\n",
       "      <td>0</td>\n",
       "      <td>0</td>\n",
       "      <td>0</td>\n",
       "      <td>0</td>\n",
       "      <td>0</td>\n",
       "      <td>0</td>\n",
       "      <td>0</td>\n",
       "    </tr>\n",
       "    <tr>\n",
       "      <th>2</th>\n",
       "      <td>13995</td>\n",
       "      <td>2012.00000</td>\n",
       "      <td>6.00000</td>\n",
       "      <td>188406.00000</td>\n",
       "      <td>0</td>\n",
       "      <td>0</td>\n",
       "      <td>0</td>\n",
       "      <td>0</td>\n",
       "      <td>0</td>\n",
       "      <td>0</td>\n",
       "      <td>...</td>\n",
       "      <td>0</td>\n",
       "      <td>0</td>\n",
       "      <td>0</td>\n",
       "      <td>0</td>\n",
       "      <td>0</td>\n",
       "      <td>0</td>\n",
       "      <td>0</td>\n",
       "      <td>0</td>\n",
       "      <td>0</td>\n",
       "      <td>0</td>\n",
       "    </tr>\n",
       "    <tr>\n",
       "      <th>3</th>\n",
       "      <td>7995</td>\n",
       "      <td>2010.00000</td>\n",
       "      <td>4.00000</td>\n",
       "      <td>108124.00000</td>\n",
       "      <td>0</td>\n",
       "      <td>0</td>\n",
       "      <td>0</td>\n",
       "      <td>0</td>\n",
       "      <td>0</td>\n",
       "      <td>0</td>\n",
       "      <td>...</td>\n",
       "      <td>0</td>\n",
       "      <td>0</td>\n",
       "      <td>0</td>\n",
       "      <td>0</td>\n",
       "      <td>0</td>\n",
       "      <td>0</td>\n",
       "      <td>0</td>\n",
       "      <td>0</td>\n",
       "      <td>0</td>\n",
       "      <td>0</td>\n",
       "    </tr>\n",
       "    <tr>\n",
       "      <th>4</th>\n",
       "      <td>8995</td>\n",
       "      <td>2011.00000</td>\n",
       "      <td>6.00000</td>\n",
       "      <td>178054.00000</td>\n",
       "      <td>0</td>\n",
       "      <td>0</td>\n",
       "      <td>0</td>\n",
       "      <td>0</td>\n",
       "      <td>0</td>\n",
       "      <td>0</td>\n",
       "      <td>...</td>\n",
       "      <td>0</td>\n",
       "      <td>0</td>\n",
       "      <td>0</td>\n",
       "      <td>0</td>\n",
       "      <td>0</td>\n",
       "      <td>0</td>\n",
       "      <td>0</td>\n",
       "      <td>0</td>\n",
       "      <td>0</td>\n",
       "      <td>0</td>\n",
       "    </tr>\n",
       "  </tbody>\n",
       "</table>\n",
       "<p>5 rows × 136 columns</p>\n",
       "</div>"
      ],
      "text/plain": [
       "   price       year  cylinders     odometer  manufacturer_alfa-romeo  \\\n",
       "0  12500 2003.00000    4.00000 243000.00000                        0   \n",
       "1  16995 2007.00000    8.00000 254217.00000                        0   \n",
       "2  13995 2012.00000    6.00000 188406.00000                        0   \n",
       "3   7995 2010.00000    4.00000 108124.00000                        0   \n",
       "4   8995 2011.00000    6.00000 178054.00000                        0   \n",
       "\n",
       "   manufacturer_aston-martin  manufacturer_audi  manufacturer_bmw  \\\n",
       "0                          0                  0                 0   \n",
       "1                          0                  0                 0   \n",
       "2                          0                  0                 0   \n",
       "3                          0                  0                 0   \n",
       "4                          0                  0                 0   \n",
       "\n",
       "   manufacturer_buick  manufacturer_cadillac  ...  state_sd  state_tn  \\\n",
       "0                   0                      0  ...         0         0   \n",
       "1                   0                      0  ...         0         0   \n",
       "2                   0                      0  ...         0         0   \n",
       "3                   0                      0  ...         0         0   \n",
       "4                   0                      0  ...         0         0   \n",
       "\n",
       "   state_tx  state_ut  state_va  state_vt  state_wa  state_wi  state_wv  \\\n",
       "0         0         0         0         0         0         0         0   \n",
       "1         0         0         0         0         0         0         0   \n",
       "2         0         0         0         0         0         0         0   \n",
       "3         0         0         0         0         0         0         0   \n",
       "4         0         0         0         0         0         0         0   \n",
       "\n",
       "   state_wy  \n",
       "0         0  \n",
       "1         0  \n",
       "2         0  \n",
       "3         0  \n",
       "4         0  \n",
       "\n",
       "[5 rows x 136 columns]"
      ]
     },
     "execution_count": 445,
     "metadata": {},
     "output_type": "execute_result"
    }
   ],
   "source": [
    "cars_linear_data = pd.concat([numerical, categorical_dummies], axis = 1)\n",
    "cars_linear_data.head()"
   ]
  },
  {
   "cell_type": "code",
   "execution_count": 446,
   "metadata": {},
   "outputs": [
    {
     "data": {
      "text/plain": [
       "count    91546.00000\n",
       "mean     12592.86646\n",
       "std      10954.63778\n",
       "min        123.00000\n",
       "25%       5295.00000\n",
       "50%       9295.00000\n",
       "75%      16488.00000\n",
       "max     265000.00000\n",
       "Name: price, dtype: float64"
      ]
     },
     "execution_count": 446,
     "metadata": {},
     "output_type": "execute_result"
    }
   ],
   "source": [
    "cars_linear_data[\"price\"].describe()"
   ]
  },
  {
   "cell_type": "code",
   "execution_count": 447,
   "metadata": {},
   "outputs": [
    {
     "data": {
      "text/html": [
       "<div>\n",
       "<style scoped>\n",
       "    .dataframe tbody tr th:only-of-type {\n",
       "        vertical-align: middle;\n",
       "    }\n",
       "\n",
       "    .dataframe tbody tr th {\n",
       "        vertical-align: top;\n",
       "    }\n",
       "\n",
       "    .dataframe thead th {\n",
       "        text-align: right;\n",
       "    }\n",
       "</style>\n",
       "<table border=\"1\" class=\"dataframe\">\n",
       "  <thead>\n",
       "    <tr style=\"text-align: right;\">\n",
       "      <th></th>\n",
       "      <th>price_binned</th>\n",
       "      <th>year</th>\n",
       "      <th>cylinders</th>\n",
       "      <th>odometer</th>\n",
       "      <th>manufacturer_alfa-romeo</th>\n",
       "      <th>manufacturer_aston-martin</th>\n",
       "      <th>manufacturer_audi</th>\n",
       "      <th>manufacturer_bmw</th>\n",
       "      <th>manufacturer_buick</th>\n",
       "      <th>manufacturer_cadillac</th>\n",
       "      <th>...</th>\n",
       "      <th>state_sd</th>\n",
       "      <th>state_tn</th>\n",
       "      <th>state_tx</th>\n",
       "      <th>state_ut</th>\n",
       "      <th>state_va</th>\n",
       "      <th>state_vt</th>\n",
       "      <th>state_wa</th>\n",
       "      <th>state_wi</th>\n",
       "      <th>state_wv</th>\n",
       "      <th>state_wy</th>\n",
       "    </tr>\n",
       "  </thead>\n",
       "  <tbody>\n",
       "    <tr>\n",
       "      <th>0</th>\n",
       "      <td>Mid-High</td>\n",
       "      <td>2003.00000</td>\n",
       "      <td>4.00000</td>\n",
       "      <td>243000.00000</td>\n",
       "      <td>0</td>\n",
       "      <td>0</td>\n",
       "      <td>0</td>\n",
       "      <td>0</td>\n",
       "      <td>0</td>\n",
       "      <td>0</td>\n",
       "      <td>...</td>\n",
       "      <td>0</td>\n",
       "      <td>0</td>\n",
       "      <td>0</td>\n",
       "      <td>0</td>\n",
       "      <td>0</td>\n",
       "      <td>0</td>\n",
       "      <td>0</td>\n",
       "      <td>0</td>\n",
       "      <td>0</td>\n",
       "      <td>0</td>\n",
       "    </tr>\n",
       "    <tr>\n",
       "      <th>1</th>\n",
       "      <td>Mid-High</td>\n",
       "      <td>2007.00000</td>\n",
       "      <td>8.00000</td>\n",
       "      <td>254217.00000</td>\n",
       "      <td>0</td>\n",
       "      <td>0</td>\n",
       "      <td>0</td>\n",
       "      <td>0</td>\n",
       "      <td>0</td>\n",
       "      <td>0</td>\n",
       "      <td>...</td>\n",
       "      <td>0</td>\n",
       "      <td>0</td>\n",
       "      <td>0</td>\n",
       "      <td>0</td>\n",
       "      <td>0</td>\n",
       "      <td>0</td>\n",
       "      <td>0</td>\n",
       "      <td>0</td>\n",
       "      <td>0</td>\n",
       "      <td>0</td>\n",
       "    </tr>\n",
       "    <tr>\n",
       "      <th>2</th>\n",
       "      <td>Mid-High</td>\n",
       "      <td>2012.00000</td>\n",
       "      <td>6.00000</td>\n",
       "      <td>188406.00000</td>\n",
       "      <td>0</td>\n",
       "      <td>0</td>\n",
       "      <td>0</td>\n",
       "      <td>0</td>\n",
       "      <td>0</td>\n",
       "      <td>0</td>\n",
       "      <td>...</td>\n",
       "      <td>0</td>\n",
       "      <td>0</td>\n",
       "      <td>0</td>\n",
       "      <td>0</td>\n",
       "      <td>0</td>\n",
       "      <td>0</td>\n",
       "      <td>0</td>\n",
       "      <td>0</td>\n",
       "      <td>0</td>\n",
       "      <td>0</td>\n",
       "    </tr>\n",
       "    <tr>\n",
       "      <th>3</th>\n",
       "      <td>Low</td>\n",
       "      <td>2010.00000</td>\n",
       "      <td>4.00000</td>\n",
       "      <td>108124.00000</td>\n",
       "      <td>0</td>\n",
       "      <td>0</td>\n",
       "      <td>0</td>\n",
       "      <td>0</td>\n",
       "      <td>0</td>\n",
       "      <td>0</td>\n",
       "      <td>...</td>\n",
       "      <td>0</td>\n",
       "      <td>0</td>\n",
       "      <td>0</td>\n",
       "      <td>0</td>\n",
       "      <td>0</td>\n",
       "      <td>0</td>\n",
       "      <td>0</td>\n",
       "      <td>0</td>\n",
       "      <td>0</td>\n",
       "      <td>0</td>\n",
       "    </tr>\n",
       "    <tr>\n",
       "      <th>4</th>\n",
       "      <td>Low</td>\n",
       "      <td>2011.00000</td>\n",
       "      <td>6.00000</td>\n",
       "      <td>178054.00000</td>\n",
       "      <td>0</td>\n",
       "      <td>0</td>\n",
       "      <td>0</td>\n",
       "      <td>0</td>\n",
       "      <td>0</td>\n",
       "      <td>0</td>\n",
       "      <td>...</td>\n",
       "      <td>0</td>\n",
       "      <td>0</td>\n",
       "      <td>0</td>\n",
       "      <td>0</td>\n",
       "      <td>0</td>\n",
       "      <td>0</td>\n",
       "      <td>0</td>\n",
       "      <td>0</td>\n",
       "      <td>0</td>\n",
       "      <td>0</td>\n",
       "    </tr>\n",
       "  </tbody>\n",
       "</table>\n",
       "<p>5 rows × 136 columns</p>\n",
       "</div>"
      ],
      "text/plain": [
       "  price_binned       year  cylinders     odometer  manufacturer_alfa-romeo  \\\n",
       "0     Mid-High 2003.00000    4.00000 243000.00000                        0   \n",
       "1     Mid-High 2007.00000    8.00000 254217.00000                        0   \n",
       "2     Mid-High 2012.00000    6.00000 188406.00000                        0   \n",
       "3          Low 2010.00000    4.00000 108124.00000                        0   \n",
       "4          Low 2011.00000    6.00000 178054.00000                        0   \n",
       "\n",
       "   manufacturer_aston-martin  manufacturer_audi  manufacturer_bmw  \\\n",
       "0                          0                  0                 0   \n",
       "1                          0                  0                 0   \n",
       "2                          0                  0                 0   \n",
       "3                          0                  0                 0   \n",
       "4                          0                  0                 0   \n",
       "\n",
       "   manufacturer_buick  manufacturer_cadillac  ...  state_sd  state_tn  \\\n",
       "0                   0                      0  ...         0         0   \n",
       "1                   0                      0  ...         0         0   \n",
       "2                   0                      0  ...         0         0   \n",
       "3                   0                      0  ...         0         0   \n",
       "4                   0                      0  ...         0         0   \n",
       "\n",
       "   state_tx  state_ut  state_va  state_vt  state_wa  state_wi  state_wv  \\\n",
       "0         0         0         0         0         0         0         0   \n",
       "1         0         0         0         0         0         0         0   \n",
       "2         0         0         0         0         0         0         0   \n",
       "3         0         0         0         0         0         0         0   \n",
       "4         0         0         0         0         0         0         0   \n",
       "\n",
       "   state_wy  \n",
       "0         0  \n",
       "1         0  \n",
       "2         0  \n",
       "3         0  \n",
       "4         0  \n",
       "\n",
       "[5 rows x 136 columns]"
      ]
     },
     "execution_count": 447,
     "metadata": {},
     "output_type": "execute_result"
    }
   ],
   "source": [
    "cars_price_binned = cars_linear_data.copy()\n",
    "cars_price_binned[\"price_binned\"] = binned_prediction\n",
    "cars_price_binned.drop(\"price\", axis = 1, inplace = True)\n",
    "cars_price_binned = cars_price_binned[[cars_price_binned.columns[-1]] + list(cars_price_binned.columns[0:-1])]\n",
    "cars_price_binned.head()"
   ]
  },
  {
   "cell_type": "markdown",
   "metadata": {},
   "source": [
    "## Model Building"
   ]
  },
  {
   "cell_type": "markdown",
   "metadata": {},
   "source": [
    "### Linear Regression"
   ]
  },
  {
   "cell_type": "code",
   "execution_count": 448,
   "metadata": {},
   "outputs": [
    {
     "name": "stdout",
     "output_type": "stream",
     "text": [
      "                            OLS Regression Results                            \n",
      "==============================================================================\n",
      "Dep. Variable:                  price   R-squared:                       0.399\n",
      "Model:                            OLS   Adj. R-squared:                  0.398\n",
      "Method:                 Least Squares   F-statistic:                     449.0\n",
      "Date:                Mon, 07 Dec 2020   Prob (F-statistic):               0.00\n",
      "Time:                        16:22:50   Log-Likelihood:            -9.5813e+05\n",
      "No. Observations:               91546   AIC:                         1.917e+06\n",
      "Df Residuals:                   91410   BIC:                         1.918e+06\n",
      "Df Model:                         135                                         \n",
      "Covariance Type:            nonrobust                                         \n",
      "================================================================================================\n",
      "                                   coef    std err          t      P>|t|      [0.025      0.975]\n",
      "------------------------------------------------------------------------------------------------\n",
      "const                        -3.651e+05   8164.871    -44.712      0.000   -3.81e+05   -3.49e+05\n",
      "year                           191.2155      4.030     47.447      0.000     183.317     199.114\n",
      "cylinders                     1009.8793     26.607     37.956      0.000     957.730    1062.028\n",
      "odometer                        -0.0170      0.000    -49.429      0.000      -0.018      -0.016\n",
      "manufacturer_alfa-romeo       5997.6818   1927.435      3.112      0.002    2219.929    9775.435\n",
      "manufacturer_aston-martin     1.957e+04   4265.164      4.587      0.000    1.12e+04    2.79e+04\n",
      "manufacturer_audi               89.3291    404.828      0.221      0.825    -704.130     882.789\n",
      "manufacturer_bmw             -1418.3699    341.049     -4.159      0.000   -2086.822    -749.918\n",
      "manufacturer_buick              81.9741    374.461      0.219      0.827    -651.965     815.914\n",
      "manufacturer_cadillac          887.9950    366.256      2.425      0.015     170.136    1605.854\n",
      "manufacturer_chevrolet         102.3520    299.589      0.342      0.733    -484.840     689.544\n",
      "manufacturer_chrysler        -2367.4905    353.030     -6.706      0.000   -3059.426   -1675.555\n",
      "manufacturer_datsun           5788.1499   1765.057      3.279      0.001    2328.655    9247.644\n",
      "manufacturer_dodge           -1012.9443    325.222     -3.115      0.002   -1650.376    -375.513\n",
      "manufacturer_ferrari          6.723e+04   2583.275     26.024      0.000    6.22e+04    7.23e+04\n",
      "manufacturer_fiat            -3592.0046    702.861     -5.111      0.000   -4969.605   -2214.404\n",
      "manufacturer_ford             -200.5376    298.894     -0.671      0.502    -786.368     385.292\n",
      "manufacturer_gmc               794.2434    327.274      2.427      0.015     152.790    1435.697\n",
      "manufacturer_harley-davidson -5805.8311   3024.835     -1.919      0.055   -1.17e+04     122.816\n",
      "manufacturer_honda            -665.5740    310.126     -2.146      0.032   -1273.418     -57.730\n",
      "manufacturer_hyundai          -961.1560    337.657     -2.847      0.004   -1622.961    -299.351\n",
      "manufacturer_infiniti         -760.1858    442.482     -1.718      0.086   -1627.446     107.074\n",
      "manufacturer_jaguar           -227.9915    613.680     -0.372      0.710   -1430.799     974.816\n",
      "manufacturer_jeep              212.3935    322.917      0.658      0.511    -420.521     845.308\n",
      "manufacturer_kia             -1038.4414    352.026     -2.950      0.003   -1728.409    -348.474\n",
      "manufacturer_land rover      -2023.2664   3227.850     -0.627      0.531   -8349.820    4303.287\n",
      "manufacturer_lexus             824.2246    376.626      2.188      0.029      86.042    1562.407\n",
      "manufacturer_lincoln          -991.6796    415.700     -2.386      0.017   -1806.447    -176.912\n",
      "manufacturer_mazda           -1786.9994    380.741     -4.693      0.000   -2533.248   -1040.751\n",
      "manufacturer_mercedes-benz     211.6478    354.534      0.597      0.551    -483.235     906.530\n",
      "manufacturer_mercury         -2752.5338    475.806     -5.785      0.000   -3685.109   -1819.958\n",
      "manufacturer_mini            -2351.0960    506.804     -4.639      0.000   -3344.426   -1357.766\n",
      "manufacturer_mitsubishi      -2431.9108    468.065     -5.196      0.000   -3349.313   -1514.508\n",
      "manufacturer_morgan           2.098e+04   8511.116      2.465      0.014    4300.815    3.77e+04\n",
      "manufacturer_nissan          -1395.7659    312.221     -4.470      0.000   -2007.717    -783.815\n",
      "manufacturer_pontiac         -1033.3406    398.088     -2.596      0.009   -1813.589    -253.092\n",
      "manufacturer_porche           1.602e+04   8507.462      1.883      0.060    -651.446    3.27e+04\n",
      "manufacturer_ram               648.6014    340.444      1.905      0.057     -18.665    1315.867\n",
      "manufacturer_rover            5307.0338    527.444     10.062      0.000    4273.249    6340.818\n",
      "manufacturer_saturn          -3181.3979    500.035     -6.362      0.000   -4161.461   -2201.334\n",
      "manufacturer_subaru          -1541.4390    348.235     -4.426      0.000   -2223.975    -858.903\n",
      "manufacturer_tesla            2.032e+04   8631.601      2.355      0.019    3406.159    3.72e+04\n",
      "manufacturer_toyota            717.3322    305.656      2.347      0.019     118.249    1316.415\n",
      "manufacturer_volkswagen      -1115.7602    343.031     -3.253      0.001   -1788.097    -443.423\n",
      "manufacturer_volvo           -1032.7218    431.049     -2.396      0.017   -1877.574    -187.869\n",
      "condition_fair               -7662.0821    148.205    -51.699      0.000   -7952.562   -7371.602\n",
      "condition_good               -2803.9090     64.803    -43.268      0.000   -2930.922   -2676.896\n",
      "condition_like new            3434.5211     94.881     36.198      0.000    3248.555    3620.487\n",
      "condition_new                 1.026e+04    409.658     25.040      0.000    9454.874    1.11e+04\n",
      "condition_salvage            -6766.4126    523.119    -12.935      0.000   -7791.720   -5741.105\n",
      "fuel_electric                -3811.7747   1447.520     -2.633      0.008   -6648.900    -974.649\n",
      "fuel_gas                     -5912.8030    137.468    -43.012      0.000   -6182.239   -5643.367\n",
      "fuel_hybrid                  -5718.6336    300.497    -19.031      0.000   -6307.604   -5129.663\n",
      "fuel_other                   -1534.3471    347.337     -4.417      0.000   -2215.124    -853.570\n",
      "title_status_lien             4699.5594    255.313     18.407      0.000    4199.148    5199.971\n",
      "title_status_missing          1834.6749    640.274      2.865      0.004     579.745    3089.605\n",
      "title_status_parts only      -2050.1608   1375.869     -1.490      0.136   -4746.850     646.528\n",
      "title_status_rebuilt          -775.5330    169.143     -4.585      0.000   -1107.052    -444.014\n",
      "title_status_salvage         -2009.3927    251.750     -7.982      0.000   -2502.819   -1515.966\n",
      "transmission_manual           1824.1146    111.571     16.349      0.000    1605.437    2042.792\n",
      "transmission_other            9590.1927    195.780     48.985      0.000    9206.466    9973.919\n",
      "drive_fwd                    -4359.6692     98.275    -44.362      0.000   -4552.288   -4167.051\n",
      "drive_rwd                    -1285.8517     94.612    -13.591      0.000   -1471.291   -1100.413\n",
      "type_bus                      6318.4169    822.702      7.680      0.000    4705.929    7930.905\n",
      "type_convertible              4564.5560    190.925     23.908      0.000    4190.344    4938.768\n",
      "type_coupe                    5312.8943    142.350     37.323      0.000    5033.890    5591.898\n",
      "type_hatchback                 350.0454    168.861      2.073      0.038      19.080     681.011\n",
      "type_mini-van                 1569.1675    191.691      8.186      0.000    1193.455    1944.880\n",
      "type_offroad                  5348.4723    451.658     11.842      0.000    4463.228    6233.717\n",
      "type_other                    4571.7919    262.457     17.419      0.000    4057.379    5086.204\n",
      "type_pickup                   3812.3077    127.771     29.837      0.000    3561.878    4062.738\n",
      "type_sedan                     180.3469     95.611      1.886      0.059      -7.049     367.743\n",
      "type_truck                    3744.6220    116.846     32.048      0.000    3515.605    3973.639\n",
      "type_van                      2437.6452    174.304     13.985      0.000    2096.012    2779.279\n",
      "type_wagon                     846.7712    182.804      4.632      0.000     488.477    1205.065\n",
      "paint_color_blue             -1327.4638    108.513    -12.233      0.000   -1540.148   -1114.780\n",
      "paint_color_brown            -1972.4299    182.103    -10.831      0.000   -2329.350   -1615.510\n",
      "paint_color_custom             140.4385    194.206      0.723      0.470    -240.202     521.079\n",
      "paint_color_green            -1978.2181    170.688    -11.590      0.000   -2312.765   -1643.671\n",
      "paint_color_grey              -863.8145    106.719     -8.094      0.000   -1072.983    -654.646\n",
      "paint_color_orange            3372.0083    367.363      9.179      0.000    2651.980    4092.036\n",
      "paint_color_purple            -165.6833    466.846     -0.355      0.723   -1080.696     749.329\n",
      "paint_color_red              -1028.4936    109.675     -9.378      0.000   -1243.455    -813.533\n",
      "paint_color_silver           -1848.4241     98.966    -18.677      0.000   -2042.396   -1654.452\n",
      "paint_color_white             -732.8436     90.876     -8.064      0.000    -910.959    -554.728\n",
      "paint_color_yellow             682.2319    321.040      2.125      0.034      52.996    1311.467\n",
      "state_al                      -847.3300    378.659     -2.238      0.025   -1589.498    -105.162\n",
      "state_ar                     -2386.8611    440.257     -5.422      0.000   -3249.760   -1523.963\n",
      "state_az                     -2447.5044    382.059     -6.406      0.000   -3196.335   -1698.673\n",
      "state_ca                     -1146.1824    316.997     -3.616      0.000   -1767.493    -524.872\n",
      "state_co                     -2326.5882    352.970     -6.591      0.000   -3018.407   -1634.770\n",
      "state_ct                     -3415.3721    382.052     -8.940      0.000   -4164.190   -2666.554\n",
      "state_dc                     -4035.3923    470.421     -8.578      0.000   -4957.412   -3113.373\n",
      "state_de                     -3475.9802    641.959     -5.415      0.000   -4734.213   -2217.748\n",
      "state_fl                     -1947.1188    319.185     -6.100      0.000   -2572.719   -1321.519\n",
      "state_ga                     -2740.5751    404.489     -6.775      0.000   -3533.370   -1947.780\n",
      "state_hi                      1250.3235    508.382      2.459      0.014     253.900    2246.747\n",
      "state_ia                     -2217.1990    341.780     -6.487      0.000   -2887.084   -1547.314\n",
      "state_id                     -1439.3886    380.980     -3.778      0.000   -2186.107    -692.671\n",
      "state_il                     -3068.0473    358.445     -8.559      0.000   -3770.596   -2365.499\n",
      "state_in                     -2134.0823    352.921     -6.047      0.000   -2825.804   -1442.361\n",
      "state_ks                     -3716.6390    383.493     -9.692      0.000   -4468.281   -2964.998\n",
      "state_ky                     -2657.8094    373.909     -7.108      0.000   -3390.666   -1924.952\n",
      "state_la                     -1858.7013    470.254     -3.953      0.000   -2780.394    -937.008\n",
      "state_ma                     -3349.5293    349.704     -9.578      0.000   -4034.946   -2664.113\n",
      "state_md                     -2540.8826    411.340     -6.177      0.000   -3347.105   -1734.660\n",
      "state_me                     -2975.4687    444.882     -6.688      0.000   -3847.432   -2103.505\n",
      "state_mi                      -907.4157    330.080     -2.749      0.006   -1554.370    -260.461\n",
      "state_mn                     -3656.7660    359.236    -10.179      0.000   -4360.865   -2952.667\n",
      "state_mo                     -2171.5904    386.082     -5.625      0.000   -2928.308   -1414.873\n",
      "state_ms                     -2786.6003    515.456     -5.406      0.000   -3796.890   -1776.311\n",
      "state_mt                     -1789.8709    395.709     -4.523      0.000   -2565.456   -1014.286\n",
      "state_nc                     -2619.1925    335.804     -7.800      0.000   -3277.366   -1961.019\n",
      "state_nd                     -2258.2185    616.674     -3.662      0.000   -3466.893   -1049.544\n",
      "state_ne                     -3064.6295    492.119     -6.227      0.000   -4029.177   -2100.082\n",
      "state_nh                     -2513.4724    447.627     -5.615      0.000   -3390.816   -1636.128\n",
      "state_nj                     -3789.9551    346.767    -10.929      0.000   -4469.615   -3110.295\n",
      "state_nm                     -2126.0805    412.502     -5.154      0.000   -2934.581   -1317.580\n",
      "state_nv                     -2067.0400    468.981     -4.408      0.000   -2986.239   -1147.841\n",
      "state_ny                     -2807.9959    321.629     -8.731      0.000   -3438.386   -2177.606\n",
      "state_oh                     -4708.7624    326.648    -14.415      0.000   -5348.989   -4068.536\n",
      "state_ok                     -2711.0236    370.443     -7.318      0.000   -3437.088   -1984.959\n",
      "state_or                     -2754.8602    347.893     -7.919      0.000   -3436.727   -2072.993\n",
      "state_pa                     -3588.4382    333.755    -10.752      0.000   -4242.595   -2934.281\n",
      "state_ri                     -3441.2356    439.729     -7.826      0.000   -4303.100   -2579.371\n",
      "state_sc                     -2211.2475    366.587     -6.032      0.000   -2929.754   -1492.740\n",
      "state_sd                     -1599.5282    538.881     -2.968      0.003   -2655.730    -543.327\n",
      "state_tn                     -1732.1810    348.045     -4.977      0.000   -2414.346   -1050.016\n",
      "state_tx                     -2396.4528    330.480     -7.251      0.000   -3044.191   -1748.714\n",
      "state_ut                      -751.2597    654.436     -1.148      0.251   -2033.948     531.428\n",
      "state_va                     -3419.0927    338.831    -10.091      0.000   -4083.197   -2754.988\n",
      "state_vt                     -1448.1860    395.904     -3.658      0.000   -2224.153    -672.219\n",
      "state_wa                     -1701.6337    393.850     -4.321      0.000   -2473.576    -929.692\n",
      "state_wi                     -1551.9772    329.663     -4.708      0.000   -2198.113    -905.841\n",
      "state_wv                     -2892.4744    748.804     -3.863      0.000   -4360.123   -1424.826\n",
      "state_wy                       416.8788    593.646      0.702      0.483    -746.662    1580.419\n",
      "==============================================================================\n",
      "Omnibus:                    80446.535   Durbin-Watson:                   1.884\n",
      "Prob(Omnibus):                  0.000   Jarque-Bera (JB):         10022381.200\n",
      "Skew:                           3.708   Prob(JB):                         0.00\n",
      "Kurtosis:                      53.720   Cond. No.                     5.08e+07\n",
      "==============================================================================\n",
      "\n",
      "Notes:\n",
      "[1] Standard Errors assume that the covariance matrix of the errors is correctly specified.\n",
      "[2] The condition number is large, 5.08e+07. This might indicate that there are\n",
      "strong multicollinearity or other numerical problems.\n"
     ]
    }
   ],
   "source": [
    "X_linear = cars_linear_data.iloc[:, 1:]\n",
    "y_linear = cars_linear_data[\"price\"]\n",
    "\n",
    "X_with_constant = sm.add_constant(X_linear)\n",
    "est = sm.OLS(y_linear, X_with_constant)\n",
    "est2 = est.fit()\n",
    "print(est2.summary())"
   ]
  },
  {
   "cell_type": "code",
   "execution_count": 350,
   "metadata": {},
   "outputs": [],
   "source": [
    "X = cars_price_binned.iloc[:, 1:]\n",
    "y = cars_price_binned.iloc[:, 0]"
   ]
  },
  {
   "cell_type": "code",
   "execution_count": 351,
   "metadata": {},
   "outputs": [],
   "source": [
    "X_train, X_test, y_train, y_test = train_test_split(X, y, test_size = 0.33, random_state = 212)"
   ]
  },
  {
   "cell_type": "markdown",
   "metadata": {},
   "source": [
    "### Naive Bayes"
   ]
  },
  {
   "cell_type": "code",
   "execution_count": 352,
   "metadata": {},
   "outputs": [
    {
     "name": "stdout",
     "output_type": "stream",
     "text": [
      "BernoulliNB()\n",
      "0.4499023534474198\n"
     ]
    }
   ],
   "source": [
    "#Bernoulli Naive Bayes\n",
    "BNB = BernoulliNB()\n",
    "\n",
    "BNB.fit(X_train, y_train)\n",
    "print(BNB)\n",
    "\n",
    "y_pred = BNB.predict(X_test)\n",
    "print(accuracy_score(y_test, y_pred))"
   ]
  },
  {
   "cell_type": "code",
   "execution_count": 353,
   "metadata": {},
   "outputs": [
    {
     "data": {
      "text/plain": [
       "0.4489874228072904"
      ]
     },
     "execution_count": 353,
     "metadata": {},
     "output_type": "execute_result"
    }
   ],
   "source": [
    "cross_val_score(BNB, X, y, cv = 10).mean()"
   ]
  },
  {
   "cell_type": "markdown",
   "metadata": {},
   "source": [
    "### Random Forest"
   ]
  },
  {
   "cell_type": "code",
   "execution_count": 354,
   "metadata": {},
   "outputs": [
    {
     "data": {
      "text/plain": [
       "RandomForestClassifier()"
      ]
     },
     "execution_count": 354,
     "metadata": {},
     "output_type": "execute_result"
    }
   ],
   "source": [
    "model = RandomForestClassifier()\n",
    "model.fit(X_train, y_train)"
   ]
  },
  {
   "cell_type": "code",
   "execution_count": 355,
   "metadata": {},
   "outputs": [
    {
     "data": {
      "text/plain": [
       "0.8008672337890173"
      ]
     },
     "execution_count": 355,
     "metadata": {},
     "output_type": "execute_result"
    }
   ],
   "source": [
    "model.score(X_test, y_test)"
   ]
  },
  {
   "cell_type": "code",
   "execution_count": 356,
   "metadata": {},
   "outputs": [
    {
     "data": {
      "text/plain": [
       "0.8016517047278995"
      ]
     },
     "execution_count": 356,
     "metadata": {},
     "output_type": "execute_result"
    }
   ],
   "source": [
    "cross_val_score(RandomForestClassifier(), X, y, cv = 10).mean()"
   ]
  },
  {
   "cell_type": "markdown",
   "metadata": {},
   "source": [
    "## Feature Selection"
   ]
  },
  {
   "cell_type": "code",
   "execution_count": 357,
   "metadata": {},
   "outputs": [],
   "source": [
    "mutual_info = mutual_info_classif\n",
    "info = mutual_info(X_train, y_train)\n",
    "info_dict = dict(list(enumerate(info)))\n",
    "values = sorted(info_dict.values(), reverse = True)"
   ]
  },
  {
   "cell_type": "code",
   "execution_count": 358,
   "metadata": {},
   "outputs": [
    {
     "data": {
      "text/html": [
       "<div>\n",
       "<style scoped>\n",
       "    .dataframe tbody tr th:only-of-type {\n",
       "        vertical-align: middle;\n",
       "    }\n",
       "\n",
       "    .dataframe tbody tr th {\n",
       "        vertical-align: top;\n",
       "    }\n",
       "\n",
       "    .dataframe thead th {\n",
       "        text-align: right;\n",
       "    }\n",
       "</style>\n",
       "<table border=\"1\" class=\"dataframe\">\n",
       "  <thead>\n",
       "    <tr style=\"text-align: right;\">\n",
       "      <th></th>\n",
       "      <th>variable</th>\n",
       "      <th>info_gain</th>\n",
       "    </tr>\n",
       "  </thead>\n",
       "  <tbody>\n",
       "    <tr>\n",
       "      <th>2</th>\n",
       "      <td>odometer</td>\n",
       "      <td>0.36410</td>\n",
       "    </tr>\n",
       "    <tr>\n",
       "      <th>0</th>\n",
       "      <td>year</td>\n",
       "      <td>0.28130</td>\n",
       "    </tr>\n",
       "    <tr>\n",
       "      <th>60</th>\n",
       "      <td>drive_fwd</td>\n",
       "      <td>0.06167</td>\n",
       "    </tr>\n",
       "    <tr>\n",
       "      <th>1</th>\n",
       "      <td>cylinders</td>\n",
       "      <td>0.04496</td>\n",
       "    </tr>\n",
       "    <tr>\n",
       "      <th>44</th>\n",
       "      <td>condition_fair</td>\n",
       "      <td>0.04108</td>\n",
       "    </tr>\n",
       "    <tr>\n",
       "      <th>70</th>\n",
       "      <td>type_sedan</td>\n",
       "      <td>0.03500</td>\n",
       "    </tr>\n",
       "    <tr>\n",
       "      <th>59</th>\n",
       "      <td>transmission_other</td>\n",
       "      <td>0.02267</td>\n",
       "    </tr>\n",
       "    <tr>\n",
       "      <th>71</th>\n",
       "      <td>type_truck</td>\n",
       "      <td>0.02149</td>\n",
       "    </tr>\n",
       "    <tr>\n",
       "      <th>50</th>\n",
       "      <td>fuel_gas</td>\n",
       "      <td>0.01889</td>\n",
       "    </tr>\n",
       "    <tr>\n",
       "      <th>45</th>\n",
       "      <td>condition_good</td>\n",
       "      <td>0.01479</td>\n",
       "    </tr>\n",
       "  </tbody>\n",
       "</table>\n",
       "</div>"
      ],
      "text/plain": [
       "              variable  info_gain\n",
       "2             odometer    0.36410\n",
       "0                 year    0.28130\n",
       "60           drive_fwd    0.06167\n",
       "1            cylinders    0.04496\n",
       "44      condition_fair    0.04108\n",
       "70          type_sedan    0.03500\n",
       "59  transmission_other    0.02267\n",
       "71          type_truck    0.02149\n",
       "50            fuel_gas    0.01889\n",
       "45      condition_good    0.01479"
      ]
     },
     "execution_count": 358,
     "metadata": {},
     "output_type": "execute_result"
    }
   ],
   "source": [
    "info_gain = pd.DataFrame(info_dict, index = [0]).transpose()\n",
    "info_gain.columns = [\"info_gain\"]\n",
    "info_gain[\"variable\"] = list(X.columns)\n",
    "info_gain = info_gain.iloc[:, [-1,0]].sort_values(by = \"info_gain\", ascending = False)\n",
    "info_gain.head(10)"
   ]
  },
  {
   "cell_type": "markdown",
   "metadata": {},
   "source": [
    "There are 12 variables which have an information gain over 0.01. Let's reduce the number of variables and only use those to test our models."
   ]
  },
  {
   "cell_type": "code",
   "execution_count": 359,
   "metadata": {},
   "outputs": [],
   "source": [
    "top_12 = list(info_gain[0:12].index)"
   ]
  },
  {
   "cell_type": "code",
   "execution_count": 360,
   "metadata": {},
   "outputs": [],
   "source": [
    "X_cut = cars_price_binned.iloc[:, 1:].iloc[:, top_12]\n",
    "y = cars_price_binned.iloc[:, 0]"
   ]
  },
  {
   "cell_type": "code",
   "execution_count": 361,
   "metadata": {},
   "outputs": [
    {
     "data": {
      "text/html": [
       "<div>\n",
       "<style scoped>\n",
       "    .dataframe tbody tr th:only-of-type {\n",
       "        vertical-align: middle;\n",
       "    }\n",
       "\n",
       "    .dataframe tbody tr th {\n",
       "        vertical-align: top;\n",
       "    }\n",
       "\n",
       "    .dataframe thead th {\n",
       "        text-align: right;\n",
       "    }\n",
       "</style>\n",
       "<table border=\"1\" class=\"dataframe\">\n",
       "  <thead>\n",
       "    <tr style=\"text-align: right;\">\n",
       "      <th></th>\n",
       "      <th>odometer</th>\n",
       "      <th>year</th>\n",
       "      <th>drive_fwd</th>\n",
       "      <th>cylinders</th>\n",
       "      <th>condition_fair</th>\n",
       "      <th>type_sedan</th>\n",
       "      <th>transmission_other</th>\n",
       "      <th>type_truck</th>\n",
       "      <th>fuel_gas</th>\n",
       "      <th>condition_good</th>\n",
       "      <th>paint_color_white</th>\n",
       "      <th>type_pickup</th>\n",
       "    </tr>\n",
       "  </thead>\n",
       "  <tbody>\n",
       "    <tr>\n",
       "      <th>0</th>\n",
       "      <td>243000.00000</td>\n",
       "      <td>2003.00000</td>\n",
       "      <td>0</td>\n",
       "      <td>4.00000</td>\n",
       "      <td>0</td>\n",
       "      <td>1</td>\n",
       "      <td>0</td>\n",
       "      <td>0</td>\n",
       "      <td>1</td>\n",
       "      <td>1</td>\n",
       "      <td>0</td>\n",
       "      <td>0</td>\n",
       "    </tr>\n",
       "    <tr>\n",
       "      <th>1</th>\n",
       "      <td>254217.00000</td>\n",
       "      <td>2007.00000</td>\n",
       "      <td>0</td>\n",
       "      <td>8.00000</td>\n",
       "      <td>0</td>\n",
       "      <td>0</td>\n",
       "      <td>0</td>\n",
       "      <td>1</td>\n",
       "      <td>0</td>\n",
       "      <td>1</td>\n",
       "      <td>1</td>\n",
       "      <td>0</td>\n",
       "    </tr>\n",
       "    <tr>\n",
       "      <th>2</th>\n",
       "      <td>188406.00000</td>\n",
       "      <td>2012.00000</td>\n",
       "      <td>0</td>\n",
       "      <td>6.00000</td>\n",
       "      <td>0</td>\n",
       "      <td>0</td>\n",
       "      <td>0</td>\n",
       "      <td>1</td>\n",
       "      <td>1</td>\n",
       "      <td>1</td>\n",
       "      <td>0</td>\n",
       "      <td>0</td>\n",
       "    </tr>\n",
       "    <tr>\n",
       "      <th>3</th>\n",
       "      <td>108124.00000</td>\n",
       "      <td>2010.00000</td>\n",
       "      <td>0</td>\n",
       "      <td>4.00000</td>\n",
       "      <td>0</td>\n",
       "      <td>0</td>\n",
       "      <td>0</td>\n",
       "      <td>0</td>\n",
       "      <td>1</td>\n",
       "      <td>1</td>\n",
       "      <td>0</td>\n",
       "      <td>0</td>\n",
       "    </tr>\n",
       "    <tr>\n",
       "      <th>4</th>\n",
       "      <td>178054.00000</td>\n",
       "      <td>2011.00000</td>\n",
       "      <td>0</td>\n",
       "      <td>6.00000</td>\n",
       "      <td>0</td>\n",
       "      <td>0</td>\n",
       "      <td>0</td>\n",
       "      <td>0</td>\n",
       "      <td>1</td>\n",
       "      <td>1</td>\n",
       "      <td>1</td>\n",
       "      <td>0</td>\n",
       "    </tr>\n",
       "    <tr>\n",
       "      <th>...</th>\n",
       "      <td>...</td>\n",
       "      <td>...</td>\n",
       "      <td>...</td>\n",
       "      <td>...</td>\n",
       "      <td>...</td>\n",
       "      <td>...</td>\n",
       "      <td>...</td>\n",
       "      <td>...</td>\n",
       "      <td>...</td>\n",
       "      <td>...</td>\n",
       "      <td>...</td>\n",
       "      <td>...</td>\n",
       "    </tr>\n",
       "    <tr>\n",
       "      <th>91541</th>\n",
       "      <td>82000.00000</td>\n",
       "      <td>2012.00000</td>\n",
       "      <td>0</td>\n",
       "      <td>4.00000</td>\n",
       "      <td>0</td>\n",
       "      <td>0</td>\n",
       "      <td>0</td>\n",
       "      <td>0</td>\n",
       "      <td>1</td>\n",
       "      <td>0</td>\n",
       "      <td>0</td>\n",
       "      <td>0</td>\n",
       "    </tr>\n",
       "    <tr>\n",
       "      <th>91542</th>\n",
       "      <td>40000.00000</td>\n",
       "      <td>2002.00000</td>\n",
       "      <td>1</td>\n",
       "      <td>4.00000</td>\n",
       "      <td>0</td>\n",
       "      <td>0</td>\n",
       "      <td>0</td>\n",
       "      <td>0</td>\n",
       "      <td>1</td>\n",
       "      <td>0</td>\n",
       "      <td>0</td>\n",
       "      <td>0</td>\n",
       "    </tr>\n",
       "    <tr>\n",
       "      <th>91543</th>\n",
       "      <td>58000.00000</td>\n",
       "      <td>2002.00000</td>\n",
       "      <td>0</td>\n",
       "      <td>6.00000</td>\n",
       "      <td>0</td>\n",
       "      <td>0</td>\n",
       "      <td>0</td>\n",
       "      <td>0</td>\n",
       "      <td>1</td>\n",
       "      <td>1</td>\n",
       "      <td>0</td>\n",
       "      <td>0</td>\n",
       "    </tr>\n",
       "    <tr>\n",
       "      <th>91544</th>\n",
       "      <td>159980.00000</td>\n",
       "      <td>2006.00000</td>\n",
       "      <td>1</td>\n",
       "      <td>6.00000</td>\n",
       "      <td>1</td>\n",
       "      <td>1</td>\n",
       "      <td>0</td>\n",
       "      <td>0</td>\n",
       "      <td>1</td>\n",
       "      <td>0</td>\n",
       "      <td>0</td>\n",
       "      <td>0</td>\n",
       "    </tr>\n",
       "    <tr>\n",
       "      <th>91545</th>\n",
       "      <td>160000.00000</td>\n",
       "      <td>2003.00000</td>\n",
       "      <td>0</td>\n",
       "      <td>8.00000</td>\n",
       "      <td>0</td>\n",
       "      <td>0</td>\n",
       "      <td>0</td>\n",
       "      <td>0</td>\n",
       "      <td>1</td>\n",
       "      <td>0</td>\n",
       "      <td>0</td>\n",
       "      <td>0</td>\n",
       "    </tr>\n",
       "  </tbody>\n",
       "</table>\n",
       "<p>91546 rows × 12 columns</p>\n",
       "</div>"
      ],
      "text/plain": [
       "          odometer       year  drive_fwd  cylinders  condition_fair  \\\n",
       "0     243000.00000 2003.00000          0    4.00000               0   \n",
       "1     254217.00000 2007.00000          0    8.00000               0   \n",
       "2     188406.00000 2012.00000          0    6.00000               0   \n",
       "3     108124.00000 2010.00000          0    4.00000               0   \n",
       "4     178054.00000 2011.00000          0    6.00000               0   \n",
       "...            ...        ...        ...        ...             ...   \n",
       "91541  82000.00000 2012.00000          0    4.00000               0   \n",
       "91542  40000.00000 2002.00000          1    4.00000               0   \n",
       "91543  58000.00000 2002.00000          0    6.00000               0   \n",
       "91544 159980.00000 2006.00000          1    6.00000               1   \n",
       "91545 160000.00000 2003.00000          0    8.00000               0   \n",
       "\n",
       "       type_sedan  transmission_other  type_truck  fuel_gas  condition_good  \\\n",
       "0               1                   0           0         1               1   \n",
       "1               0                   0           1         0               1   \n",
       "2               0                   0           1         1               1   \n",
       "3               0                   0           0         1               1   \n",
       "4               0                   0           0         1               1   \n",
       "...           ...                 ...         ...       ...             ...   \n",
       "91541           0                   0           0         1               0   \n",
       "91542           0                   0           0         1               0   \n",
       "91543           0                   0           0         1               1   \n",
       "91544           1                   0           0         1               0   \n",
       "91545           0                   0           0         1               0   \n",
       "\n",
       "       paint_color_white  type_pickup  \n",
       "0                      0            0  \n",
       "1                      1            0  \n",
       "2                      0            0  \n",
       "3                      0            0  \n",
       "4                      1            0  \n",
       "...                  ...          ...  \n",
       "91541                  0            0  \n",
       "91542                  0            0  \n",
       "91543                  0            0  \n",
       "91544                  0            0  \n",
       "91545                  0            0  \n",
       "\n",
       "[91546 rows x 12 columns]"
      ]
     },
     "execution_count": 361,
     "metadata": {},
     "output_type": "execute_result"
    }
   ],
   "source": [
    "X_cut"
   ]
  },
  {
   "cell_type": "code",
   "execution_count": 362,
   "metadata": {},
   "outputs": [],
   "source": [
    "X_train, X_test, y_train, y_test = train_test_split(X_cut, y, test_size = 0.33, random_state = 212)"
   ]
  },
  {
   "cell_type": "markdown",
   "metadata": {},
   "source": [
    "### Naive Bayes"
   ]
  },
  {
   "cell_type": "code",
   "execution_count": 363,
   "metadata": {},
   "outputs": [
    {
     "name": "stdout",
     "output_type": "stream",
     "text": [
      "BernoulliNB()\n",
      "0.42328953030353184\n"
     ]
    }
   ],
   "source": [
    "#Bernoulli Naive Bayes\n",
    "BNB = BernoulliNB()\n",
    "\n",
    "BNB.fit(X_train, y_train)\n",
    "print(BNB)\n",
    "\n",
    "y_pred = BNB.predict(X_test)\n",
    "print(accuracy_score(y_test, y_pred))"
   ]
  },
  {
   "cell_type": "code",
   "execution_count": 364,
   "metadata": {},
   "outputs": [
    {
     "data": {
      "text/plain": [
       "0.4251850829194055"
      ]
     },
     "execution_count": 364,
     "metadata": {},
     "output_type": "execute_result"
    }
   ],
   "source": [
    "cross_val_score(BNB, X_cut, y, cv = 10).mean()"
   ]
  },
  {
   "cell_type": "markdown",
   "metadata": {},
   "source": [
    "### Random Forest"
   ]
  },
  {
   "cell_type": "code",
   "execution_count": 365,
   "metadata": {},
   "outputs": [
    {
     "data": {
      "text/plain": [
       "RandomForestClassifier()"
      ]
     },
     "execution_count": 365,
     "metadata": {},
     "output_type": "execute_result"
    }
   ],
   "source": [
    "model = RandomForestClassifier()\n",
    "model.fit(X_train, y_train)"
   ]
  },
  {
   "cell_type": "code",
   "execution_count": 366,
   "metadata": {},
   "outputs": [
    {
     "data": {
      "text/plain": [
       "0.7311244248783556"
      ]
     },
     "execution_count": 366,
     "metadata": {},
     "output_type": "execute_result"
    }
   ],
   "source": [
    "model.score(X_test, y_test)"
   ]
  },
  {
   "cell_type": "code",
   "execution_count": 367,
   "metadata": {},
   "outputs": [
    {
     "data": {
      "text/plain": [
       "0.7305945084098335"
      ]
     },
     "execution_count": 367,
     "metadata": {},
     "output_type": "execute_result"
    }
   ],
   "source": [
    "cross_val_score(RandomForestClassifier(), X_cut, y, cv = 10).mean()"
   ]
  },
  {
   "cell_type": "markdown",
   "metadata": {},
   "source": [
    "## Plots Based on Analysis"
   ]
  },
  {
   "cell_type": "code",
   "execution_count": 370,
   "metadata": {},
   "outputs": [
    {
     "data": {
      "text/plain": [
       "Text(0.5, 1.0, 'Scatterplot of Price and Odometer Colored by Nationality')"
      ]
     },
     "execution_count": 370,
     "metadata": {},
     "output_type": "execute_result"
    },
    {
     "data": {
      "image/png": "[encoded data removed]",
      "text/plain": [
       "<Figure size 576x432 with 1 Axes>"
      ]
     },
     "metadata": {
      "needs_background": "light"
     },
     "output_type": "display_data"
    }
   ],
   "source": [
    "plt.figure(figsize = (8, 6))\n",
    "plt.ticklabel_format(style = \"plain\")\n",
    "plt.scatter(cars_linear_data[\"odometer\"], cars_linear_data[\"price\"], c = categorical[\"nationality_colors\"])\n",
    "plt.xlabel(\"Odometer\")\n",
    "plt.ylabel(\"Price\")\n",
    "plt.title(\"Scatterplot of Price and Odometer Colored by Nationality\")"
   ]
  },
  {
   "cell_type": "code",
   "execution_count": 372,
   "metadata": {},
   "outputs": [
    {
     "data": {
      "text/plain": [
       "Text(0.5, 1.0, 'Scatterplot of Price and Year Colored by Nationality')"
      ]
     },
     "execution_count": 372,
     "metadata": {},
     "output_type": "execute_result"
    },
    {
     "data": {
      "image/png": "[encoded data removed]",
      "text/plain": [
       "<Figure size 576x432 with 1 Axes>"
      ]
     },
     "metadata": {
      "needs_background": "light"
     },
     "output_type": "display_data"
    }
   ],
   "source": [
    "plt.figure(figsize = (8, 6))\n",
    "plt.ticklabel_format(style = \"plain\")\n",
    "plt.scatter(cars_linear_data[\"year\"], cars_linear_data[\"price\"], c = categorical[\"nationality_colors\"])\n",
    "plt.xlabel(\"Year\")\n",
    "plt.ylabel(\"Price\")\n",
    "plt.title(\"Scatterplot of Price and Year Colored by Nationality\")"
   ]
  },
  {
   "cell_type": "code",
   "execution_count": 374,
   "metadata": {},
   "outputs": [
    {
     "data": {
      "image/png": "[encoded data removed]",
      "text/plain": [
       "<Figure size 432x288 with 1 Axes>"
      ]
     },
     "metadata": {
      "needs_background": "light"
     },
     "output_type": "display_data"
    }
   ],
   "source": [
    "#import statsmodels.api as sm\n",
    "#import numpy as np\n",
    "#import matplotlib.pyplot as plt\n",
    "\n",
    "#X = np.random.rand(100)\n",
    "#Y = X + np.random.rand(100)*0.1\n",
    "#cars_linear_data[\"odometer\"], cars_linear_data[\"price\"]\n",
    "results = sm.OLS(cars_linear_data[\"price\"],sm.add_constant(cars_linear_data[\"odometer\"])).fit()\n",
    "\n",
    "#print results.summary()\n",
    "\n",
    "plt.scatter(cars_linear_data[\"odometer\"], cars_linear_data[\"price\"])\n",
    "\n",
    "X_plot = np.linspace(0,1,100)\n",
    "plt.plot(X_plot, X_plot*results.params[0] + results.params[1])\n",
    "\n",
    "plt.show()"
   ]
  },
  {
   "cell_type": "code",
   "execution_count": null,
   "metadata": {},
   "outputs": [],
   "source": []
  }
 ],
 "metadata": {
  "kernelspec": {
   "display_name": "Python 3",
   "language": "python",
   "name": "python3"
  },
  "language_info": {
   "codemirror_mode": {
    "name": "ipython",
    "version": 3
   },
   "file_extension": ".py",
   "mimetype": "text/x-python",
   "name": "python",
   "nbconvert_exporter": "python",
   "pygments_lexer": "ipython3",
   "version": "3.8.5"
  }
 },
 "nbformat": 4,
 "nbformat_minor": 4
}
