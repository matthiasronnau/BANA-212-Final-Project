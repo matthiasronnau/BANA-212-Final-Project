{
 "cells": [
  {
   "cell_type": "markdown",
   "metadata": {},
   "source": [
    "# BANA-273 Term Project\n",
    "### Group 22: William Leonard, Susan Mikhail, Matthias Ronnau, Lokesh Nandni Sood, Parsa Tahmasebi"
   ]
  },
  {
   "cell_type": "markdown",
   "metadata": {},
   "source": [
    "## Import Packages and Read in the Data"
   ]
  },
  {
   "cell_type": "code",
   "execution_count": 1,
   "metadata": {},
   "outputs": [],
   "source": [
    "#Import packages\n",
    "import numpy as np\n",
    "import pandas as pd\n",
    "import re\n",
    "import matplotlib.pyplot as plt\n",
    "import matplotlib.patches as mpatches\n",
    "import seaborn as sns\n",
    "import statsmodels.api as sm\n",
    "import sklearn\n",
    "from sklearn import linear_model\n",
    "#from sklearn.linear_model import LassoCV\n",
    "from sklearn.model_selection import train_test_split\n",
    "from sklearn.model_selection import cross_val_score\n",
    "from sklearn.naive_bayes import BernoulliNB\n",
    "from sklearn.ensemble import RandomForestClassifier\n",
    "from sklearn.metrics import accuracy_score\n",
    "from sklearn.feature_selection import mutual_info_classif\n",
    "\n",
    "pd.set_option('display.float_format', lambda x: '%.5f' % x)"
   ]
  },
  {
   "cell_type": "code",
   "execution_count": 2,
   "metadata": {},
   "outputs": [],
   "source": [
    "#Read in the data\n",
    "vehicles = pd.read_csv(\"vehicles.csv\")"
   ]
  },
  {
   "cell_type": "code",
   "execution_count": 3,
   "metadata": {},
   "outputs": [
    {
     "data": {
      "text/html": [
       "<div>\n",
       "<style scoped>\n",
       "    .dataframe tbody tr th:only-of-type {\n",
       "        vertical-align: middle;\n",
       "    }\n",
       "\n",
       "    .dataframe tbody tr th {\n",
       "        vertical-align: top;\n",
       "    }\n",
       "\n",
       "    .dataframe thead th {\n",
       "        text-align: right;\n",
       "    }\n",
       "</style>\n",
       "<table border=\"1\" class=\"dataframe\">\n",
       "  <thead>\n",
       "    <tr style=\"text-align: right;\">\n",
       "      <th></th>\n",
       "      <th>id</th>\n",
       "      <th>url</th>\n",
       "      <th>region</th>\n",
       "      <th>region_url</th>\n",
       "      <th>price</th>\n",
       "      <th>year</th>\n",
       "      <th>manufacturer</th>\n",
       "      <th>model</th>\n",
       "      <th>condition</th>\n",
       "      <th>cylinders</th>\n",
       "      <th>...</th>\n",
       "      <th>drive</th>\n",
       "      <th>size</th>\n",
       "      <th>type</th>\n",
       "      <th>paint_color</th>\n",
       "      <th>image_url</th>\n",
       "      <th>description</th>\n",
       "      <th>county</th>\n",
       "      <th>state</th>\n",
       "      <th>lat</th>\n",
       "      <th>long</th>\n",
       "    </tr>\n",
       "  </thead>\n",
       "  <tbody>\n",
       "    <tr>\n",
       "      <th>0</th>\n",
       "      <td>7184791621</td>\n",
       "      <td>https://duluth.craigslist.org/ctd/d/duluth-200...</td>\n",
       "      <td>duluth / superior</td>\n",
       "      <td>https://duluth.craigslist.org</td>\n",
       "      <td>6995</td>\n",
       "      <td>2000.00000</td>\n",
       "      <td>gmc</td>\n",
       "      <td>new sierra 1500</td>\n",
       "      <td>excellent</td>\n",
       "      <td>8 cylinders</td>\n",
       "      <td>...</td>\n",
       "      <td>4wd</td>\n",
       "      <td>NaN</td>\n",
       "      <td>NaN</td>\n",
       "      <td>red</td>\n",
       "      <td>https://images.craigslist.org/00n0n_f06ykBMcdh...</td>\n",
       "      <td>2000 *** GMC New Sierra 1500 Ext Cab 157.5  WB...</td>\n",
       "      <td>nan</td>\n",
       "      <td>mn</td>\n",
       "      <td>46.84330</td>\n",
       "      <td>-92.25500</td>\n",
       "    </tr>\n",
       "    <tr>\n",
       "      <th>1</th>\n",
       "      <td>7184773187</td>\n",
       "      <td>https://duluth.craigslist.org/cto/d/saginaw-20...</td>\n",
       "      <td>duluth / superior</td>\n",
       "      <td>https://duluth.craigslist.org</td>\n",
       "      <td>8750</td>\n",
       "      <td>2013.00000</td>\n",
       "      <td>hyundai</td>\n",
       "      <td>sonata</td>\n",
       "      <td>excellent</td>\n",
       "      <td>4 cylinders</td>\n",
       "      <td>...</td>\n",
       "      <td>fwd</td>\n",
       "      <td>NaN</td>\n",
       "      <td>NaN</td>\n",
       "      <td>grey</td>\n",
       "      <td>https://images.craigslist.org/00d0d_kgZ6xoeRw2...</td>\n",
       "      <td>For Sale:  2013 Hyundai Sonata GLS - $8750.  O...</td>\n",
       "      <td>nan</td>\n",
       "      <td>mn</td>\n",
       "      <td>46.90740</td>\n",
       "      <td>-92.46380</td>\n",
       "    </tr>\n",
       "    <tr>\n",
       "      <th>2</th>\n",
       "      <td>7193375964</td>\n",
       "      <td>https://newhaven.craigslist.org/cto/d/stratfor...</td>\n",
       "      <td>new haven</td>\n",
       "      <td>https://newhaven.craigslist.org</td>\n",
       "      <td>10900</td>\n",
       "      <td>2013.00000</td>\n",
       "      <td>toyota</td>\n",
       "      <td>prius</td>\n",
       "      <td>good</td>\n",
       "      <td>4 cylinders</td>\n",
       "      <td>...</td>\n",
       "      <td>fwd</td>\n",
       "      <td>NaN</td>\n",
       "      <td>NaN</td>\n",
       "      <td>blue</td>\n",
       "      <td>https://images.craigslist.org/00d0d_3sHGxPbY2O...</td>\n",
       "      <td>2013 Prius V Model Two. One owner—must sell my...</td>\n",
       "      <td>nan</td>\n",
       "      <td>ct</td>\n",
       "      <td>41.17700</td>\n",
       "      <td>-73.13360</td>\n",
       "    </tr>\n",
       "    <tr>\n",
       "      <th>3</th>\n",
       "      <td>7195108810</td>\n",
       "      <td>https://albuquerque.craigslist.org/cto/d/albuq...</td>\n",
       "      <td>albuquerque</td>\n",
       "      <td>https://albuquerque.craigslist.org</td>\n",
       "      <td>12500</td>\n",
       "      <td>2003.00000</td>\n",
       "      <td>mitsubishi</td>\n",
       "      <td>lancer</td>\n",
       "      <td>good</td>\n",
       "      <td>4 cylinders</td>\n",
       "      <td>...</td>\n",
       "      <td>4wd</td>\n",
       "      <td>mid-size</td>\n",
       "      <td>sedan</td>\n",
       "      <td>grey</td>\n",
       "      <td>https://images.craigslist.org/00m0m_4a8Pb6JbMG...</td>\n",
       "      <td>2003 Mitsubishi Lancer Evolution, silver.  Abo...</td>\n",
       "      <td>nan</td>\n",
       "      <td>nm</td>\n",
       "      <td>35.18680</td>\n",
       "      <td>-106.66500</td>\n",
       "    </tr>\n",
       "    <tr>\n",
       "      <th>4</th>\n",
       "      <td>7184712241</td>\n",
       "      <td>https://duluth.craigslist.org/ctd/d/rush-city-...</td>\n",
       "      <td>duluth / superior</td>\n",
       "      <td>https://duluth.craigslist.org</td>\n",
       "      <td>16995</td>\n",
       "      <td>2007.00000</td>\n",
       "      <td>gmc</td>\n",
       "      <td>sierra classic 2500hd</td>\n",
       "      <td>good</td>\n",
       "      <td>8 cylinders</td>\n",
       "      <td>...</td>\n",
       "      <td>4wd</td>\n",
       "      <td>full-size</td>\n",
       "      <td>truck</td>\n",
       "      <td>white</td>\n",
       "      <td>https://images.craigslist.org/01414_g093aPtSMW...</td>\n",
       "      <td>**Bad Credit, No Credit... No Problem!**2007 G...</td>\n",
       "      <td>nan</td>\n",
       "      <td>mn</td>\n",
       "      <td>45.68360</td>\n",
       "      <td>-92.96480</td>\n",
       "    </tr>\n",
       "  </tbody>\n",
       "</table>\n",
       "<p>5 rows × 25 columns</p>\n",
       "</div>"
      ],
      "text/plain": [
       "           id                                                url  \\\n",
       "0  7184791621  https://duluth.craigslist.org/ctd/d/duluth-200...   \n",
       "1  7184773187  https://duluth.craigslist.org/cto/d/saginaw-20...   \n",
       "2  7193375964  https://newhaven.craigslist.org/cto/d/stratfor...   \n",
       "3  7195108810  https://albuquerque.craigslist.org/cto/d/albuq...   \n",
       "4  7184712241  https://duluth.craigslist.org/ctd/d/rush-city-...   \n",
       "\n",
       "              region                          region_url  price       year  \\\n",
       "0  duluth / superior       https://duluth.craigslist.org   6995 2000.00000   \n",
       "1  duluth / superior       https://duluth.craigslist.org   8750 2013.00000   \n",
       "2          new haven     https://newhaven.craigslist.org  10900 2013.00000   \n",
       "3        albuquerque  https://albuquerque.craigslist.org  12500 2003.00000   \n",
       "4  duluth / superior       https://duluth.craigslist.org  16995 2007.00000   \n",
       "\n",
       "  manufacturer                  model  condition    cylinders  ... drive  \\\n",
       "0          gmc        new sierra 1500  excellent  8 cylinders  ...   4wd   \n",
       "1      hyundai                 sonata  excellent  4 cylinders  ...   fwd   \n",
       "2       toyota                  prius       good  4 cylinders  ...   fwd   \n",
       "3   mitsubishi                 lancer       good  4 cylinders  ...   4wd   \n",
       "4          gmc  sierra classic 2500hd       good  8 cylinders  ...   4wd   \n",
       "\n",
       "        size   type paint_color  \\\n",
       "0        NaN    NaN         red   \n",
       "1        NaN    NaN        grey   \n",
       "2        NaN    NaN        blue   \n",
       "3   mid-size  sedan        grey   \n",
       "4  full-size  truck       white   \n",
       "\n",
       "                                           image_url  \\\n",
       "0  https://images.craigslist.org/00n0n_f06ykBMcdh...   \n",
       "1  https://images.craigslist.org/00d0d_kgZ6xoeRw2...   \n",
       "2  https://images.craigslist.org/00d0d_3sHGxPbY2O...   \n",
       "3  https://images.craigslist.org/00m0m_4a8Pb6JbMG...   \n",
       "4  https://images.craigslist.org/01414_g093aPtSMW...   \n",
       "\n",
       "                                         description county state      lat  \\\n",
       "0  2000 *** GMC New Sierra 1500 Ext Cab 157.5  WB...    nan    mn 46.84330   \n",
       "1  For Sale:  2013 Hyundai Sonata GLS - $8750.  O...    nan    mn 46.90740   \n",
       "2  2013 Prius V Model Two. One owner—must sell my...    nan    ct 41.17700   \n",
       "3  2003 Mitsubishi Lancer Evolution, silver.  Abo...    nan    nm 35.18680   \n",
       "4  **Bad Credit, No Credit... No Problem!**2007 G...    nan    mn 45.68360   \n",
       "\n",
       "        long  \n",
       "0  -92.25500  \n",
       "1  -92.46380  \n",
       "2  -73.13360  \n",
       "3 -106.66500  \n",
       "4  -92.96480  \n",
       "\n",
       "[5 rows x 25 columns]"
      ]
     },
     "execution_count": 3,
     "metadata": {},
     "output_type": "execute_result"
    }
   ],
   "source": [
    "#Take a look at the data\n",
    "cars = vehicles.copy()\n",
    "cars.head()"
   ]
  },
  {
   "cell_type": "markdown",
   "metadata": {},
   "source": [
    "## Exploratory Data Analysis and Data Cleaning"
   ]
  },
  {
   "cell_type": "code",
   "execution_count": 4,
   "metadata": {},
   "outputs": [
    {
     "name": "stdout",
     "output_type": "stream",
     "text": [
      "<class 'pandas.core.frame.DataFrame'>\n",
      "RangeIndex: 423857 entries, 0 to 423856\n",
      "Data columns (total 25 columns):\n",
      " #   Column        Non-Null Count   Dtype  \n",
      "---  ------        --------------   -----  \n",
      " 0   id            423857 non-null  int64  \n",
      " 1   url           423857 non-null  object \n",
      " 2   region        423857 non-null  object \n",
      " 3   region_url    423857 non-null  object \n",
      " 4   price         423857 non-null  int64  \n",
      " 5   year          328743 non-null  float64\n",
      " 6   manufacturer  313242 non-null  object \n",
      " 7   model         325384 non-null  object \n",
      " 8   condition     176719 non-null  object \n",
      " 9   cylinders     197679 non-null  object \n",
      " 10  fuel          327214 non-null  object \n",
      " 11  odometer      270585 non-null  float64\n",
      " 12  title_status  327759 non-null  object \n",
      " 13  transmission  328065 non-null  object \n",
      " 14  vin           184420 non-null  object \n",
      " 15  drive         231119 non-null  object \n",
      " 16  size          102627 non-null  object \n",
      " 17  type          241157 non-null  object \n",
      " 18  paint_color   222203 non-null  object \n",
      " 19  image_url     329661 non-null  object \n",
      " 20  description   329654 non-null  object \n",
      " 21  county        0 non-null       float64\n",
      " 22  state         423857 non-null  object \n",
      " 23  lat           324404 non-null  float64\n",
      " 24  long          324404 non-null  float64\n",
      "dtypes: float64(5), int64(2), object(18)\n",
      "memory usage: 80.8+ MB\n"
     ]
    }
   ],
   "source": [
    "cars.info()"
   ]
  },
  {
   "cell_type": "code",
   "execution_count": 5,
   "metadata": {},
   "outputs": [
    {
     "data": {
      "text/plain": [
       "Index(['id', 'url', 'region', 'region_url', 'price', 'year', 'manufacturer',\n",
       "       'model', 'condition', 'cylinders', 'fuel', 'odometer', 'title_status',\n",
       "       'transmission', 'vin', 'drive', 'size', 'type', 'paint_color',\n",
       "       'image_url', 'description', 'county', 'state', 'lat', 'long'],\n",
       "      dtype='object')"
      ]
     },
     "execution_count": 5,
     "metadata": {},
     "output_type": "execute_result"
    }
   ],
   "source": [
    "cars.columns"
   ]
  },
  {
   "cell_type": "code",
   "execution_count": 6,
   "metadata": {},
   "outputs": [
    {
     "data": {
      "text/html": [
       "<div>\n",
       "<style scoped>\n",
       "    .dataframe tbody tr th:only-of-type {\n",
       "        vertical-align: middle;\n",
       "    }\n",
       "\n",
       "    .dataframe tbody tr th {\n",
       "        vertical-align: top;\n",
       "    }\n",
       "\n",
       "    .dataframe thead th {\n",
       "        text-align: right;\n",
       "    }\n",
       "</style>\n",
       "<table border=\"1\" class=\"dataframe\">\n",
       "  <thead>\n",
       "    <tr style=\"text-align: right;\">\n",
       "      <th></th>\n",
       "      <th>price</th>\n",
       "      <th>year</th>\n",
       "      <th>manufacturer</th>\n",
       "      <th>condition</th>\n",
       "      <th>cylinders</th>\n",
       "      <th>fuel</th>\n",
       "      <th>odometer</th>\n",
       "      <th>title_status</th>\n",
       "      <th>transmission</th>\n",
       "      <th>drive</th>\n",
       "      <th>size</th>\n",
       "      <th>type</th>\n",
       "      <th>paint_color</th>\n",
       "      <th>description</th>\n",
       "      <th>state</th>\n",
       "    </tr>\n",
       "  </thead>\n",
       "  <tbody>\n",
       "    <tr>\n",
       "      <th>0</th>\n",
       "      <td>6995</td>\n",
       "      <td>2000.00000</td>\n",
       "      <td>gmc</td>\n",
       "      <td>excellent</td>\n",
       "      <td>8 cylinders</td>\n",
       "      <td>gas</td>\n",
       "      <td>167783.00000</td>\n",
       "      <td>clean</td>\n",
       "      <td>automatic</td>\n",
       "      <td>4wd</td>\n",
       "      <td>NaN</td>\n",
       "      <td>NaN</td>\n",
       "      <td>red</td>\n",
       "      <td>2000 *** GMC New Sierra 1500 Ext Cab 157.5  WB...</td>\n",
       "      <td>mn</td>\n",
       "    </tr>\n",
       "    <tr>\n",
       "      <th>1</th>\n",
       "      <td>8750</td>\n",
       "      <td>2013.00000</td>\n",
       "      <td>hyundai</td>\n",
       "      <td>excellent</td>\n",
       "      <td>4 cylinders</td>\n",
       "      <td>gas</td>\n",
       "      <td>90821.00000</td>\n",
       "      <td>clean</td>\n",
       "      <td>automatic</td>\n",
       "      <td>fwd</td>\n",
       "      <td>NaN</td>\n",
       "      <td>NaN</td>\n",
       "      <td>grey</td>\n",
       "      <td>For Sale:  2013 Hyundai Sonata GLS - $8750.  O...</td>\n",
       "      <td>mn</td>\n",
       "    </tr>\n",
       "    <tr>\n",
       "      <th>2</th>\n",
       "      <td>10900</td>\n",
       "      <td>2013.00000</td>\n",
       "      <td>toyota</td>\n",
       "      <td>good</td>\n",
       "      <td>4 cylinders</td>\n",
       "      <td>hybrid</td>\n",
       "      <td>92800.00000</td>\n",
       "      <td>clean</td>\n",
       "      <td>automatic</td>\n",
       "      <td>fwd</td>\n",
       "      <td>NaN</td>\n",
       "      <td>NaN</td>\n",
       "      <td>blue</td>\n",
       "      <td>2013 Prius V Model Two. One owner—must sell my...</td>\n",
       "      <td>ct</td>\n",
       "    </tr>\n",
       "    <tr>\n",
       "      <th>3</th>\n",
       "      <td>12500</td>\n",
       "      <td>2003.00000</td>\n",
       "      <td>mitsubishi</td>\n",
       "      <td>good</td>\n",
       "      <td>4 cylinders</td>\n",
       "      <td>gas</td>\n",
       "      <td>nan</td>\n",
       "      <td>clean</td>\n",
       "      <td>manual</td>\n",
       "      <td>4wd</td>\n",
       "      <td>mid-size</td>\n",
       "      <td>sedan</td>\n",
       "      <td>grey</td>\n",
       "      <td>2003 Mitsubishi Lancer Evolution, silver.  Abo...</td>\n",
       "      <td>nm</td>\n",
       "    </tr>\n",
       "    <tr>\n",
       "      <th>4</th>\n",
       "      <td>16995</td>\n",
       "      <td>2007.00000</td>\n",
       "      <td>gmc</td>\n",
       "      <td>good</td>\n",
       "      <td>8 cylinders</td>\n",
       "      <td>diesel</td>\n",
       "      <td>254217.00000</td>\n",
       "      <td>clean</td>\n",
       "      <td>automatic</td>\n",
       "      <td>4wd</td>\n",
       "      <td>full-size</td>\n",
       "      <td>truck</td>\n",
       "      <td>white</td>\n",
       "      <td>**Bad Credit, No Credit... No Problem!**2007 G...</td>\n",
       "      <td>mn</td>\n",
       "    </tr>\n",
       "  </tbody>\n",
       "</table>\n",
       "</div>"
      ],
      "text/plain": [
       "   price       year manufacturer  condition    cylinders    fuel     odometer  \\\n",
       "0   6995 2000.00000          gmc  excellent  8 cylinders     gas 167783.00000   \n",
       "1   8750 2013.00000      hyundai  excellent  4 cylinders     gas  90821.00000   \n",
       "2  10900 2013.00000       toyota       good  4 cylinders  hybrid  92800.00000   \n",
       "3  12500 2003.00000   mitsubishi       good  4 cylinders     gas          nan   \n",
       "4  16995 2007.00000          gmc       good  8 cylinders  diesel 254217.00000   \n",
       "\n",
       "  title_status transmission drive       size   type paint_color  \\\n",
       "0        clean    automatic   4wd        NaN    NaN         red   \n",
       "1        clean    automatic   fwd        NaN    NaN        grey   \n",
       "2        clean    automatic   fwd        NaN    NaN        blue   \n",
       "3        clean       manual   4wd   mid-size  sedan        grey   \n",
       "4        clean    automatic   4wd  full-size  truck       white   \n",
       "\n",
       "                                         description state  \n",
       "0  2000 *** GMC New Sierra 1500 Ext Cab 157.5  WB...    mn  \n",
       "1  For Sale:  2013 Hyundai Sonata GLS - $8750.  O...    mn  \n",
       "2  2013 Prius V Model Two. One owner—must sell my...    ct  \n",
       "3  2003 Mitsubishi Lancer Evolution, silver.  Abo...    nm  \n",
       "4  **Bad Credit, No Credit... No Problem!**2007 G...    mn  "
      ]
     },
     "execution_count": 6,
     "metadata": {},
     "output_type": "execute_result"
    }
   ],
   "source": [
    "#Remove columns unnescessary for the analysis\n",
    "cars.drop([\"id\", \"url\", \"region\", \"region_url\", \"model\", \"vin\", \"image_url\", \"county\", \"lat\", \"long\"], axis = 1, inplace = True)\n",
    "cars.head()"
   ]
  },
  {
   "cell_type": "code",
   "execution_count": 7,
   "metadata": {},
   "outputs": [
    {
     "data": {
      "text/html": [
       "<div>\n",
       "<style scoped>\n",
       "    .dataframe tbody tr th:only-of-type {\n",
       "        vertical-align: middle;\n",
       "    }\n",
       "\n",
       "    .dataframe tbody tr th {\n",
       "        vertical-align: top;\n",
       "    }\n",
       "\n",
       "    .dataframe thead th {\n",
       "        text-align: right;\n",
       "    }\n",
       "</style>\n",
       "<table border=\"1\" class=\"dataframe\">\n",
       "  <thead>\n",
       "    <tr style=\"text-align: right;\">\n",
       "      <th></th>\n",
       "      <th>num_missing</th>\n",
       "      <th>percent_missing</th>\n",
       "    </tr>\n",
       "  </thead>\n",
       "  <tbody>\n",
       "    <tr>\n",
       "      <th>price</th>\n",
       "      <td>0</td>\n",
       "      <td>0.00000</td>\n",
       "    </tr>\n",
       "    <tr>\n",
       "      <th>year</th>\n",
       "      <td>95114</td>\n",
       "      <td>0.22440</td>\n",
       "    </tr>\n",
       "    <tr>\n",
       "      <th>manufacturer</th>\n",
       "      <td>110615</td>\n",
       "      <td>0.26097</td>\n",
       "    </tr>\n",
       "    <tr>\n",
       "      <th>condition</th>\n",
       "      <td>247138</td>\n",
       "      <td>0.58307</td>\n",
       "    </tr>\n",
       "    <tr>\n",
       "      <th>cylinders</th>\n",
       "      <td>226178</td>\n",
       "      <td>0.53362</td>\n",
       "    </tr>\n",
       "    <tr>\n",
       "      <th>fuel</th>\n",
       "      <td>96643</td>\n",
       "      <td>0.22801</td>\n",
       "    </tr>\n",
       "    <tr>\n",
       "      <th>odometer</th>\n",
       "      <td>153272</td>\n",
       "      <td>0.36161</td>\n",
       "    </tr>\n",
       "    <tr>\n",
       "      <th>title_status</th>\n",
       "      <td>96098</td>\n",
       "      <td>0.22672</td>\n",
       "    </tr>\n",
       "    <tr>\n",
       "      <th>transmission</th>\n",
       "      <td>95792</td>\n",
       "      <td>0.22600</td>\n",
       "    </tr>\n",
       "    <tr>\n",
       "      <th>drive</th>\n",
       "      <td>192738</td>\n",
       "      <td>0.45472</td>\n",
       "    </tr>\n",
       "    <tr>\n",
       "      <th>size</th>\n",
       "      <td>321230</td>\n",
       "      <td>0.75787</td>\n",
       "    </tr>\n",
       "    <tr>\n",
       "      <th>type</th>\n",
       "      <td>182700</td>\n",
       "      <td>0.43104</td>\n",
       "    </tr>\n",
       "    <tr>\n",
       "      <th>paint_color</th>\n",
       "      <td>201654</td>\n",
       "      <td>0.47576</td>\n",
       "    </tr>\n",
       "    <tr>\n",
       "      <th>description</th>\n",
       "      <td>94203</td>\n",
       "      <td>0.22225</td>\n",
       "    </tr>\n",
       "    <tr>\n",
       "      <th>state</th>\n",
       "      <td>0</td>\n",
       "      <td>0.00000</td>\n",
       "    </tr>\n",
       "  </tbody>\n",
       "</table>\n",
       "</div>"
      ],
      "text/plain": [
       "              num_missing  percent_missing\n",
       "price                   0          0.00000\n",
       "year                95114          0.22440\n",
       "manufacturer       110615          0.26097\n",
       "condition          247138          0.58307\n",
       "cylinders          226178          0.53362\n",
       "fuel                96643          0.22801\n",
       "odometer           153272          0.36161\n",
       "title_status        96098          0.22672\n",
       "transmission        95792          0.22600\n",
       "drive              192738          0.45472\n",
       "size               321230          0.75787\n",
       "type               182700          0.43104\n",
       "paint_color        201654          0.47576\n",
       "description         94203          0.22225\n",
       "state                   0          0.00000"
      ]
     },
     "execution_count": 7,
     "metadata": {},
     "output_type": "execute_result"
    }
   ],
   "source": [
    "#Look at the number and percent of missing values for each column\n",
    "missing = pd.DataFrame(cars.isna().sum())\n",
    "missing.columns = [\"num_missing\"]\n",
    "missing[\"percent_missing\"] = missing.num_missing / len(cars.index)\n",
    "missing"
   ]
  },
  {
   "cell_type": "code",
   "execution_count": 8,
   "metadata": {},
   "outputs": [],
   "source": [
    "cars.drop(\"size\", axis = 1, inplace = True)"
   ]
  },
  {
   "cell_type": "code",
   "execution_count": 9,
   "metadata": {},
   "outputs": [
    {
     "data": {
      "text/plain": [
       "Index(['price', 'year', 'manufacturer', 'condition', 'cylinders', 'fuel',\n",
       "       'odometer', 'title_status', 'transmission', 'drive', 'type',\n",
       "       'paint_color', 'description', 'state'],\n",
       "      dtype='object')"
      ]
     },
     "execution_count": 9,
     "metadata": {},
     "output_type": "execute_result"
    }
   ],
   "source": [
    "cars.columns"
   ]
  },
  {
   "cell_type": "code",
   "execution_count": 10,
   "metadata": {},
   "outputs": [],
   "source": [
    "missing_by_manufacturer = cars[cars.columns.difference([\"manufacturer\"])].isnull().groupby(cars[\"manufacturer\"]).sum().astype(int)"
   ]
  },
  {
   "cell_type": "code",
   "execution_count": 11,
   "metadata": {},
   "outputs": [
    {
     "data": {
      "image/png": "[encoded data removed]",
      "text/plain": [
       "<Figure size 432x288 with 1 Axes>"
      ]
     },
     "metadata": {
      "needs_background": "light"
     },
     "output_type": "display_data"
    }
   ],
   "source": [
    "for i in range(len(missing_by_manufacturer.columns)):\n",
    "    column = missing_by_manufacturer.iloc[:, i]\n",
    "    plt.bar(list(missing_by_manufacturer.index), column)"
   ]
  },
  {
   "cell_type": "code",
   "execution_count": 12,
   "metadata": {},
   "outputs": [
    {
     "data": {
      "text/plain": [
       "Index(['acura', 'alfa-romeo', 'aston-martin', 'audi', 'bmw', 'buick',\n",
       "       'cadillac', 'chevrolet', 'chrysler', 'datsun', 'dodge', 'ferrari',\n",
       "       'fiat', 'ford', 'gmc', 'harley-davidson', 'hennessey', 'honda',\n",
       "       'hyundai', 'infiniti', 'jaguar', 'jeep', 'kia', 'land rover', 'lexus',\n",
       "       'lincoln', 'mazda', 'mercedes-benz', 'mercury', 'mini', 'mitsubishi',\n",
       "       'morgan', 'nissan', 'pontiac', 'porche', 'ram', 'rover', 'saturn',\n",
       "       'subaru', 'tesla', 'toyota', 'volkswagen', 'volvo'],\n",
       "      dtype='object', name='manufacturer')"
      ]
     },
     "execution_count": 12,
     "metadata": {},
     "output_type": "execute_result"
    }
   ],
   "source": [
    "missing_by_manufacturer.index"
   ]
  },
  {
   "cell_type": "code",
   "execution_count": 13,
   "metadata": {},
   "outputs": [],
   "source": [
    "#Restructure the column \"cylinders\" by only keeping the number of cylinders and removing any text from the column\n",
    "cars[\"cylinders\"].unique()\n",
    "cars[\"cylinders\"] = cars[\"cylinders\"].fillna(\"\")\n",
    "cars[\"cylinders\"] = pd.Series([int(x) if x.isdigit() else np.nan for x in [re.sub(\"[^0-9]\", \"\", y) \n",
    "                                                                           for y in list(cars[\"cylinders\"])]])"
   ]
  },
  {
   "cell_type": "code",
   "execution_count": 14,
   "metadata": {},
   "outputs": [
    {
     "data": {
      "text/html": [
       "<div>\n",
       "<style scoped>\n",
       "    .dataframe tbody tr th:only-of-type {\n",
       "        vertical-align: middle;\n",
       "    }\n",
       "\n",
       "    .dataframe tbody tr th {\n",
       "        vertical-align: top;\n",
       "    }\n",
       "\n",
       "    .dataframe thead th {\n",
       "        text-align: right;\n",
       "    }\n",
       "</style>\n",
       "<table border=\"1\" class=\"dataframe\">\n",
       "  <thead>\n",
       "    <tr style=\"text-align: right;\">\n",
       "      <th></th>\n",
       "      <th>price</th>\n",
       "      <th>year</th>\n",
       "      <th>cylinders</th>\n",
       "      <th>odometer</th>\n",
       "    </tr>\n",
       "  </thead>\n",
       "  <tbody>\n",
       "    <tr>\n",
       "      <th>count</th>\n",
       "      <td>423857.00000</td>\n",
       "      <td>328743.00000</td>\n",
       "      <td>196828.00000</td>\n",
       "      <td>270585.00000</td>\n",
       "    </tr>\n",
       "    <tr>\n",
       "      <th>mean</th>\n",
       "      <td>57794.37478</td>\n",
       "      <td>2009.82736</td>\n",
       "      <td>5.85220</td>\n",
       "      <td>99425.78461</td>\n",
       "    </tr>\n",
       "    <tr>\n",
       "      <th>std</th>\n",
       "      <td>10025805.11645</td>\n",
       "      <td>10.13581</td>\n",
       "      <td>1.61935</td>\n",
       "      <td>120483.31239</td>\n",
       "    </tr>\n",
       "    <tr>\n",
       "      <th>min</th>\n",
       "      <td>0.00000</td>\n",
       "      <td>1900.00000</td>\n",
       "      <td>3.00000</td>\n",
       "      <td>0.00000</td>\n",
       "    </tr>\n",
       "    <tr>\n",
       "      <th>25%</th>\n",
       "      <td>4499.00000</td>\n",
       "      <td>2007.00000</td>\n",
       "      <td>4.00000</td>\n",
       "      <td>44324.00000</td>\n",
       "    </tr>\n",
       "    <tr>\n",
       "      <th>50%</th>\n",
       "      <td>9995.00000</td>\n",
       "      <td>2012.00000</td>\n",
       "      <td>6.00000</td>\n",
       "      <td>91749.00000</td>\n",
       "    </tr>\n",
       "    <tr>\n",
       "      <th>75%</th>\n",
       "      <td>18995.00000</td>\n",
       "      <td>2016.00000</td>\n",
       "      <td>8.00000</td>\n",
       "      <td>137237.00000</td>\n",
       "    </tr>\n",
       "    <tr>\n",
       "      <th>max</th>\n",
       "      <td>3808256046.00000</td>\n",
       "      <td>2021.00000</td>\n",
       "      <td>12.00000</td>\n",
       "      <td>10000000.00000</td>\n",
       "    </tr>\n",
       "  </tbody>\n",
       "</table>\n",
       "</div>"
      ],
      "text/plain": [
       "                 price         year    cylinders       odometer\n",
       "count     423857.00000 328743.00000 196828.00000   270585.00000\n",
       "mean       57794.37478   2009.82736      5.85220    99425.78461\n",
       "std     10025805.11645     10.13581      1.61935   120483.31239\n",
       "min            0.00000   1900.00000      3.00000        0.00000\n",
       "25%         4499.00000   2007.00000      4.00000    44324.00000\n",
       "50%         9995.00000   2012.00000      6.00000    91749.00000\n",
       "75%        18995.00000   2016.00000      8.00000   137237.00000\n",
       "max   3808256046.00000   2021.00000     12.00000 10000000.00000"
      ]
     },
     "execution_count": 14,
     "metadata": {},
     "output_type": "execute_result"
    }
   ],
   "source": [
    "#Get descriptive statistics for the price, year of manufacture, number of cylinders, and mileage of each car\n",
    "cars.describe()"
   ]
  },
  {
   "cell_type": "code",
   "execution_count": 15,
   "metadata": {},
   "outputs": [
    {
     "data": {
      "text/html": [
       "<div>\n",
       "<style scoped>\n",
       "    .dataframe tbody tr th:only-of-type {\n",
       "        vertical-align: middle;\n",
       "    }\n",
       "\n",
       "    .dataframe tbody tr th {\n",
       "        vertical-align: top;\n",
       "    }\n",
       "\n",
       "    .dataframe thead th {\n",
       "        text-align: right;\n",
       "    }\n",
       "</style>\n",
       "<table border=\"1\" class=\"dataframe\">\n",
       "  <thead>\n",
       "    <tr style=\"text-align: right;\">\n",
       "      <th></th>\n",
       "      <th>price</th>\n",
       "      <th>year</th>\n",
       "      <th>manufacturer</th>\n",
       "      <th>condition</th>\n",
       "      <th>cylinders</th>\n",
       "      <th>fuel</th>\n",
       "      <th>odometer</th>\n",
       "      <th>title_status</th>\n",
       "      <th>transmission</th>\n",
       "      <th>drive</th>\n",
       "      <th>type</th>\n",
       "      <th>paint_color</th>\n",
       "      <th>description</th>\n",
       "      <th>state</th>\n",
       "    </tr>\n",
       "  </thead>\n",
       "  <tbody>\n",
       "    <tr>\n",
       "      <th>300026</th>\n",
       "      <td>3808256046</td>\n",
       "      <td>2007.00000</td>\n",
       "      <td>saturn</td>\n",
       "      <td>good</td>\n",
       "      <td>nan</td>\n",
       "      <td>gas</td>\n",
       "      <td>nan</td>\n",
       "      <td>clean</td>\n",
       "      <td>automatic</td>\n",
       "      <td>NaN</td>\n",
       "      <td>NaN</td>\n",
       "      <td>red</td>\n",
       "      <td>2007 Saturn Aura has 140,224 miles on it. Grea...</td>\n",
       "      <td>mi</td>\n",
       "    </tr>\n",
       "  </tbody>\n",
       "</table>\n",
       "</div>"
      ],
      "text/plain": [
       "             price       year manufacturer condition  cylinders fuel  \\\n",
       "300026  3808256046 2007.00000       saturn      good        nan  gas   \n",
       "\n",
       "        odometer title_status transmission drive type paint_color  \\\n",
       "300026       nan        clean    automatic   NaN  NaN         red   \n",
       "\n",
       "                                              description state  \n",
       "300026  2007 Saturn Aura has 140,224 miles on it. Grea...    mi  "
      ]
     },
     "execution_count": 15,
     "metadata": {},
     "output_type": "execute_result"
    }
   ],
   "source": [
    "#The max price seems very odd, let's take a look\n",
    "cars.loc[cars[\"price\"] == 3808256046.00000]"
   ]
  },
  {
   "cell_type": "code",
   "execution_count": 16,
   "metadata": {},
   "outputs": [
    {
     "data": {
      "text/plain": [
       "['2007 Saturn Aura has 140,224 miles on it. Great running car no check engine light on. ac and heat both work. Radio works power windows and locks. Has a sunroof works as well. Have two set of keys with automatic start. Asking for 3,000 willing to go down in price.  show contact info']"
      ]
     },
     "execution_count": 16,
     "metadata": {},
     "output_type": "execute_result"
    }
   ],
   "source": [
    "list(cars.loc[cars[\"price\"] == 3808256046.00000][\"description\"])"
   ]
  },
  {
   "cell_type": "markdown",
   "metadata": {},
   "source": [
    "The description says that the seller is asking for $3000, so we can impute that value for the price."
   ]
  },
  {
   "cell_type": "code",
   "execution_count": 17,
   "metadata": {},
   "outputs": [],
   "source": [
    "#Impute 3000 for the price, overwriting the eroneous value that was present.\n",
    "cars.iloc[300026, 0] = 3000"
   ]
  },
  {
   "cell_type": "code",
   "execution_count": 18,
   "metadata": {},
   "outputs": [
    {
     "data": {
      "text/plain": [
       "<matplotlib.legend.Legend at 0x13ca57236a0>"
      ]
     },
     "execution_count": 18,
     "metadata": {},
     "output_type": "execute_result"
    },
    {
     "data": {
      "image/png": "[encoded data removed]",
      "text/plain": [
       "<Figure size 720x576 with 1 Axes>"
      ]
     },
     "metadata": {
      "needs_background": "light"
     },
     "output_type": "display_data"
    }
   ],
   "source": [
    "colors = [\"b\", \"g\", \"m\", \"y\", \"y\", \"r\", \"r\", \"r\", \"r\", \"b\", \"r\", \"g\", \"g\", \"r\", \"r\", \"r\", \"r\", \"b\", \"c\", \"b\", \"m\", \n",
    "         \"r\", \"c\", \"m\", \"b\", \"r\", \"b\", \"y\", \"r\", \"m\", \"b\", \"m\", \"b\", \"r\", \"y\", \"r\", \"m\", \"r\", \"b\", \"r\", \"b\", \"y\", \"w\"]\n",
    "\n",
    "plt.figure(figsize = (10, 8))\n",
    "cars.groupby(\"manufacturer\").price.mean().plot.bar(color = colors, edgecolor = \"k\")\n",
    "plt.ylabel(\"Average Price\")\n",
    "plt.xlabel(\"Manufacturer\")\n",
    "american = mpatches.Patch(facecolor = \"r\", edgecolor = \"k\", label = \"American Manufacturers\")\n",
    "italian = mpatches.Patch(facecolor = \"g\", edgecolor = \"k\", label = \"Italian Manufacturers\")\n",
    "british = mpatches.Patch(facecolor = \"m\", edgecolor = \"k\", label = \"British Manufacturers\")\n",
    "german = mpatches.Patch(facecolor = \"y\", edgecolor = \"k\", label = \"German Manufacturers\")\n",
    "swedish = mpatches.Patch(facecolor = \"w\", edgecolor = \"k\", label = \"Swedish Manufacturers\")\n",
    "japanese = mpatches.Patch(facecolor = \"b\", edgecolor = \"k\", label = \"Japanese Manufacturers\")\n",
    "korean = mpatches.Patch(facecolor = \"c\", edgecolor = \"k\", label = \"Korean Manufacturers\")\n",
    "missing = mpatches.Patch(facecolor = \"k\", edgecolor = \"k\", label = \"Missing Manufacturers\")\n",
    "plt.title(\"Average Price of Listed Cars by Manufacturer\")\n",
    "plt.legend(handles = [american, italian, british, german, swedish, japanese, korean, missing])"
   ]
  },
  {
   "cell_type": "markdown",
   "metadata": {},
   "source": [
    "Dodge and GMC, which are not known to be \"high end\" vehicles, show a mean price that is larger than luxury brands like Aston-Martin and Ferrari. This seems od, so let's investigate."
   ]
  },
  {
   "cell_type": "code",
   "execution_count": 19,
   "metadata": {},
   "outputs": [
    {
     "data": {
      "text/plain": [
       "count        12547.00000\n",
       "mean        210606.10489\n",
       "std       22234124.01268\n",
       "min              0.00000\n",
       "25%           3481.50000\n",
       "50%           8495.00000\n",
       "75%          17995.00000\n",
       "max     2490531375.00000\n",
       "Name: price, dtype: float64"
      ]
     },
     "execution_count": 19,
     "metadata": {},
     "output_type": "execute_result"
    }
   ],
   "source": [
    "cars.loc[cars[\"manufacturer\"] == \"dodge\"][\"price\"].describe()"
   ]
  },
  {
   "cell_type": "code",
   "execution_count": 20,
   "metadata": {},
   "outputs": [
    {
     "data": {
      "text/html": [
       "<div>\n",
       "<style scoped>\n",
       "    .dataframe tbody tr th:only-of-type {\n",
       "        vertical-align: middle;\n",
       "    }\n",
       "\n",
       "    .dataframe tbody tr th {\n",
       "        vertical-align: top;\n",
       "    }\n",
       "\n",
       "    .dataframe thead th {\n",
       "        text-align: right;\n",
       "    }\n",
       "</style>\n",
       "<table border=\"1\" class=\"dataframe\">\n",
       "  <thead>\n",
       "    <tr style=\"text-align: right;\">\n",
       "      <th></th>\n",
       "      <th>price</th>\n",
       "      <th>year</th>\n",
       "      <th>manufacturer</th>\n",
       "      <th>condition</th>\n",
       "      <th>cylinders</th>\n",
       "      <th>fuel</th>\n",
       "      <th>odometer</th>\n",
       "      <th>title_status</th>\n",
       "      <th>transmission</th>\n",
       "      <th>drive</th>\n",
       "      <th>type</th>\n",
       "      <th>paint_color</th>\n",
       "      <th>description</th>\n",
       "      <th>state</th>\n",
       "    </tr>\n",
       "  </thead>\n",
       "  <tbody>\n",
       "    <tr>\n",
       "      <th>67033</th>\n",
       "      <td>2490531375</td>\n",
       "      <td>2014.00000</td>\n",
       "      <td>dodge</td>\n",
       "      <td>good</td>\n",
       "      <td>4.00000</td>\n",
       "      <td>gas</td>\n",
       "      <td>112589.00000</td>\n",
       "      <td>clean</td>\n",
       "      <td>automatic</td>\n",
       "      <td>fwd</td>\n",
       "      <td>sedan</td>\n",
       "      <td>red</td>\n",
       "      <td>J.P. AUTO ENTERPRISE 3558 BUFORD HWY, SUITE B-...</td>\n",
       "      <td>ga</td>\n",
       "    </tr>\n",
       "  </tbody>\n",
       "</table>\n",
       "</div>"
      ],
      "text/plain": [
       "            price       year manufacturer condition  cylinders fuel  \\\n",
       "67033  2490531375 2014.00000        dodge      good    4.00000  gas   \n",
       "\n",
       "          odometer title_status transmission drive   type paint_color  \\\n",
       "67033 112589.00000        clean    automatic   fwd  sedan         red   \n",
       "\n",
       "                                             description state  \n",
       "67033  J.P. AUTO ENTERPRISE 3558 BUFORD HWY, SUITE B-...    ga  "
      ]
     },
     "execution_count": 20,
     "metadata": {},
     "output_type": "execute_result"
    }
   ],
   "source": [
    "cars.loc[cars[\"price\"] == 2490531375.00000]"
   ]
  },
  {
   "cell_type": "code",
   "execution_count": 21,
   "metadata": {},
   "outputs": [
    {
     "data": {
      "text/plain": [
       "['J.P. AUTO ENTERPRISE 3558 BUFORD HWY, SUITE B-100 DULUTH, GA 30096 CEL: 678-549-8671 www.jpcarsandbikes.com  Information VIN: 1C3CDFBB6ED695611 Make: Dodge Model: Dart  Model Year: 2014 Trim Package: SXT 4 Door Sedan  Body Style: Sedan  Engine: 2.4L I4 Fuel Type: Gasoline Drivetrain: FWD']"
      ]
     },
     "execution_count": 21,
     "metadata": {},
     "output_type": "execute_result"
    }
   ],
   "source": [
    "list(cars.loc[cars[\"price\"] == 2490531375.00000][\"description\"])"
   ]
  },
  {
   "cell_type": "markdown",
   "metadata": {},
   "source": [
    "Seeing that there is no info regarding the price in the description, we should remove this data point as it is likely an error."
   ]
  },
  {
   "cell_type": "code",
   "execution_count": 22,
   "metadata": {},
   "outputs": [],
   "source": [
    "cars.drop(index = 67033, inplace = True)"
   ]
  },
  {
   "cell_type": "code",
   "execution_count": 23,
   "metadata": {},
   "outputs": [
    {
     "data": {
      "text/plain": [
       "count        12782.00000\n",
       "mean        238584.92974\n",
       "std       24839841.83032\n",
       "min              0.00000\n",
       "25%           6850.00000\n",
       "50%          14000.00000\n",
       "75%          27990.00000\n",
       "max     2808348671.00000\n",
       "Name: price, dtype: float64"
      ]
     },
     "execution_count": 23,
     "metadata": {},
     "output_type": "execute_result"
    }
   ],
   "source": [
    "cars.loc[cars[\"manufacturer\"] == \"gmc\"][\"price\"].describe()"
   ]
  },
  {
   "cell_type": "code",
   "execution_count": 24,
   "metadata": {},
   "outputs": [
    {
     "data": {
      "text/html": [
       "<div>\n",
       "<style scoped>\n",
       "    .dataframe tbody tr th:only-of-type {\n",
       "        vertical-align: middle;\n",
       "    }\n",
       "\n",
       "    .dataframe tbody tr th {\n",
       "        vertical-align: top;\n",
       "    }\n",
       "\n",
       "    .dataframe thead th {\n",
       "        text-align: right;\n",
       "    }\n",
       "</style>\n",
       "<table border=\"1\" class=\"dataframe\">\n",
       "  <thead>\n",
       "    <tr style=\"text-align: right;\">\n",
       "      <th></th>\n",
       "      <th>price</th>\n",
       "      <th>year</th>\n",
       "      <th>manufacturer</th>\n",
       "      <th>condition</th>\n",
       "      <th>cylinders</th>\n",
       "      <th>fuel</th>\n",
       "      <th>odometer</th>\n",
       "      <th>title_status</th>\n",
       "      <th>transmission</th>\n",
       "      <th>drive</th>\n",
       "      <th>type</th>\n",
       "      <th>paint_color</th>\n",
       "      <th>description</th>\n",
       "      <th>state</th>\n",
       "    </tr>\n",
       "  </thead>\n",
       "  <tbody>\n",
       "    <tr>\n",
       "      <th>207260</th>\n",
       "      <td>2808348671</td>\n",
       "      <td>2020.00000</td>\n",
       "      <td>gmc</td>\n",
       "      <td>NaN</td>\n",
       "      <td>8.00000</td>\n",
       "      <td>gas</td>\n",
       "      <td>nan</td>\n",
       "      <td>clean</td>\n",
       "      <td>automatic</td>\n",
       "      <td>NaN</td>\n",
       "      <td>NaN</td>\n",
       "      <td>NaN</td>\n",
       "      <td>WILL BUY YOU RLIFTED OR LOWERED TRUCK , SINGLE...</td>\n",
       "      <td>ca</td>\n",
       "    </tr>\n",
       "  </tbody>\n",
       "</table>\n",
       "</div>"
      ],
      "text/plain": [
       "             price       year manufacturer condition  cylinders fuel  \\\n",
       "207260  2808348671 2020.00000          gmc       NaN    8.00000  gas   \n",
       "\n",
       "        odometer title_status transmission drive type paint_color  \\\n",
       "207260       nan        clean    automatic   NaN  NaN         NaN   \n",
       "\n",
       "                                              description state  \n",
       "207260  WILL BUY YOU RLIFTED OR LOWERED TRUCK , SINGLE...    ca  "
      ]
     },
     "execution_count": 24,
     "metadata": {},
     "output_type": "execute_result"
    }
   ],
   "source": [
    "cars.loc[cars[\"price\"] == 2808348671.00000]"
   ]
  },
  {
   "cell_type": "code",
   "execution_count": 25,
   "metadata": {},
   "outputs": [
    {
     "data": {
      "text/plain": [
       "['WILL BUY YOU RLIFTED OR LOWERED TRUCK , SINGLE CABS SHORT BED , JEEPS LIFTED OR CUSTOM     WILL PAY CASH  PLEASE CALL US     (209)544-1388']"
      ]
     },
     "execution_count": 25,
     "metadata": {},
     "output_type": "execute_result"
    }
   ],
   "source": [
    "list(cars.loc[cars[\"price\"] == 2808348671.00000][\"description\"])"
   ]
  },
  {
   "cell_type": "markdown",
   "metadata": {},
   "source": [
    "Seeing that there is no info regarding the price in the description, we should remove this data point as it is likely an error."
   ]
  },
  {
   "cell_type": "code",
   "execution_count": 26,
   "metadata": {},
   "outputs": [],
   "source": [
    "cars.drop(index = 207260, inplace = True)"
   ]
  },
  {
   "cell_type": "code",
   "execution_count": 27,
   "metadata": {},
   "outputs": [],
   "source": [
    "#After removing the two erroneous rows, reset the index\n",
    "cars.reset_index(inplace = True, drop = True)"
   ]
  },
  {
   "cell_type": "code",
   "execution_count": 28,
   "metadata": {},
   "outputs": [
    {
     "data": {
      "text/html": [
       "<div>\n",
       "<style scoped>\n",
       "    .dataframe tbody tr th:only-of-type {\n",
       "        vertical-align: middle;\n",
       "    }\n",
       "\n",
       "    .dataframe tbody tr th {\n",
       "        vertical-align: top;\n",
       "    }\n",
       "\n",
       "    .dataframe thead th {\n",
       "        text-align: right;\n",
       "    }\n",
       "</style>\n",
       "<table border=\"1\" class=\"dataframe\">\n",
       "  <thead>\n",
       "    <tr style=\"text-align: right;\">\n",
       "      <th></th>\n",
       "      <th>price</th>\n",
       "      <th>year</th>\n",
       "      <th>manufacturer</th>\n",
       "      <th>condition</th>\n",
       "      <th>cylinders</th>\n",
       "      <th>fuel</th>\n",
       "      <th>odometer</th>\n",
       "      <th>title_status</th>\n",
       "      <th>transmission</th>\n",
       "      <th>drive</th>\n",
       "      <th>type</th>\n",
       "      <th>paint_color</th>\n",
       "      <th>description</th>\n",
       "      <th>state</th>\n",
       "    </tr>\n",
       "  </thead>\n",
       "  <tbody>\n",
       "    <tr>\n",
       "      <th>95591</th>\n",
       "      <td>38900</td>\n",
       "      <td>1990.00000</td>\n",
       "      <td>NaN</td>\n",
       "      <td>good</td>\n",
       "      <td>8.00000</td>\n",
       "      <td>diesel</td>\n",
       "      <td>10000000.00000</td>\n",
       "      <td>clean</td>\n",
       "      <td>manual</td>\n",
       "      <td>rwd</td>\n",
       "      <td>truck</td>\n",
       "      <td>grey</td>\n",
       "      <td>This is a 1990 Peterbilt 379 long hood, has a ...</td>\n",
       "      <td>nj</td>\n",
       "    </tr>\n",
       "    <tr>\n",
       "      <th>197082</th>\n",
       "      <td>1400</td>\n",
       "      <td>2000.00000</td>\n",
       "      <td>chevrolet</td>\n",
       "      <td>good</td>\n",
       "      <td>8.00000</td>\n",
       "      <td>gas</td>\n",
       "      <td>10000000.00000</td>\n",
       "      <td>clean</td>\n",
       "      <td>automatic</td>\n",
       "      <td>4wd</td>\n",
       "      <td>truck</td>\n",
       "      <td>black</td>\n",
       "      <td>Good work truck , 4x4 works , AC works PW wido...</td>\n",
       "      <td>oh</td>\n",
       "    </tr>\n",
       "    <tr>\n",
       "      <th>262694</th>\n",
       "      <td>3800</td>\n",
       "      <td>1936.00000</td>\n",
       "      <td>chevrolet</td>\n",
       "      <td>fair</td>\n",
       "      <td>6.00000</td>\n",
       "      <td>gas</td>\n",
       "      <td>10000000.00000</td>\n",
       "      <td>rebuilt</td>\n",
       "      <td>manual</td>\n",
       "      <td>rwd</td>\n",
       "      <td>sedan</td>\n",
       "      <td>black</td>\n",
       "      <td>Four door 1936 chevy car, All parts are there....</td>\n",
       "      <td>sd</td>\n",
       "    </tr>\n",
       "    <tr>\n",
       "      <th>311728</th>\n",
       "      <td>6200</td>\n",
       "      <td>1915.00000</td>\n",
       "      <td>NaN</td>\n",
       "      <td>good</td>\n",
       "      <td>4.00000</td>\n",
       "      <td>gas</td>\n",
       "      <td>10000000.00000</td>\n",
       "      <td>missing</td>\n",
       "      <td>manual</td>\n",
       "      <td>rwd</td>\n",
       "      <td>truck</td>\n",
       "      <td>black</td>\n",
       "      <td>Estate sale find, mostly restores 1915 Maxwell...</td>\n",
       "      <td>ia</td>\n",
       "    </tr>\n",
       "  </tbody>\n",
       "</table>\n",
       "</div>"
      ],
      "text/plain": [
       "        price       year manufacturer condition  cylinders    fuel  \\\n",
       "95591   38900 1990.00000          NaN      good    8.00000  diesel   \n",
       "197082   1400 2000.00000    chevrolet      good    8.00000     gas   \n",
       "262694   3800 1936.00000    chevrolet      fair    6.00000     gas   \n",
       "311728   6200 1915.00000          NaN      good    4.00000     gas   \n",
       "\n",
       "             odometer title_status transmission drive   type paint_color  \\\n",
       "95591  10000000.00000        clean       manual   rwd  truck        grey   \n",
       "197082 10000000.00000        clean    automatic   4wd  truck       black   \n",
       "262694 10000000.00000      rebuilt       manual   rwd  sedan       black   \n",
       "311728 10000000.00000      missing       manual   rwd  truck       black   \n",
       "\n",
       "                                              description state  \n",
       "95591   This is a 1990 Peterbilt 379 long hood, has a ...    nj  \n",
       "197082  Good work truck , 4x4 works , AC works PW wido...    oh  \n",
       "262694  Four door 1936 chevy car, All parts are there....    sd  \n",
       "311728  Estate sale find, mostly restores 1915 Maxwell...    ia  "
      ]
     },
     "execution_count": 28,
     "metadata": {},
     "output_type": "execute_result"
    }
   ],
   "source": [
    "#As seen above, the max value for the column \"odometer\" was 10000000.00. This seems unrealistic. Let's take a look.\n",
    "\n",
    "cars.loc[cars[\"odometer\"] == 10000000.00000]"
   ]
  },
  {
   "cell_type": "markdown",
   "metadata": {},
   "source": [
    "Let's replace all unrealistic values for the column \"odometer\" (anything above 999999, the max reading on the odometer) with an estimate of what the mileage for a car of their age should be. According to [caranddriver.com](https://www.caranddriver.com/research/a32880477/average-mileage-per-year/), the average person drive 13,500 miles per year. We can find the age of each car that lists an unrealistic value, multiply this by 13,500, and impute that for the entry in odometer. If this value exceeds 999,999, we will impute 999,999 as the entry."
   ]
  },
  {
   "cell_type": "code",
   "execution_count": 29,
   "metadata": {},
   "outputs": [],
   "source": [
    "max_odometer_before_imputation = cars[\"odometer\"].max()"
   ]
  },
  {
   "cell_type": "code",
   "execution_count": 30,
   "metadata": {},
   "outputs": [],
   "source": [
    "cars[\"odometer\"] = [x if x <= 999999 else min(999999, (13500 * (2021 - cars[\"year\"][i]))) for i, x in enumerate(cars[\"odometer\"])]"
   ]
  },
  {
   "cell_type": "code",
   "execution_count": 31,
   "metadata": {},
   "outputs": [],
   "source": [
    "max_odometer_after_imputation = cars[\"odometer\"].max()"
   ]
  },
  {
   "cell_type": "code",
   "execution_count": 32,
   "metadata": {},
   "outputs": [
    {
     "name": "stdout",
     "output_type": "stream",
     "text": [
      "10000000.0\n",
      "999999.0\n"
     ]
    }
   ],
   "source": [
    "print(max_odometer_before_imputation)\n",
    "print(max_odometer_after_imputation)"
   ]
  },
  {
   "cell_type": "code",
   "execution_count": 33,
   "metadata": {},
   "outputs": [],
   "source": [
    "cars[\"manufacturer\"].fillna(\"MISSING\", inplace = True)"
   ]
  },
  {
   "cell_type": "code",
   "execution_count": 34,
   "metadata": {},
   "outputs": [],
   "source": [
    "manufacturers = sorted(list(cars[\"manufacturer\"].unique()))\n",
    "nationalities = [\"MISSING\", \"Japanese\", \"Italian\", \"British\", \"German\", \"German\", \"American\", \"American\", \"American\", \n",
    "                 \"American\", \"Japanese\", \"American\", \"Italian\", \"Italian\", \"American\", \"American\", \"American\", \"American\", \n",
    "                \"Japanese\", \"Korean\", \"Japanese\", \"British\", \"American\", \"Korean\", \"British\", \"Japanese\", \"American\", \n",
    "                 \"Japanese\", \"German\", \"American\", \"British\", \"Japanese\", \"British\", \"Japanese\", \"American\", \"German\", \n",
    "                 \"American\", \"British\", \"American\", \"Japanese\", \"American\", \"Japanese\", \"German\", \"Swedish\"]\n",
    "\n",
    "manufacturers_dictionary = {}\n",
    "for i in range(len(manufacturers)):\n",
    "    manufacturers_dictionary[manufacturers[i]] = nationalities[i]"
   ]
  },
  {
   "cell_type": "code",
   "execution_count": 35,
   "metadata": {},
   "outputs": [],
   "source": [
    "cars[\"manufacturer_nationality\"] = cars[\"manufacturer\"].map(manufacturers_dictionary)"
   ]
  },
  {
   "cell_type": "code",
   "execution_count": 36,
   "metadata": {},
   "outputs": [
    {
     "data": {
      "text/plain": [
       "manufacturer_nationality\n",
       "American    180797\n",
       "British       3304\n",
       "German       25037\n",
       "Italian        769\n",
       "Japanese     85402\n",
       "Korean       15834\n",
       "MISSING     110615\n",
       "Swedish       2097\n",
       "Name: manufacturer_nationality, dtype: int64"
      ]
     },
     "execution_count": 36,
     "metadata": {},
     "output_type": "execute_result"
    }
   ],
   "source": [
    "cars.groupby(\"manufacturer_nationality\")[\"manufacturer_nationality\"].count()"
   ]
  },
  {
   "cell_type": "code",
   "execution_count": 37,
   "metadata": {},
   "outputs": [],
   "source": [
    "manufacturer_nationalities = sorted(list(cars[\"manufacturer_nationality\"].unique()))\n",
    "nationality_colors = [\"r\", \"m\", \"y\", \"g\", \"b\", \"c\", \"k\", \"w\"]\n",
    "\n",
    "manufacturers_colors = {}\n",
    "for i in range(len(manufacturer_nationalities)):\n",
    "    manufacturers_colors[manufacturer_nationalities[i]] = nationality_colors[i]"
   ]
  },
  {
   "cell_type": "code",
   "execution_count": 38,
   "metadata": {},
   "outputs": [
    {
     "data": {
      "text/plain": [
       "{'American': 'r',\n",
       " 'British': 'm',\n",
       " 'German': 'y',\n",
       " 'Italian': 'g',\n",
       " 'Japanese': 'b',\n",
       " 'Korean': 'c',\n",
       " 'MISSING': 'k',\n",
       " 'Swedish': 'w'}"
      ]
     },
     "execution_count": 38,
     "metadata": {},
     "output_type": "execute_result"
    }
   ],
   "source": [
    "manufacturers_colors"
   ]
  },
  {
   "cell_type": "code",
   "execution_count": 39,
   "metadata": {},
   "outputs": [],
   "source": [
    "cars[\"nationality_colors\"] = cars[\"manufacturer_nationality\"].map(manufacturers_colors)"
   ]
  },
  {
   "cell_type": "code",
   "execution_count": 40,
   "metadata": {},
   "outputs": [
    {
     "data": {
      "text/plain": [
       "Text(0.5, 1.0, 'Mean List Price by Car Manufacturer')"
      ]
     },
     "execution_count": 40,
     "metadata": {},
     "output_type": "execute_result"
    },
    {
     "data": {
      "image/png": "[encoded data removed]",
      "text/plain": [
       "<Figure size 720x576 with 1 Axes>"
      ]
     },
     "metadata": {
      "needs_background": "light"
     },
     "output_type": "display_data"
    }
   ],
   "source": [
    "#Visualize the Mean List Price of \n",
    "plt.figure(figsize = (10, 8))\n",
    "cars.loc[cars[\"manufacturer_nationality\"] != \"MISSING\"].groupby(\n",
    "    \"manufacturer_nationality\")[\"price\"].mean().plot.bar(color = [\"r\", \"m\", \"y\", \"g\", \"b\", \"c\", \"w\"], edgecolor = \"k\")\n",
    "plt.xlabel(\"Manufacturer\")\n",
    "plt.ylabel(\"Mean List Price\")\n",
    "plt.title(\"Mean List Price by Car Manufacturer\")"
   ]
  },
  {
   "cell_type": "code",
   "execution_count": 41,
   "metadata": {},
   "outputs": [
    {
     "data": {
      "text/plain": [
       "<matplotlib.legend.Legend at 0x13ca6160fa0>"
      ]
     },
     "execution_count": 41,
     "metadata": {},
     "output_type": "execute_result"
    },
    {
     "data": {
      "image/png": "[encoded data removed]",
      "text/plain": [
       "<Figure size 720x576 with 1 Axes>"
      ]
     },
     "metadata": {
      "needs_background": "light"
     },
     "output_type": "display_data"
    }
   ],
   "source": [
    "colors = [\"b\", \"g\", \"m\", \"y\", \"y\", \"r\", \"r\", \"r\", \"r\", \"b\", \"r\", \"g\", \"g\", \"r\", \"r\", \"r\", \"r\", \"b\", \"c\", \"b\", \"m\", \n",
    "         \"r\", \"c\", \"m\", \"b\", \"r\", \"b\", \"y\", \"r\", \"m\", \"b\", \"m\", \"b\", \"r\", \"y\", \"r\", \"m\", \"r\", \"b\", \"r\", \"b\", \"y\", \"w\"]\n",
    "\n",
    "plt.figure(figsize = (10, 8))\n",
    "cars.loc[cars[\"manufacturer_nationality\"] != \"MISSING\"].groupby(\"manufacturer\").price.mean().plot.bar(color = \n",
    "                                                                                                      colors, edgecolor = \"k\")\n",
    "plt.ylabel(\"Average Price\")\n",
    "plt.xlabel(\"Manufacturer\")\n",
    "american = mpatches.Patch(facecolor = \"r\", edgecolor = \"k\", label = \"American Manufacturers\")\n",
    "italian = mpatches.Patch(facecolor = \"g\", edgecolor = \"k\", label = \"Italian Manufacturers\")\n",
    "british = mpatches.Patch(facecolor = \"m\", edgecolor = \"k\", label = \"British Manufacturers\")\n",
    "german = mpatches.Patch(facecolor = \"y\", edgecolor = \"k\", label = \"German Manufacturers\")\n",
    "swedish = mpatches.Patch(facecolor = \"w\", edgecolor = \"k\", label = \"Swedish Manufacturers\")\n",
    "japanese = mpatches.Patch(facecolor = \"b\", edgecolor = \"k\", label = \"Japanese Manufacturers\")\n",
    "korean = mpatches.Patch(facecolor = \"c\", edgecolor = \"k\", label = \"Korean Manufacturers\")\n",
    "plt.title(\"Average Price of Listed Cars by Manufacturer\")\n",
    "plt.legend(handles = [american, italian, british, german, swedish, japanese, korean])"
   ]
  },
  {
   "cell_type": "code",
   "execution_count": 42,
   "metadata": {},
   "outputs": [
    {
     "data": {
      "text/plain": [
       "count       423855.00000\n",
       "mean         36308.21205\n",
       "std        5749884.40163\n",
       "min              0.00000\n",
       "25%           4499.00000\n",
       "50%           9995.00000\n",
       "75%          18995.00000\n",
       "max     2632269824.00000\n",
       "Name: price, dtype: float64"
      ]
     },
     "execution_count": 42,
     "metadata": {},
     "output_type": "execute_result"
    }
   ],
   "source": [
    "cars[\"price\"].describe()"
   ]
  },
  {
   "cell_type": "code",
   "execution_count": 43,
   "metadata": {},
   "outputs": [],
   "source": [
    "cars.drop(index = cars.loc[cars[\"price\"] > 300000].index, inplace = True)\n",
    "\n",
    "cars.drop(index = cars.loc[cars[\"price\"] < 100].index, inplace = True)\n",
    "\n",
    "cars.reset_index(inplace = True, drop = True)"
   ]
  },
  {
   "cell_type": "code",
   "execution_count": 44,
   "metadata": {},
   "outputs": [
    {
     "data": {
      "text/plain": [
       "count   386131.00000\n",
       "mean     15221.11954\n",
       "std      14036.89218\n",
       "min        100.00000\n",
       "25%       5900.00000\n",
       "50%      11500.00000\n",
       "75%      19995.00000\n",
       "max     300000.00000\n",
       "Name: price, dtype: float64"
      ]
     },
     "execution_count": 44,
     "metadata": {},
     "output_type": "execute_result"
    }
   ],
   "source": [
    "cars[\"price\"].describe()"
   ]
  },
  {
   "cell_type": "code",
   "execution_count": 45,
   "metadata": {},
   "outputs": [],
   "source": [
    "min_price = cars[\"price\"].min()\n",
    "price_25 = cars[\"price\"].quantile(0.25)\n",
    "price_50 = cars[\"price\"].quantile(0.50)\n",
    "price_75 = cars[\"price\"].quantile(0.75)\n",
    "max_price = cars[\"price\"].max()\n",
    "\n",
    "price_binned = pd.cut(cars[\"price\"], bins = [min_price, price_25, price_50, price_75, max_price], \n",
    "       labels = [\"Very Low\", \"Low\", \"Mid-High\", \"Expensive\"])"
   ]
  },
  {
   "cell_type": "code",
   "execution_count": 46,
   "metadata": {},
   "outputs": [],
   "source": [
    "cars[\"price_binned\"] = price_binned\n",
    "cars = cars[[cars.columns[0]] + [cars.columns[-1]] + list(cars.columns[1:-1])]"
   ]
  },
  {
   "cell_type": "code",
   "execution_count": 47,
   "metadata": {},
   "outputs": [
    {
     "data": {
      "text/plain": [
       "array([nan, 'sedan', 'truck', 'SUV', 'other', 'mini-van', 'wagon',\n",
       "       'hatchback', 'coupe', 'pickup', 'convertible', 'van', 'bus',\n",
       "       'offroad'], dtype=object)"
      ]
     },
     "execution_count": 47,
     "metadata": {},
     "output_type": "execute_result"
    }
   ],
   "source": [
    "cars[\"type\"].unique()"
   ]
  },
  {
   "cell_type": "code",
   "execution_count": 48,
   "metadata": {},
   "outputs": [],
   "source": [
    "cars.loc[cars[\"type\"] == \"pickup\", \"type\"] = \"truck\""
   ]
  },
  {
   "cell_type": "code",
   "execution_count": 49,
   "metadata": {},
   "outputs": [
    {
     "data": {
      "text/plain": [
       "array([nan, 'sedan', 'truck', 'SUV', 'other', 'mini-van', 'wagon',\n",
       "       'hatchback', 'coupe', 'convertible', 'van', 'bus', 'offroad'],\n",
       "      dtype=object)"
      ]
     },
     "execution_count": 49,
     "metadata": {},
     "output_type": "execute_result"
    }
   ],
   "source": [
    "cars[\"type\"].unique()"
   ]
  },
  {
   "cell_type": "code",
   "execution_count": 50,
   "metadata": {},
   "outputs": [],
   "source": [
    "cars_no_missing = cars.copy()\n",
    "cars_no_missing = cars_no_missing[cars_no_missing[\"manufacturer\"] != \"MISSING\"]\n",
    "cars_no_missing.dropna(inplace = True, axis = 0)\n",
    "cars_no_missing.reset_index(inplace = True, drop = True)"
   ]
  },
  {
   "cell_type": "code",
   "execution_count": 51,
   "metadata": {},
   "outputs": [
    {
     "data": {
      "text/plain": [
       "Index(['price', 'price_binned', 'year', 'manufacturer', 'condition',\n",
       "       'cylinders', 'fuel', 'odometer', 'title_status', 'transmission',\n",
       "       'drive', 'type', 'paint_color', 'description', 'state',\n",
       "       'manufacturer_nationality', 'nationality_colors'],\n",
       "      dtype='object')"
      ]
     },
     "execution_count": 51,
     "metadata": {},
     "output_type": "execute_result"
    }
   ],
   "source": [
    "cars_no_missing.columns"
   ]
  },
  {
   "cell_type": "code",
   "execution_count": 52,
   "metadata": {},
   "outputs": [
    {
     "data": {
      "text/plain": [
       "<Figure size 432x288 with 0 Axes>"
      ]
     },
     "metadata": {},
     "output_type": "display_data"
    },
    {
     "data": {
      "image/png": "[encoded data removed]",
      "text/plain": [
       "<Figure size 576x432 with 1 Axes>"
      ]
     },
     "metadata": {
      "needs_background": "light"
     },
     "output_type": "display_data"
    },
    {
     "data": {
      "text/plain": [
       "<Figure size 432x288 with 0 Axes>"
      ]
     },
     "metadata": {},
     "output_type": "display_data"
    },
    {
     "data": {
      "image/png": "[encoded data removed]",
      "text/plain": [
       "<Figure size 576x432 with 1 Axes>"
      ]
     },
     "metadata": {
      "needs_background": "light"
     },
     "output_type": "display_data"
    },
    {
     "data": {
      "text/plain": [
       "<Figure size 432x288 with 0 Axes>"
      ]
     },
     "metadata": {},
     "output_type": "display_data"
    },
    {
     "data": {
      "image/png": "[encoded data removed]",
      "text/plain": [
       "<Figure size 576x432 with 1 Axes>"
      ]
     },
     "metadata": {
      "needs_background": "light"
     },
     "output_type": "display_data"
    },
    {
     "data": {
      "text/plain": [
       "<Figure size 432x288 with 0 Axes>"
      ]
     },
     "metadata": {},
     "output_type": "display_data"
    },
    {
     "data": {
      "image/png": "[encoded data removed]",
      "text/plain": [
       "<Figure size 576x432 with 1 Axes>"
      ]
     },
     "metadata": {
      "needs_background": "light"
     },
     "output_type": "display_data"
    },
    {
     "data": {
      "text/plain": [
       "<Figure size 432x288 with 0 Axes>"
      ]
     },
     "metadata": {},
     "output_type": "display_data"
    },
    {
     "data": {
      "image/png": "[encoded data removed]",
      "text/plain": [
       "<Figure size 576x432 with 1 Axes>"
      ]
     },
     "metadata": {
      "needs_background": "light"
     },
     "output_type": "display_data"
    },
    {
     "data": {
      "text/plain": [
       "<Figure size 432x288 with 0 Axes>"
      ]
     },
     "metadata": {},
     "output_type": "display_data"
    },
    {
     "data": {
      "image/png": "[encoded data removed]",
      "text/plain": [
       "<Figure size 576x432 with 1 Axes>"
      ]
     },
     "metadata": {
      "needs_background": "light"
     },
     "output_type": "display_data"
    },
    {
     "data": {
      "text/plain": [
       "<Figure size 432x288 with 0 Axes>"
      ]
     },
     "metadata": {},
     "output_type": "display_data"
    },
    {
     "data": {
      "image/png": "[encoded data removed]",
      "text/plain": [
       "<Figure size 576x432 with 1 Axes>"
      ]
     },
     "metadata": {
      "needs_background": "light"
     },
     "output_type": "display_data"
    }
   ],
   "source": [
    "#Generate plots for each manufacturer denoting the mean price of cars listed for that year and plot it\n",
    "no_missing_manufacturer_nationalities = sorted(list(cars_no_missing[\"manufacturer_nationality\"].unique()))\n",
    "no_missing_manufacturer_nationalities_colors = [\"r\", \"m\", \"y\", \"g\", \"b\", \"c\", \"k\"]\n",
    "\n",
    "for i in range(len(no_missing_manufacturer_nationalities)):\n",
    "    manufacturer_nationality = no_missing_manufacturer_nationalities[i]\n",
    "    x = sorted(cars_no_missing[cars_no_missing[\"manufacturer_nationality\"] ==  manufacturer_nationality][\"year\"].unique())\n",
    "    y = cars_no_missing[cars_no_missing[\"manufacturer_nationality\"] ==  manufacturer_nationality].groupby(\"year\")[\"price\"].mean()\n",
    "    plt.figure()\n",
    "    plt.figure(figsize = (8, 6))\n",
    "    plt.scatter(x, y, color = no_missing_manufacturer_nationalities_colors[i])\n",
    "    plt.xlabel(\"Model Year\")\n",
    "    plt.ylabel(\"Average Price\")\n",
    "    plt.title(\"Average Price for %s Manufacturers by Model Year\" %manufacturer_nationality)\n",
    "plt.show()"
   ]
  },
  {
   "cell_type": "code",
   "execution_count": 53,
   "metadata": {},
   "outputs": [
    {
     "data": {
      "text/plain": [
       "Text(0.5, 1.0, 'Average Price in Each Price Category')"
      ]
     },
     "execution_count": 53,
     "metadata": {},
     "output_type": "execute_result"
    },
    {
     "data": {
      "image/png": "[encoded data removed]",
      "text/plain": [
       "<Figure size 720x288 with 1 Axes>"
      ]
     },
     "metadata": {
      "needs_background": "light"
     },
     "output_type": "display_data"
    }
   ],
   "source": [
    "plt.figure(figsize = (10, 4))\n",
    "sns.barplot(x = \"price_binned\", y = \"price\", data = cars_no_missing, palette = \"rocket\")\n",
    "plt.xlabel(\"Price Category\")\n",
    "plt.ylabel(\"Average Price\")\n",
    "plt.title(\"Average Price in Each Price Category\")"
   ]
  },
  {
   "cell_type": "code",
   "execution_count": 54,
   "metadata": {},
   "outputs": [
    {
     "data": {
      "text/plain": [
       "Text(0.5, 1.0, 'Number of Listings per Price Category')"
      ]
     },
     "execution_count": 54,
     "metadata": {},
     "output_type": "execute_result"
    },
    {
     "data": {
      "image/png": "[encoded data removed]",
      "text/plain": [
       "<Figure size 720x288 with 1 Axes>"
      ]
     },
     "metadata": {
      "needs_background": "light"
     },
     "output_type": "display_data"
    }
   ],
   "source": [
    "plt.figure(figsize = (10, 4))\n",
    "sns.countplot(x = \"price_binned\", data = cars_no_missing, palette = \"magma\")\n",
    "plt.xlabel(\"Price Category\")\n",
    "plt.ylabel(\"Number of Listings\")\n",
    "plt.title(\"Number of Listings per Price Category\")"
   ]
  },
  {
   "cell_type": "code",
   "execution_count": 55,
   "metadata": {},
   "outputs": [
    {
     "data": {
      "text/plain": [
       "Text(0.5, 0, 'Fuel Used')"
      ]
     },
     "execution_count": 55,
     "metadata": {},
     "output_type": "execute_result"
    },
    {
     "data": {
      "image/png": "[encoded data removed]",
      "text/plain": [
       "<Figure size 720x288 with 1 Axes>"
      ]
     },
     "metadata": {
      "needs_background": "light"
     },
     "output_type": "display_data"
    }
   ],
   "source": [
    "plt.figure(figsize = (10, 4))\n",
    "cars_no_missing.groupby(\"fuel\").price.mean().plot.bar(color = colors, edgecolor = \"k\")\n",
    "plt.ylabel(\"Average Price\")\n",
    "plt.xlabel(\"Fuel Used\")"
   ]
  },
  {
   "cell_type": "code",
   "execution_count": 56,
   "metadata": {},
   "outputs": [
    {
     "data": {
      "text/plain": [
       "Text(0.5, 0, 'Fuel Used')"
      ]
     },
     "execution_count": 56,
     "metadata": {},
     "output_type": "execute_result"
    },
    {
     "data": {
      "image/png": "[encoded data removed]",
      "text/plain": [
       "<Figure size 720x288 with 1 Axes>"
      ]
     },
     "metadata": {
      "needs_background": "light"
     },
     "output_type": "display_data"
    }
   ],
   "source": [
    "plt.figure(figsize = (10, 4))\n",
    "cars_no_missing.groupby(\"fuel\").price.count().plot.bar(color = colors, edgecolor = \"k\")\n",
    "plt.ylabel(\"Number of Cars Available\")\n",
    "plt.xlabel(\"Fuel Used\")"
   ]
  },
  {
   "cell_type": "code",
   "execution_count": 57,
   "metadata": {},
   "outputs": [
    {
     "data": {
      "text/plain": [
       "Text(0.5, 0, 'Fuel Used')"
      ]
     },
     "execution_count": 57,
     "metadata": {},
     "output_type": "execute_result"
    },
    {
     "data": {
      "image/png": "[encoded data removed]",
      "text/plain": [
       "<Figure size 720x288 with 1 Axes>"
      ]
     },
     "metadata": {
      "needs_background": "light"
     },
     "output_type": "display_data"
    }
   ],
   "source": [
    "plt.figure(figsize = (10, 4))\n",
    "cars_no_missing.groupby(\"type\").price.count().plot.bar(color = colors, edgecolor = \"k\")\n",
    "plt.ylabel(\"Number of Cars Available\")\n",
    "plt.xlabel(\"Fuel Used\")"
   ]
  },
  {
   "cell_type": "code",
   "execution_count": 58,
   "metadata": {},
   "outputs": [],
   "source": [
    "numerical = cars_no_missing.loc[:, [\"price\", \"year\", \"cylinders\", \"odometer\"]]\n",
    "categorical = cars_no_missing.loc[:, [\"manufacturer\", \"condition\", \"fuel\", \"title_status\", \"transmission\", \"drive\", \n",
    "                           \"type\", \"paint_color\", \"state\", \"nationality_colors\"]]\n",
    "binned_prediction = cars_no_missing[\"price_binned\"]"
   ]
  },
  {
   "cell_type": "code",
   "execution_count": 59,
   "metadata": {},
   "outputs": [],
   "source": [
    "#Create k-1 dummy variables for each k-level categorical variable\n",
    "categorical_dummies = pd.get_dummies(categorical.iloc[:, 0:9], drop_first = True)"
   ]
  },
  {
   "cell_type": "code",
   "execution_count": 60,
   "metadata": {},
   "outputs": [
    {
     "data": {
      "text/html": [
       "<div>\n",
       "<style scoped>\n",
       "    .dataframe tbody tr th:only-of-type {\n",
       "        vertical-align: middle;\n",
       "    }\n",
       "\n",
       "    .dataframe tbody tr th {\n",
       "        vertical-align: top;\n",
       "    }\n",
       "\n",
       "    .dataframe thead th {\n",
       "        text-align: right;\n",
       "    }\n",
       "</style>\n",
       "<table border=\"1\" class=\"dataframe\">\n",
       "  <thead>\n",
       "    <tr style=\"text-align: right;\">\n",
       "      <th></th>\n",
       "      <th>price</th>\n",
       "      <th>year</th>\n",
       "      <th>cylinders</th>\n",
       "      <th>odometer</th>\n",
       "      <th>manufacturer_alfa-romeo</th>\n",
       "      <th>manufacturer_aston-martin</th>\n",
       "      <th>manufacturer_audi</th>\n",
       "      <th>manufacturer_bmw</th>\n",
       "      <th>manufacturer_buick</th>\n",
       "      <th>manufacturer_cadillac</th>\n",
       "      <th>...</th>\n",
       "      <th>state_sd</th>\n",
       "      <th>state_tn</th>\n",
       "      <th>state_tx</th>\n",
       "      <th>state_ut</th>\n",
       "      <th>state_va</th>\n",
       "      <th>state_vt</th>\n",
       "      <th>state_wa</th>\n",
       "      <th>state_wi</th>\n",
       "      <th>state_wv</th>\n",
       "      <th>state_wy</th>\n",
       "    </tr>\n",
       "  </thead>\n",
       "  <tbody>\n",
       "    <tr>\n",
       "      <th>0</th>\n",
       "      <td>12500</td>\n",
       "      <td>2003.00000</td>\n",
       "      <td>4.00000</td>\n",
       "      <td>243000.00000</td>\n",
       "      <td>0</td>\n",
       "      <td>0</td>\n",
       "      <td>0</td>\n",
       "      <td>0</td>\n",
       "      <td>0</td>\n",
       "      <td>0</td>\n",
       "      <td>...</td>\n",
       "      <td>0</td>\n",
       "      <td>0</td>\n",
       "      <td>0</td>\n",
       "      <td>0</td>\n",
       "      <td>0</td>\n",
       "      <td>0</td>\n",
       "      <td>0</td>\n",
       "      <td>0</td>\n",
       "      <td>0</td>\n",
       "      <td>0</td>\n",
       "    </tr>\n",
       "    <tr>\n",
       "      <th>1</th>\n",
       "      <td>16995</td>\n",
       "      <td>2007.00000</td>\n",
       "      <td>8.00000</td>\n",
       "      <td>254217.00000</td>\n",
       "      <td>0</td>\n",
       "      <td>0</td>\n",
       "      <td>0</td>\n",
       "      <td>0</td>\n",
       "      <td>0</td>\n",
       "      <td>0</td>\n",
       "      <td>...</td>\n",
       "      <td>0</td>\n",
       "      <td>0</td>\n",
       "      <td>0</td>\n",
       "      <td>0</td>\n",
       "      <td>0</td>\n",
       "      <td>0</td>\n",
       "      <td>0</td>\n",
       "      <td>0</td>\n",
       "      <td>0</td>\n",
       "      <td>0</td>\n",
       "    </tr>\n",
       "    <tr>\n",
       "      <th>2</th>\n",
       "      <td>13995</td>\n",
       "      <td>2012.00000</td>\n",
       "      <td>6.00000</td>\n",
       "      <td>188406.00000</td>\n",
       "      <td>0</td>\n",
       "      <td>0</td>\n",
       "      <td>0</td>\n",
       "      <td>0</td>\n",
       "      <td>0</td>\n",
       "      <td>0</td>\n",
       "      <td>...</td>\n",
       "      <td>0</td>\n",
       "      <td>0</td>\n",
       "      <td>0</td>\n",
       "      <td>0</td>\n",
       "      <td>0</td>\n",
       "      <td>0</td>\n",
       "      <td>0</td>\n",
       "      <td>0</td>\n",
       "      <td>0</td>\n",
       "      <td>0</td>\n",
       "    </tr>\n",
       "    <tr>\n",
       "      <th>3</th>\n",
       "      <td>7995</td>\n",
       "      <td>2010.00000</td>\n",
       "      <td>4.00000</td>\n",
       "      <td>108124.00000</td>\n",
       "      <td>0</td>\n",
       "      <td>0</td>\n",
       "      <td>0</td>\n",
       "      <td>0</td>\n",
       "      <td>0</td>\n",
       "      <td>0</td>\n",
       "      <td>...</td>\n",
       "      <td>0</td>\n",
       "      <td>0</td>\n",
       "      <td>0</td>\n",
       "      <td>0</td>\n",
       "      <td>0</td>\n",
       "      <td>0</td>\n",
       "      <td>0</td>\n",
       "      <td>0</td>\n",
       "      <td>0</td>\n",
       "      <td>0</td>\n",
       "    </tr>\n",
       "    <tr>\n",
       "      <th>4</th>\n",
       "      <td>8995</td>\n",
       "      <td>2011.00000</td>\n",
       "      <td>6.00000</td>\n",
       "      <td>178054.00000</td>\n",
       "      <td>0</td>\n",
       "      <td>0</td>\n",
       "      <td>0</td>\n",
       "      <td>0</td>\n",
       "      <td>0</td>\n",
       "      <td>0</td>\n",
       "      <td>...</td>\n",
       "      <td>0</td>\n",
       "      <td>0</td>\n",
       "      <td>0</td>\n",
       "      <td>0</td>\n",
       "      <td>0</td>\n",
       "      <td>0</td>\n",
       "      <td>0</td>\n",
       "      <td>0</td>\n",
       "      <td>0</td>\n",
       "      <td>0</td>\n",
       "    </tr>\n",
       "  </tbody>\n",
       "</table>\n",
       "<p>5 rows × 135 columns</p>\n",
       "</div>"
      ],
      "text/plain": [
       "   price       year  cylinders     odometer  manufacturer_alfa-romeo  \\\n",
       "0  12500 2003.00000    4.00000 243000.00000                        0   \n",
       "1  16995 2007.00000    8.00000 254217.00000                        0   \n",
       "2  13995 2012.00000    6.00000 188406.00000                        0   \n",
       "3   7995 2010.00000    4.00000 108124.00000                        0   \n",
       "4   8995 2011.00000    6.00000 178054.00000                        0   \n",
       "\n",
       "   manufacturer_aston-martin  manufacturer_audi  manufacturer_bmw  \\\n",
       "0                          0                  0                 0   \n",
       "1                          0                  0                 0   \n",
       "2                          0                  0                 0   \n",
       "3                          0                  0                 0   \n",
       "4                          0                  0                 0   \n",
       "\n",
       "   manufacturer_buick  manufacturer_cadillac  ...  state_sd  state_tn  \\\n",
       "0                   0                      0  ...         0         0   \n",
       "1                   0                      0  ...         0         0   \n",
       "2                   0                      0  ...         0         0   \n",
       "3                   0                      0  ...         0         0   \n",
       "4                   0                      0  ...         0         0   \n",
       "\n",
       "   state_tx  state_ut  state_va  state_vt  state_wa  state_wi  state_wv  \\\n",
       "0         0         0         0         0         0         0         0   \n",
       "1         0         0         0         0         0         0         0   \n",
       "2         0         0         0         0         0         0         0   \n",
       "3         0         0         0         0         0         0         0   \n",
       "4         0         0         0         0         0         0         0   \n",
       "\n",
       "   state_wy  \n",
       "0         0  \n",
       "1         0  \n",
       "2         0  \n",
       "3         0  \n",
       "4         0  \n",
       "\n",
       "[5 rows x 135 columns]"
      ]
     },
     "execution_count": 60,
     "metadata": {},
     "output_type": "execute_result"
    }
   ],
   "source": [
    "cars_linear_data = pd.concat([numerical, categorical_dummies], axis = 1)\n",
    "cars_linear_data.head()"
   ]
  },
  {
   "cell_type": "code",
   "execution_count": 61,
   "metadata": {},
   "outputs": [
    {
     "data": {
      "text/plain": [
       "count    91546.00000\n",
       "mean     12592.86646\n",
       "std      10954.63778\n",
       "min        123.00000\n",
       "25%       5295.00000\n",
       "50%       9295.00000\n",
       "75%      16488.00000\n",
       "max     265000.00000\n",
       "Name: price, dtype: float64"
      ]
     },
     "execution_count": 61,
     "metadata": {},
     "output_type": "execute_result"
    }
   ],
   "source": [
    "cars_linear_data[\"price\"].describe()"
   ]
  },
  {
   "cell_type": "code",
   "execution_count": 62,
   "metadata": {},
   "outputs": [
    {
     "data": {
      "text/html": [
       "<div>\n",
       "<style scoped>\n",
       "    .dataframe tbody tr th:only-of-type {\n",
       "        vertical-align: middle;\n",
       "    }\n",
       "\n",
       "    .dataframe tbody tr th {\n",
       "        vertical-align: top;\n",
       "    }\n",
       "\n",
       "    .dataframe thead th {\n",
       "        text-align: right;\n",
       "    }\n",
       "</style>\n",
       "<table border=\"1\" class=\"dataframe\">\n",
       "  <thead>\n",
       "    <tr style=\"text-align: right;\">\n",
       "      <th></th>\n",
       "      <th>price_binned</th>\n",
       "      <th>year</th>\n",
       "      <th>cylinders</th>\n",
       "      <th>odometer</th>\n",
       "      <th>manufacturer_alfa-romeo</th>\n",
       "      <th>manufacturer_aston-martin</th>\n",
       "      <th>manufacturer_audi</th>\n",
       "      <th>manufacturer_bmw</th>\n",
       "      <th>manufacturer_buick</th>\n",
       "      <th>manufacturer_cadillac</th>\n",
       "      <th>...</th>\n",
       "      <th>state_sd</th>\n",
       "      <th>state_tn</th>\n",
       "      <th>state_tx</th>\n",
       "      <th>state_ut</th>\n",
       "      <th>state_va</th>\n",
       "      <th>state_vt</th>\n",
       "      <th>state_wa</th>\n",
       "      <th>state_wi</th>\n",
       "      <th>state_wv</th>\n",
       "      <th>state_wy</th>\n",
       "    </tr>\n",
       "  </thead>\n",
       "  <tbody>\n",
       "    <tr>\n",
       "      <th>0</th>\n",
       "      <td>Mid-High</td>\n",
       "      <td>2003.00000</td>\n",
       "      <td>4.00000</td>\n",
       "      <td>243000.00000</td>\n",
       "      <td>0</td>\n",
       "      <td>0</td>\n",
       "      <td>0</td>\n",
       "      <td>0</td>\n",
       "      <td>0</td>\n",
       "      <td>0</td>\n",
       "      <td>...</td>\n",
       "      <td>0</td>\n",
       "      <td>0</td>\n",
       "      <td>0</td>\n",
       "      <td>0</td>\n",
       "      <td>0</td>\n",
       "      <td>0</td>\n",
       "      <td>0</td>\n",
       "      <td>0</td>\n",
       "      <td>0</td>\n",
       "      <td>0</td>\n",
       "    </tr>\n",
       "    <tr>\n",
       "      <th>1</th>\n",
       "      <td>Mid-High</td>\n",
       "      <td>2007.00000</td>\n",
       "      <td>8.00000</td>\n",
       "      <td>254217.00000</td>\n",
       "      <td>0</td>\n",
       "      <td>0</td>\n",
       "      <td>0</td>\n",
       "      <td>0</td>\n",
       "      <td>0</td>\n",
       "      <td>0</td>\n",
       "      <td>...</td>\n",
       "      <td>0</td>\n",
       "      <td>0</td>\n",
       "      <td>0</td>\n",
       "      <td>0</td>\n",
       "      <td>0</td>\n",
       "      <td>0</td>\n",
       "      <td>0</td>\n",
       "      <td>0</td>\n",
       "      <td>0</td>\n",
       "      <td>0</td>\n",
       "    </tr>\n",
       "    <tr>\n",
       "      <th>2</th>\n",
       "      <td>Mid-High</td>\n",
       "      <td>2012.00000</td>\n",
       "      <td>6.00000</td>\n",
       "      <td>188406.00000</td>\n",
       "      <td>0</td>\n",
       "      <td>0</td>\n",
       "      <td>0</td>\n",
       "      <td>0</td>\n",
       "      <td>0</td>\n",
       "      <td>0</td>\n",
       "      <td>...</td>\n",
       "      <td>0</td>\n",
       "      <td>0</td>\n",
       "      <td>0</td>\n",
       "      <td>0</td>\n",
       "      <td>0</td>\n",
       "      <td>0</td>\n",
       "      <td>0</td>\n",
       "      <td>0</td>\n",
       "      <td>0</td>\n",
       "      <td>0</td>\n",
       "    </tr>\n",
       "    <tr>\n",
       "      <th>3</th>\n",
       "      <td>Low</td>\n",
       "      <td>2010.00000</td>\n",
       "      <td>4.00000</td>\n",
       "      <td>108124.00000</td>\n",
       "      <td>0</td>\n",
       "      <td>0</td>\n",
       "      <td>0</td>\n",
       "      <td>0</td>\n",
       "      <td>0</td>\n",
       "      <td>0</td>\n",
       "      <td>...</td>\n",
       "      <td>0</td>\n",
       "      <td>0</td>\n",
       "      <td>0</td>\n",
       "      <td>0</td>\n",
       "      <td>0</td>\n",
       "      <td>0</td>\n",
       "      <td>0</td>\n",
       "      <td>0</td>\n",
       "      <td>0</td>\n",
       "      <td>0</td>\n",
       "    </tr>\n",
       "    <tr>\n",
       "      <th>4</th>\n",
       "      <td>Low</td>\n",
       "      <td>2011.00000</td>\n",
       "      <td>6.00000</td>\n",
       "      <td>178054.00000</td>\n",
       "      <td>0</td>\n",
       "      <td>0</td>\n",
       "      <td>0</td>\n",
       "      <td>0</td>\n",
       "      <td>0</td>\n",
       "      <td>0</td>\n",
       "      <td>...</td>\n",
       "      <td>0</td>\n",
       "      <td>0</td>\n",
       "      <td>0</td>\n",
       "      <td>0</td>\n",
       "      <td>0</td>\n",
       "      <td>0</td>\n",
       "      <td>0</td>\n",
       "      <td>0</td>\n",
       "      <td>0</td>\n",
       "      <td>0</td>\n",
       "    </tr>\n",
       "  </tbody>\n",
       "</table>\n",
       "<p>5 rows × 135 columns</p>\n",
       "</div>"
      ],
      "text/plain": [
       "  price_binned       year  cylinders     odometer  manufacturer_alfa-romeo  \\\n",
       "0     Mid-High 2003.00000    4.00000 243000.00000                        0   \n",
       "1     Mid-High 2007.00000    8.00000 254217.00000                        0   \n",
       "2     Mid-High 2012.00000    6.00000 188406.00000                        0   \n",
       "3          Low 2010.00000    4.00000 108124.00000                        0   \n",
       "4          Low 2011.00000    6.00000 178054.00000                        0   \n",
       "\n",
       "   manufacturer_aston-martin  manufacturer_audi  manufacturer_bmw  \\\n",
       "0                          0                  0                 0   \n",
       "1                          0                  0                 0   \n",
       "2                          0                  0                 0   \n",
       "3                          0                  0                 0   \n",
       "4                          0                  0                 0   \n",
       "\n",
       "   manufacturer_buick  manufacturer_cadillac  ...  state_sd  state_tn  \\\n",
       "0                   0                      0  ...         0         0   \n",
       "1                   0                      0  ...         0         0   \n",
       "2                   0                      0  ...         0         0   \n",
       "3                   0                      0  ...         0         0   \n",
       "4                   0                      0  ...         0         0   \n",
       "\n",
       "   state_tx  state_ut  state_va  state_vt  state_wa  state_wi  state_wv  \\\n",
       "0         0         0         0         0         0         0         0   \n",
       "1         0         0         0         0         0         0         0   \n",
       "2         0         0         0         0         0         0         0   \n",
       "3         0         0         0         0         0         0         0   \n",
       "4         0         0         0         0         0         0         0   \n",
       "\n",
       "   state_wy  \n",
       "0         0  \n",
       "1         0  \n",
       "2         0  \n",
       "3         0  \n",
       "4         0  \n",
       "\n",
       "[5 rows x 135 columns]"
      ]
     },
     "execution_count": 62,
     "metadata": {},
     "output_type": "execute_result"
    }
   ],
   "source": [
    "cars_price_binned = cars_linear_data.copy()\n",
    "cars_price_binned[\"price_binned\"] = binned_prediction\n",
    "cars_price_binned.drop(\"price\", axis = 1, inplace = True)\n",
    "cars_price_binned = cars_price_binned[[cars_price_binned.columns[-1]] + list(cars_price_binned.columns[0:-1])]\n",
    "cars_price_binned.head()"
   ]
  },
  {
   "cell_type": "markdown",
   "metadata": {},
   "source": [
    "## Model Building"
   ]
  },
  {
   "cell_type": "markdown",
   "metadata": {},
   "source": [
    "### Linear Regression"
   ]
  },
  {
   "cell_type": "code",
   "execution_count": 63,
   "metadata": {},
   "outputs": [
    {
     "data": {
      "text/plain": [
       "Text(0.5, 0, 'Price')"
      ]
     },
     "execution_count": 63,
     "metadata": {},
     "output_type": "execute_result"
    },
    {
     "data": {
      "image/png": "[encoded data removed]",
      "text/plain": [
       "<Figure size 720x864 with 1 Axes>"
      ]
     },
     "metadata": {
      "needs_background": "light"
     },
     "output_type": "display_data"
    }
   ],
   "source": [
    "plt.figure(figsize = (10, 12))\n",
    "plt.ticklabel_format(style = \"plain\")\n",
    "sns.histplot(data = cars_linear_data, x = \"price\", bins = 100, kde = True)\n",
    "plt.xlabel(\"Price\")"
   ]
  },
  {
   "cell_type": "code",
   "execution_count": 64,
   "metadata": {},
   "outputs": [
    {
     "name": "stdout",
     "output_type": "stream",
     "text": [
      "                            OLS Regression Results                            \n",
      "==============================================================================\n",
      "Dep. Variable:                  price   R-squared:                       0.399\n",
      "Model:                            OLS   Adj. R-squared:                  0.398\n",
      "Method:                 Least Squares   F-statistic:                     452.4\n",
      "Date:                Mon, 07 Dec 2020   Prob (F-statistic):               0.00\n",
      "Time:                        21:07:40   Log-Likelihood:            -9.5813e+05\n",
      "No. Observations:               91546   AIC:                         1.917e+06\n",
      "Df Residuals:                   91411   BIC:                         1.918e+06\n",
      "Df Model:                         134                                         \n",
      "Covariance Type:            nonrobust                                         \n",
      "================================================================================================\n",
      "                                   coef    std err          t      P>|t|      [0.025      0.975]\n",
      "------------------------------------------------------------------------------------------------\n",
      "const                        -3.649e+05   8159.912    -44.721      0.000   -3.81e+05   -3.49e+05\n",
      "year                           191.1387      4.027     47.458      0.000     183.245     199.033\n",
      "cylinders                     1009.5229     26.598     37.955      0.000     957.391    1061.655\n",
      "odometer                        -0.0170      0.000    -49.436      0.000      -0.018      -0.016\n",
      "manufacturer_alfa-romeo       5996.8795   1927.427      3.111      0.002    2219.142    9774.617\n",
      "manufacturer_aston-martin     1.957e+04   4265.144      4.588      0.000    1.12e+04    2.79e+04\n",
      "manufacturer_audi               88.9254    404.826      0.220      0.826    -704.529     882.380\n",
      "manufacturer_bmw             -1417.9142    341.046     -4.158      0.000   -2086.361    -749.467\n",
      "manufacturer_buick              82.2406    374.459      0.220      0.826    -651.695     816.176\n",
      "manufacturer_cadillac          888.5686    366.253      2.426      0.015     170.716    1606.421\n",
      "manufacturer_chevrolet         102.4867    299.588      0.342      0.732    -484.703     689.676\n",
      "manufacturer_chrysler        -2367.4037    353.029     -6.706      0.000   -3059.337   -1675.471\n",
      "manufacturer_datsun           5787.8842   1765.050      3.279      0.001    2328.404    9247.365\n",
      "manufacturer_dodge           -1013.2172    325.220     -3.115      0.002   -1650.646    -375.789\n",
      "manufacturer_ferrari          6.723e+04   2583.264     26.025      0.000    6.22e+04    7.23e+04\n",
      "manufacturer_fiat            -3591.7747    702.858     -5.110      0.000   -4969.370   -2214.180\n",
      "manufacturer_ford             -200.7836    298.893     -0.672      0.502    -786.611     385.043\n",
      "manufacturer_gmc               794.6116    327.272      2.428      0.015     153.162    1436.061\n",
      "manufacturer_harley-davidson -5772.1856   3024.159     -1.909      0.056   -1.17e+04     155.136\n",
      "manufacturer_honda            -665.6336    310.125     -2.146      0.032   -1273.476     -57.792\n",
      "manufacturer_hyundai          -960.9418    337.656     -2.846      0.004   -1622.744    -299.140\n",
      "manufacturer_infiniti         -759.6213    442.479     -1.717      0.086   -1626.875     107.633\n",
      "manufacturer_jaguar           -226.8498    613.674     -0.370      0.712   -1429.645     975.945\n",
      "manufacturer_jeep              211.4346    322.911      0.655      0.513    -421.468     844.337\n",
      "manufacturer_kia             -1038.1924    352.024     -2.949      0.003   -1728.157    -348.228\n",
      "manufacturer_land rover      -2023.0299   3227.837     -0.627      0.531   -8349.559    4303.499\n",
      "manufacturer_lexus             824.3433    376.624      2.189      0.029      86.164    1562.523\n",
      "manufacturer_lincoln          -990.8439    415.695     -2.384      0.017   -1805.602    -176.086\n",
      "manufacturer_mazda           -1786.7514    380.739     -4.693      0.000   -2532.997   -1040.506\n",
      "manufacturer_mercedes-benz     212.7856    354.526      0.600      0.548    -482.081     907.653\n",
      "manufacturer_mercury         -2752.1125    475.804     -5.784      0.000   -3684.683   -1819.542\n",
      "manufacturer_mini            -2351.2918    506.802     -4.639      0.000   -3344.618   -1357.965\n",
      "manufacturer_mitsubishi      -2432.1210    468.063     -5.196      0.000   -3349.520   -1514.723\n",
      "manufacturer_morgan           2.098e+04   8511.080      2.465      0.014    4297.529    3.77e+04\n",
      "manufacturer_nissan          -1394.8845    312.216     -4.468      0.000   -2006.824    -782.945\n",
      "manufacturer_pontiac         -1032.8503    398.085     -2.595      0.009   -1813.093    -252.607\n",
      "manufacturer_porche           1.602e+04   8507.429      1.884      0.060    -650.689    3.27e+04\n",
      "manufacturer_ram               651.8098    340.389      1.915      0.056     -15.348    1318.968\n",
      "manufacturer_rover            5307.1832    527.442     10.062      0.000    4273.403    6340.964\n",
      "manufacturer_saturn          -3181.5977    500.033     -6.363      0.000   -4161.657   -2201.538\n",
      "manufacturer_subaru          -1542.5014    348.227     -4.430      0.000   -2225.024    -859.979\n",
      "manufacturer_tesla            2.032e+04   8631.567      2.354      0.019    3404.467    3.72e+04\n",
      "manufacturer_toyota            718.2027    305.651      2.350      0.019     119.131    1317.275\n",
      "manufacturer_volkswagen      -1114.8216    343.025     -3.250      0.001   -1787.147    -442.496\n",
      "manufacturer_volvo           -1033.7380    431.043     -2.398      0.016   -1878.579    -188.897\n",
      "condition_fair               -7661.9327    148.204    -51.699      0.000   -7952.411   -7371.454\n",
      "condition_good               -2804.5892     64.790    -43.287      0.000   -2931.577   -2677.602\n",
      "condition_like new            3434.3862     94.880     36.197      0.000    3248.422    3620.351\n",
      "condition_new                 1.026e+04    409.634     25.036      0.000    9452.673    1.11e+04\n",
      "condition_salvage            -6767.5237    523.112    -12.937      0.000   -7792.819   -5742.229\n",
      "fuel_electric                -3804.6140   1447.452     -2.628      0.009   -6641.605    -967.623\n",
      "fuel_gas                     -5906.4643    136.948    -43.129      0.000   -6174.881   -5638.048\n",
      "fuel_hybrid                  -5712.6576    300.285    -19.024      0.000   -6301.212   -5124.103\n",
      "fuel_other                   -1517.4687    345.877     -4.387      0.000   -2195.384    -839.553\n",
      "title_status_lien             4699.0956    255.311     18.405      0.000    4198.689    5199.502\n",
      "title_status_missing          1836.0889    640.266      2.868      0.004     581.175    3091.003\n",
      "title_status_parts only      -2047.6860   1375.856     -1.488      0.137   -4744.349     648.977\n",
      "title_status_rebuilt          -774.9421    169.139     -4.582      0.000   -1106.453    -443.431\n",
      "title_status_salvage         -2008.8132    251.746     -7.980      0.000   -2502.233   -1515.393\n",
      "transmission_manual           1824.6508    111.566     16.355      0.000    1605.983    2043.318\n",
      "transmission_other            9603.6352    194.134     49.469      0.000    9223.134    9984.137\n",
      "drive_fwd                    -4360.7244     98.255    -44.382      0.000   -4553.303   -4168.146\n",
      "drive_rwd                    -1287.9304     94.531    -13.624      0.000   -1473.210   -1102.651\n",
      "type_bus                      6322.3877    822.665      7.685      0.000    4709.972    7934.803\n",
      "type_convertible              4564.5816    190.925     23.908      0.000    4190.371    4938.792\n",
      "type_coupe                    5312.2524    142.344     37.320      0.000    5033.260    5591.245\n",
      "type_hatchback                 349.7361    168.859      2.071      0.038      18.774     680.699\n",
      "type_mini-van                 1569.7139    191.688      8.189      0.000    1194.008    1945.420\n",
      "type_offroad                  5347.8745    451.654     11.841      0.000    4462.637    6233.113\n",
      "type_other                    4569.5248    262.421     17.413      0.000    4055.183    5083.867\n",
      "type_sedan                     180.3398     95.610      1.886      0.059      -7.055     367.735\n",
      "type_truck                    3772.9025    103.992     36.281      0.000    3569.080    3976.725\n",
      "type_van                      2438.7724    174.290     13.993      0.000    2097.166    2780.379\n",
      "type_wagon                     846.7923    182.803      4.632      0.000     488.500    1205.085\n",
      "paint_color_blue             -1327.5211    108.512    -12.234      0.000   -1540.204   -1114.838\n",
      "paint_color_brown            -1972.1978    182.102    -10.830      0.000   -2329.115   -1615.281\n",
      "paint_color_custom             139.7369    194.200      0.720      0.472    -240.894     520.367\n",
      "paint_color_green            -1977.9187    170.687    -11.588      0.000   -2312.463   -1643.375\n",
      "paint_color_grey              -863.8693    106.719     -8.095      0.000   -1073.037    -654.702\n",
      "paint_color_orange            3370.5668    367.352      9.175      0.000    2650.561    4090.572\n",
      "paint_color_purple            -166.0308    466.843     -0.356      0.722   -1081.039     748.977\n",
      "paint_color_red              -1028.3170    109.674     -9.376      0.000   -1243.276    -813.358\n",
      "paint_color_silver           -1848.4190     98.965    -18.677      0.000   -2042.390   -1654.448\n",
      "paint_color_white             -734.1417     90.842     -8.081      0.000    -912.192    -556.091\n",
      "paint_color_yellow             680.9570    321.030      2.121      0.034      51.742    1310.172\n",
      "state_al                      -848.7215    378.648     -2.241      0.025   -1590.869    -106.575\n",
      "state_ar                     -2387.0667    440.255     -5.422      0.000   -3249.962   -1524.172\n",
      "state_az                     -2444.8445    382.024     -6.400      0.000   -3193.608   -1696.081\n",
      "state_ca                     -1145.8612    316.995     -3.615      0.000   -1767.168    -524.554\n",
      "state_co                     -2325.8637    352.966     -6.589      0.000   -3017.674   -1634.053\n",
      "state_ct                     -3412.8775    382.022     -8.934      0.000   -4161.636   -2664.119\n",
      "state_dc                     -4034.7577    470.417     -8.577      0.000   -4956.771   -3112.745\n",
      "state_de                     -3477.0366    641.953     -5.416      0.000   -4735.258   -2218.815\n",
      "state_fl                     -1946.3288    319.181     -6.098      0.000   -2571.920   -1320.738\n",
      "state_ga                     -2739.3142    404.481     -6.772      0.000   -3532.092   -1946.536\n",
      "state_hi                      1248.0440    508.362      2.455      0.014     251.660    2244.428\n",
      "state_ia                     -2217.7073    341.777     -6.489      0.000   -2887.587   -1547.828\n",
      "state_id                     -1439.1523    380.979     -3.778      0.000   -2185.867    -692.438\n",
      "state_il                     -3067.1103    358.439     -8.557      0.000   -3769.647   -2364.573\n",
      "state_in                     -2134.9522    352.916     -6.049      0.000   -2826.664   -1443.241\n",
      "state_ks                     -3717.7164    383.486     -9.695      0.000   -4469.344   -2966.088\n",
      "state_ky                     -2659.3595    373.896     -7.113      0.000   -3392.191   -1926.528\n",
      "state_la                     -1857.1474    470.243     -3.949      0.000   -2778.819    -935.476\n",
      "state_ma                     -3348.8360    349.700     -9.576      0.000   -4034.245   -2663.427\n",
      "state_md                     -2538.4901    411.314     -6.172      0.000   -3344.661   -1732.319\n",
      "state_me                     -2976.6214    444.875     -6.691      0.000   -3848.571   -2104.672\n",
      "state_mi                      -906.2300    330.072     -2.746      0.006   -1553.167    -259.293\n",
      "state_mn                     -3654.0366    359.198    -10.173      0.000   -4358.061   -2950.012\n",
      "state_mo                     -2174.1490    386.051     -5.632      0.000   -2930.805   -1417.493\n",
      "state_ms                     -2789.6823    515.422     -5.412      0.000   -3799.903   -1779.461\n",
      "state_mt                     -1790.8163    395.703     -4.526      0.000   -2566.390   -1015.242\n",
      "state_nc                     -2618.7015    335.802     -7.798      0.000   -3276.870   -1960.533\n",
      "state_nd                     -2248.4010    616.394     -3.648      0.000   -3456.527   -1040.275\n",
      "state_ne                     -3060.9407    492.068     -6.221      0.000   -4025.389   -2096.493\n",
      "state_nh                     -2513.1970    447.625     -5.615      0.000   -3390.537   -1635.857\n",
      "state_nj                     -3789.2068    346.763    -10.927      0.000   -4468.859   -3109.555\n",
      "state_nm                     -2124.4938    412.490     -5.150      0.000   -2932.970   -1316.018\n",
      "state_nv                     -2066.1632    468.977     -4.406      0.000   -2985.352   -1146.974\n",
      "state_ny                     -2806.4901    321.615     -8.726      0.000   -3436.853   -2176.127\n",
      "state_oh                     -4708.6159    326.646    -14.415      0.000   -5348.840   -4068.392\n",
      "state_ok                     -2713.7276    370.406     -7.326      0.000   -3439.720   -1987.735\n",
      "state_or                     -2753.8751    347.887     -7.916      0.000   -3435.730   -2072.021\n",
      "state_pa                     -3587.9179    333.752    -10.750      0.000   -4242.069   -2933.767\n",
      "state_ri                     -3440.0484    439.722     -7.823      0.000   -4301.898   -2578.198\n",
      "state_sc                     -2211.3459    366.586     -6.032      0.000   -2929.850   -1492.842\n",
      "state_sd                     -1596.6200    538.851     -2.963      0.003   -2652.763    -540.477\n",
      "state_tn                     -1734.0718    348.025     -4.983      0.000   -2416.198   -1051.945\n",
      "state_tx                     -2394.7667    330.464     -7.247      0.000   -3042.473   -1747.061\n",
      "state_ut                      -751.8611    654.432     -1.149      0.251   -2034.542     530.820\n",
      "state_va                     -3418.1293    338.825    -10.088      0.000   -4082.222   -2754.037\n",
      "state_vt                     -1448.2920    395.902     -3.658      0.000   -2224.256    -672.328\n",
      "state_wa                     -1701.2145    393.848     -4.319      0.000   -2473.152    -929.277\n",
      "state_wi                     -1552.4944    329.660     -4.709      0.000   -2198.625    -906.364\n",
      "state_wv                     -2899.5992    748.681     -3.873      0.000   -4367.006   -1432.192\n",
      "state_wy                       417.0717    593.644      0.703      0.482    -746.464    1580.608\n",
      "==============================================================================\n",
      "Omnibus:                    80447.513   Durbin-Watson:                   1.884\n",
      "Prob(Omnibus):                  0.000   Jarque-Bera (JB):         10021747.354\n",
      "Skew:                           3.708   Prob(JB):                         0.00\n",
      "Kurtosis:                      53.718   Cond. No.                     5.08e+07\n",
      "==============================================================================\n",
      "\n",
      "Notes:\n",
      "[1] Standard Errors assume that the covariance matrix of the errors is correctly specified.\n",
      "[2] The condition number is large, 5.08e+07. This might indicate that there are\n",
      "strong multicollinearity or other numerical problems.\n"
     ]
    }
   ],
   "source": [
    "X_linear = cars_linear_data.iloc[:, 1:]\n",
    "y_linear = cars_linear_data[\"price\"]\n",
    "\n",
    "X_with_constant = sm.add_constant(X_linear)\n",
    "est = sm.OLS(y_linear, X_with_constant)\n",
    "est2 = est.fit()\n",
    "print(est2.summary())"
   ]
  },
  {
   "cell_type": "markdown",
   "metadata": {},
   "source": [
    "#### Log Transformation"
   ]
  },
  {
   "cell_type": "code",
   "execution_count": 65,
   "metadata": {},
   "outputs": [
    {
     "data": {
      "text/html": [
       "<div>\n",
       "<style scoped>\n",
       "    .dataframe tbody tr th:only-of-type {\n",
       "        vertical-align: middle;\n",
       "    }\n",
       "\n",
       "    .dataframe tbody tr th {\n",
       "        vertical-align: top;\n",
       "    }\n",
       "\n",
       "    .dataframe thead th {\n",
       "        text-align: right;\n",
       "    }\n",
       "</style>\n",
       "<table border=\"1\" class=\"dataframe\">\n",
       "  <thead>\n",
       "    <tr style=\"text-align: right;\">\n",
       "      <th></th>\n",
       "      <th>year</th>\n",
       "      <th>cylinders</th>\n",
       "      <th>odometer</th>\n",
       "      <th>manufacturer_alfa-romeo</th>\n",
       "      <th>manufacturer_aston-martin</th>\n",
       "      <th>manufacturer_audi</th>\n",
       "      <th>manufacturer_bmw</th>\n",
       "      <th>manufacturer_buick</th>\n",
       "      <th>manufacturer_cadillac</th>\n",
       "      <th>manufacturer_chevrolet</th>\n",
       "      <th>...</th>\n",
       "      <th>state_tn</th>\n",
       "      <th>state_tx</th>\n",
       "      <th>state_ut</th>\n",
       "      <th>state_va</th>\n",
       "      <th>state_vt</th>\n",
       "      <th>state_wa</th>\n",
       "      <th>state_wi</th>\n",
       "      <th>state_wv</th>\n",
       "      <th>state_wy</th>\n",
       "      <th>log_price</th>\n",
       "    </tr>\n",
       "  </thead>\n",
       "  <tbody>\n",
       "    <tr>\n",
       "      <th>0</th>\n",
       "      <td>2003.00000</td>\n",
       "      <td>4.00000</td>\n",
       "      <td>243000.00000</td>\n",
       "      <td>0</td>\n",
       "      <td>0</td>\n",
       "      <td>0</td>\n",
       "      <td>0</td>\n",
       "      <td>0</td>\n",
       "      <td>0</td>\n",
       "      <td>0</td>\n",
       "      <td>...</td>\n",
       "      <td>0</td>\n",
       "      <td>0</td>\n",
       "      <td>0</td>\n",
       "      <td>0</td>\n",
       "      <td>0</td>\n",
       "      <td>0</td>\n",
       "      <td>0</td>\n",
       "      <td>0</td>\n",
       "      <td>0</td>\n",
       "      <td>9.43348</td>\n",
       "    </tr>\n",
       "    <tr>\n",
       "      <th>1</th>\n",
       "      <td>2007.00000</td>\n",
       "      <td>8.00000</td>\n",
       "      <td>254217.00000</td>\n",
       "      <td>0</td>\n",
       "      <td>0</td>\n",
       "      <td>0</td>\n",
       "      <td>0</td>\n",
       "      <td>0</td>\n",
       "      <td>0</td>\n",
       "      <td>0</td>\n",
       "      <td>...</td>\n",
       "      <td>0</td>\n",
       "      <td>0</td>\n",
       "      <td>0</td>\n",
       "      <td>0</td>\n",
       "      <td>0</td>\n",
       "      <td>0</td>\n",
       "      <td>0</td>\n",
       "      <td>0</td>\n",
       "      <td>0</td>\n",
       "      <td>9.74067</td>\n",
       "    </tr>\n",
       "    <tr>\n",
       "      <th>2</th>\n",
       "      <td>2012.00000</td>\n",
       "      <td>6.00000</td>\n",
       "      <td>188406.00000</td>\n",
       "      <td>0</td>\n",
       "      <td>0</td>\n",
       "      <td>0</td>\n",
       "      <td>0</td>\n",
       "      <td>0</td>\n",
       "      <td>0</td>\n",
       "      <td>0</td>\n",
       "      <td>...</td>\n",
       "      <td>0</td>\n",
       "      <td>0</td>\n",
       "      <td>0</td>\n",
       "      <td>0</td>\n",
       "      <td>0</td>\n",
       "      <td>0</td>\n",
       "      <td>0</td>\n",
       "      <td>0</td>\n",
       "      <td>0</td>\n",
       "      <td>9.54646</td>\n",
       "    </tr>\n",
       "    <tr>\n",
       "      <th>3</th>\n",
       "      <td>2010.00000</td>\n",
       "      <td>4.00000</td>\n",
       "      <td>108124.00000</td>\n",
       "      <td>0</td>\n",
       "      <td>0</td>\n",
       "      <td>0</td>\n",
       "      <td>0</td>\n",
       "      <td>0</td>\n",
       "      <td>0</td>\n",
       "      <td>1</td>\n",
       "      <td>...</td>\n",
       "      <td>0</td>\n",
       "      <td>0</td>\n",
       "      <td>0</td>\n",
       "      <td>0</td>\n",
       "      <td>0</td>\n",
       "      <td>0</td>\n",
       "      <td>0</td>\n",
       "      <td>0</td>\n",
       "      <td>0</td>\n",
       "      <td>8.98657</td>\n",
       "    </tr>\n",
       "    <tr>\n",
       "      <th>4</th>\n",
       "      <td>2011.00000</td>\n",
       "      <td>6.00000</td>\n",
       "      <td>178054.00000</td>\n",
       "      <td>0</td>\n",
       "      <td>0</td>\n",
       "      <td>0</td>\n",
       "      <td>0</td>\n",
       "      <td>0</td>\n",
       "      <td>0</td>\n",
       "      <td>1</td>\n",
       "      <td>...</td>\n",
       "      <td>0</td>\n",
       "      <td>0</td>\n",
       "      <td>0</td>\n",
       "      <td>0</td>\n",
       "      <td>0</td>\n",
       "      <td>0</td>\n",
       "      <td>0</td>\n",
       "      <td>0</td>\n",
       "      <td>0</td>\n",
       "      <td>9.10442</td>\n",
       "    </tr>\n",
       "    <tr>\n",
       "      <th>...</th>\n",
       "      <td>...</td>\n",
       "      <td>...</td>\n",
       "      <td>...</td>\n",
       "      <td>...</td>\n",
       "      <td>...</td>\n",
       "      <td>...</td>\n",
       "      <td>...</td>\n",
       "      <td>...</td>\n",
       "      <td>...</td>\n",
       "      <td>...</td>\n",
       "      <td>...</td>\n",
       "      <td>...</td>\n",
       "      <td>...</td>\n",
       "      <td>...</td>\n",
       "      <td>...</td>\n",
       "      <td>...</td>\n",
       "      <td>...</td>\n",
       "      <td>...</td>\n",
       "      <td>...</td>\n",
       "      <td>...</td>\n",
       "      <td>...</td>\n",
       "    </tr>\n",
       "    <tr>\n",
       "      <th>91541</th>\n",
       "      <td>2012.00000</td>\n",
       "      <td>4.00000</td>\n",
       "      <td>82000.00000</td>\n",
       "      <td>0</td>\n",
       "      <td>0</td>\n",
       "      <td>0</td>\n",
       "      <td>0</td>\n",
       "      <td>0</td>\n",
       "      <td>0</td>\n",
       "      <td>0</td>\n",
       "      <td>...</td>\n",
       "      <td>0</td>\n",
       "      <td>0</td>\n",
       "      <td>0</td>\n",
       "      <td>0</td>\n",
       "      <td>0</td>\n",
       "      <td>0</td>\n",
       "      <td>0</td>\n",
       "      <td>0</td>\n",
       "      <td>0</td>\n",
       "      <td>9.19877</td>\n",
       "    </tr>\n",
       "    <tr>\n",
       "      <th>91542</th>\n",
       "      <td>2002.00000</td>\n",
       "      <td>4.00000</td>\n",
       "      <td>40000.00000</td>\n",
       "      <td>0</td>\n",
       "      <td>0</td>\n",
       "      <td>0</td>\n",
       "      <td>0</td>\n",
       "      <td>0</td>\n",
       "      <td>0</td>\n",
       "      <td>0</td>\n",
       "      <td>...</td>\n",
       "      <td>0</td>\n",
       "      <td>0</td>\n",
       "      <td>0</td>\n",
       "      <td>0</td>\n",
       "      <td>0</td>\n",
       "      <td>0</td>\n",
       "      <td>0</td>\n",
       "      <td>0</td>\n",
       "      <td>0</td>\n",
       "      <td>6.62007</td>\n",
       "    </tr>\n",
       "    <tr>\n",
       "      <th>91543</th>\n",
       "      <td>2002.00000</td>\n",
       "      <td>6.00000</td>\n",
       "      <td>58000.00000</td>\n",
       "      <td>0</td>\n",
       "      <td>0</td>\n",
       "      <td>0</td>\n",
       "      <td>0</td>\n",
       "      <td>0</td>\n",
       "      <td>0</td>\n",
       "      <td>0</td>\n",
       "      <td>...</td>\n",
       "      <td>0</td>\n",
       "      <td>0</td>\n",
       "      <td>0</td>\n",
       "      <td>0</td>\n",
       "      <td>0</td>\n",
       "      <td>0</td>\n",
       "      <td>0</td>\n",
       "      <td>0</td>\n",
       "      <td>0</td>\n",
       "      <td>8.47637</td>\n",
       "    </tr>\n",
       "    <tr>\n",
       "      <th>91544</th>\n",
       "      <td>2006.00000</td>\n",
       "      <td>6.00000</td>\n",
       "      <td>159980.00000</td>\n",
       "      <td>0</td>\n",
       "      <td>0</td>\n",
       "      <td>0</td>\n",
       "      <td>0</td>\n",
       "      <td>0</td>\n",
       "      <td>0</td>\n",
       "      <td>0</td>\n",
       "      <td>...</td>\n",
       "      <td>0</td>\n",
       "      <td>0</td>\n",
       "      <td>0</td>\n",
       "      <td>0</td>\n",
       "      <td>0</td>\n",
       "      <td>0</td>\n",
       "      <td>0</td>\n",
       "      <td>0</td>\n",
       "      <td>0</td>\n",
       "      <td>7.37776</td>\n",
       "    </tr>\n",
       "    <tr>\n",
       "      <th>91545</th>\n",
       "      <td>2003.00000</td>\n",
       "      <td>8.00000</td>\n",
       "      <td>160000.00000</td>\n",
       "      <td>0</td>\n",
       "      <td>0</td>\n",
       "      <td>0</td>\n",
       "      <td>0</td>\n",
       "      <td>0</td>\n",
       "      <td>0</td>\n",
       "      <td>0</td>\n",
       "      <td>...</td>\n",
       "      <td>0</td>\n",
       "      <td>0</td>\n",
       "      <td>0</td>\n",
       "      <td>0</td>\n",
       "      <td>0</td>\n",
       "      <td>0</td>\n",
       "      <td>0</td>\n",
       "      <td>0</td>\n",
       "      <td>0</td>\n",
       "      <td>9.10498</td>\n",
       "    </tr>\n",
       "  </tbody>\n",
       "</table>\n",
       "<p>91546 rows × 135 columns</p>\n",
       "</div>"
      ],
      "text/plain": [
       "            year  cylinders     odometer  manufacturer_alfa-romeo  \\\n",
       "0     2003.00000    4.00000 243000.00000                        0   \n",
       "1     2007.00000    8.00000 254217.00000                        0   \n",
       "2     2012.00000    6.00000 188406.00000                        0   \n",
       "3     2010.00000    4.00000 108124.00000                        0   \n",
       "4     2011.00000    6.00000 178054.00000                        0   \n",
       "...          ...        ...          ...                      ...   \n",
       "91541 2012.00000    4.00000  82000.00000                        0   \n",
       "91542 2002.00000    4.00000  40000.00000                        0   \n",
       "91543 2002.00000    6.00000  58000.00000                        0   \n",
       "91544 2006.00000    6.00000 159980.00000                        0   \n",
       "91545 2003.00000    8.00000 160000.00000                        0   \n",
       "\n",
       "       manufacturer_aston-martin  manufacturer_audi  manufacturer_bmw  \\\n",
       "0                              0                  0                 0   \n",
       "1                              0                  0                 0   \n",
       "2                              0                  0                 0   \n",
       "3                              0                  0                 0   \n",
       "4                              0                  0                 0   \n",
       "...                          ...                ...               ...   \n",
       "91541                          0                  0                 0   \n",
       "91542                          0                  0                 0   \n",
       "91543                          0                  0                 0   \n",
       "91544                          0                  0                 0   \n",
       "91545                          0                  0                 0   \n",
       "\n",
       "       manufacturer_buick  manufacturer_cadillac  manufacturer_chevrolet  ...  \\\n",
       "0                       0                      0                       0  ...   \n",
       "1                       0                      0                       0  ...   \n",
       "2                       0                      0                       0  ...   \n",
       "3                       0                      0                       1  ...   \n",
       "4                       0                      0                       1  ...   \n",
       "...                   ...                    ...                     ...  ...   \n",
       "91541                   0                      0                       0  ...   \n",
       "91542                   0                      0                       0  ...   \n",
       "91543                   0                      0                       0  ...   \n",
       "91544                   0                      0                       0  ...   \n",
       "91545                   0                      0                       0  ...   \n",
       "\n",
       "       state_tn  state_tx  state_ut  state_va  state_vt  state_wa  state_wi  \\\n",
       "0             0         0         0         0         0         0         0   \n",
       "1             0         0         0         0         0         0         0   \n",
       "2             0         0         0         0         0         0         0   \n",
       "3             0         0         0         0         0         0         0   \n",
       "4             0         0         0         0         0         0         0   \n",
       "...         ...       ...       ...       ...       ...       ...       ...   \n",
       "91541         0         0         0         0         0         0         0   \n",
       "91542         0         0         0         0         0         0         0   \n",
       "91543         0         0         0         0         0         0         0   \n",
       "91544         0         0         0         0         0         0         0   \n",
       "91545         0         0         0         0         0         0         0   \n",
       "\n",
       "       state_wv  state_wy  log_price  \n",
       "0             0         0    9.43348  \n",
       "1             0         0    9.74067  \n",
       "2             0         0    9.54646  \n",
       "3             0         0    8.98657  \n",
       "4             0         0    9.10442  \n",
       "...         ...       ...        ...  \n",
       "91541         0         0    9.19877  \n",
       "91542         0         0    6.62007  \n",
       "91543         0         0    8.47637  \n",
       "91544         0         0    7.37776  \n",
       "91545         0         0    9.10498  \n",
       "\n",
       "[91546 rows x 135 columns]"
      ]
     },
     "execution_count": 65,
     "metadata": {},
     "output_type": "execute_result"
    }
   ],
   "source": [
    "cars_linear_log_price = cars_linear_data.copy()\n",
    "cars_linear_log_price[\"log_price\"] = np.log(cars_linear_log_price[\"price\"])\n",
    "#cars_linear_log_price = cars_linear_log_price.iloc[:, [-1] + [0:-1]]\n",
    "cars_linear_log_price.drop(\"price\", axis = 1)"
   ]
  },
  {
   "cell_type": "code",
   "execution_count": 66,
   "metadata": {},
   "outputs": [
    {
     "data": {
      "text/plain": [
       "Text(0.5, 0, 'Log Price')"
      ]
     },
     "execution_count": 66,
     "metadata": {},
     "output_type": "execute_result"
    },
    {
     "data": {
      "image/png": "[encoded data removed]",
      "text/plain": [
       "<Figure size 720x864 with 1 Axes>"
      ]
     },
     "metadata": {
      "needs_background": "light"
     },
     "output_type": "display_data"
    }
   ],
   "source": [
    "plt.figure(figsize = (10, 12))\n",
    "plt.ticklabel_format(style = \"plain\")\n",
    "sns.histplot(data = cars_linear_log_price, x = \"log_price\", bins = 100, kde = True)\n",
    "plt.xlabel(\"Log Price\")"
   ]
  },
  {
   "cell_type": "code",
   "execution_count": 67,
   "metadata": {},
   "outputs": [
    {
     "name": "stdout",
     "output_type": "stream",
     "text": [
      "                            OLS Regression Results                            \n",
      "==============================================================================\n",
      "Dep. Variable:              log_price   R-squared:                       0.784\n",
      "Model:                            OLS   Adj. R-squared:                  0.783\n",
      "Method:                 Least Squares   F-statistic:                     2452.\n",
      "Date:                Mon, 07 Dec 2020   Prob (F-statistic):               0.00\n",
      "Time:                        21:07:43   Log-Likelihood:                -46776.\n",
      "No. Observations:               91546   AIC:                         9.382e+04\n",
      "Df Residuals:                   91410   BIC:                         9.511e+04\n",
      "Df Model:                         135                                         \n",
      "Covariance Type:            nonrobust                                         \n",
      "================================================================================================\n",
      "                                   coef    std err          t      P>|t|      [0.025      0.975]\n",
      "------------------------------------------------------------------------------------------------\n",
      "const                           -2.9630      0.392     -7.565      0.000      -3.731      -2.195\n",
      "price                         5.821e-05   1.57e-07    370.654      0.000    5.79e-05    5.85e-05\n",
      "year                             0.0058      0.000     30.104      0.000       0.005       0.006\n",
      "cylinders                       -0.0009      0.001     -0.697      0.486      -0.003       0.002\n",
      "odometer                     -2.553e-07   1.66e-08    -15.416      0.000   -2.88e-07   -2.23e-07\n",
      "manufacturer_alfa-romeo          0.0505      0.092      0.552      0.581      -0.129       0.230\n",
      "manufacturer_aston-martin       -0.5920      0.203     -2.923      0.003      -0.989      -0.195\n",
      "manufacturer_audi               -0.0297      0.019     -1.546      0.122      -0.067       0.008\n",
      "manufacturer_bmw                -0.0280      0.016     -1.731      0.083      -0.060       0.004\n",
      "manufacturer_buick              -0.0850      0.018     -4.782      0.000      -0.120      -0.050\n",
      "manufacturer_cadillac           -0.0544      0.017     -3.129      0.002      -0.089      -0.020\n",
      "manufacturer_chevrolet          -0.0559      0.014     -3.926      0.000      -0.084      -0.028\n",
      "manufacturer_chrysler           -0.1567      0.017     -9.344      0.000      -0.190      -0.124\n",
      "manufacturer_datsun              0.2983      0.084      3.559      0.000       0.134       0.463\n",
      "manufacturer_dodge              -0.1028      0.015     -6.656      0.000      -0.133      -0.073\n",
      "manufacturer_ferrari            -2.3872      0.123    -19.390      0.000      -2.629      -2.146\n",
      "manufacturer_fiat               -0.0017      0.033     -0.052      0.959      -0.067       0.064\n",
      "manufacturer_ford               -0.0721      0.014     -5.082      0.000      -0.100      -0.044\n",
      "manufacturer_gmc                -0.0823      0.016     -5.296      0.000      -0.113      -0.052\n",
      "manufacturer_harley-davidson     0.0602      0.144      0.419      0.675      -0.221       0.342\n",
      "manufacturer_honda              -0.0664      0.015     -4.508      0.000      -0.095      -0.038\n",
      "manufacturer_hyundai            -0.0513      0.016     -3.201      0.001      -0.083      -0.020\n",
      "manufacturer_infiniti           -0.0121      0.021     -0.574      0.566      -0.053       0.029\n",
      "manufacturer_jaguar             -0.1076      0.029     -3.693      0.000      -0.165      -0.051\n",
      "manufacturer_jeep               -0.0415      0.015     -2.707      0.007      -0.072      -0.011\n",
      "manufacturer_kia                -0.0482      0.017     -2.882      0.004      -0.081      -0.015\n",
      "manufacturer_land rover         -0.1000      0.153     -0.652      0.514      -0.400       0.200\n",
      "manufacturer_lexus               0.0221      0.018      1.238      0.216      -0.013       0.057\n",
      "manufacturer_lincoln            -0.1040      0.020     -5.267      0.000      -0.143      -0.065\n",
      "manufacturer_mazda              -0.1136      0.018     -6.285      0.000      -0.149      -0.078\n",
      "manufacturer_mercedes-benz      -0.0588      0.017     -3.492      0.000      -0.092      -0.026\n",
      "manufacturer_mercury            -0.3245      0.023    -14.359      0.000      -0.369      -0.280\n",
      "manufacturer_mini                0.0238      0.024      0.988      0.323      -0.023       0.071\n",
      "manufacturer_mitsubishi         -0.1402      0.022     -6.308      0.000      -0.184      -0.097\n",
      "manufacturer_morgan              0.4040      0.404      1.000      0.317      -0.388       1.196\n",
      "manufacturer_nissan             -0.0699      0.015     -4.715      0.000      -0.099      -0.041\n",
      "manufacturer_pontiac            -0.2058      0.019    -10.886      0.000      -0.243      -0.169\n",
      "manufacturer_porche             -0.2421      0.404     -0.599      0.549      -1.034       0.550\n",
      "manufacturer_ram                -0.0880      0.016     -5.444      0.000      -0.120      -0.056\n",
      "manufacturer_rover              -0.0732      0.025     -2.921      0.003      -0.122      -0.024\n",
      "manufacturer_saturn             -0.4514      0.024    -19.006      0.000      -0.498      -0.405\n",
      "manufacturer_subaru             -0.0473      0.017     -2.859      0.004      -0.080      -0.015\n",
      "manufacturer_tesla              -0.0967      0.410     -0.236      0.813      -0.900       0.707\n",
      "manufacturer_toyota             -0.0465      0.015     -3.205      0.001      -0.075      -0.018\n",
      "manufacturer_volkswagen         -0.0183      0.016     -1.123      0.262      -0.050       0.014\n",
      "manufacturer_volvo              -0.1740      0.020     -8.503      0.000      -0.214      -0.134\n",
      "condition_fair                  -0.8123      0.007   -113.786      0.000      -0.826      -0.798\n",
      "condition_good                  -0.1631      0.003    -52.489      0.000      -0.169      -0.157\n",
      "condition_like new              -0.0612      0.005    -13.482      0.000      -0.070      -0.052\n",
      "condition_new                   -0.5784      0.020    -29.633      0.000      -0.617      -0.540\n",
      "condition_salvage               -1.0881      0.025    -43.766      0.000      -1.137      -1.039\n",
      "fuel_electric                    0.1758      0.069      2.558      0.011       0.041       0.310\n",
      "fuel_gas                        -0.0585      0.007     -8.906      0.000      -0.071      -0.046\n",
      "fuel_hybrid                      0.0360      0.014      2.518      0.012       0.008       0.064\n",
      "fuel_other                      -0.0658      0.016     -4.005      0.000      -0.098      -0.034\n",
      "title_status_lien                0.0450      0.012      3.703      0.000       0.021       0.069\n",
      "title_status_missing            -0.2629      0.030     -8.647      0.000      -0.322      -0.203\n",
      "title_status_parts only         -0.5813      0.065     -8.898      0.000      -0.709      -0.453\n",
      "title_status_rebuilt             0.0528      0.008      6.570      0.000       0.037       0.069\n",
      "title_status_salvage             0.0279      0.012      2.337      0.019       0.005       0.051\n",
      "transmission_manual             -0.0002      0.005     -0.038      0.970      -0.011       0.010\n",
      "transmission_other              -0.0022      0.009     -0.232      0.817      -0.020       0.016\n",
      "drive_fwd                       -0.0974      0.005    -20.658      0.000      -0.107      -0.088\n",
      "drive_rwd                        0.0479      0.004     10.664      0.000       0.039       0.057\n",
      "type_bus                         0.0129      0.039      0.329      0.742      -0.064       0.089\n",
      "type_convertible                 0.0663      0.009      7.293      0.000       0.048       0.084\n",
      "type_coupe                      -0.0160      0.007     -2.352      0.019      -0.029      -0.003\n",
      "type_hatchback                  -0.0536      0.008     -6.686      0.000      -0.069      -0.038\n",
      "type_mini-van                   -0.0436      0.009     -4.787      0.000      -0.061      -0.026\n",
      "type_offroad                     0.0892      0.021      4.155      0.000       0.047       0.131\n",
      "type_other                       0.1078      0.012      8.641      0.000       0.083       0.132\n",
      "type_sedan                      -0.0727      0.005    -16.012      0.000      -0.082      -0.064\n",
      "type_truck                       0.0423      0.005      8.501      0.000       0.033       0.052\n",
      "type_van                         0.0812      0.008      9.807      0.000       0.065       0.097\n",
      "type_wagon                      -0.0125      0.009     -1.440      0.150      -0.030       0.005\n",
      "paint_color_blue                -0.0188      0.005     -3.638      0.000      -0.029      -0.009\n",
      "paint_color_brown               -0.0711      0.009     -8.223      0.000      -0.088      -0.054\n",
      "paint_color_custom               0.0056      0.009      0.604      0.546      -0.013       0.024\n",
      "paint_color_green               -0.1187      0.008    -14.637      0.000      -0.135      -0.103\n",
      "paint_color_grey                 0.0002      0.005      0.040      0.968      -0.010       0.010\n",
      "paint_color_orange               0.0179      0.017      1.024      0.306      -0.016       0.052\n",
      "paint_color_purple              -0.0719      0.022     -3.244      0.001      -0.115      -0.028\n",
      "paint_color_red                 -0.0281      0.005     -5.402      0.000      -0.038      -0.018\n",
      "paint_color_silver              -0.0334      0.005     -7.095      0.000      -0.043      -0.024\n",
      "paint_color_white               -0.0016      0.004     -0.363      0.716      -0.010       0.007\n",
      "paint_color_yellow               0.0199      0.015      1.307      0.191      -0.010       0.050\n",
      "state_al                         0.0011      0.018      0.064      0.949      -0.034       0.036\n",
      "state_ar                         0.0053      0.021      0.255      0.799      -0.036       0.046\n",
      "state_az                        -0.0468      0.018     -2.578      0.010      -0.082      -0.011\n",
      "state_ca                         0.0179      0.015      1.192      0.233      -0.012       0.047\n",
      "state_co                        -0.0142      0.017     -0.846      0.398      -0.047       0.019\n",
      "state_ct                        -0.0993      0.018     -5.472      0.000      -0.135      -0.064\n",
      "state_dc                        -0.1037      0.022     -4.643      0.000      -0.148      -0.060\n",
      "state_de                        -0.0665      0.030     -2.180      0.029      -0.126      -0.007\n",
      "state_fl                        -0.0838      0.015     -5.529      0.000      -0.114      -0.054\n",
      "state_ga                        -0.0794      0.019     -4.132      0.000      -0.117      -0.042\n",
      "state_hi                        -0.0281      0.024     -1.163      0.245      -0.075       0.019\n",
      "state_ia                        -0.0255      0.016     -1.571      0.116      -0.057       0.006\n",
      "state_id                        -0.1031      0.018     -5.702      0.000      -0.139      -0.068\n",
      "state_il                        -0.0367      0.017     -2.158      0.031      -0.070      -0.003\n",
      "state_in                        -0.0531      0.017     -3.169      0.002      -0.086      -0.020\n",
      "state_ks                        -0.0669      0.018     -3.674      0.000      -0.103      -0.031\n",
      "state_ky                        -0.0195      0.018     -1.096      0.273      -0.054       0.015\n",
      "state_la                        -0.0195      0.022     -0.875      0.382      -0.063       0.024\n",
      "state_ma                        -0.0967      0.017     -5.823      0.000      -0.129      -0.064\n",
      "state_md                        -0.0660      0.020     -3.376      0.001      -0.104      -0.028\n",
      "state_me                        -0.0363      0.021     -1.718      0.086      -0.078       0.005\n",
      "state_mi                        -0.0059      0.016     -0.373      0.709      -0.037       0.025\n",
      "state_mn                        -0.0762      0.017     -4.463      0.000      -0.110      -0.043\n",
      "state_mo                        -0.0477      0.018     -2.602      0.009      -0.084      -0.012\n",
      "state_ms                         0.0104      0.024      0.426      0.670      -0.038       0.058\n",
      "state_mt                         0.0121      0.019      0.646      0.518      -0.025       0.049\n",
      "state_nc                        -0.0333      0.016     -2.087      0.037      -0.065      -0.002\n",
      "state_nd                         0.0751      0.029      2.565      0.010       0.018       0.132\n",
      "state_ne                        -0.0021      0.023     -0.089      0.929      -0.048       0.044\n",
      "state_nh                        -0.0717      0.021     -3.371      0.001      -0.113      -0.030\n",
      "state_nj                        -0.0640      0.016     -3.882      0.000      -0.096      -0.032\n",
      "state_nm                        -0.0223      0.020     -1.140      0.254      -0.061       0.016\n",
      "state_nv                        -0.0379      0.022     -1.701      0.089      -0.082       0.006\n",
      "state_ny                        -0.0591      0.015     -3.871      0.000      -0.089      -0.029\n",
      "state_oh                        -0.1433      0.016     -9.231      0.000      -0.174      -0.113\n",
      "state_ok                        -0.0884      0.018     -5.022      0.000      -0.123      -0.054\n",
      "state_or                        -0.0391      0.017     -2.364      0.018      -0.071      -0.007\n",
      "state_pa                        -0.0750      0.016     -4.731      0.000      -0.106      -0.044\n",
      "state_ri                        -0.0685      0.021     -3.280      0.001      -0.109      -0.028\n",
      "state_sc                        -0.0212      0.017     -1.217      0.224      -0.055       0.013\n",
      "state_sd                        -0.0479      0.026     -1.872      0.061      -0.098       0.002\n",
      "state_tn                        -0.0537      0.017     -3.248      0.001      -0.086      -0.021\n",
      "state_tx                        -0.0699      0.016     -4.450      0.000      -0.101      -0.039\n",
      "state_ut                        -0.0692      0.031     -2.227      0.026      -0.130      -0.008\n",
      "state_va                        -0.0792      0.016     -4.919      0.000      -0.111      -0.048\n",
      "state_vt                         0.0664      0.019      3.533      0.000       0.030       0.103\n",
      "state_wa                        -0.0821      0.019     -4.392      0.000      -0.119      -0.045\n",
      "state_wi                        -0.0262      0.016     -1.675      0.094      -0.057       0.004\n",
      "state_wv                        -0.0364      0.036     -1.023      0.306      -0.106       0.033\n",
      "state_wy                        -0.0608      0.028     -2.158      0.031      -0.116      -0.006\n",
      "==============================================================================\n",
      "Omnibus:                    72019.048   Durbin-Watson:                   1.815\n",
      "Prob(Omnibus):                  0.000   Jarque-Bera (JB):          5254179.930\n",
      "Skew:                          -3.248   Prob(JB):                         0.00\n",
      "Kurtosis:                      39.541   Cond. No.                     5.09e+07\n",
      "==============================================================================\n",
      "\n",
      "Notes:\n",
      "[1] Standard Errors assume that the covariance matrix of the errors is correctly specified.\n",
      "[2] The condition number is large, 5.09e+07. This might indicate that there are\n",
      "strong multicollinearity or other numerical problems.\n"
     ]
    }
   ],
   "source": [
    "X_linear = cars_linear_log_price.iloc[:, 0:-1]\n",
    "y_linear = cars_linear_log_price[\"log_price\"]\n",
    "\n",
    "X_with_constant = sm.add_constant(X_linear)\n",
    "est = sm.OLS(y_linear, X_with_constant)\n",
    "est2 = est.fit()\n",
    "print(est2.summary())"
   ]
  },
  {
   "cell_type": "markdown",
   "metadata": {},
   "source": [
    "### Naive Bayes"
   ]
  },
  {
   "cell_type": "code",
   "execution_count": 68,
   "metadata": {},
   "outputs": [],
   "source": [
    "X = cars_price_binned.iloc[:, 1:]\n",
    "y = cars_price_binned.iloc[:, 0]"
   ]
  },
  {
   "cell_type": "code",
   "execution_count": 69,
   "metadata": {},
   "outputs": [],
   "source": [
    "X_train, X_test, y_train, y_test = train_test_split(X, y, test_size = 0.33, random_state = 212)"
   ]
  },
  {
   "cell_type": "code",
   "execution_count": 70,
   "metadata": {},
   "outputs": [
    {
     "name": "stdout",
     "output_type": "stream",
     "text": [
      "BernoulliNB()\n",
      "0.450365760815597\n"
     ]
    }
   ],
   "source": [
    "#Bernoulli Naive Bayes\n",
    "BNB = BernoulliNB()\n",
    "\n",
    "BNB.fit(X_train, y_train)\n",
    "print(BNB)\n",
    "\n",
    "y_pred = BNB.predict(X_test)\n",
    "print(accuracy_score(y_test, y_pred))"
   ]
  },
  {
   "cell_type": "code",
   "execution_count": 71,
   "metadata": {},
   "outputs": [
    {
     "data": {
      "text/plain": [
       "0.44957727277662973"
      ]
     },
     "execution_count": 71,
     "metadata": {},
     "output_type": "execute_result"
    }
   ],
   "source": [
    "cross_val_score(BNB, X, y, cv = 10).mean()"
   ]
  },
  {
   "cell_type": "markdown",
   "metadata": {},
   "source": [
    "### Random Forest"
   ]
  },
  {
   "cell_type": "code",
   "execution_count": 72,
   "metadata": {},
   "outputs": [],
   "source": [
    "X = cars_price_binned.iloc[:, 1:]\n",
    "y = cars_price_binned.iloc[:, 0]"
   ]
  },
  {
   "cell_type": "code",
   "execution_count": 73,
   "metadata": {},
   "outputs": [],
   "source": [
    "X_train, X_test, y_train, y_test = train_test_split(X, y, test_size = 0.33, random_state = 212)"
   ]
  },
  {
   "cell_type": "code",
   "execution_count": 74,
   "metadata": {},
   "outputs": [
    {
     "data": {
      "text/plain": [
       "RandomForestClassifier()"
      ]
     },
     "execution_count": 74,
     "metadata": {},
     "output_type": "execute_result"
    }
   ],
   "source": [
    "model = RandomForestClassifier()\n",
    "model.fit(X_train, y_train)"
   ]
  },
  {
   "cell_type": "code",
   "execution_count": 75,
   "metadata": {},
   "outputs": [
    {
     "data": {
      "text/plain": [
       "0.8008010327364206"
      ]
     },
     "execution_count": 75,
     "metadata": {},
     "output_type": "execute_result"
    }
   ],
   "source": [
    "model.score(X_test, y_test)"
   ]
  },
  {
   "cell_type": "code",
   "execution_count": 76,
   "metadata": {},
   "outputs": [
    {
     "data": {
      "text/plain": [
       "0.8038254686153682"
      ]
     },
     "execution_count": 76,
     "metadata": {},
     "output_type": "execute_result"
    }
   ],
   "source": [
    "cross_val_score(RandomForestClassifier(), X, y, cv = 10).mean()"
   ]
  },
  {
   "cell_type": "markdown",
   "metadata": {},
   "source": [
    "## Feature Selection"
   ]
  },
  {
   "cell_type": "code",
   "execution_count": 77,
   "metadata": {},
   "outputs": [],
   "source": [
    "mutual_info = mutual_info_classif\n",
    "info = mutual_info(X_train, y_train)\n",
    "info_dict = dict(list(enumerate(info)))\n",
    "values = sorted(info_dict.values(), reverse = True)"
   ]
  },
  {
   "cell_type": "code",
   "execution_count": 78,
   "metadata": {},
   "outputs": [
    {
     "data": {
      "text/html": [
       "<div>\n",
       "<style scoped>\n",
       "    .dataframe tbody tr th:only-of-type {\n",
       "        vertical-align: middle;\n",
       "    }\n",
       "\n",
       "    .dataframe tbody tr th {\n",
       "        vertical-align: top;\n",
       "    }\n",
       "\n",
       "    .dataframe thead th {\n",
       "        text-align: right;\n",
       "    }\n",
       "</style>\n",
       "<table border=\"1\" class=\"dataframe\">\n",
       "  <thead>\n",
       "    <tr style=\"text-align: right;\">\n",
       "      <th></th>\n",
       "      <th>variable</th>\n",
       "      <th>info_gain</th>\n",
       "    </tr>\n",
       "  </thead>\n",
       "  <tbody>\n",
       "    <tr>\n",
       "      <th>2</th>\n",
       "      <td>odometer</td>\n",
       "      <td>0.36436</td>\n",
       "    </tr>\n",
       "    <tr>\n",
       "      <th>0</th>\n",
       "      <td>year</td>\n",
       "      <td>0.28414</td>\n",
       "    </tr>\n",
       "    <tr>\n",
       "      <th>60</th>\n",
       "      <td>drive_fwd</td>\n",
       "      <td>0.06147</td>\n",
       "    </tr>\n",
       "    <tr>\n",
       "      <th>1</th>\n",
       "      <td>cylinders</td>\n",
       "      <td>0.05706</td>\n",
       "    </tr>\n",
       "    <tr>\n",
       "      <th>70</th>\n",
       "      <td>type_truck</td>\n",
       "      <td>0.04122</td>\n",
       "    </tr>\n",
       "    <tr>\n",
       "      <th>44</th>\n",
       "      <td>condition_fair</td>\n",
       "      <td>0.03552</td>\n",
       "    </tr>\n",
       "    <tr>\n",
       "      <th>69</th>\n",
       "      <td>type_sedan</td>\n",
       "      <td>0.03384</td>\n",
       "    </tr>\n",
       "    <tr>\n",
       "      <th>50</th>\n",
       "      <td>fuel_gas</td>\n",
       "      <td>0.02316</td>\n",
       "    </tr>\n",
       "    <tr>\n",
       "      <th>59</th>\n",
       "      <td>transmission_other</td>\n",
       "      <td>0.01832</td>\n",
       "    </tr>\n",
       "    <tr>\n",
       "      <th>45</th>\n",
       "      <td>condition_good</td>\n",
       "      <td>0.01544</td>\n",
       "    </tr>\n",
       "    <tr>\n",
       "      <th>46</th>\n",
       "      <td>condition_like new</td>\n",
       "      <td>0.01242</td>\n",
       "    </tr>\n",
       "    <tr>\n",
       "      <th>18</th>\n",
       "      <td>manufacturer_honda</td>\n",
       "      <td>0.01050</td>\n",
       "    </tr>\n",
       "    <tr>\n",
       "      <th>82</th>\n",
       "      <td>paint_color_white</td>\n",
       "      <td>0.00951</td>\n",
       "    </tr>\n",
       "    <tr>\n",
       "      <th>15</th>\n",
       "      <td>manufacturer_ford</td>\n",
       "      <td>0.00794</td>\n",
       "    </tr>\n",
       "    <tr>\n",
       "      <th>61</th>\n",
       "      <td>drive_rwd</td>\n",
       "      <td>0.00723</td>\n",
       "    </tr>\n",
       "  </tbody>\n",
       "</table>\n",
       "</div>"
      ],
      "text/plain": [
       "              variable  info_gain\n",
       "2             odometer    0.36436\n",
       "0                 year    0.28414\n",
       "60           drive_fwd    0.06147\n",
       "1            cylinders    0.05706\n",
       "70          type_truck    0.04122\n",
       "44      condition_fair    0.03552\n",
       "69          type_sedan    0.03384\n",
       "50            fuel_gas    0.02316\n",
       "59  transmission_other    0.01832\n",
       "45      condition_good    0.01544\n",
       "46  condition_like new    0.01242\n",
       "18  manufacturer_honda    0.01050\n",
       "82   paint_color_white    0.00951\n",
       "15   manufacturer_ford    0.00794\n",
       "61           drive_rwd    0.00723"
      ]
     },
     "execution_count": 78,
     "metadata": {},
     "output_type": "execute_result"
    }
   ],
   "source": [
    "info_gain = pd.DataFrame(info_dict, index = [0]).transpose()\n",
    "info_gain.columns = [\"info_gain\"]\n",
    "info_gain[\"variable\"] = list(X.columns)\n",
    "info_gain = info_gain.iloc[:, [-1,0]].sort_values(by = \"info_gain\", ascending = False)\n",
    "info_gain.head(15)"
   ]
  },
  {
   "cell_type": "markdown",
   "metadata": {},
   "source": [
    "There are 11 variables which have an information gain over 0.01. Let's reduce the number of variables and only use those to test our models."
   ]
  },
  {
   "cell_type": "code",
   "execution_count": 79,
   "metadata": {},
   "outputs": [],
   "source": [
    "top_11 = list(info_gain[0:11].index)"
   ]
  },
  {
   "cell_type": "code",
   "execution_count": 80,
   "metadata": {},
   "outputs": [],
   "source": [
    "X_cut = cars_price_binned.iloc[:, 1:].iloc[:, top_11]\n",
    "y = cars_price_binned.iloc[:, 0]"
   ]
  },
  {
   "cell_type": "code",
   "execution_count": 81,
   "metadata": {},
   "outputs": [
    {
     "data": {
      "text/html": [
       "<div>\n",
       "<style scoped>\n",
       "    .dataframe tbody tr th:only-of-type {\n",
       "        vertical-align: middle;\n",
       "    }\n",
       "\n",
       "    .dataframe tbody tr th {\n",
       "        vertical-align: top;\n",
       "    }\n",
       "\n",
       "    .dataframe thead th {\n",
       "        text-align: right;\n",
       "    }\n",
       "</style>\n",
       "<table border=\"1\" class=\"dataframe\">\n",
       "  <thead>\n",
       "    <tr style=\"text-align: right;\">\n",
       "      <th></th>\n",
       "      <th>odometer</th>\n",
       "      <th>year</th>\n",
       "      <th>drive_fwd</th>\n",
       "      <th>cylinders</th>\n",
       "      <th>type_truck</th>\n",
       "      <th>condition_fair</th>\n",
       "      <th>type_sedan</th>\n",
       "      <th>fuel_gas</th>\n",
       "      <th>transmission_other</th>\n",
       "      <th>condition_good</th>\n",
       "      <th>condition_like new</th>\n",
       "    </tr>\n",
       "  </thead>\n",
       "  <tbody>\n",
       "    <tr>\n",
       "      <th>0</th>\n",
       "      <td>243000.00000</td>\n",
       "      <td>2003.00000</td>\n",
       "      <td>0</td>\n",
       "      <td>4.00000</td>\n",
       "      <td>0</td>\n",
       "      <td>0</td>\n",
       "      <td>1</td>\n",
       "      <td>1</td>\n",
       "      <td>0</td>\n",
       "      <td>1</td>\n",
       "      <td>0</td>\n",
       "    </tr>\n",
       "    <tr>\n",
       "      <th>1</th>\n",
       "      <td>254217.00000</td>\n",
       "      <td>2007.00000</td>\n",
       "      <td>0</td>\n",
       "      <td>8.00000</td>\n",
       "      <td>1</td>\n",
       "      <td>0</td>\n",
       "      <td>0</td>\n",
       "      <td>0</td>\n",
       "      <td>0</td>\n",
       "      <td>1</td>\n",
       "      <td>0</td>\n",
       "    </tr>\n",
       "    <tr>\n",
       "      <th>2</th>\n",
       "      <td>188406.00000</td>\n",
       "      <td>2012.00000</td>\n",
       "      <td>0</td>\n",
       "      <td>6.00000</td>\n",
       "      <td>1</td>\n",
       "      <td>0</td>\n",
       "      <td>0</td>\n",
       "      <td>1</td>\n",
       "      <td>0</td>\n",
       "      <td>1</td>\n",
       "      <td>0</td>\n",
       "    </tr>\n",
       "    <tr>\n",
       "      <th>3</th>\n",
       "      <td>108124.00000</td>\n",
       "      <td>2010.00000</td>\n",
       "      <td>0</td>\n",
       "      <td>4.00000</td>\n",
       "      <td>0</td>\n",
       "      <td>0</td>\n",
       "      <td>0</td>\n",
       "      <td>1</td>\n",
       "      <td>0</td>\n",
       "      <td>1</td>\n",
       "      <td>0</td>\n",
       "    </tr>\n",
       "    <tr>\n",
       "      <th>4</th>\n",
       "      <td>178054.00000</td>\n",
       "      <td>2011.00000</td>\n",
       "      <td>0</td>\n",
       "      <td>6.00000</td>\n",
       "      <td>0</td>\n",
       "      <td>0</td>\n",
       "      <td>0</td>\n",
       "      <td>1</td>\n",
       "      <td>0</td>\n",
       "      <td>1</td>\n",
       "      <td>0</td>\n",
       "    </tr>\n",
       "    <tr>\n",
       "      <th>...</th>\n",
       "      <td>...</td>\n",
       "      <td>...</td>\n",
       "      <td>...</td>\n",
       "      <td>...</td>\n",
       "      <td>...</td>\n",
       "      <td>...</td>\n",
       "      <td>...</td>\n",
       "      <td>...</td>\n",
       "      <td>...</td>\n",
       "      <td>...</td>\n",
       "      <td>...</td>\n",
       "    </tr>\n",
       "    <tr>\n",
       "      <th>91541</th>\n",
       "      <td>82000.00000</td>\n",
       "      <td>2012.00000</td>\n",
       "      <td>0</td>\n",
       "      <td>4.00000</td>\n",
       "      <td>0</td>\n",
       "      <td>0</td>\n",
       "      <td>0</td>\n",
       "      <td>1</td>\n",
       "      <td>0</td>\n",
       "      <td>0</td>\n",
       "      <td>0</td>\n",
       "    </tr>\n",
       "    <tr>\n",
       "      <th>91542</th>\n",
       "      <td>40000.00000</td>\n",
       "      <td>2002.00000</td>\n",
       "      <td>1</td>\n",
       "      <td>4.00000</td>\n",
       "      <td>0</td>\n",
       "      <td>0</td>\n",
       "      <td>0</td>\n",
       "      <td>1</td>\n",
       "      <td>0</td>\n",
       "      <td>0</td>\n",
       "      <td>0</td>\n",
       "    </tr>\n",
       "    <tr>\n",
       "      <th>91543</th>\n",
       "      <td>58000.00000</td>\n",
       "      <td>2002.00000</td>\n",
       "      <td>0</td>\n",
       "      <td>6.00000</td>\n",
       "      <td>0</td>\n",
       "      <td>0</td>\n",
       "      <td>0</td>\n",
       "      <td>1</td>\n",
       "      <td>0</td>\n",
       "      <td>1</td>\n",
       "      <td>0</td>\n",
       "    </tr>\n",
       "    <tr>\n",
       "      <th>91544</th>\n",
       "      <td>159980.00000</td>\n",
       "      <td>2006.00000</td>\n",
       "      <td>1</td>\n",
       "      <td>6.00000</td>\n",
       "      <td>0</td>\n",
       "      <td>1</td>\n",
       "      <td>1</td>\n",
       "      <td>1</td>\n",
       "      <td>0</td>\n",
       "      <td>0</td>\n",
       "      <td>0</td>\n",
       "    </tr>\n",
       "    <tr>\n",
       "      <th>91545</th>\n",
       "      <td>160000.00000</td>\n",
       "      <td>2003.00000</td>\n",
       "      <td>0</td>\n",
       "      <td>8.00000</td>\n",
       "      <td>0</td>\n",
       "      <td>0</td>\n",
       "      <td>0</td>\n",
       "      <td>1</td>\n",
       "      <td>0</td>\n",
       "      <td>0</td>\n",
       "      <td>0</td>\n",
       "    </tr>\n",
       "  </tbody>\n",
       "</table>\n",
       "<p>91546 rows × 11 columns</p>\n",
       "</div>"
      ],
      "text/plain": [
       "          odometer       year  drive_fwd  cylinders  type_truck  \\\n",
       "0     243000.00000 2003.00000          0    4.00000           0   \n",
       "1     254217.00000 2007.00000          0    8.00000           1   \n",
       "2     188406.00000 2012.00000          0    6.00000           1   \n",
       "3     108124.00000 2010.00000          0    4.00000           0   \n",
       "4     178054.00000 2011.00000          0    6.00000           0   \n",
       "...            ...        ...        ...        ...         ...   \n",
       "91541  82000.00000 2012.00000          0    4.00000           0   \n",
       "91542  40000.00000 2002.00000          1    4.00000           0   \n",
       "91543  58000.00000 2002.00000          0    6.00000           0   \n",
       "91544 159980.00000 2006.00000          1    6.00000           0   \n",
       "91545 160000.00000 2003.00000          0    8.00000           0   \n",
       "\n",
       "       condition_fair  type_sedan  fuel_gas  transmission_other  \\\n",
       "0                   0           1         1                   0   \n",
       "1                   0           0         0                   0   \n",
       "2                   0           0         1                   0   \n",
       "3                   0           0         1                   0   \n",
       "4                   0           0         1                   0   \n",
       "...               ...         ...       ...                 ...   \n",
       "91541               0           0         1                   0   \n",
       "91542               0           0         1                   0   \n",
       "91543               0           0         1                   0   \n",
       "91544               1           1         1                   0   \n",
       "91545               0           0         1                   0   \n",
       "\n",
       "       condition_good  condition_like new  \n",
       "0                   1                   0  \n",
       "1                   1                   0  \n",
       "2                   1                   0  \n",
       "3                   1                   0  \n",
       "4                   1                   0  \n",
       "...               ...                 ...  \n",
       "91541               0                   0  \n",
       "91542               0                   0  \n",
       "91543               1                   0  \n",
       "91544               0                   0  \n",
       "91545               0                   0  \n",
       "\n",
       "[91546 rows x 11 columns]"
      ]
     },
     "execution_count": 81,
     "metadata": {},
     "output_type": "execute_result"
    }
   ],
   "source": [
    "X_cut"
   ]
  },
  {
   "cell_type": "code",
   "execution_count": 82,
   "metadata": {},
   "outputs": [],
   "source": [
    "X_train, X_test, y_train, y_test = train_test_split(X_cut, y, test_size = 0.33, random_state = 212)"
   ]
  },
  {
   "cell_type": "markdown",
   "metadata": {},
   "source": [
    "### Naive Bayes"
   ]
  },
  {
   "cell_type": "code",
   "execution_count": 83,
   "metadata": {},
   "outputs": [
    {
     "name": "stdout",
     "output_type": "stream",
     "text": [
      "BernoulliNB()\n",
      "0.42699678924894907\n"
     ]
    }
   ],
   "source": [
    "#Bernoulli Naive Bayes\n",
    "BNB = BernoulliNB()\n",
    "\n",
    "BNB.fit(X_train, y_train)\n",
    "print(BNB)\n",
    "\n",
    "y_pred = BNB.predict(X_test)\n",
    "print(accuracy_score(y_test, y_pred))"
   ]
  },
  {
   "cell_type": "code",
   "execution_count": 84,
   "metadata": {},
   "outputs": [
    {
     "data": {
      "text/plain": [
       "0.4276538189248429"
      ]
     },
     "execution_count": 84,
     "metadata": {},
     "output_type": "execute_result"
    }
   ],
   "source": [
    "cross_val_score(BNB, X_cut, y, cv = 10).mean()"
   ]
  },
  {
   "cell_type": "markdown",
   "metadata": {},
   "source": [
    "### Random Forest"
   ]
  },
  {
   "cell_type": "code",
   "execution_count": 85,
   "metadata": {},
   "outputs": [
    {
     "data": {
      "text/plain": [
       "RandomForestClassifier()"
      ]
     },
     "execution_count": 85,
     "metadata": {},
     "output_type": "execute_result"
    }
   ],
   "source": [
    "model = RandomForestClassifier()\n",
    "model.fit(X_train, y_train)"
   ]
  },
  {
   "cell_type": "code",
   "execution_count": 86,
   "metadata": {},
   "outputs": [
    {
     "data": {
      "text/plain": [
       "0.7277481711959221"
      ]
     },
     "execution_count": 86,
     "metadata": {},
     "output_type": "execute_result"
    }
   ],
   "source": [
    "model.score(X_test, y_test)"
   ]
  },
  {
   "cell_type": "code",
   "execution_count": 87,
   "metadata": {},
   "outputs": [
    {
     "data": {
      "text/plain": [
       "0.7277326389265922"
      ]
     },
     "execution_count": 87,
     "metadata": {},
     "output_type": "execute_result"
    }
   ],
   "source": [
    "cross_val_score(RandomForestClassifier(), X_cut, y, cv = 10).mean()"
   ]
  },
  {
   "cell_type": "markdown",
   "metadata": {},
   "source": [
    "## Plots Based on Analysis"
   ]
  },
  {
   "cell_type": "code",
   "execution_count": 88,
   "metadata": {},
   "outputs": [
    {
     "data": {
      "text/plain": [
       "Text(0.5, 1.0, 'Scatterplot of Price and Odometer Colored by Nationality')"
      ]
     },
     "execution_count": 88,
     "metadata": {},
     "output_type": "execute_result"
    },
    {
     "data": {
      "image/png": "[encoded data removed]",
      "text/plain": [
       "<Figure size 576x432 with 1 Axes>"
      ]
     },
     "metadata": {
      "needs_background": "light"
     },
     "output_type": "display_data"
    }
   ],
   "source": [
    "plt.figure(figsize = (8, 6))\n",
    "plt.ticklabel_format(style = \"plain\")\n",
    "plt.scatter(cars_linear_data[\"odometer\"], cars_linear_data[\"price\"], c = categorical[\"nationality_colors\"])\n",
    "plt.xlabel(\"Odometer\")\n",
    "plt.ylabel(\"Price\")\n",
    "plt.title(\"Scatterplot of Price and Odometer Colored by Nationality\")"
   ]
  },
  {
   "cell_type": "code",
   "execution_count": 89,
   "metadata": {},
   "outputs": [
    {
     "data": {
      "text/plain": [
       "Text(0.5, 1.0, 'Scatterplot of Price and Year Colored by Nationality')"
      ]
     },
     "execution_count": 89,
     "metadata": {},
     "output_type": "execute_result"
    },
    {
     "data": {
      "image/png": "[encoded data removed]",
      "text/plain": [
       "<Figure size 576x432 with 1 Axes>"
      ]
     },
     "metadata": {
      "needs_background": "light"
     },
     "output_type": "display_data"
    }
   ],
   "source": [
    "plt.figure(figsize = (8, 6))\n",
    "plt.ticklabel_format(style = \"plain\")\n",
    "plt.scatter(cars_linear_data[\"year\"], cars_linear_data[\"price\"], c = categorical[\"nationality_colors\"])\n",
    "plt.xlabel(\"Year\")\n",
    "plt.ylabel(\"Price\")\n",
    "plt.title(\"Scatterplot of Price and Year Colored by Nationality\")"
   ]
  },
  {
   "cell_type": "code",
   "execution_count": null,
   "metadata": {},
   "outputs": [],
   "source": []
  }
 ],
 "metadata": {
  "kernelspec": {
   "display_name": "Python 3",
   "language": "python",
   "name": "python3"
  },
  "language_info": {
   "codemirror_mode": {
    "name": "ipython",
    "version": 3
   },
   "file_extension": ".py",
   "mimetype": "text/x-python",
   "name": "python",
   "nbconvert_exporter": "python",
   "pygments_lexer": "ipython3",
   "version": "3.8.5"
  }
 },
 "nbformat": 4,
 "nbformat_minor": 4
}
