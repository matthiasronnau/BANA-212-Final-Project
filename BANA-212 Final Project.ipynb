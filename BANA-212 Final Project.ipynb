{
 "cells": [
  {
   "cell_type": "code",
   "execution_count": 157,
   "metadata": {},
   "outputs": [],
   "source": [
    "#Import packages\n",
    "import numpy as np\n",
    "import pandas as pd\n",
    "import re\n",
    "import matplotlib.pyplot as plt\n",
    "import matplotlib.patches as mpatches\n",
    "import statsmodels.api as sm\n",
    "import sklearn\n",
    "from sklearn import linear_model\n",
    "#from sklearn.linear_model import LassoCV\n",
    "from sklearn.model_selection import train_test_split\n",
    "from sklearn.model_selection import cross_val_score\n",
    "from sklearn.naive_bayes import BernoulliNB\n",
    "from sklearn.ensemble import RandomForestClassifier\n",
    "from sklearn.metrics import accuracy_score\n",
    "from sklearn.feature_selection import mutual_info_classif\n",
    "\n",
    "pd.set_option('display.float_format', lambda x: '%.5f' % x)"
   ]
  },
  {
   "cell_type": "code",
   "execution_count": 158,
   "metadata": {},
   "outputs": [],
   "source": [
    "#Read in the data\n",
    "vehicles = pd.read_csv(\"vehicles.csv\")"
   ]
  },
  {
   "cell_type": "code",
   "execution_count": 159,
   "metadata": {},
   "outputs": [
    {
     "data": {
      "text/html": [
       "<div>\n",
       "<style scoped>\n",
       "    .dataframe tbody tr th:only-of-type {\n",
       "        vertical-align: middle;\n",
       "    }\n",
       "\n",
       "    .dataframe tbody tr th {\n",
       "        vertical-align: top;\n",
       "    }\n",
       "\n",
       "    .dataframe thead th {\n",
       "        text-align: right;\n",
       "    }\n",
       "</style>\n",
       "<table border=\"1\" class=\"dataframe\">\n",
       "  <thead>\n",
       "    <tr style=\"text-align: right;\">\n",
       "      <th></th>\n",
       "      <th>id</th>\n",
       "      <th>url</th>\n",
       "      <th>region</th>\n",
       "      <th>region_url</th>\n",
       "      <th>price</th>\n",
       "      <th>year</th>\n",
       "      <th>manufacturer</th>\n",
       "      <th>model</th>\n",
       "      <th>condition</th>\n",
       "      <th>cylinders</th>\n",
       "      <th>...</th>\n",
       "      <th>drive</th>\n",
       "      <th>size</th>\n",
       "      <th>type</th>\n",
       "      <th>paint_color</th>\n",
       "      <th>image_url</th>\n",
       "      <th>description</th>\n",
       "      <th>county</th>\n",
       "      <th>state</th>\n",
       "      <th>lat</th>\n",
       "      <th>long</th>\n",
       "    </tr>\n",
       "  </thead>\n",
       "  <tbody>\n",
       "    <tr>\n",
       "      <th>0</th>\n",
       "      <td>7184791621</td>\n",
       "      <td>https://duluth.craigslist.org/ctd/d/duluth-200...</td>\n",
       "      <td>duluth / superior</td>\n",
       "      <td>https://duluth.craigslist.org</td>\n",
       "      <td>6995</td>\n",
       "      <td>2000.00000</td>\n",
       "      <td>gmc</td>\n",
       "      <td>new sierra 1500</td>\n",
       "      <td>excellent</td>\n",
       "      <td>8 cylinders</td>\n",
       "      <td>...</td>\n",
       "      <td>4wd</td>\n",
       "      <td>NaN</td>\n",
       "      <td>NaN</td>\n",
       "      <td>red</td>\n",
       "      <td>https://images.craigslist.org/00n0n_f06ykBMcdh...</td>\n",
       "      <td>2000 *** GMC New Sierra 1500 Ext Cab 157.5  WB...</td>\n",
       "      <td>nan</td>\n",
       "      <td>mn</td>\n",
       "      <td>46.84330</td>\n",
       "      <td>-92.25500</td>\n",
       "    </tr>\n",
       "    <tr>\n",
       "      <th>1</th>\n",
       "      <td>7184773187</td>\n",
       "      <td>https://duluth.craigslist.org/cto/d/saginaw-20...</td>\n",
       "      <td>duluth / superior</td>\n",
       "      <td>https://duluth.craigslist.org</td>\n",
       "      <td>8750</td>\n",
       "      <td>2013.00000</td>\n",
       "      <td>hyundai</td>\n",
       "      <td>sonata</td>\n",
       "      <td>excellent</td>\n",
       "      <td>4 cylinders</td>\n",
       "      <td>...</td>\n",
       "      <td>fwd</td>\n",
       "      <td>NaN</td>\n",
       "      <td>NaN</td>\n",
       "      <td>grey</td>\n",
       "      <td>https://images.craigslist.org/00d0d_kgZ6xoeRw2...</td>\n",
       "      <td>For Sale:  2013 Hyundai Sonata GLS - $8750.  O...</td>\n",
       "      <td>nan</td>\n",
       "      <td>mn</td>\n",
       "      <td>46.90740</td>\n",
       "      <td>-92.46380</td>\n",
       "    </tr>\n",
       "    <tr>\n",
       "      <th>2</th>\n",
       "      <td>7193375964</td>\n",
       "      <td>https://newhaven.craigslist.org/cto/d/stratfor...</td>\n",
       "      <td>new haven</td>\n",
       "      <td>https://newhaven.craigslist.org</td>\n",
       "      <td>10900</td>\n",
       "      <td>2013.00000</td>\n",
       "      <td>toyota</td>\n",
       "      <td>prius</td>\n",
       "      <td>good</td>\n",
       "      <td>4 cylinders</td>\n",
       "      <td>...</td>\n",
       "      <td>fwd</td>\n",
       "      <td>NaN</td>\n",
       "      <td>NaN</td>\n",
       "      <td>blue</td>\n",
       "      <td>https://images.craigslist.org/00d0d_3sHGxPbY2O...</td>\n",
       "      <td>2013 Prius V Model Two. One owner—must sell my...</td>\n",
       "      <td>nan</td>\n",
       "      <td>ct</td>\n",
       "      <td>41.17700</td>\n",
       "      <td>-73.13360</td>\n",
       "    </tr>\n",
       "    <tr>\n",
       "      <th>3</th>\n",
       "      <td>7195108810</td>\n",
       "      <td>https://albuquerque.craigslist.org/cto/d/albuq...</td>\n",
       "      <td>albuquerque</td>\n",
       "      <td>https://albuquerque.craigslist.org</td>\n",
       "      <td>12500</td>\n",
       "      <td>2003.00000</td>\n",
       "      <td>mitsubishi</td>\n",
       "      <td>lancer</td>\n",
       "      <td>good</td>\n",
       "      <td>4 cylinders</td>\n",
       "      <td>...</td>\n",
       "      <td>4wd</td>\n",
       "      <td>mid-size</td>\n",
       "      <td>sedan</td>\n",
       "      <td>grey</td>\n",
       "      <td>https://images.craigslist.org/00m0m_4a8Pb6JbMG...</td>\n",
       "      <td>2003 Mitsubishi Lancer Evolution, silver.  Abo...</td>\n",
       "      <td>nan</td>\n",
       "      <td>nm</td>\n",
       "      <td>35.18680</td>\n",
       "      <td>-106.66500</td>\n",
       "    </tr>\n",
       "    <tr>\n",
       "      <th>4</th>\n",
       "      <td>7184712241</td>\n",
       "      <td>https://duluth.craigslist.org/ctd/d/rush-city-...</td>\n",
       "      <td>duluth / superior</td>\n",
       "      <td>https://duluth.craigslist.org</td>\n",
       "      <td>16995</td>\n",
       "      <td>2007.00000</td>\n",
       "      <td>gmc</td>\n",
       "      <td>sierra classic 2500hd</td>\n",
       "      <td>good</td>\n",
       "      <td>8 cylinders</td>\n",
       "      <td>...</td>\n",
       "      <td>4wd</td>\n",
       "      <td>full-size</td>\n",
       "      <td>truck</td>\n",
       "      <td>white</td>\n",
       "      <td>https://images.craigslist.org/01414_g093aPtSMW...</td>\n",
       "      <td>**Bad Credit, No Credit... No Problem!**2007 G...</td>\n",
       "      <td>nan</td>\n",
       "      <td>mn</td>\n",
       "      <td>45.68360</td>\n",
       "      <td>-92.96480</td>\n",
       "    </tr>\n",
       "  </tbody>\n",
       "</table>\n",
       "<p>5 rows × 25 columns</p>\n",
       "</div>"
      ],
      "text/plain": [
       "           id                                                url  \\\n",
       "0  7184791621  https://duluth.craigslist.org/ctd/d/duluth-200...   \n",
       "1  7184773187  https://duluth.craigslist.org/cto/d/saginaw-20...   \n",
       "2  7193375964  https://newhaven.craigslist.org/cto/d/stratfor...   \n",
       "3  7195108810  https://albuquerque.craigslist.org/cto/d/albuq...   \n",
       "4  7184712241  https://duluth.craigslist.org/ctd/d/rush-city-...   \n",
       "\n",
       "              region                          region_url  price       year  \\\n",
       "0  duluth / superior       https://duluth.craigslist.org   6995 2000.00000   \n",
       "1  duluth / superior       https://duluth.craigslist.org   8750 2013.00000   \n",
       "2          new haven     https://newhaven.craigslist.org  10900 2013.00000   \n",
       "3        albuquerque  https://albuquerque.craigslist.org  12500 2003.00000   \n",
       "4  duluth / superior       https://duluth.craigslist.org  16995 2007.00000   \n",
       "\n",
       "  manufacturer                  model  condition    cylinders  ... drive  \\\n",
       "0          gmc        new sierra 1500  excellent  8 cylinders  ...   4wd   \n",
       "1      hyundai                 sonata  excellent  4 cylinders  ...   fwd   \n",
       "2       toyota                  prius       good  4 cylinders  ...   fwd   \n",
       "3   mitsubishi                 lancer       good  4 cylinders  ...   4wd   \n",
       "4          gmc  sierra classic 2500hd       good  8 cylinders  ...   4wd   \n",
       "\n",
       "        size   type paint_color  \\\n",
       "0        NaN    NaN         red   \n",
       "1        NaN    NaN        grey   \n",
       "2        NaN    NaN        blue   \n",
       "3   mid-size  sedan        grey   \n",
       "4  full-size  truck       white   \n",
       "\n",
       "                                           image_url  \\\n",
       "0  https://images.craigslist.org/00n0n_f06ykBMcdh...   \n",
       "1  https://images.craigslist.org/00d0d_kgZ6xoeRw2...   \n",
       "2  https://images.craigslist.org/00d0d_3sHGxPbY2O...   \n",
       "3  https://images.craigslist.org/00m0m_4a8Pb6JbMG...   \n",
       "4  https://images.craigslist.org/01414_g093aPtSMW...   \n",
       "\n",
       "                                         description county state      lat  \\\n",
       "0  2000 *** GMC New Sierra 1500 Ext Cab 157.5  WB...    nan    mn 46.84330   \n",
       "1  For Sale:  2013 Hyundai Sonata GLS - $8750.  O...    nan    mn 46.90740   \n",
       "2  2013 Prius V Model Two. One owner—must sell my...    nan    ct 41.17700   \n",
       "3  2003 Mitsubishi Lancer Evolution, silver.  Abo...    nan    nm 35.18680   \n",
       "4  **Bad Credit, No Credit... No Problem!**2007 G...    nan    mn 45.68360   \n",
       "\n",
       "        long  \n",
       "0  -92.25500  \n",
       "1  -92.46380  \n",
       "2  -73.13360  \n",
       "3 -106.66500  \n",
       "4  -92.96480  \n",
       "\n",
       "[5 rows x 25 columns]"
      ]
     },
     "execution_count": 159,
     "metadata": {},
     "output_type": "execute_result"
    }
   ],
   "source": [
    "#Take a look at the data\n",
    "cars = vehicles.copy()\n",
    "cars.head()"
   ]
  },
  {
   "cell_type": "code",
   "execution_count": 160,
   "metadata": {},
   "outputs": [
    {
     "name": "stdout",
     "output_type": "stream",
     "text": [
      "<class 'pandas.core.frame.DataFrame'>\n",
      "RangeIndex: 423857 entries, 0 to 423856\n",
      "Data columns (total 25 columns):\n",
      " #   Column        Non-Null Count   Dtype  \n",
      "---  ------        --------------   -----  \n",
      " 0   id            423857 non-null  int64  \n",
      " 1   url           423857 non-null  object \n",
      " 2   region        423857 non-null  object \n",
      " 3   region_url    423857 non-null  object \n",
      " 4   price         423857 non-null  int64  \n",
      " 5   year          328743 non-null  float64\n",
      " 6   manufacturer  313242 non-null  object \n",
      " 7   model         325384 non-null  object \n",
      " 8   condition     176719 non-null  object \n",
      " 9   cylinders     197679 non-null  object \n",
      " 10  fuel          327214 non-null  object \n",
      " 11  odometer      270585 non-null  float64\n",
      " 12  title_status  327759 non-null  object \n",
      " 13  transmission  328065 non-null  object \n",
      " 14  vin           184420 non-null  object \n",
      " 15  drive         231119 non-null  object \n",
      " 16  size          102627 non-null  object \n",
      " 17  type          241157 non-null  object \n",
      " 18  paint_color   222203 non-null  object \n",
      " 19  image_url     329661 non-null  object \n",
      " 20  description   329654 non-null  object \n",
      " 21  county        0 non-null       float64\n",
      " 22  state         423857 non-null  object \n",
      " 23  lat           324404 non-null  float64\n",
      " 24  long          324404 non-null  float64\n",
      "dtypes: float64(5), int64(2), object(18)\n",
      "memory usage: 80.8+ MB\n"
     ]
    }
   ],
   "source": [
    "cars.info()"
   ]
  },
  {
   "cell_type": "code",
   "execution_count": 161,
   "metadata": {},
   "outputs": [
    {
     "data": {
      "text/plain": [
       "Index(['id', 'url', 'region', 'region_url', 'price', 'year', 'manufacturer',\n",
       "       'model', 'condition', 'cylinders', 'fuel', 'odometer', 'title_status',\n",
       "       'transmission', 'vin', 'drive', 'size', 'type', 'paint_color',\n",
       "       'image_url', 'description', 'county', 'state', 'lat', 'long'],\n",
       "      dtype='object')"
      ]
     },
     "execution_count": 161,
     "metadata": {},
     "output_type": "execute_result"
    }
   ],
   "source": [
    "cars.columns"
   ]
  },
  {
   "cell_type": "code",
   "execution_count": 162,
   "metadata": {},
   "outputs": [
    {
     "data": {
      "text/html": [
       "<div>\n",
       "<style scoped>\n",
       "    .dataframe tbody tr th:only-of-type {\n",
       "        vertical-align: middle;\n",
       "    }\n",
       "\n",
       "    .dataframe tbody tr th {\n",
       "        vertical-align: top;\n",
       "    }\n",
       "\n",
       "    .dataframe thead th {\n",
       "        text-align: right;\n",
       "    }\n",
       "</style>\n",
       "<table border=\"1\" class=\"dataframe\">\n",
       "  <thead>\n",
       "    <tr style=\"text-align: right;\">\n",
       "      <th></th>\n",
       "      <th>price</th>\n",
       "      <th>year</th>\n",
       "      <th>manufacturer</th>\n",
       "      <th>condition</th>\n",
       "      <th>cylinders</th>\n",
       "      <th>fuel</th>\n",
       "      <th>odometer</th>\n",
       "      <th>title_status</th>\n",
       "      <th>transmission</th>\n",
       "      <th>drive</th>\n",
       "      <th>size</th>\n",
       "      <th>type</th>\n",
       "      <th>paint_color</th>\n",
       "      <th>description</th>\n",
       "      <th>state</th>\n",
       "    </tr>\n",
       "  </thead>\n",
       "  <tbody>\n",
       "    <tr>\n",
       "      <th>0</th>\n",
       "      <td>6995</td>\n",
       "      <td>2000.00000</td>\n",
       "      <td>gmc</td>\n",
       "      <td>excellent</td>\n",
       "      <td>8 cylinders</td>\n",
       "      <td>gas</td>\n",
       "      <td>167783.00000</td>\n",
       "      <td>clean</td>\n",
       "      <td>automatic</td>\n",
       "      <td>4wd</td>\n",
       "      <td>NaN</td>\n",
       "      <td>NaN</td>\n",
       "      <td>red</td>\n",
       "      <td>2000 *** GMC New Sierra 1500 Ext Cab 157.5  WB...</td>\n",
       "      <td>mn</td>\n",
       "    </tr>\n",
       "    <tr>\n",
       "      <th>1</th>\n",
       "      <td>8750</td>\n",
       "      <td>2013.00000</td>\n",
       "      <td>hyundai</td>\n",
       "      <td>excellent</td>\n",
       "      <td>4 cylinders</td>\n",
       "      <td>gas</td>\n",
       "      <td>90821.00000</td>\n",
       "      <td>clean</td>\n",
       "      <td>automatic</td>\n",
       "      <td>fwd</td>\n",
       "      <td>NaN</td>\n",
       "      <td>NaN</td>\n",
       "      <td>grey</td>\n",
       "      <td>For Sale:  2013 Hyundai Sonata GLS - $8750.  O...</td>\n",
       "      <td>mn</td>\n",
       "    </tr>\n",
       "    <tr>\n",
       "      <th>2</th>\n",
       "      <td>10900</td>\n",
       "      <td>2013.00000</td>\n",
       "      <td>toyota</td>\n",
       "      <td>good</td>\n",
       "      <td>4 cylinders</td>\n",
       "      <td>hybrid</td>\n",
       "      <td>92800.00000</td>\n",
       "      <td>clean</td>\n",
       "      <td>automatic</td>\n",
       "      <td>fwd</td>\n",
       "      <td>NaN</td>\n",
       "      <td>NaN</td>\n",
       "      <td>blue</td>\n",
       "      <td>2013 Prius V Model Two. One owner—must sell my...</td>\n",
       "      <td>ct</td>\n",
       "    </tr>\n",
       "    <tr>\n",
       "      <th>3</th>\n",
       "      <td>12500</td>\n",
       "      <td>2003.00000</td>\n",
       "      <td>mitsubishi</td>\n",
       "      <td>good</td>\n",
       "      <td>4 cylinders</td>\n",
       "      <td>gas</td>\n",
       "      <td>nan</td>\n",
       "      <td>clean</td>\n",
       "      <td>manual</td>\n",
       "      <td>4wd</td>\n",
       "      <td>mid-size</td>\n",
       "      <td>sedan</td>\n",
       "      <td>grey</td>\n",
       "      <td>2003 Mitsubishi Lancer Evolution, silver.  Abo...</td>\n",
       "      <td>nm</td>\n",
       "    </tr>\n",
       "    <tr>\n",
       "      <th>4</th>\n",
       "      <td>16995</td>\n",
       "      <td>2007.00000</td>\n",
       "      <td>gmc</td>\n",
       "      <td>good</td>\n",
       "      <td>8 cylinders</td>\n",
       "      <td>diesel</td>\n",
       "      <td>254217.00000</td>\n",
       "      <td>clean</td>\n",
       "      <td>automatic</td>\n",
       "      <td>4wd</td>\n",
       "      <td>full-size</td>\n",
       "      <td>truck</td>\n",
       "      <td>white</td>\n",
       "      <td>**Bad Credit, No Credit... No Problem!**2007 G...</td>\n",
       "      <td>mn</td>\n",
       "    </tr>\n",
       "  </tbody>\n",
       "</table>\n",
       "</div>"
      ],
      "text/plain": [
       "   price       year manufacturer  condition    cylinders    fuel     odometer  \\\n",
       "0   6995 2000.00000          gmc  excellent  8 cylinders     gas 167783.00000   \n",
       "1   8750 2013.00000      hyundai  excellent  4 cylinders     gas  90821.00000   \n",
       "2  10900 2013.00000       toyota       good  4 cylinders  hybrid  92800.00000   \n",
       "3  12500 2003.00000   mitsubishi       good  4 cylinders     gas          nan   \n",
       "4  16995 2007.00000          gmc       good  8 cylinders  diesel 254217.00000   \n",
       "\n",
       "  title_status transmission drive       size   type paint_color  \\\n",
       "0        clean    automatic   4wd        NaN    NaN         red   \n",
       "1        clean    automatic   fwd        NaN    NaN        grey   \n",
       "2        clean    automatic   fwd        NaN    NaN        blue   \n",
       "3        clean       manual   4wd   mid-size  sedan        grey   \n",
       "4        clean    automatic   4wd  full-size  truck       white   \n",
       "\n",
       "                                         description state  \n",
       "0  2000 *** GMC New Sierra 1500 Ext Cab 157.5  WB...    mn  \n",
       "1  For Sale:  2013 Hyundai Sonata GLS - $8750.  O...    mn  \n",
       "2  2013 Prius V Model Two. One owner—must sell my...    ct  \n",
       "3  2003 Mitsubishi Lancer Evolution, silver.  Abo...    nm  \n",
       "4  **Bad Credit, No Credit... No Problem!**2007 G...    mn  "
      ]
     },
     "execution_count": 162,
     "metadata": {},
     "output_type": "execute_result"
    }
   ],
   "source": [
    "#Remove columns unnescessary for the analysis\n",
    "cars.drop([\"id\", \"url\", \"region\", \"region_url\", \"model\", \"vin\", \"image_url\", \"county\", \"lat\", \"long\"], axis = 1, inplace = True)\n",
    "cars.head()"
   ]
  },
  {
   "cell_type": "code",
   "execution_count": 163,
   "metadata": {},
   "outputs": [
    {
     "data": {
      "text/html": [
       "<div>\n",
       "<style scoped>\n",
       "    .dataframe tbody tr th:only-of-type {\n",
       "        vertical-align: middle;\n",
       "    }\n",
       "\n",
       "    .dataframe tbody tr th {\n",
       "        vertical-align: top;\n",
       "    }\n",
       "\n",
       "    .dataframe thead th {\n",
       "        text-align: right;\n",
       "    }\n",
       "</style>\n",
       "<table border=\"1\" class=\"dataframe\">\n",
       "  <thead>\n",
       "    <tr style=\"text-align: right;\">\n",
       "      <th></th>\n",
       "      <th>num_missing</th>\n",
       "      <th>percent_missing</th>\n",
       "    </tr>\n",
       "  </thead>\n",
       "  <tbody>\n",
       "    <tr>\n",
       "      <th>price</th>\n",
       "      <td>0</td>\n",
       "      <td>0.00000</td>\n",
       "    </tr>\n",
       "    <tr>\n",
       "      <th>year</th>\n",
       "      <td>95114</td>\n",
       "      <td>0.22440</td>\n",
       "    </tr>\n",
       "    <tr>\n",
       "      <th>manufacturer</th>\n",
       "      <td>110615</td>\n",
       "      <td>0.26097</td>\n",
       "    </tr>\n",
       "    <tr>\n",
       "      <th>condition</th>\n",
       "      <td>247138</td>\n",
       "      <td>0.58307</td>\n",
       "    </tr>\n",
       "    <tr>\n",
       "      <th>cylinders</th>\n",
       "      <td>226178</td>\n",
       "      <td>0.53362</td>\n",
       "    </tr>\n",
       "    <tr>\n",
       "      <th>fuel</th>\n",
       "      <td>96643</td>\n",
       "      <td>0.22801</td>\n",
       "    </tr>\n",
       "    <tr>\n",
       "      <th>odometer</th>\n",
       "      <td>153272</td>\n",
       "      <td>0.36161</td>\n",
       "    </tr>\n",
       "    <tr>\n",
       "      <th>title_status</th>\n",
       "      <td>96098</td>\n",
       "      <td>0.22672</td>\n",
       "    </tr>\n",
       "    <tr>\n",
       "      <th>transmission</th>\n",
       "      <td>95792</td>\n",
       "      <td>0.22600</td>\n",
       "    </tr>\n",
       "    <tr>\n",
       "      <th>drive</th>\n",
       "      <td>192738</td>\n",
       "      <td>0.45472</td>\n",
       "    </tr>\n",
       "    <tr>\n",
       "      <th>size</th>\n",
       "      <td>321230</td>\n",
       "      <td>0.75787</td>\n",
       "    </tr>\n",
       "    <tr>\n",
       "      <th>type</th>\n",
       "      <td>182700</td>\n",
       "      <td>0.43104</td>\n",
       "    </tr>\n",
       "    <tr>\n",
       "      <th>paint_color</th>\n",
       "      <td>201654</td>\n",
       "      <td>0.47576</td>\n",
       "    </tr>\n",
       "    <tr>\n",
       "      <th>description</th>\n",
       "      <td>94203</td>\n",
       "      <td>0.22225</td>\n",
       "    </tr>\n",
       "    <tr>\n",
       "      <th>state</th>\n",
       "      <td>0</td>\n",
       "      <td>0.00000</td>\n",
       "    </tr>\n",
       "  </tbody>\n",
       "</table>\n",
       "</div>"
      ],
      "text/plain": [
       "              num_missing  percent_missing\n",
       "price                   0          0.00000\n",
       "year                95114          0.22440\n",
       "manufacturer       110615          0.26097\n",
       "condition          247138          0.58307\n",
       "cylinders          226178          0.53362\n",
       "fuel                96643          0.22801\n",
       "odometer           153272          0.36161\n",
       "title_status        96098          0.22672\n",
       "transmission        95792          0.22600\n",
       "drive              192738          0.45472\n",
       "size               321230          0.75787\n",
       "type               182700          0.43104\n",
       "paint_color        201654          0.47576\n",
       "description         94203          0.22225\n",
       "state                   0          0.00000"
      ]
     },
     "execution_count": 163,
     "metadata": {},
     "output_type": "execute_result"
    }
   ],
   "source": [
    "#Look at the number and percent of missing values for each column\n",
    "missing = pd.DataFrame(cars.isna().sum())\n",
    "missing.columns = [\"num_missing\"]\n",
    "missing[\"percent_missing\"] = missing.num_missing / len(cars.index)\n",
    "missing"
   ]
  },
  {
   "cell_type": "code",
   "execution_count": 8,
   "metadata": {},
   "outputs": [],
   "source": [
    "cars.drop(\"size\", axis = 1, inplace = True)"
   ]
  },
  {
   "cell_type": "code",
   "execution_count": 9,
   "metadata": {},
   "outputs": [
    {
     "data": {
      "text/plain": [
       "Index(['price', 'year', 'manufacturer', 'condition', 'cylinders', 'fuel',\n",
       "       'odometer', 'title_status', 'transmission', 'drive', 'type',\n",
       "       'paint_color', 'description', 'state'],\n",
       "      dtype='object')"
      ]
     },
     "execution_count": 9,
     "metadata": {},
     "output_type": "execute_result"
    }
   ],
   "source": [
    "cars.columns"
   ]
  },
  {
   "cell_type": "code",
   "execution_count": 10,
   "metadata": {},
   "outputs": [],
   "source": [
    "missing_by_manufacturer = cars[cars.columns.difference([\"manufacturer\"])].isnull().groupby(cars[\"manufacturer\"]).sum().astype(int)"
   ]
  },
  {
   "cell_type": "code",
   "execution_count": 11,
   "metadata": {},
   "outputs": [
    {
     "data": {
      "image/png": "[encoded data removed]",
      "text/plain": [
       "<Figure size 432x288 with 1 Axes>"
      ]
     },
     "metadata": {
      "needs_background": "light"
     },
     "output_type": "display_data"
    }
   ],
   "source": [
    "for i in range(len(missing_by_manufacturer.columns)):\n",
    "    column = missing_by_manufacturer.iloc[:, i]\n",
    "    plt.bar(list(missing_by_manufacturer.index), column)"
   ]
  },
  {
   "cell_type": "code",
   "execution_count": 12,
   "metadata": {},
   "outputs": [
    {
     "data": {
      "text/plain": [
       "Index(['acura', 'alfa-romeo', 'aston-martin', 'audi', 'bmw', 'buick',\n",
       "       'cadillac', 'chevrolet', 'chrysler', 'datsun', 'dodge', 'ferrari',\n",
       "       'fiat', 'ford', 'gmc', 'harley-davidson', 'hennessey', 'honda',\n",
       "       'hyundai', 'infiniti', 'jaguar', 'jeep', 'kia', 'land rover', 'lexus',\n",
       "       'lincoln', 'mazda', 'mercedes-benz', 'mercury', 'mini', 'mitsubishi',\n",
       "       'morgan', 'nissan', 'pontiac', 'porche', 'ram', 'rover', 'saturn',\n",
       "       'subaru', 'tesla', 'toyota', 'volkswagen', 'volvo'],\n",
       "      dtype='object', name='manufacturer')"
      ]
     },
     "execution_count": 12,
     "metadata": {},
     "output_type": "execute_result"
    }
   ],
   "source": [
    "missing_by_manufacturer.index"
   ]
  },
  {
   "cell_type": "code",
   "execution_count": 13,
   "metadata": {},
   "outputs": [],
   "source": [
    "#Restructure the column \"cylinders\" by only keeping the number of cylinders and removing any text from the column\n",
    "cars[\"cylinders\"].unique()\n",
    "cars[\"cylinders\"] = cars[\"cylinders\"].fillna(\"\")\n",
    "cars[\"cylinders\"] = pd.Series([int(x) if x.isdigit() else np.nan for x in [re.sub(\"[^0-9]\", \"\", y) \n",
    "                                                                           for y in list(cars[\"cylinders\"])]])"
   ]
  },
  {
   "cell_type": "code",
   "execution_count": 14,
   "metadata": {},
   "outputs": [
    {
     "data": {
      "text/html": [
       "<div>\n",
       "<style scoped>\n",
       "    .dataframe tbody tr th:only-of-type {\n",
       "        vertical-align: middle;\n",
       "    }\n",
       "\n",
       "    .dataframe tbody tr th {\n",
       "        vertical-align: top;\n",
       "    }\n",
       "\n",
       "    .dataframe thead th {\n",
       "        text-align: right;\n",
       "    }\n",
       "</style>\n",
       "<table border=\"1\" class=\"dataframe\">\n",
       "  <thead>\n",
       "    <tr style=\"text-align: right;\">\n",
       "      <th></th>\n",
       "      <th>price</th>\n",
       "      <th>year</th>\n",
       "      <th>cylinders</th>\n",
       "      <th>odometer</th>\n",
       "    </tr>\n",
       "  </thead>\n",
       "  <tbody>\n",
       "    <tr>\n",
       "      <th>count</th>\n",
       "      <td>423857.00000</td>\n",
       "      <td>328743.00000</td>\n",
       "      <td>196828.00000</td>\n",
       "      <td>270585.00000</td>\n",
       "    </tr>\n",
       "    <tr>\n",
       "      <th>mean</th>\n",
       "      <td>57794.37478</td>\n",
       "      <td>2009.82736</td>\n",
       "      <td>5.85220</td>\n",
       "      <td>99425.78461</td>\n",
       "    </tr>\n",
       "    <tr>\n",
       "      <th>std</th>\n",
       "      <td>10025805.11645</td>\n",
       "      <td>10.13581</td>\n",
       "      <td>1.61935</td>\n",
       "      <td>120483.31239</td>\n",
       "    </tr>\n",
       "    <tr>\n",
       "      <th>min</th>\n",
       "      <td>0.00000</td>\n",
       "      <td>1900.00000</td>\n",
       "      <td>3.00000</td>\n",
       "      <td>0.00000</td>\n",
       "    </tr>\n",
       "    <tr>\n",
       "      <th>25%</th>\n",
       "      <td>4499.00000</td>\n",
       "      <td>2007.00000</td>\n",
       "      <td>4.00000</td>\n",
       "      <td>44324.00000</td>\n",
       "    </tr>\n",
       "    <tr>\n",
       "      <th>50%</th>\n",
       "      <td>9995.00000</td>\n",
       "      <td>2012.00000</td>\n",
       "      <td>6.00000</td>\n",
       "      <td>91749.00000</td>\n",
       "    </tr>\n",
       "    <tr>\n",
       "      <th>75%</th>\n",
       "      <td>18995.00000</td>\n",
       "      <td>2016.00000</td>\n",
       "      <td>8.00000</td>\n",
       "      <td>137237.00000</td>\n",
       "    </tr>\n",
       "    <tr>\n",
       "      <th>max</th>\n",
       "      <td>3808256046.00000</td>\n",
       "      <td>2021.00000</td>\n",
       "      <td>12.00000</td>\n",
       "      <td>10000000.00000</td>\n",
       "    </tr>\n",
       "  </tbody>\n",
       "</table>\n",
       "</div>"
      ],
      "text/plain": [
       "                 price         year    cylinders       odometer\n",
       "count     423857.00000 328743.00000 196828.00000   270585.00000\n",
       "mean       57794.37478   2009.82736      5.85220    99425.78461\n",
       "std     10025805.11645     10.13581      1.61935   120483.31239\n",
       "min            0.00000   1900.00000      3.00000        0.00000\n",
       "25%         4499.00000   2007.00000      4.00000    44324.00000\n",
       "50%         9995.00000   2012.00000      6.00000    91749.00000\n",
       "75%        18995.00000   2016.00000      8.00000   137237.00000\n",
       "max   3808256046.00000   2021.00000     12.00000 10000000.00000"
      ]
     },
     "execution_count": 14,
     "metadata": {},
     "output_type": "execute_result"
    }
   ],
   "source": [
    "#Get descriptive statistics for the price, year of manufacture, number of cylinders, and mileage of each car\n",
    "cars.describe()"
   ]
  },
  {
   "cell_type": "code",
   "execution_count": 15,
   "metadata": {},
   "outputs": [
    {
     "data": {
      "text/html": [
       "<div>\n",
       "<style scoped>\n",
       "    .dataframe tbody tr th:only-of-type {\n",
       "        vertical-align: middle;\n",
       "    }\n",
       "\n",
       "    .dataframe tbody tr th {\n",
       "        vertical-align: top;\n",
       "    }\n",
       "\n",
       "    .dataframe thead th {\n",
       "        text-align: right;\n",
       "    }\n",
       "</style>\n",
       "<table border=\"1\" class=\"dataframe\">\n",
       "  <thead>\n",
       "    <tr style=\"text-align: right;\">\n",
       "      <th></th>\n",
       "      <th>price</th>\n",
       "      <th>year</th>\n",
       "      <th>manufacturer</th>\n",
       "      <th>condition</th>\n",
       "      <th>cylinders</th>\n",
       "      <th>fuel</th>\n",
       "      <th>odometer</th>\n",
       "      <th>title_status</th>\n",
       "      <th>transmission</th>\n",
       "      <th>drive</th>\n",
       "      <th>type</th>\n",
       "      <th>paint_color</th>\n",
       "      <th>description</th>\n",
       "      <th>state</th>\n",
       "    </tr>\n",
       "  </thead>\n",
       "  <tbody>\n",
       "    <tr>\n",
       "      <th>300026</th>\n",
       "      <td>3808256046</td>\n",
       "      <td>2007.00000</td>\n",
       "      <td>saturn</td>\n",
       "      <td>good</td>\n",
       "      <td>nan</td>\n",
       "      <td>gas</td>\n",
       "      <td>nan</td>\n",
       "      <td>clean</td>\n",
       "      <td>automatic</td>\n",
       "      <td>NaN</td>\n",
       "      <td>NaN</td>\n",
       "      <td>red</td>\n",
       "      <td>2007 Saturn Aura has 140,224 miles on it. Grea...</td>\n",
       "      <td>mi</td>\n",
       "    </tr>\n",
       "  </tbody>\n",
       "</table>\n",
       "</div>"
      ],
      "text/plain": [
       "             price       year manufacturer condition  cylinders fuel  \\\n",
       "300026  3808256046 2007.00000       saturn      good        nan  gas   \n",
       "\n",
       "        odometer title_status transmission drive type paint_color  \\\n",
       "300026       nan        clean    automatic   NaN  NaN         red   \n",
       "\n",
       "                                              description state  \n",
       "300026  2007 Saturn Aura has 140,224 miles on it. Grea...    mi  "
      ]
     },
     "execution_count": 15,
     "metadata": {},
     "output_type": "execute_result"
    }
   ],
   "source": [
    "#The max price seems very odd, let's take a look\n",
    "cars.loc[cars[\"price\"] == 3808256046.00000]"
   ]
  },
  {
   "cell_type": "code",
   "execution_count": 16,
   "metadata": {},
   "outputs": [
    {
     "data": {
      "text/plain": [
       "['2007 Saturn Aura has 140,224 miles on it. Great running car no check engine light on. ac and heat both work. Radio works power windows and locks. Has a sunroof works as well. Have two set of keys with automatic start. Asking for 3,000 willing to go down in price.  show contact info']"
      ]
     },
     "execution_count": 16,
     "metadata": {},
     "output_type": "execute_result"
    }
   ],
   "source": [
    "list(cars.loc[cars[\"price\"] == 3808256046.00000][\"description\"])"
   ]
  },
  {
   "cell_type": "markdown",
   "metadata": {},
   "source": [
    "The description says that the seller is asking for $3000, so we can impute that value for the price."
   ]
  },
  {
   "cell_type": "code",
   "execution_count": 17,
   "metadata": {},
   "outputs": [],
   "source": [
    "#Impute 3000 for the price, overwriting the eroneous value that was present.\n",
    "cars.iloc[300026, 0] = 3000"
   ]
  },
  {
   "cell_type": "code",
   "execution_count": 18,
   "metadata": {},
   "outputs": [
    {
     "data": {
      "text/plain": [
       "<AxesSubplot:xlabel='manufacturer'>"
      ]
     },
     "execution_count": 18,
     "metadata": {},
     "output_type": "execute_result"
    },
    {
     "data": {
      "image/png": "[encoded data removed]",
      "text/plain": [
       "<Figure size 720x576 with 1 Axes>"
      ]
     },
     "metadata": {
      "needs_background": "light"
     },
     "output_type": "display_data"
    }
   ],
   "source": [
    "plt.figure(figsize = (10, 8))\n",
    "cars.groupby(\"manufacturer\").price.mean().plot.bar()"
   ]
  },
  {
   "cell_type": "markdown",
   "metadata": {},
   "source": [
    "Dodge and GMC, which are not known to be \"high end\" vehicles, show a mean price that is larger than luxury brands like Aston-Martin and Ferrari. This seems od, so let's investigate."
   ]
  },
  {
   "cell_type": "code",
   "execution_count": 19,
   "metadata": {},
   "outputs": [
    {
     "data": {
      "text/plain": [
       "count        12547.00000\n",
       "mean        210606.10489\n",
       "std       22234124.01268\n",
       "min              0.00000\n",
       "25%           3481.50000\n",
       "50%           8495.00000\n",
       "75%          17995.00000\n",
       "max     2490531375.00000\n",
       "Name: price, dtype: float64"
      ]
     },
     "execution_count": 19,
     "metadata": {},
     "output_type": "execute_result"
    }
   ],
   "source": [
    "cars.loc[cars[\"manufacturer\"] == \"dodge\"][\"price\"].describe()"
   ]
  },
  {
   "cell_type": "code",
   "execution_count": 20,
   "metadata": {},
   "outputs": [
    {
     "data": {
      "text/html": [
       "<div>\n",
       "<style scoped>\n",
       "    .dataframe tbody tr th:only-of-type {\n",
       "        vertical-align: middle;\n",
       "    }\n",
       "\n",
       "    .dataframe tbody tr th {\n",
       "        vertical-align: top;\n",
       "    }\n",
       "\n",
       "    .dataframe thead th {\n",
       "        text-align: right;\n",
       "    }\n",
       "</style>\n",
       "<table border=\"1\" class=\"dataframe\">\n",
       "  <thead>\n",
       "    <tr style=\"text-align: right;\">\n",
       "      <th></th>\n",
       "      <th>price</th>\n",
       "      <th>year</th>\n",
       "      <th>manufacturer</th>\n",
       "      <th>condition</th>\n",
       "      <th>cylinders</th>\n",
       "      <th>fuel</th>\n",
       "      <th>odometer</th>\n",
       "      <th>title_status</th>\n",
       "      <th>transmission</th>\n",
       "      <th>drive</th>\n",
       "      <th>type</th>\n",
       "      <th>paint_color</th>\n",
       "      <th>description</th>\n",
       "      <th>state</th>\n",
       "    </tr>\n",
       "  </thead>\n",
       "  <tbody>\n",
       "    <tr>\n",
       "      <th>67033</th>\n",
       "      <td>2490531375</td>\n",
       "      <td>2014.00000</td>\n",
       "      <td>dodge</td>\n",
       "      <td>good</td>\n",
       "      <td>4.00000</td>\n",
       "      <td>gas</td>\n",
       "      <td>112589.00000</td>\n",
       "      <td>clean</td>\n",
       "      <td>automatic</td>\n",
       "      <td>fwd</td>\n",
       "      <td>sedan</td>\n",
       "      <td>red</td>\n",
       "      <td>J.P. AUTO ENTERPRISE 3558 BUFORD HWY, SUITE B-...</td>\n",
       "      <td>ga</td>\n",
       "    </tr>\n",
       "  </tbody>\n",
       "</table>\n",
       "</div>"
      ],
      "text/plain": [
       "            price       year manufacturer condition  cylinders fuel  \\\n",
       "67033  2490531375 2014.00000        dodge      good    4.00000  gas   \n",
       "\n",
       "          odometer title_status transmission drive   type paint_color  \\\n",
       "67033 112589.00000        clean    automatic   fwd  sedan         red   \n",
       "\n",
       "                                             description state  \n",
       "67033  J.P. AUTO ENTERPRISE 3558 BUFORD HWY, SUITE B-...    ga  "
      ]
     },
     "execution_count": 20,
     "metadata": {},
     "output_type": "execute_result"
    }
   ],
   "source": [
    "cars.loc[cars[\"price\"] == 2490531375.00000]"
   ]
  },
  {
   "cell_type": "code",
   "execution_count": 21,
   "metadata": {},
   "outputs": [
    {
     "data": {
      "text/plain": [
       "['J.P. AUTO ENTERPRISE 3558 BUFORD HWY, SUITE B-100 DULUTH, GA 30096 CEL: 678-549-8671 www.jpcarsandbikes.com  Information VIN: 1C3CDFBB6ED695611 Make: Dodge Model: Dart  Model Year: 2014 Trim Package: SXT 4 Door Sedan  Body Style: Sedan  Engine: 2.4L I4 Fuel Type: Gasoline Drivetrain: FWD']"
      ]
     },
     "execution_count": 21,
     "metadata": {},
     "output_type": "execute_result"
    }
   ],
   "source": [
    "list(cars.loc[cars[\"price\"] == 2490531375.00000][\"description\"])"
   ]
  },
  {
   "cell_type": "markdown",
   "metadata": {},
   "source": [
    "Seeing that there is no info regarding the price in the description, we should remove this data point as it is likely an error."
   ]
  },
  {
   "cell_type": "code",
   "execution_count": 22,
   "metadata": {},
   "outputs": [],
   "source": [
    "cars.drop(index = 67033, inplace = True)"
   ]
  },
  {
   "cell_type": "code",
   "execution_count": 23,
   "metadata": {},
   "outputs": [
    {
     "data": {
      "text/plain": [
       "count        12782.00000\n",
       "mean        238584.92974\n",
       "std       24839841.83032\n",
       "min              0.00000\n",
       "25%           6850.00000\n",
       "50%          14000.00000\n",
       "75%          27990.00000\n",
       "max     2808348671.00000\n",
       "Name: price, dtype: float64"
      ]
     },
     "execution_count": 23,
     "metadata": {},
     "output_type": "execute_result"
    }
   ],
   "source": [
    "cars.loc[cars[\"manufacturer\"] == \"gmc\"][\"price\"].describe()"
   ]
  },
  {
   "cell_type": "code",
   "execution_count": 24,
   "metadata": {},
   "outputs": [
    {
     "data": {
      "text/html": [
       "<div>\n",
       "<style scoped>\n",
       "    .dataframe tbody tr th:only-of-type {\n",
       "        vertical-align: middle;\n",
       "    }\n",
       "\n",
       "    .dataframe tbody tr th {\n",
       "        vertical-align: top;\n",
       "    }\n",
       "\n",
       "    .dataframe thead th {\n",
       "        text-align: right;\n",
       "    }\n",
       "</style>\n",
       "<table border=\"1\" class=\"dataframe\">\n",
       "  <thead>\n",
       "    <tr style=\"text-align: right;\">\n",
       "      <th></th>\n",
       "      <th>price</th>\n",
       "      <th>year</th>\n",
       "      <th>manufacturer</th>\n",
       "      <th>condition</th>\n",
       "      <th>cylinders</th>\n",
       "      <th>fuel</th>\n",
       "      <th>odometer</th>\n",
       "      <th>title_status</th>\n",
       "      <th>transmission</th>\n",
       "      <th>drive</th>\n",
       "      <th>type</th>\n",
       "      <th>paint_color</th>\n",
       "      <th>description</th>\n",
       "      <th>state</th>\n",
       "    </tr>\n",
       "  </thead>\n",
       "  <tbody>\n",
       "    <tr>\n",
       "      <th>207260</th>\n",
       "      <td>2808348671</td>\n",
       "      <td>2020.00000</td>\n",
       "      <td>gmc</td>\n",
       "      <td>NaN</td>\n",
       "      <td>8.00000</td>\n",
       "      <td>gas</td>\n",
       "      <td>nan</td>\n",
       "      <td>clean</td>\n",
       "      <td>automatic</td>\n",
       "      <td>NaN</td>\n",
       "      <td>NaN</td>\n",
       "      <td>NaN</td>\n",
       "      <td>WILL BUY YOU RLIFTED OR LOWERED TRUCK , SINGLE...</td>\n",
       "      <td>ca</td>\n",
       "    </tr>\n",
       "  </tbody>\n",
       "</table>\n",
       "</div>"
      ],
      "text/plain": [
       "             price       year manufacturer condition  cylinders fuel  \\\n",
       "207260  2808348671 2020.00000          gmc       NaN    8.00000  gas   \n",
       "\n",
       "        odometer title_status transmission drive type paint_color  \\\n",
       "207260       nan        clean    automatic   NaN  NaN         NaN   \n",
       "\n",
       "                                              description state  \n",
       "207260  WILL BUY YOU RLIFTED OR LOWERED TRUCK , SINGLE...    ca  "
      ]
     },
     "execution_count": 24,
     "metadata": {},
     "output_type": "execute_result"
    }
   ],
   "source": [
    "cars.loc[cars[\"price\"] == 2808348671.00000]"
   ]
  },
  {
   "cell_type": "code",
   "execution_count": 25,
   "metadata": {},
   "outputs": [
    {
     "data": {
      "text/plain": [
       "['WILL BUY YOU RLIFTED OR LOWERED TRUCK , SINGLE CABS SHORT BED , JEEPS LIFTED OR CUSTOM     WILL PAY CASH  PLEASE CALL US     (209)544-1388']"
      ]
     },
     "execution_count": 25,
     "metadata": {},
     "output_type": "execute_result"
    }
   ],
   "source": [
    "list(cars.loc[cars[\"price\"] == 2808348671.00000][\"description\"])"
   ]
  },
  {
   "cell_type": "markdown",
   "metadata": {},
   "source": [
    "Seeing that there is no info regarding the price in the description, we should remove this data point as it is likely an error."
   ]
  },
  {
   "cell_type": "code",
   "execution_count": 26,
   "metadata": {},
   "outputs": [],
   "source": [
    "cars.drop(index = 207260, inplace = True)"
   ]
  },
  {
   "cell_type": "code",
   "execution_count": 27,
   "metadata": {},
   "outputs": [],
   "source": [
    "#After removing the two erroneous rows, reset the index\n",
    "cars.reset_index(inplace = True, drop = True)"
   ]
  },
  {
   "cell_type": "code",
   "execution_count": 28,
   "metadata": {},
   "outputs": [
    {
     "data": {
      "text/html": [
       "<div>\n",
       "<style scoped>\n",
       "    .dataframe tbody tr th:only-of-type {\n",
       "        vertical-align: middle;\n",
       "    }\n",
       "\n",
       "    .dataframe tbody tr th {\n",
       "        vertical-align: top;\n",
       "    }\n",
       "\n",
       "    .dataframe thead th {\n",
       "        text-align: right;\n",
       "    }\n",
       "</style>\n",
       "<table border=\"1\" class=\"dataframe\">\n",
       "  <thead>\n",
       "    <tr style=\"text-align: right;\">\n",
       "      <th></th>\n",
       "      <th>price</th>\n",
       "      <th>year</th>\n",
       "      <th>manufacturer</th>\n",
       "      <th>condition</th>\n",
       "      <th>cylinders</th>\n",
       "      <th>fuel</th>\n",
       "      <th>odometer</th>\n",
       "      <th>title_status</th>\n",
       "      <th>transmission</th>\n",
       "      <th>drive</th>\n",
       "      <th>type</th>\n",
       "      <th>paint_color</th>\n",
       "      <th>description</th>\n",
       "      <th>state</th>\n",
       "    </tr>\n",
       "  </thead>\n",
       "  <tbody>\n",
       "    <tr>\n",
       "      <th>95591</th>\n",
       "      <td>38900</td>\n",
       "      <td>1990.00000</td>\n",
       "      <td>NaN</td>\n",
       "      <td>good</td>\n",
       "      <td>8.00000</td>\n",
       "      <td>diesel</td>\n",
       "      <td>10000000.00000</td>\n",
       "      <td>clean</td>\n",
       "      <td>manual</td>\n",
       "      <td>rwd</td>\n",
       "      <td>truck</td>\n",
       "      <td>grey</td>\n",
       "      <td>This is a 1990 Peterbilt 379 long hood, has a ...</td>\n",
       "      <td>nj</td>\n",
       "    </tr>\n",
       "    <tr>\n",
       "      <th>197082</th>\n",
       "      <td>1400</td>\n",
       "      <td>2000.00000</td>\n",
       "      <td>chevrolet</td>\n",
       "      <td>good</td>\n",
       "      <td>8.00000</td>\n",
       "      <td>gas</td>\n",
       "      <td>10000000.00000</td>\n",
       "      <td>clean</td>\n",
       "      <td>automatic</td>\n",
       "      <td>4wd</td>\n",
       "      <td>truck</td>\n",
       "      <td>black</td>\n",
       "      <td>Good work truck , 4x4 works , AC works PW wido...</td>\n",
       "      <td>oh</td>\n",
       "    </tr>\n",
       "    <tr>\n",
       "      <th>262694</th>\n",
       "      <td>3800</td>\n",
       "      <td>1936.00000</td>\n",
       "      <td>chevrolet</td>\n",
       "      <td>fair</td>\n",
       "      <td>6.00000</td>\n",
       "      <td>gas</td>\n",
       "      <td>10000000.00000</td>\n",
       "      <td>rebuilt</td>\n",
       "      <td>manual</td>\n",
       "      <td>rwd</td>\n",
       "      <td>sedan</td>\n",
       "      <td>black</td>\n",
       "      <td>Four door 1936 chevy car, All parts are there....</td>\n",
       "      <td>sd</td>\n",
       "    </tr>\n",
       "    <tr>\n",
       "      <th>311728</th>\n",
       "      <td>6200</td>\n",
       "      <td>1915.00000</td>\n",
       "      <td>NaN</td>\n",
       "      <td>good</td>\n",
       "      <td>4.00000</td>\n",
       "      <td>gas</td>\n",
       "      <td>10000000.00000</td>\n",
       "      <td>missing</td>\n",
       "      <td>manual</td>\n",
       "      <td>rwd</td>\n",
       "      <td>truck</td>\n",
       "      <td>black</td>\n",
       "      <td>Estate sale find, mostly restores 1915 Maxwell...</td>\n",
       "      <td>ia</td>\n",
       "    </tr>\n",
       "  </tbody>\n",
       "</table>\n",
       "</div>"
      ],
      "text/plain": [
       "        price       year manufacturer condition  cylinders    fuel  \\\n",
       "95591   38900 1990.00000          NaN      good    8.00000  diesel   \n",
       "197082   1400 2000.00000    chevrolet      good    8.00000     gas   \n",
       "262694   3800 1936.00000    chevrolet      fair    6.00000     gas   \n",
       "311728   6200 1915.00000          NaN      good    4.00000     gas   \n",
       "\n",
       "             odometer title_status transmission drive   type paint_color  \\\n",
       "95591  10000000.00000        clean       manual   rwd  truck        grey   \n",
       "197082 10000000.00000        clean    automatic   4wd  truck       black   \n",
       "262694 10000000.00000      rebuilt       manual   rwd  sedan       black   \n",
       "311728 10000000.00000      missing       manual   rwd  truck       black   \n",
       "\n",
       "                                              description state  \n",
       "95591   This is a 1990 Peterbilt 379 long hood, has a ...    nj  \n",
       "197082  Good work truck , 4x4 works , AC works PW wido...    oh  \n",
       "262694  Four door 1936 chevy car, All parts are there....    sd  \n",
       "311728  Estate sale find, mostly restores 1915 Maxwell...    ia  "
      ]
     },
     "execution_count": 28,
     "metadata": {},
     "output_type": "execute_result"
    }
   ],
   "source": [
    "#As seen above, the max value for the column \"odometer\" was 10000000.00. This seems unrealistic. Let's take a look.\n",
    "\n",
    "cars.loc[cars[\"odometer\"] == 10000000.00000]"
   ]
  },
  {
   "cell_type": "markdown",
   "metadata": {},
   "source": [
    "Let's replace all unrealistic values for the column \"odometer\" (anything above 999999, the max reading on the odometer) with an estimate of what the mileage for a car of their age should be. According to [caranddriver.com](https://www.caranddriver.com/research/a32880477/average-mileage-per-year/), the average person drive 13,500 miles per year. We can find the age of each car that lists an unrealistic value, multiply this by 13,500, and impute that for the entry in odometer. If this value exceeds 999,999, we will impute 999,999 as the entry."
   ]
  },
  {
   "cell_type": "code",
   "execution_count": 29,
   "metadata": {},
   "outputs": [],
   "source": [
    "max_odometer_before_imputation = cars[\"odometer\"].max()"
   ]
  },
  {
   "cell_type": "code",
   "execution_count": 30,
   "metadata": {},
   "outputs": [],
   "source": [
    "cars[\"odometer\"] = [x if x <= 999999 else min(999999, (13500 * (2021 - cars[\"year\"][i]))) for i, x in enumerate(cars[\"odometer\"])]"
   ]
  },
  {
   "cell_type": "code",
   "execution_count": 31,
   "metadata": {},
   "outputs": [],
   "source": [
    "max_odometer_after_imputation = cars[\"odometer\"].max()"
   ]
  },
  {
   "cell_type": "code",
   "execution_count": 32,
   "metadata": {},
   "outputs": [
    {
     "name": "stdout",
     "output_type": "stream",
     "text": [
      "10000000.0\n",
      "999999.0\n"
     ]
    }
   ],
   "source": [
    "print(max_odometer_before_imputation)\n",
    "print(max_odometer_after_imputation)"
   ]
  },
  {
   "cell_type": "code",
   "execution_count": 33,
   "metadata": {},
   "outputs": [],
   "source": [
    "cars[\"manufacturer\"].fillna(\"MISSING\", inplace = True)"
   ]
  },
  {
   "cell_type": "code",
   "execution_count": 34,
   "metadata": {},
   "outputs": [],
   "source": [
    "manufacturers = sorted(list(cars[\"manufacturer\"].unique()))\n",
    "nationalities = [\"MISSING\", \"Japanese\", \"Italian\", \"British\", \"German\", \"German\", \"American\", \"American\", \"American\", \n",
    "                 \"American\", \"Japanese\", \"American\", \"Italian\", \"Italian\", \"American\", \"American\", \"American\", \"American\", \n",
    "                \"Japanese\", \"Korean\", \"Japanese\", \"British\", \"American\", \"Korean\", \"British\", \"Japanese\", \"American\", \n",
    "                 \"Japanese\", \"German\", \"American\", \"British\", \"Japanese\", \"British\", \"Japanese\", \"American\", \"German\", \n",
    "                 \"American\", \"British\", \"American\", \"Japanese\", \"American\", \"Japanese\", \"German\", \"Swedish\"]\n",
    "\n",
    "manufacturers_dictionary = {}\n",
    "for i in range(len(manufacturers)):\n",
    "    manufacturers_dictionary[manufacturers[i]] = nationalities[i]"
   ]
  },
  {
   "cell_type": "code",
   "execution_count": 35,
   "metadata": {},
   "outputs": [],
   "source": [
    "cars[\"manufacturer_nationality\"] = cars[\"manufacturer\"].map(manufacturers_dictionary)"
   ]
  },
  {
   "cell_type": "code",
   "execution_count": 36,
   "metadata": {},
   "outputs": [
    {
     "data": {
      "text/plain": [
       "manufacturer_nationality\n",
       "American    180797\n",
       "British       3304\n",
       "German       25037\n",
       "Italian        769\n",
       "Japanese     85402\n",
       "Korean       15834\n",
       "MISSING     110615\n",
       "Swedish       2097\n",
       "Name: manufacturer_nationality, dtype: int64"
      ]
     },
     "execution_count": 36,
     "metadata": {},
     "output_type": "execute_result"
    }
   ],
   "source": [
    "cars.groupby(\"manufacturer_nationality\")[\"manufacturer_nationality\"].count()"
   ]
  },
  {
   "cell_type": "code",
   "execution_count": 37,
   "metadata": {},
   "outputs": [],
   "source": [
    "manufacturer_nationalities = sorted(list(cars[\"manufacturer_nationality\"].unique()))\n",
    "nationality_colors = [\"r\", \"m\", \"y\", \"g\", \"b\", \"c\", \"k\", \"w\"]\n",
    "\n",
    "manufacturers_colors = {}\n",
    "for i in range(len(manufacturer_nationalities)):\n",
    "    manufacturers_colors[manufacturer_nationalities[i]] = nationality_colors[i]"
   ]
  },
  {
   "cell_type": "code",
   "execution_count": 156,
   "metadata": {},
   "outputs": [],
   "source": [
    "cars[\"nationality_colors\"] = cars[\"manufacturer_nationality\"].map(manufacturers_colors)"
   ]
  },
  {
   "cell_type": "code",
   "execution_count": 39,
   "metadata": {},
   "outputs": [
    {
     "data": {
      "text/plain": [
       "<AxesSubplot:xlabel='manufacturer_nationality'>"
      ]
     },
     "execution_count": 39,
     "metadata": {},
     "output_type": "execute_result"
    },
    {
     "data": {
      "image/png": "[encoded data removed]",
      "text/plain": [
       "<Figure size 720x576 with 1 Axes>"
      ]
     },
     "metadata": {
      "needs_background": "light"
     },
     "output_type": "display_data"
    }
   ],
   "source": [
    "plt.figure(figsize = (10, 8))\n",
    "cars.loc[cars[\"manufacturer_nationality\"] != \"MISSING\"].groupby(\"manufacturer_nationality\")[\"price\"].mean().plot.bar()"
   ]
  },
  {
   "cell_type": "code",
   "execution_count": 40,
   "metadata": {},
   "outputs": [],
   "source": [
    "colors = [\"k\", \"b\", \"g\", \"m\", \"y\", \"y\", \"r\", \"r\", \"r\", \"r\", \"b\", \"r\", \"g\", \"g\", \"r\", \"r\", \"r\", \"r\", \"b\", \"c\", \"b\", \"m\", \n",
    "         \"r\", \"c\", \"m\", \"b\", \"r\", \"b\", \"y\", \"r\", \"m\", \"b\", \"m\", \"b\", \"r\", \"y\", \"r\", \"m\", \"r\", \"b\", \"r\", \"b\", \"y\", \"w\"]"
   ]
  },
  {
   "cell_type": "code",
   "execution_count": 41,
   "metadata": {},
   "outputs": [
    {
     "data": {
      "text/plain": [
       "<matplotlib.legend.Legend at 0x29f49d9adf0>"
      ]
     },
     "execution_count": 41,
     "metadata": {},
     "output_type": "execute_result"
    },
    {
     "data": {
      "image/png": "[encoded data removed]",
      "text/plain": [
       "<Figure size 720x576 with 1 Axes>"
      ]
     },
     "metadata": {
      "needs_background": "light"
     },
     "output_type": "display_data"
    }
   ],
   "source": [
    "plt.figure(figsize = (10, 8))\n",
    "cars.groupby(\"manufacturer\").price.mean().plot.bar(color = colors, edgecolor = \"k\")\n",
    "plt.ylabel(\"Average Price\")\n",
    "plt.xlabel(\"Manufacturer\")\n",
    "american = mpatches.Patch(facecolor = \"r\", edgecolor = \"k\", label = \"American Manufacturers\")\n",
    "italian = mpatches.Patch(facecolor = \"g\", edgecolor = \"k\", label = \"Italian Manufacturers\")\n",
    "british = mpatches.Patch(facecolor = \"m\", edgecolor = \"k\", label = \"British Manufacturers\")\n",
    "german = mpatches.Patch(facecolor = \"y\", edgecolor = \"k\", label = \"German Manufacturers\")\n",
    "swedish = mpatches.Patch(facecolor = \"w\", edgecolor = \"k\", label = \"Swedish Manufacturers\")\n",
    "japanese = mpatches.Patch(facecolor = \"b\", edgecolor = \"k\", label = \"Japanese Manufacturers\")\n",
    "korean = mpatches.Patch(facecolor = \"c\", edgecolor = \"k\", label = \"Korean Manufacturers\")\n",
    "missing = mpatches.Patch(facecolor = \"k\", edgecolor = \"k\", label = \"Missing Manufacturers\")\n",
    "plt.title(\"Average Price of Listed Cars by Manufacturer\")\n",
    "plt.legend(handles = [american, italian, british, german, swedish, japanese, korean, missing])"
   ]
  },
  {
   "cell_type": "code",
   "execution_count": 42,
   "metadata": {},
   "outputs": [
    {
     "data": {
      "text/plain": [
       "count       423855.00000\n",
       "mean         36308.21205\n",
       "std        5749884.40163\n",
       "min              0.00000\n",
       "25%           4499.00000\n",
       "50%           9995.00000\n",
       "75%          18995.00000\n",
       "max     2632269824.00000\n",
       "Name: price, dtype: float64"
      ]
     },
     "execution_count": 42,
     "metadata": {},
     "output_type": "execute_result"
    }
   ],
   "source": [
    "cars[\"price\"].describe()"
   ]
  },
  {
   "cell_type": "code",
   "execution_count": 43,
   "metadata": {},
   "outputs": [],
   "source": [
    "cars.drop(index = cars.loc[cars[\"price\"] > 300000].index, inplace = True)\n",
    "\n",
    "cars.drop(index = cars.loc[cars[\"price\"] < 100].index, inplace = True)\n",
    "\n",
    "cars.reset_index(inplace = True, drop = True)"
   ]
  },
  {
   "cell_type": "code",
   "execution_count": 44,
   "metadata": {},
   "outputs": [
    {
     "data": {
      "text/plain": [
       "count   386131.00000\n",
       "mean     15221.11954\n",
       "std      14036.89218\n",
       "min        100.00000\n",
       "25%       5900.00000\n",
       "50%      11500.00000\n",
       "75%      19995.00000\n",
       "max     300000.00000\n",
       "Name: price, dtype: float64"
      ]
     },
     "execution_count": 44,
     "metadata": {},
     "output_type": "execute_result"
    }
   ],
   "source": [
    "cars[\"price\"].describe()"
   ]
  },
  {
   "cell_type": "code",
   "execution_count": 45,
   "metadata": {},
   "outputs": [],
   "source": [
    "min_price = cars[\"price\"].min()\n",
    "price_25 = cars[\"price\"].quantile(0.25)\n",
    "price_50 = cars[\"price\"].quantile(0.50)\n",
    "price_75 = cars[\"price\"].quantile(0.75)\n",
    "max_price = cars[\"price\"].max()\n",
    "\n",
    "price_binned = pd.cut(cars[\"price\"], bins = [min_price, price_25, price_50, price_75, max_price], \n",
    "       labels = [\"Very Low\", \"Low\", \"Mid-High\", \"Expensive\"])"
   ]
  },
  {
   "cell_type": "code",
   "execution_count": 46,
   "metadata": {},
   "outputs": [],
   "source": [
    "cars[\"price_binned\"] = price_binned\n",
    "cars = cars[[cars.columns[0]] + [cars.columns[-1]] + list(cars.columns[1:-1])]"
   ]
  },
  {
   "cell_type": "code",
   "execution_count": 47,
   "metadata": {},
   "outputs": [],
   "source": [
    "cars_no_missing = cars.copy()\n",
    "cars_no_missing.dropna(inplace = True)\n",
    "cars_no_missing.reset_index(inplace = True, drop = True)"
   ]
  },
  {
   "cell_type": "code",
   "execution_count": 48,
   "metadata": {},
   "outputs": [
    {
     "data": {
      "text/plain": [
       "Index(['price', 'price_binned', 'year', 'manufacturer', 'condition',\n",
       "       'cylinders', 'fuel', 'odometer', 'title_status', 'transmission',\n",
       "       'drive', 'type', 'paint_color', 'description', 'state',\n",
       "       'manufacturer_nationality'],\n",
       "      dtype='object')"
      ]
     },
     "execution_count": 48,
     "metadata": {},
     "output_type": "execute_result"
    }
   ],
   "source": [
    "cars_no_missing.columns"
   ]
  },
  {
   "cell_type": "code",
   "execution_count": 49,
   "metadata": {},
   "outputs": [],
   "source": [
    "numerical = cars_no_missing.loc[:, [\"price\", \"year\", \"cylinders\", \"odometer\"]]\n",
    "categorical = cars_no_missing.loc[:, [\"manufacturer\", \"condition\", \"fuel\", \"title_status\", \"transmission\", \"drive\", \n",
    "                           \"type\", \"paint_color\", \"state\"]]\n",
    "binned_prediction = cars_no_missing[\"price_binned\"]"
   ]
  },
  {
   "cell_type": "code",
   "execution_count": 50,
   "metadata": {},
   "outputs": [],
   "source": [
    "#Create k-1 dummy variables for each k-level categorical variable\n",
    "categorical_dummies = pd.get_dummies(categorical, drop_first = True)"
   ]
  },
  {
   "cell_type": "code",
   "execution_count": 51,
   "metadata": {},
   "outputs": [
    {
     "data": {
      "text/html": [
       "<div>\n",
       "<style scoped>\n",
       "    .dataframe tbody tr th:only-of-type {\n",
       "        vertical-align: middle;\n",
       "    }\n",
       "\n",
       "    .dataframe tbody tr th {\n",
       "        vertical-align: top;\n",
       "    }\n",
       "\n",
       "    .dataframe thead th {\n",
       "        text-align: right;\n",
       "    }\n",
       "</style>\n",
       "<table border=\"1\" class=\"dataframe\">\n",
       "  <thead>\n",
       "    <tr style=\"text-align: right;\">\n",
       "      <th></th>\n",
       "      <th>price</th>\n",
       "      <th>year</th>\n",
       "      <th>cylinders</th>\n",
       "      <th>odometer</th>\n",
       "      <th>manufacturer_acura</th>\n",
       "      <th>manufacturer_alfa-romeo</th>\n",
       "      <th>manufacturer_aston-martin</th>\n",
       "      <th>manufacturer_audi</th>\n",
       "      <th>manufacturer_bmw</th>\n",
       "      <th>manufacturer_buick</th>\n",
       "      <th>...</th>\n",
       "      <th>state_sd</th>\n",
       "      <th>state_tn</th>\n",
       "      <th>state_tx</th>\n",
       "      <th>state_ut</th>\n",
       "      <th>state_va</th>\n",
       "      <th>state_vt</th>\n",
       "      <th>state_wa</th>\n",
       "      <th>state_wi</th>\n",
       "      <th>state_wv</th>\n",
       "      <th>state_wy</th>\n",
       "    </tr>\n",
       "  </thead>\n",
       "  <tbody>\n",
       "    <tr>\n",
       "      <th>0</th>\n",
       "      <td>12500</td>\n",
       "      <td>2003.00000</td>\n",
       "      <td>4.00000</td>\n",
       "      <td>243000.00000</td>\n",
       "      <td>0</td>\n",
       "      <td>0</td>\n",
       "      <td>0</td>\n",
       "      <td>0</td>\n",
       "      <td>0</td>\n",
       "      <td>0</td>\n",
       "      <td>...</td>\n",
       "      <td>0</td>\n",
       "      <td>0</td>\n",
       "      <td>0</td>\n",
       "      <td>0</td>\n",
       "      <td>0</td>\n",
       "      <td>0</td>\n",
       "      <td>0</td>\n",
       "      <td>0</td>\n",
       "      <td>0</td>\n",
       "      <td>0</td>\n",
       "    </tr>\n",
       "    <tr>\n",
       "      <th>1</th>\n",
       "      <td>16995</td>\n",
       "      <td>2007.00000</td>\n",
       "      <td>8.00000</td>\n",
       "      <td>254217.00000</td>\n",
       "      <td>0</td>\n",
       "      <td>0</td>\n",
       "      <td>0</td>\n",
       "      <td>0</td>\n",
       "      <td>0</td>\n",
       "      <td>0</td>\n",
       "      <td>...</td>\n",
       "      <td>0</td>\n",
       "      <td>0</td>\n",
       "      <td>0</td>\n",
       "      <td>0</td>\n",
       "      <td>0</td>\n",
       "      <td>0</td>\n",
       "      <td>0</td>\n",
       "      <td>0</td>\n",
       "      <td>0</td>\n",
       "      <td>0</td>\n",
       "    </tr>\n",
       "    <tr>\n",
       "      <th>2</th>\n",
       "      <td>13995</td>\n",
       "      <td>2012.00000</td>\n",
       "      <td>6.00000</td>\n",
       "      <td>188406.00000</td>\n",
       "      <td>0</td>\n",
       "      <td>0</td>\n",
       "      <td>0</td>\n",
       "      <td>0</td>\n",
       "      <td>0</td>\n",
       "      <td>0</td>\n",
       "      <td>...</td>\n",
       "      <td>0</td>\n",
       "      <td>0</td>\n",
       "      <td>0</td>\n",
       "      <td>0</td>\n",
       "      <td>0</td>\n",
       "      <td>0</td>\n",
       "      <td>0</td>\n",
       "      <td>0</td>\n",
       "      <td>0</td>\n",
       "      <td>0</td>\n",
       "    </tr>\n",
       "    <tr>\n",
       "      <th>3</th>\n",
       "      <td>7995</td>\n",
       "      <td>2010.00000</td>\n",
       "      <td>4.00000</td>\n",
       "      <td>108124.00000</td>\n",
       "      <td>0</td>\n",
       "      <td>0</td>\n",
       "      <td>0</td>\n",
       "      <td>0</td>\n",
       "      <td>0</td>\n",
       "      <td>0</td>\n",
       "      <td>...</td>\n",
       "      <td>0</td>\n",
       "      <td>0</td>\n",
       "      <td>0</td>\n",
       "      <td>0</td>\n",
       "      <td>0</td>\n",
       "      <td>0</td>\n",
       "      <td>0</td>\n",
       "      <td>0</td>\n",
       "      <td>0</td>\n",
       "      <td>0</td>\n",
       "    </tr>\n",
       "    <tr>\n",
       "      <th>4</th>\n",
       "      <td>8995</td>\n",
       "      <td>2011.00000</td>\n",
       "      <td>6.00000</td>\n",
       "      <td>178054.00000</td>\n",
       "      <td>0</td>\n",
       "      <td>0</td>\n",
       "      <td>0</td>\n",
       "      <td>0</td>\n",
       "      <td>0</td>\n",
       "      <td>0</td>\n",
       "      <td>...</td>\n",
       "      <td>0</td>\n",
       "      <td>0</td>\n",
       "      <td>0</td>\n",
       "      <td>0</td>\n",
       "      <td>0</td>\n",
       "      <td>0</td>\n",
       "      <td>0</td>\n",
       "      <td>0</td>\n",
       "      <td>0</td>\n",
       "      <td>0</td>\n",
       "    </tr>\n",
       "  </tbody>\n",
       "</table>\n",
       "<p>5 rows × 137 columns</p>\n",
       "</div>"
      ],
      "text/plain": [
       "   price       year  cylinders     odometer  manufacturer_acura  \\\n",
       "0  12500 2003.00000    4.00000 243000.00000                   0   \n",
       "1  16995 2007.00000    8.00000 254217.00000                   0   \n",
       "2  13995 2012.00000    6.00000 188406.00000                   0   \n",
       "3   7995 2010.00000    4.00000 108124.00000                   0   \n",
       "4   8995 2011.00000    6.00000 178054.00000                   0   \n",
       "\n",
       "   manufacturer_alfa-romeo  manufacturer_aston-martin  manufacturer_audi  \\\n",
       "0                        0                          0                  0   \n",
       "1                        0                          0                  0   \n",
       "2                        0                          0                  0   \n",
       "3                        0                          0                  0   \n",
       "4                        0                          0                  0   \n",
       "\n",
       "   manufacturer_bmw  manufacturer_buick  ...  state_sd  state_tn  state_tx  \\\n",
       "0                 0                   0  ...         0         0         0   \n",
       "1                 0                   0  ...         0         0         0   \n",
       "2                 0                   0  ...         0         0         0   \n",
       "3                 0                   0  ...         0         0         0   \n",
       "4                 0                   0  ...         0         0         0   \n",
       "\n",
       "   state_ut  state_va  state_vt  state_wa  state_wi  state_wv  state_wy  \n",
       "0         0         0         0         0         0         0         0  \n",
       "1         0         0         0         0         0         0         0  \n",
       "2         0         0         0         0         0         0         0  \n",
       "3         0         0         0         0         0         0         0  \n",
       "4         0         0         0         0         0         0         0  \n",
       "\n",
       "[5 rows x 137 columns]"
      ]
     },
     "execution_count": 51,
     "metadata": {},
     "output_type": "execute_result"
    }
   ],
   "source": [
    "cars_linear_data = pd.concat([numerical, categorical_dummies], axis = 1)\n",
    "cars_linear_data.head()"
   ]
  },
  {
   "cell_type": "code",
   "execution_count": 52,
   "metadata": {},
   "outputs": [
    {
     "data": {
      "text/plain": [
       "count    96280.00000\n",
       "mean     12763.31460\n",
       "std      11296.33702\n",
       "min        111.00000\n",
       "25%       5250.00000\n",
       "50%       9474.00000\n",
       "75%      16599.25000\n",
       "max     265000.00000\n",
       "Name: price, dtype: float64"
      ]
     },
     "execution_count": 52,
     "metadata": {},
     "output_type": "execute_result"
    }
   ],
   "source": [
    "cars_linear_data[\"price\"].describe()"
   ]
  },
  {
   "cell_type": "code",
   "execution_count": 53,
   "metadata": {},
   "outputs": [
    {
     "data": {
      "text/html": [
       "<div>\n",
       "<style scoped>\n",
       "    .dataframe tbody tr th:only-of-type {\n",
       "        vertical-align: middle;\n",
       "    }\n",
       "\n",
       "    .dataframe tbody tr th {\n",
       "        vertical-align: top;\n",
       "    }\n",
       "\n",
       "    .dataframe thead th {\n",
       "        text-align: right;\n",
       "    }\n",
       "</style>\n",
       "<table border=\"1\" class=\"dataframe\">\n",
       "  <thead>\n",
       "    <tr style=\"text-align: right;\">\n",
       "      <th></th>\n",
       "      <th>price_binned</th>\n",
       "      <th>year</th>\n",
       "      <th>cylinders</th>\n",
       "      <th>odometer</th>\n",
       "      <th>manufacturer_acura</th>\n",
       "      <th>manufacturer_alfa-romeo</th>\n",
       "      <th>manufacturer_aston-martin</th>\n",
       "      <th>manufacturer_audi</th>\n",
       "      <th>manufacturer_bmw</th>\n",
       "      <th>manufacturer_buick</th>\n",
       "      <th>...</th>\n",
       "      <th>state_sd</th>\n",
       "      <th>state_tn</th>\n",
       "      <th>state_tx</th>\n",
       "      <th>state_ut</th>\n",
       "      <th>state_va</th>\n",
       "      <th>state_vt</th>\n",
       "      <th>state_wa</th>\n",
       "      <th>state_wi</th>\n",
       "      <th>state_wv</th>\n",
       "      <th>state_wy</th>\n",
       "    </tr>\n",
       "  </thead>\n",
       "  <tbody>\n",
       "    <tr>\n",
       "      <th>0</th>\n",
       "      <td>Mid-High</td>\n",
       "      <td>2003.00000</td>\n",
       "      <td>4.00000</td>\n",
       "      <td>243000.00000</td>\n",
       "      <td>0</td>\n",
       "      <td>0</td>\n",
       "      <td>0</td>\n",
       "      <td>0</td>\n",
       "      <td>0</td>\n",
       "      <td>0</td>\n",
       "      <td>...</td>\n",
       "      <td>0</td>\n",
       "      <td>0</td>\n",
       "      <td>0</td>\n",
       "      <td>0</td>\n",
       "      <td>0</td>\n",
       "      <td>0</td>\n",
       "      <td>0</td>\n",
       "      <td>0</td>\n",
       "      <td>0</td>\n",
       "      <td>0</td>\n",
       "    </tr>\n",
       "    <tr>\n",
       "      <th>1</th>\n",
       "      <td>Mid-High</td>\n",
       "      <td>2007.00000</td>\n",
       "      <td>8.00000</td>\n",
       "      <td>254217.00000</td>\n",
       "      <td>0</td>\n",
       "      <td>0</td>\n",
       "      <td>0</td>\n",
       "      <td>0</td>\n",
       "      <td>0</td>\n",
       "      <td>0</td>\n",
       "      <td>...</td>\n",
       "      <td>0</td>\n",
       "      <td>0</td>\n",
       "      <td>0</td>\n",
       "      <td>0</td>\n",
       "      <td>0</td>\n",
       "      <td>0</td>\n",
       "      <td>0</td>\n",
       "      <td>0</td>\n",
       "      <td>0</td>\n",
       "      <td>0</td>\n",
       "    </tr>\n",
       "    <tr>\n",
       "      <th>2</th>\n",
       "      <td>Mid-High</td>\n",
       "      <td>2012.00000</td>\n",
       "      <td>6.00000</td>\n",
       "      <td>188406.00000</td>\n",
       "      <td>0</td>\n",
       "      <td>0</td>\n",
       "      <td>0</td>\n",
       "      <td>0</td>\n",
       "      <td>0</td>\n",
       "      <td>0</td>\n",
       "      <td>...</td>\n",
       "      <td>0</td>\n",
       "      <td>0</td>\n",
       "      <td>0</td>\n",
       "      <td>0</td>\n",
       "      <td>0</td>\n",
       "      <td>0</td>\n",
       "      <td>0</td>\n",
       "      <td>0</td>\n",
       "      <td>0</td>\n",
       "      <td>0</td>\n",
       "    </tr>\n",
       "    <tr>\n",
       "      <th>3</th>\n",
       "      <td>Low</td>\n",
       "      <td>2010.00000</td>\n",
       "      <td>4.00000</td>\n",
       "      <td>108124.00000</td>\n",
       "      <td>0</td>\n",
       "      <td>0</td>\n",
       "      <td>0</td>\n",
       "      <td>0</td>\n",
       "      <td>0</td>\n",
       "      <td>0</td>\n",
       "      <td>...</td>\n",
       "      <td>0</td>\n",
       "      <td>0</td>\n",
       "      <td>0</td>\n",
       "      <td>0</td>\n",
       "      <td>0</td>\n",
       "      <td>0</td>\n",
       "      <td>0</td>\n",
       "      <td>0</td>\n",
       "      <td>0</td>\n",
       "      <td>0</td>\n",
       "    </tr>\n",
       "    <tr>\n",
       "      <th>4</th>\n",
       "      <td>Low</td>\n",
       "      <td>2011.00000</td>\n",
       "      <td>6.00000</td>\n",
       "      <td>178054.00000</td>\n",
       "      <td>0</td>\n",
       "      <td>0</td>\n",
       "      <td>0</td>\n",
       "      <td>0</td>\n",
       "      <td>0</td>\n",
       "      <td>0</td>\n",
       "      <td>...</td>\n",
       "      <td>0</td>\n",
       "      <td>0</td>\n",
       "      <td>0</td>\n",
       "      <td>0</td>\n",
       "      <td>0</td>\n",
       "      <td>0</td>\n",
       "      <td>0</td>\n",
       "      <td>0</td>\n",
       "      <td>0</td>\n",
       "      <td>0</td>\n",
       "    </tr>\n",
       "  </tbody>\n",
       "</table>\n",
       "<p>5 rows × 137 columns</p>\n",
       "</div>"
      ],
      "text/plain": [
       "  price_binned       year  cylinders     odometer  manufacturer_acura  \\\n",
       "0     Mid-High 2003.00000    4.00000 243000.00000                   0   \n",
       "1     Mid-High 2007.00000    8.00000 254217.00000                   0   \n",
       "2     Mid-High 2012.00000    6.00000 188406.00000                   0   \n",
       "3          Low 2010.00000    4.00000 108124.00000                   0   \n",
       "4          Low 2011.00000    6.00000 178054.00000                   0   \n",
       "\n",
       "   manufacturer_alfa-romeo  manufacturer_aston-martin  manufacturer_audi  \\\n",
       "0                        0                          0                  0   \n",
       "1                        0                          0                  0   \n",
       "2                        0                          0                  0   \n",
       "3                        0                          0                  0   \n",
       "4                        0                          0                  0   \n",
       "\n",
       "   manufacturer_bmw  manufacturer_buick  ...  state_sd  state_tn  state_tx  \\\n",
       "0                 0                   0  ...         0         0         0   \n",
       "1                 0                   0  ...         0         0         0   \n",
       "2                 0                   0  ...         0         0         0   \n",
       "3                 0                   0  ...         0         0         0   \n",
       "4                 0                   0  ...         0         0         0   \n",
       "\n",
       "   state_ut  state_va  state_vt  state_wa  state_wi  state_wv  state_wy  \n",
       "0         0         0         0         0         0         0         0  \n",
       "1         0         0         0         0         0         0         0  \n",
       "2         0         0         0         0         0         0         0  \n",
       "3         0         0         0         0         0         0         0  \n",
       "4         0         0         0         0         0         0         0  \n",
       "\n",
       "[5 rows x 137 columns]"
      ]
     },
     "execution_count": 53,
     "metadata": {},
     "output_type": "execute_result"
    }
   ],
   "source": [
    "cars_price_binned = cars_linear_data.copy()\n",
    "cars_price_binned[\"price_binned\"] = binned_prediction\n",
    "cars_price_binned.drop(\"price\", axis = 1, inplace = True)\n",
    "cars_price_binned = cars_price_binned[[cars_price_binned.columns[-1]] + list(cars_price_binned.columns[0:-1])]\n",
    "cars_price_binned.head()"
   ]
  },
  {
   "cell_type": "code",
   "execution_count": 54,
   "metadata": {},
   "outputs": [
    {
     "data": {
      "text/plain": [
       "(96280, 137)"
      ]
     },
     "execution_count": 54,
     "metadata": {},
     "output_type": "execute_result"
    }
   ],
   "source": [
    "cars_price_binned.shape"
   ]
  },
  {
   "cell_type": "code",
   "execution_count": 56,
   "metadata": {},
   "outputs": [
    {
     "name": "stdout",
     "output_type": "stream",
     "text": [
      "                            OLS Regression Results                            \n",
      "==============================================================================\n",
      "Dep. Variable:                  price   R-squared:                       0.388\n",
      "Model:                            OLS   Adj. R-squared:                  0.387\n",
      "Method:                 Least Squares   F-statistic:                     447.8\n",
      "Date:                Mon, 07 Dec 2020   Prob (F-statistic):               0.00\n",
      "Time:                        09:56:47   Log-Likelihood:            -1.0115e+06\n",
      "No. Observations:               96280   AIC:                         2.023e+06\n",
      "Df Residuals:                   96143   BIC:                         2.025e+06\n",
      "Df Model:                         136                                         \n",
      "Covariance Type:            nonrobust                                         \n",
      "================================================================================================\n",
      "                                   coef    std err          t      P>|t|      [0.025      0.975]\n",
      "------------------------------------------------------------------------------------------------\n",
      "const                        -3.311e+05   7784.693    -42.535      0.000   -3.46e+05   -3.16e+05\n",
      "year                           175.8288      3.848     45.699      0.000     168.288     183.370\n",
      "cylinders                     1042.9196     26.381     39.533      0.000     991.213    1094.626\n",
      "odometer                        -0.0158      0.000    -48.648      0.000      -0.016      -0.015\n",
      "manufacturer_acura           -2856.2497    330.915     -8.631      0.000   -3504.839   -2207.661\n",
      "manufacturer_alfa-romeo       2627.0329   1985.203      1.323      0.186   -1263.942    6518.008\n",
      "manufacturer_aston-martin     1.609e+04   4428.903      3.632      0.000    7406.650    2.48e+04\n",
      "manufacturer_audi            -2805.0995    326.684     -8.587      0.000   -3445.397   -2164.802\n",
      "manufacturer_bmw             -4488.4850    230.960    -19.434      0.000   -4941.163   -4035.806\n",
      "manufacturer_buick           -2854.4041    285.532     -9.997      0.000   -3414.044   -2294.764\n",
      "manufacturer_cadillac        -2142.2776    272.797     -7.853      0.000   -2676.957   -1607.599\n",
      "manufacturer_chevrolet       -2914.4665    155.850    -18.700      0.000   -3219.931   -2609.002\n",
      "manufacturer_chrysler        -5233.9704    250.845    -20.865      0.000   -5725.624   -4742.317\n",
      "manufacturer_datsun           2231.1608   1813.919      1.230      0.219   -1324.101    5786.422\n",
      "manufacturer_dodge           -3894.7942    205.537    -18.949      0.000   -4297.645   -3491.943\n",
      "manufacturer_ferrari          6.397e+04   2673.556     23.929      0.000    5.87e+04    6.92e+04\n",
      "manufacturer_fiat            -6256.6182    678.014     -9.228      0.000   -7585.519   -4927.718\n",
      "manufacturer_ford            -3247.0636    151.004    -21.503      0.000   -3543.031   -2951.097\n",
      "manufacturer_gmc             -2212.3955    206.972    -10.689      0.000   -2618.057   -1806.734\n",
      "manufacturer_harley-davidson -8818.4771   3135.237     -2.813      0.005    -1.5e+04   -2673.449\n",
      "manufacturer_honda           -3454.2957    183.838    -18.790      0.000   -3814.616   -3093.976\n",
      "manufacturer_hyundai         -3692.1596    231.219    -15.968      0.000   -4145.345   -3238.974\n",
      "manufacturer_infiniti        -3697.4579    376.023     -9.833      0.000   -4434.458   -2960.458\n",
      "manufacturer_jaguar          -3529.9071    577.628     -6.111      0.000   -4662.052   -2397.762\n",
      "manufacturer_jeep            -2619.9498    202.762    -12.921      0.000   -3017.362   -2222.538\n",
      "manufacturer_kia             -3740.0266    252.593    -14.807      0.000   -4235.106   -3244.947\n",
      "manufacturer_land rover      -4807.7114   3347.890     -1.436      0.151   -1.14e+04    1754.115\n",
      "manufacturer_lexus           -2163.1490    289.006     -7.485      0.000   -2729.597   -1596.701\n",
      "manufacturer_lincoln         -4055.3550    340.958    -11.894      0.000   -4723.629   -3387.081\n",
      "manufacturer_mazda           -4579.3249    291.754    -15.696      0.000   -5151.159   -4007.491\n",
      "manufacturer_mercedes-benz   -2975.6394    250.927    -11.859      0.000   -3467.454   -2483.825\n",
      "manufacturer_mercury         -5917.5420    416.439    -14.210      0.000   -6733.757   -5101.327\n",
      "manufacturer_mini            -4969.4743    452.223    -10.989      0.000   -5855.826   -4083.123\n",
      "manufacturer_mitsubishi      -5266.8505    405.931    -12.975      0.000   -6062.470   -4471.231\n",
      "manufacturer_morgan            1.71e+04   8849.899      1.933      0.053    -241.663    3.44e+04\n",
      "manufacturer_nissan          -4178.1644    187.293    -22.308      0.000   -4545.257   -3811.072\n",
      "manufacturer_pontiac         -4107.6934    313.954    -13.084      0.000   -4723.039   -3492.348\n",
      "manufacturer_porche           1.304e+04   8847.785      1.474      0.140   -4299.882    3.04e+04\n",
      "manufacturer_ram             -2466.5601    222.120    -11.105      0.000   -2901.914   -2031.207\n",
      "manufacturer_rover            2432.4040    480.512      5.062      0.000    1490.606    3374.202\n",
      "manufacturer_saturn          -6008.1410    446.918    -13.444      0.000   -6884.095   -5132.187\n",
      "manufacturer_subaru          -4309.8020    243.671    -17.687      0.000   -4787.395   -3832.209\n",
      "manufacturer_tesla            1.822e+04   8966.723      2.032      0.042     644.916    3.58e+04\n",
      "manufacturer_toyota          -2128.2481    172.909    -12.308      0.000   -2467.148   -1789.348\n",
      "manufacturer_volkswagen      -3988.2639    234.759    -16.989      0.000   -4448.388   -3528.140\n",
      "manufacturer_volvo           -3967.2205    360.996    -10.990      0.000   -4674.768   -3259.673\n",
      "condition_fair               -8016.2777    148.836    -53.860      0.000   -8307.994   -7724.562\n",
      "condition_good               -2969.8826     65.581    -45.286      0.000   -3098.421   -2841.344\n",
      "condition_like new            3649.4439     96.613     37.774      0.000    3460.084    3838.803\n",
      "condition_new                 1.061e+04    411.878     25.756      0.000    9801.031    1.14e+04\n",
      "condition_salvage            -7189.3771    523.029    -13.746      0.000   -8214.509   -6164.246\n",
      "fuel_electric                -5050.8476   1445.143     -3.495      0.000   -7883.312   -2218.383\n",
      "fuel_gas                     -6495.8113    133.491    -48.661      0.000   -6757.451   -6234.171\n",
      "fuel_hybrid                  -6167.5344    305.929    -20.160      0.000   -6767.152   -5567.917\n",
      "fuel_other                   -2036.1137    355.526     -5.727      0.000   -2732.941   -1339.286\n",
      "title_status_lien             4903.8878    259.582     18.892      0.000    4395.111    5412.665\n",
      "title_status_missing          1313.0143    599.894      2.189      0.029     137.230    2488.799\n",
      "title_status_parts only      -2786.8894   1377.586     -2.023      0.043   -5486.942     -86.837\n",
      "title_status_rebuilt          -768.2021    173.380     -4.431      0.000   -1108.024    -428.380\n",
      "title_status_salvage         -1984.5160    254.451     -7.799      0.000   -2483.237   -1485.795\n",
      "transmission_manual           1785.5110    109.952     16.239      0.000    1570.006    2001.016\n",
      "transmission_other            9753.9295    201.560     48.392      0.000    9358.874    1.01e+04\n",
      "drive_fwd                    -4455.8131     99.635    -44.721      0.000   -4651.097   -4260.529\n",
      "drive_rwd                    -1062.2349     94.320    -11.262      0.000   -1247.102    -877.368\n",
      "type_bus                      3456.8321    750.077      4.609      0.000    1986.690    4926.975\n",
      "type_convertible              4855.2198    184.894     26.259      0.000    4492.829    5217.611\n",
      "type_coupe                    5248.0127    142.401     36.854      0.000    4968.909    5527.117\n",
      "type_hatchback                 249.7107    170.137      1.468      0.142     -83.756     583.177\n",
      "type_mini-van                 1539.6566    195.604      7.871      0.000    1156.274    1923.039\n",
      "type_offroad                  4732.7632    441.831     10.712      0.000    3866.779    5598.747\n",
      "type_other                    5008.1038    258.544     19.370      0.000    4501.361    5514.847\n",
      "type_pickup                   3658.9258    130.648     28.006      0.000    3402.858    3914.994\n",
      "type_sedan                     302.8762     97.453      3.108      0.002     111.868     493.884\n",
      "type_truck                    3865.4375    118.204     32.701      0.000    3633.758    4097.117\n",
      "type_van                      2492.1587    178.738     13.943      0.000    2141.835    2842.482\n",
      "type_wagon                     882.3514    185.686      4.752      0.000     518.409    1246.293\n",
      "paint_color_blue             -1357.0519    110.414    -12.291      0.000   -1573.461   -1140.643\n",
      "paint_color_brown            -2074.7353    185.302    -11.196      0.000   -2437.926   -1711.545\n",
      "paint_color_custom              64.2535    196.354      0.327      0.743    -320.597     449.104\n",
      "paint_color_green            -1998.1812    172.204    -11.604      0.000   -2335.699   -1660.664\n",
      "paint_color_grey              -901.2265    109.096     -8.261      0.000   -1115.054    -687.399\n",
      "paint_color_orange            3546.5753    357.887      9.910      0.000    2845.121    4248.030\n",
      "paint_color_purple            -735.2378    460.471     -1.597      0.110   -1637.755     167.279\n",
      "paint_color_red              -1083.1297    111.509     -9.713      0.000   -1301.686    -864.573\n",
      "paint_color_silver           -1907.6858    101.122    -18.865      0.000   -2105.883   -1709.489\n",
      "paint_color_white             -710.6339     92.500     -7.683      0.000    -891.933    -529.334\n",
      "paint_color_yellow             153.5384    302.476      0.508      0.612    -439.311     746.388\n",
      "state_al                      -840.9297    385.590     -2.181      0.029   -1596.683     -85.177\n",
      "state_ar                     -2337.0017    447.291     -5.225      0.000   -3213.687   -1460.316\n",
      "state_az                     -2516.1595    387.774     -6.489      0.000   -3276.192   -1756.127\n",
      "state_ca                      -979.5046    322.518     -3.037      0.002   -1611.635    -347.374\n",
      "state_co                     -2327.0842    358.784     -6.486      0.000   -3030.298   -1623.871\n",
      "state_ct                     -3122.1153    387.149     -8.064      0.000   -3880.924   -2363.307\n",
      "state_dc                     -3944.2058    477.003     -8.269      0.000   -4879.126   -3009.286\n",
      "state_de                     -2918.7024    634.244     -4.602      0.000   -4161.813   -1675.591\n",
      "state_fl                     -1877.3821    324.596     -5.784      0.000   -2513.587   -1241.177\n",
      "state_ga                     -2623.2278    410.533     -6.390      0.000   -3427.869   -1818.587\n",
      "state_hi                      1601.0862    519.460      3.082      0.002     582.950    2619.222\n",
      "state_ia                     -2031.9340    348.255     -5.835      0.000   -2714.510   -1349.358\n",
      "state_id                     -1367.7229    388.576     -3.520      0.000   -2129.328    -606.118\n",
      "state_il                     -3082.2607    364.378     -8.459      0.000   -3796.438   -2368.084\n",
      "state_in                     -2008.2919    358.949     -5.595      0.000   -2711.828   -1304.756\n",
      "state_ks                     -3632.1990    391.529     -9.277      0.000   -4399.591   -2864.807\n",
      "state_ky                     -2516.3675    379.539     -6.630      0.000   -3260.260   -1772.475\n",
      "state_la                     -1777.3875    478.314     -3.716      0.000   -2714.877    -839.897\n",
      "state_ma                     -3248.4030    356.440     -9.113      0.000   -3947.022   -2549.784\n",
      "state_md                     -2470.3237    416.953     -5.925      0.000   -3287.547   -1653.100\n",
      "state_me                     -2831.3693    446.767     -6.337      0.000   -3707.027   -1955.711\n",
      "state_mi                      -692.9955    336.321     -2.061      0.039   -1352.180     -33.811\n",
      "state_mn                     -3558.7489    366.495     -9.710      0.000   -4277.074   -2840.424\n",
      "state_mo                     -2189.3647    393.780     -5.560      0.000   -2961.169   -1417.560\n",
      "state_ms                     -2856.9229    520.197     -5.492      0.000   -3876.504   -1837.342\n",
      "state_mt                     -1844.8336    402.510     -4.583      0.000   -2633.748   -1055.919\n",
      "state_nc                     -2498.9258    341.541     -7.317      0.000   -3168.342   -1829.510\n",
      "state_nd                     -2210.5362    623.362     -3.546      0.000   -3432.319    -988.754\n",
      "state_ne                     -2903.9555    502.915     -5.774      0.000   -3889.663   -1918.249\n",
      "state_nh                     -2246.4772    454.991     -4.937      0.000   -3138.255   -1354.700\n",
      "state_nj                     -3553.5031    351.781    -10.101      0.000   -4242.990   -2864.016\n",
      "state_nm                     -2167.4673    418.448     -5.180      0.000   -2987.620   -1347.314\n",
      "state_nv                     -1951.7649    473.503     -4.122      0.000   -2879.825   -1023.704\n",
      "state_ny                     -2726.4923    327.143     -8.334      0.000   -3367.689   -2085.296\n",
      "state_oh                     -4555.2158    332.264    -13.710      0.000   -5206.449   -3903.983\n",
      "state_ok                     -2724.6576    377.159     -7.224      0.000   -3463.884   -1985.431\n",
      "state_or                     -2729.6573    353.753     -7.716      0.000   -3423.009   -2036.305\n",
      "state_pa                     -3454.4028    338.997    -10.190      0.000   -4118.833   -2789.973\n",
      "state_ri                     -2801.8652    430.370     -6.510      0.000   -3645.386   -1958.345\n",
      "state_sc                     -2066.6627    372.289     -5.551      0.000   -2796.345   -1336.980\n",
      "state_sd                     -1427.4921    543.672     -2.626      0.009   -2493.083    -361.901\n",
      "state_tn                     -1698.2627    353.947     -4.798      0.000   -2391.995   -1004.531\n",
      "state_tx                     -2331.7922    336.394     -6.932      0.000   -2991.122   -1672.463\n",
      "state_ut                       -18.1621    646.849     -0.028      0.978   -1285.978    1249.654\n",
      "state_va                     -3326.9676    344.983     -9.644      0.000   -4003.131   -2650.804\n",
      "state_vt                     -1302.0859    402.031     -3.239      0.001   -2090.062    -514.110\n",
      "state_wa                     -1806.0198    399.352     -4.522      0.000   -2588.746   -1023.293\n",
      "state_wi                     -1443.4700    335.531     -4.302      0.000   -2101.106    -785.834\n",
      "state_wv                     -2267.9501    724.547     -3.130      0.002   -3688.053    -847.847\n",
      "state_wy                       630.9753    606.885      1.040      0.298    -558.513    1820.464\n",
      "==============================================================================\n",
      "Omnibus:                    83130.999   Durbin-Watson:                   1.884\n",
      "Prob(Omnibus):                  0.000   Jarque-Bera (JB):          8852002.315\n",
      "Skew:                           3.653   Prob(JB):                         0.00\n",
      "Kurtosis:                      49.403   Cond. No.                     5.38e+07\n",
      "==============================================================================\n",
      "\n",
      "Notes:\n",
      "[1] Standard Errors assume that the covariance matrix of the errors is correctly specified.\n",
      "[2] The condition number is large, 5.38e+07. This might indicate that there are\n",
      "strong multicollinearity or other numerical problems.\n"
     ]
    }
   ],
   "source": [
    "X_linear = cars_linear_data.iloc[:, 1:]\n",
    "y_linear = cars_linear_data[\"price\"]\n",
    "\n",
    "X_with_constant = sm.add_constant(X_linear)\n",
    "est = sm.OLS(y_linear, X_with_constant)\n",
    "est2 = est.fit()\n",
    "print(est2.summary())"
   ]
  },
  {
   "cell_type": "code",
   "execution_count": 118,
   "metadata": {},
   "outputs": [],
   "source": [
    "X = cars_price_binned.iloc[:, 1:]\n",
    "y = cars_price_binned.iloc[:, 0]"
   ]
  },
  {
   "cell_type": "code",
   "execution_count": 119,
   "metadata": {},
   "outputs": [],
   "source": [
    "X_train, X_test, y_train, y_test = train_test_split(X, y, test_size = 0.33, random_state = 212)"
   ]
  },
  {
   "cell_type": "code",
   "execution_count": 59,
   "metadata": {},
   "outputs": [
    {
     "name": "stdout",
     "output_type": "stream",
     "text": [
      "BernoulliNB()\n",
      "0.45393887892235546\n"
     ]
    }
   ],
   "source": [
    "#Bernoulli Naive Bayes\n",
    "BNB = BernoulliNB()\n",
    "\n",
    "BNB.fit(X_train, y_train)\n",
    "print(BNB)\n",
    "\n",
    "y_pred = BNB.predict(X_test)\n",
    "print(accuracy_score(y_test, y_pred))"
   ]
  },
  {
   "cell_type": "code",
   "execution_count": 60,
   "metadata": {},
   "outputs": [
    {
     "data": {
      "text/plain": [
       "0.44864977149979224"
      ]
     },
     "execution_count": 60,
     "metadata": {},
     "output_type": "execute_result"
    }
   ],
   "source": [
    "cross_val_score(BNB, X, y, cv = 10).mean()"
   ]
  },
  {
   "cell_type": "code",
   "execution_count": 61,
   "metadata": {},
   "outputs": [
    {
     "data": {
      "text/plain": [
       "RandomForestClassifier()"
      ]
     },
     "execution_count": 61,
     "metadata": {},
     "output_type": "execute_result"
    }
   ],
   "source": [
    "model = RandomForestClassifier()\n",
    "model.fit(X_train, y_train)"
   ]
  },
  {
   "cell_type": "code",
   "execution_count": 62,
   "metadata": {},
   "outputs": [
    {
     "data": {
      "text/plain": [
       "0.7984766940484059"
      ]
     },
     "execution_count": 62,
     "metadata": {},
     "output_type": "execute_result"
    }
   ],
   "source": [
    "model.score(X_test, y_test)"
   ]
  },
  {
   "cell_type": "code",
   "execution_count": 63,
   "metadata": {},
   "outputs": [
    {
     "data": {
      "text/plain": [
       "0.7986186123805568"
      ]
     },
     "execution_count": 63,
     "metadata": {},
     "output_type": "execute_result"
    }
   ],
   "source": [
    "cross_val_score(RandomForestClassifier(), X, y, cv = 10).mean()"
   ]
  },
  {
   "cell_type": "code",
   "execution_count": 121,
   "metadata": {},
   "outputs": [],
   "source": [
    "mutual_info = mutual_info_classif\n",
    "info = mutual_info(X_train, y_train)\n",
    "info_dict = dict(list(enumerate(info)))\n",
    "values = sorted(info_dict.values(), reverse = True)"
   ]
  },
  {
   "cell_type": "code",
   "execution_count": 122,
   "metadata": {},
   "outputs": [
    {
     "data": {
      "text/html": [
       "<div>\n",
       "<style scoped>\n",
       "    .dataframe tbody tr th:only-of-type {\n",
       "        vertical-align: middle;\n",
       "    }\n",
       "\n",
       "    .dataframe tbody tr th {\n",
       "        vertical-align: top;\n",
       "    }\n",
       "\n",
       "    .dataframe thead th {\n",
       "        text-align: right;\n",
       "    }\n",
       "</style>\n",
       "<table border=\"1\" class=\"dataframe\">\n",
       "  <thead>\n",
       "    <tr style=\"text-align: right;\">\n",
       "      <th></th>\n",
       "      <th>variable</th>\n",
       "      <th>info_gain</th>\n",
       "    </tr>\n",
       "  </thead>\n",
       "  <tbody>\n",
       "    <tr>\n",
       "      <th>2</th>\n",
       "      <td>odometer</td>\n",
       "      <td>0.35679</td>\n",
       "    </tr>\n",
       "    <tr>\n",
       "      <th>0</th>\n",
       "      <td>year</td>\n",
       "      <td>0.26997</td>\n",
       "    </tr>\n",
       "    <tr>\n",
       "      <th>61</th>\n",
       "      <td>drive_fwd</td>\n",
       "      <td>0.06384</td>\n",
       "    </tr>\n",
       "    <tr>\n",
       "      <th>1</th>\n",
       "      <td>cylinders</td>\n",
       "      <td>0.04689</td>\n",
       "    </tr>\n",
       "    <tr>\n",
       "      <th>45</th>\n",
       "      <td>condition_fair</td>\n",
       "      <td>0.03905</td>\n",
       "    </tr>\n",
       "    <tr>\n",
       "      <th>71</th>\n",
       "      <td>type_sedan</td>\n",
       "      <td>0.03718</td>\n",
       "    </tr>\n",
       "    <tr>\n",
       "      <th>51</th>\n",
       "      <td>fuel_gas</td>\n",
       "      <td>0.02228</td>\n",
       "    </tr>\n",
       "    <tr>\n",
       "      <th>72</th>\n",
       "      <td>type_truck</td>\n",
       "      <td>0.02013</td>\n",
       "    </tr>\n",
       "    <tr>\n",
       "      <th>46</th>\n",
       "      <td>condition_good</td>\n",
       "      <td>0.01566</td>\n",
       "    </tr>\n",
       "    <tr>\n",
       "      <th>60</th>\n",
       "      <td>transmission_other</td>\n",
       "      <td>0.01560</td>\n",
       "    </tr>\n",
       "  </tbody>\n",
       "</table>\n",
       "</div>"
      ],
      "text/plain": [
       "              variable  info_gain\n",
       "2             odometer    0.35679\n",
       "0                 year    0.26997\n",
       "61           drive_fwd    0.06384\n",
       "1            cylinders    0.04689\n",
       "45      condition_fair    0.03905\n",
       "71          type_sedan    0.03718\n",
       "51            fuel_gas    0.02228\n",
       "72          type_truck    0.02013\n",
       "46      condition_good    0.01566\n",
       "60  transmission_other    0.01560"
      ]
     },
     "execution_count": 122,
     "metadata": {},
     "output_type": "execute_result"
    }
   ],
   "source": [
    "info_gain = pd.DataFrame(info_dict, index = [0]).transpose()\n",
    "info_gain.columns = [\"info_gain\"]\n",
    "info_gain[\"variable\"] = list(X.columns)\n",
    "info_gain = info_gain.iloc[:, [-1,0]].sort_values(by = \"info_gain\", ascending = False)\n",
    "info_gain.head(10)"
   ]
  },
  {
   "cell_type": "markdown",
   "metadata": {},
   "source": [
    "There are 12 variables which have an information gain over 0.01. Let's reduce the number of variables and only use those to test our models."
   ]
  },
  {
   "cell_type": "code",
   "execution_count": 133,
   "metadata": {},
   "outputs": [],
   "source": [
    "top_12 = list(info_gain[0:12].index)"
   ]
  },
  {
   "cell_type": "code",
   "execution_count": 134,
   "metadata": {},
   "outputs": [],
   "source": [
    "X_cut = cars_price_binned.iloc[:, 1:].iloc[:, top_12]\n",
    "y = cars_price_binned.iloc[:, 0]"
   ]
  },
  {
   "cell_type": "code",
   "execution_count": 135,
   "metadata": {},
   "outputs": [
    {
     "data": {
      "text/html": [
       "<div>\n",
       "<style scoped>\n",
       "    .dataframe tbody tr th:only-of-type {\n",
       "        vertical-align: middle;\n",
       "    }\n",
       "\n",
       "    .dataframe tbody tr th {\n",
       "        vertical-align: top;\n",
       "    }\n",
       "\n",
       "    .dataframe thead th {\n",
       "        text-align: right;\n",
       "    }\n",
       "</style>\n",
       "<table border=\"1\" class=\"dataframe\">\n",
       "  <thead>\n",
       "    <tr style=\"text-align: right;\">\n",
       "      <th></th>\n",
       "      <th>odometer</th>\n",
       "      <th>year</th>\n",
       "      <th>drive_fwd</th>\n",
       "      <th>cylinders</th>\n",
       "      <th>condition_fair</th>\n",
       "      <th>type_sedan</th>\n",
       "      <th>fuel_gas</th>\n",
       "      <th>type_truck</th>\n",
       "      <th>condition_good</th>\n",
       "      <th>transmission_other</th>\n",
       "      <th>type_pickup</th>\n",
       "      <th>condition_like new</th>\n",
       "    </tr>\n",
       "  </thead>\n",
       "  <tbody>\n",
       "    <tr>\n",
       "      <th>0</th>\n",
       "      <td>243000.00000</td>\n",
       "      <td>2003.00000</td>\n",
       "      <td>0</td>\n",
       "      <td>4.00000</td>\n",
       "      <td>0</td>\n",
       "      <td>1</td>\n",
       "      <td>1</td>\n",
       "      <td>0</td>\n",
       "      <td>1</td>\n",
       "      <td>0</td>\n",
       "      <td>0</td>\n",
       "      <td>0</td>\n",
       "    </tr>\n",
       "    <tr>\n",
       "      <th>1</th>\n",
       "      <td>254217.00000</td>\n",
       "      <td>2007.00000</td>\n",
       "      <td>0</td>\n",
       "      <td>8.00000</td>\n",
       "      <td>0</td>\n",
       "      <td>0</td>\n",
       "      <td>0</td>\n",
       "      <td>1</td>\n",
       "      <td>1</td>\n",
       "      <td>0</td>\n",
       "      <td>0</td>\n",
       "      <td>0</td>\n",
       "    </tr>\n",
       "    <tr>\n",
       "      <th>2</th>\n",
       "      <td>188406.00000</td>\n",
       "      <td>2012.00000</td>\n",
       "      <td>0</td>\n",
       "      <td>6.00000</td>\n",
       "      <td>0</td>\n",
       "      <td>0</td>\n",
       "      <td>1</td>\n",
       "      <td>1</td>\n",
       "      <td>1</td>\n",
       "      <td>0</td>\n",
       "      <td>0</td>\n",
       "      <td>0</td>\n",
       "    </tr>\n",
       "    <tr>\n",
       "      <th>3</th>\n",
       "      <td>108124.00000</td>\n",
       "      <td>2010.00000</td>\n",
       "      <td>0</td>\n",
       "      <td>4.00000</td>\n",
       "      <td>0</td>\n",
       "      <td>0</td>\n",
       "      <td>1</td>\n",
       "      <td>0</td>\n",
       "      <td>1</td>\n",
       "      <td>0</td>\n",
       "      <td>0</td>\n",
       "      <td>0</td>\n",
       "    </tr>\n",
       "    <tr>\n",
       "      <th>4</th>\n",
       "      <td>178054.00000</td>\n",
       "      <td>2011.00000</td>\n",
       "      <td>0</td>\n",
       "      <td>6.00000</td>\n",
       "      <td>0</td>\n",
       "      <td>0</td>\n",
       "      <td>1</td>\n",
       "      <td>0</td>\n",
       "      <td>1</td>\n",
       "      <td>0</td>\n",
       "      <td>0</td>\n",
       "      <td>0</td>\n",
       "    </tr>\n",
       "    <tr>\n",
       "      <th>...</th>\n",
       "      <td>...</td>\n",
       "      <td>...</td>\n",
       "      <td>...</td>\n",
       "      <td>...</td>\n",
       "      <td>...</td>\n",
       "      <td>...</td>\n",
       "      <td>...</td>\n",
       "      <td>...</td>\n",
       "      <td>...</td>\n",
       "      <td>...</td>\n",
       "      <td>...</td>\n",
       "      <td>...</td>\n",
       "    </tr>\n",
       "    <tr>\n",
       "      <th>96275</th>\n",
       "      <td>82000.00000</td>\n",
       "      <td>2012.00000</td>\n",
       "      <td>0</td>\n",
       "      <td>4.00000</td>\n",
       "      <td>0</td>\n",
       "      <td>0</td>\n",
       "      <td>1</td>\n",
       "      <td>0</td>\n",
       "      <td>0</td>\n",
       "      <td>0</td>\n",
       "      <td>0</td>\n",
       "      <td>0</td>\n",
       "    </tr>\n",
       "    <tr>\n",
       "      <th>96276</th>\n",
       "      <td>40000.00000</td>\n",
       "      <td>2002.00000</td>\n",
       "      <td>1</td>\n",
       "      <td>4.00000</td>\n",
       "      <td>0</td>\n",
       "      <td>0</td>\n",
       "      <td>1</td>\n",
       "      <td>0</td>\n",
       "      <td>0</td>\n",
       "      <td>0</td>\n",
       "      <td>0</td>\n",
       "      <td>0</td>\n",
       "    </tr>\n",
       "    <tr>\n",
       "      <th>96277</th>\n",
       "      <td>58000.00000</td>\n",
       "      <td>2002.00000</td>\n",
       "      <td>0</td>\n",
       "      <td>6.00000</td>\n",
       "      <td>0</td>\n",
       "      <td>0</td>\n",
       "      <td>1</td>\n",
       "      <td>0</td>\n",
       "      <td>1</td>\n",
       "      <td>0</td>\n",
       "      <td>0</td>\n",
       "      <td>0</td>\n",
       "    </tr>\n",
       "    <tr>\n",
       "      <th>96278</th>\n",
       "      <td>159980.00000</td>\n",
       "      <td>2006.00000</td>\n",
       "      <td>1</td>\n",
       "      <td>6.00000</td>\n",
       "      <td>1</td>\n",
       "      <td>1</td>\n",
       "      <td>1</td>\n",
       "      <td>0</td>\n",
       "      <td>0</td>\n",
       "      <td>0</td>\n",
       "      <td>0</td>\n",
       "      <td>0</td>\n",
       "    </tr>\n",
       "    <tr>\n",
       "      <th>96279</th>\n",
       "      <td>160000.00000</td>\n",
       "      <td>2003.00000</td>\n",
       "      <td>0</td>\n",
       "      <td>8.00000</td>\n",
       "      <td>0</td>\n",
       "      <td>0</td>\n",
       "      <td>1</td>\n",
       "      <td>0</td>\n",
       "      <td>0</td>\n",
       "      <td>0</td>\n",
       "      <td>0</td>\n",
       "      <td>0</td>\n",
       "    </tr>\n",
       "  </tbody>\n",
       "</table>\n",
       "<p>96280 rows × 12 columns</p>\n",
       "</div>"
      ],
      "text/plain": [
       "          odometer       year  drive_fwd  cylinders  condition_fair  \\\n",
       "0     243000.00000 2003.00000          0    4.00000               0   \n",
       "1     254217.00000 2007.00000          0    8.00000               0   \n",
       "2     188406.00000 2012.00000          0    6.00000               0   \n",
       "3     108124.00000 2010.00000          0    4.00000               0   \n",
       "4     178054.00000 2011.00000          0    6.00000               0   \n",
       "...            ...        ...        ...        ...             ...   \n",
       "96275  82000.00000 2012.00000          0    4.00000               0   \n",
       "96276  40000.00000 2002.00000          1    4.00000               0   \n",
       "96277  58000.00000 2002.00000          0    6.00000               0   \n",
       "96278 159980.00000 2006.00000          1    6.00000               1   \n",
       "96279 160000.00000 2003.00000          0    8.00000               0   \n",
       "\n",
       "       type_sedan  fuel_gas  type_truck  condition_good  transmission_other  \\\n",
       "0               1         1           0               1                   0   \n",
       "1               0         0           1               1                   0   \n",
       "2               0         1           1               1                   0   \n",
       "3               0         1           0               1                   0   \n",
       "4               0         1           0               1                   0   \n",
       "...           ...       ...         ...             ...                 ...   \n",
       "96275           0         1           0               0                   0   \n",
       "96276           0         1           0               0                   0   \n",
       "96277           0         1           0               1                   0   \n",
       "96278           1         1           0               0                   0   \n",
       "96279           0         1           0               0                   0   \n",
       "\n",
       "       type_pickup  condition_like new  \n",
       "0                0                   0  \n",
       "1                0                   0  \n",
       "2                0                   0  \n",
       "3                0                   0  \n",
       "4                0                   0  \n",
       "...            ...                 ...  \n",
       "96275            0                   0  \n",
       "96276            0                   0  \n",
       "96277            0                   0  \n",
       "96278            0                   0  \n",
       "96279            0                   0  \n",
       "\n",
       "[96280 rows x 12 columns]"
      ]
     },
     "execution_count": 135,
     "metadata": {},
     "output_type": "execute_result"
    }
   ],
   "source": [
    "X_cut"
   ]
  },
  {
   "cell_type": "code",
   "execution_count": 136,
   "metadata": {},
   "outputs": [],
   "source": [
    "X_train, X_test, y_train, y_test = train_test_split(X_cut, y, test_size = 0.33, random_state = 212)"
   ]
  },
  {
   "cell_type": "code",
   "execution_count": 137,
   "metadata": {},
   "outputs": [
    {
     "name": "stdout",
     "output_type": "stream",
     "text": [
      "BernoulliNB()\n",
      "0.4363767979101753\n"
     ]
    }
   ],
   "source": [
    "#Bernoulli Naive Bayes\n",
    "BNB = BernoulliNB()\n",
    "\n",
    "BNB.fit(X_train, y_train)\n",
    "print(BNB)\n",
    "\n",
    "y_pred = BNB.predict(X_test)\n",
    "print(accuracy_score(y_test, y_pred))"
   ]
  },
  {
   "cell_type": "code",
   "execution_count": 138,
   "metadata": {},
   "outputs": [
    {
     "data": {
      "text/plain": [
       "0.4312837557125052"
      ]
     },
     "execution_count": 138,
     "metadata": {},
     "output_type": "execute_result"
    }
   ],
   "source": [
    "cross_val_score(BNB, X_cut, y, cv = 10).mean()"
   ]
  },
  {
   "cell_type": "code",
   "execution_count": 139,
   "metadata": {},
   "outputs": [
    {
     "data": {
      "text/plain": [
       "RandomForestClassifier()"
      ]
     },
     "execution_count": 139,
     "metadata": {},
     "output_type": "execute_result"
    }
   ],
   "source": [
    "model = RandomForestClassifier()\n",
    "model.fit(X_train, y_train)"
   ]
  },
  {
   "cell_type": "code",
   "execution_count": 140,
   "metadata": {},
   "outputs": [
    {
     "data": {
      "text/plain": [
       "0.7250810436534164"
      ]
     },
     "execution_count": 140,
     "metadata": {},
     "output_type": "execute_result"
    }
   ],
   "source": [
    "model.score(X_test, y_test)"
   ]
  },
  {
   "cell_type": "code",
   "execution_count": 141,
   "metadata": {},
   "outputs": [
    {
     "data": {
      "text/plain": [
       "0.724480681346074"
      ]
     },
     "execution_count": 141,
     "metadata": {},
     "output_type": "execute_result"
    }
   ],
   "source": [
    "cross_val_score(RandomForestClassifier(), X_cut, y, cv = 10).mean()"
   ]
  },
  {
   "cell_type": "code",
   "execution_count": 146,
   "metadata": {},
   "outputs": [],
   "source": [
    "cars[\"nationality_colors\"] = cars[\"manufacturer_nationality\"].map(manufacturers_colors)"
   ]
  },
  {
   "cell_type": "code",
   "execution_count": 155,
   "metadata": {},
   "outputs": [
    {
     "data": {
      "text/plain": [
       "Text(0.5, 1.0, 'Scatterplot of Price and Odometer')"
      ]
     },
     "execution_count": 155,
     "metadata": {},
     "output_type": "execute_result"
    },
    {
     "data": {
      "image/png": "[encoded data removed]",
      "text/plain": [
       "<Figure size 576x432 with 1 Axes>"
      ]
     },
     "metadata": {
      "needs_background": "light"
     },
     "output_type": "display_data"
    }
   ],
   "source": [
    "plt.figure(figsize = (8, 6))\n",
    "plt.ticklabel_format(style = \"plain\")\n",
    "plt.scatter(cars_linear_data.odometer, cars_linear_data.price, )\n",
    "plt.xlabel(\"Odometer\")\n",
    "plt.ylabel(\"Price\")\n",
    "plt.title(\"Scatterplot of Price and Odometer\")"
   ]
  }
 ],
 "metadata": {
  "kernelspec": {
   "display_name": "Python 3",
   "language": "python",
   "name": "python3"
  },
  "language_info": {
   "codemirror_mode": {
    "name": "ipython",
    "version": 3
   },
   "file_extension": ".py",
   "mimetype": "text/x-python",
   "name": "python",
   "nbconvert_exporter": "python",
   "pygments_lexer": "ipython3",
   "version": "3.8.5"
  }
 },
 "nbformat": 4,
 "nbformat_minor": 4
}
